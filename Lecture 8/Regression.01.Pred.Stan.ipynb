{
 "cells": [
  {
   "cell_type": "markdown",
   "metadata": {
    "tags": []
   },
   "source": [
    "# Linear Regression <h3 style=\"color:green\">Stan version</h3>\n",
    "\n",
    "### Posterior distribution _(of regression parameters),_ and \n",
    "### Posterior predictive distribution _(of new $y$ predictions)._"
   ]
  },
  {
   "cell_type": "markdown",
   "metadata": {},
   "source": [
    "_Adapted from Josep Fortiana (2023-03-13) by Jordi Abante (2024-04-15)_"
   ]
  },
  {
   "cell_type": "markdown",
   "metadata": {},
   "source": [
    "# 01. Simple linear regression: A simulated example"
   ]
  },
  {
   "cell_type": "markdown",
   "metadata": {},
   "source": [
    "### Generate a simulated dataset for simple linear regression"
   ]
  },
  {
   "cell_type": "code",
   "execution_count": 1,
   "metadata": {
    "vscode": {
     "languageId": "r"
    }
   },
   "outputs": [],
   "source": [
    "# More or less arbitrary parameters for the data generation\n",
    "trueA<-1   \n",
    "trueB<-5\n",
    "trueSd<-15\n",
    "sampleSize<-20 # \n",
    "n<-sampleSize "
   ]
  },
  {
   "cell_type": "code",
   "execution_count": 2,
   "metadata": {
    "vscode": {
     "languageId": "r"
    }
   },
   "outputs": [],
   "source": [
    "# Uniformly spread x values in the interval [-n/2,n/2]\n",
    "x<-(-(sampleSize-1)/2):((sampleSize-1)/2)\n",
    "# y values of the form a + b*x + N(0,trueSd)\n",
    "set.seed(123123)\n",
    "y<-trueA+trueB*x+rnorm(n=sampleSize,mean=0,sd=trueSd)"
   ]
  },
  {
   "cell_type": "code",
   "execution_count": 3,
   "metadata": {
    "vscode": {
     "languageId": "r"
    }
   },
   "outputs": [
    {
     "data": {
      "image/png": "[encoded data removed]",
      "text/plain": [
       "Plot with title \"Test data for simple linear regression \""
      ]
     },
     "metadata": {
      "image/png": {
       "height": 420,
       "width": 420
      }
     },
     "output_type": "display_data"
    }
   ],
   "source": [
    "# Plot data points plus the line used in the generation\n",
    "# Note this line is NOT a regression line, which will be computed below\n",
    "# It is just an auxiliary line, used to generate the dataset\n",
    "options(repr.plot.width=7, repr.plot.height=7)\n",
    "plot(x,y,pch='+',cex=0.9,col=\"blue\",main=\"Test data for simple linear regression \",cex.main=1.7)\n",
    "abline(trueA,trueB,lwd=3.5,col=\"cyan\")"
   ]
  },
  {
   "cell_type": "markdown",
   "metadata": {
    "tags": []
   },
   "source": [
    "## Fit a (classical) least squares linear regression model"
   ]
  },
  {
   "cell_type": "markdown",
   "metadata": {},
   "source": [
    "In a simple LS regression model we are optimizing the square of the residuals:\n",
    "\n",
    "$$\n",
    "L(D, \\boldsymbol{\\beta})=\\|Y-X \\boldsymbol{\\beta}\\|^2\n",
    "$$\n",
    "\n",
    "In R, we can do this using the `lm` function:"
   ]
  },
  {
   "cell_type": "code",
   "execution_count": 4,
   "metadata": {
    "vscode": {
     "languageId": "r"
    }
   },
   "outputs": [
    {
     "data": {
      "image/png": "[encoded data removed]",
      "text/plain": [
       "Plot with title \"Linear regression with test data\""
      ]
     },
     "metadata": {
      "image/png": {
       "height": 420,
       "width": 420
      }
     },
     "output_type": "display_data"
    }
   ],
   "source": [
    "lm.1<-lm(y~x)\n",
    "options(repr.plot.width=7, repr.plot.height=7)\n",
    "plot(x,y,pch='+',cex=1.1,col=\"blue\",main=\"Linear regression with test data\",cex.main=1.5)\n",
    "yhat<-fitted.values(lm.1)\n",
    "abline(trueA,trueB,lwd=3.5,col=\"LightCyan\")\n",
    "abline(lm.1,lwd=3.5,col=\"blue\")\n",
    "points(x,yhat,pch=16,col=\"red\",cex=1.4)\n",
    "legend(\"topleft\",c(\"Original    \",\"\",\"Regression   \",\"\",\"Fitted points\"), lwd=3.5,\n",
    "       col=c(\"LightCyan\",\"white\",\"blue\",\"white\",\"red\"),cex=1.1)"
   ]
  },
  {
   "cell_type": "markdown",
   "metadata": {},
   "source": [
    "### Extract information from the fitted model"
   ]
  },
  {
   "cell_type": "code",
   "execution_count": 5,
   "metadata": {
    "vscode": {
     "languageId": "r"
    }
   },
   "outputs": [
    {
     "name": "stdout",
     "output_type": "stream",
     "text": [
      "\n",
      "Call:\n",
      "lm(formula = y ~ x)\n",
      "\n",
      "Coefficients:\n",
      "(Intercept)            x  \n",
      "      2.507        4.222  \n",
      "\n"
     ]
    }
   ],
   "source": [
    "print(lm.1)"
   ]
  },
  {
   "cell_type": "code",
   "execution_count": 6,
   "metadata": {
    "vscode": {
     "languageId": "r"
    }
   },
   "outputs": [
    {
     "data": {
      "text/plain": [
       "\n",
       "Call:\n",
       "lm(formula = y ~ x)\n",
       "\n",
       "Residuals:\n",
       "    Min      1Q  Median      3Q     Max \n",
       "-14.140  -5.951  -3.854   3.507  24.248 \n",
       "\n",
       "Coefficients:\n",
       "            Estimate Std. Error t value Pr(>|t|)    \n",
       "(Intercept)   2.5066     2.6939   0.930    0.364    \n",
       "x             4.2224     0.4672   9.038 4.13e-08 ***\n",
       "---\n",
       "Signif. codes:  0 '***' 0.001 '**' 0.01 '*' 0.05 '.' 0.1 ' ' 1\n",
       "\n",
       "Residual standard error: 12.05 on 18 degrees of freedom\n",
       "Multiple R-squared:  0.8194,\tAdjusted R-squared:  0.8094 \n",
       "F-statistic: 81.69 on 1 and 18 DF,  p-value: 4.135e-08\n"
      ]
     },
     "metadata": {},
     "output_type": "display_data"
    }
   ],
   "source": [
    "S<-summary(lm.1)\n",
    "S"
   ]
  },
  {
   "cell_type": "markdown",
   "metadata": {},
   "source": [
    "### Regression coefficients"
   ]
  },
  {
   "cell_type": "code",
   "execution_count": 7,
   "metadata": {
    "vscode": {
     "languageId": "r"
    }
   },
   "outputs": [
    {
     "data": {
      "text/html": [
       "<strong>(Intercept):</strong> 2.507"
      ],
      "text/latex": [
       "\\textbf{(Intercept):} 2.507"
      ],
      "text/markdown": [
       "**(Intercept):** 2.507"
      ],
      "text/plain": [
       "(Intercept) \n",
       "      2.507 "
      ]
     },
     "metadata": {},
     "output_type": "display_data"
    },
    {
     "data": {
      "text/html": [
       "<strong>x:</strong> 4.222"
      ],
      "text/latex": [
       "\\textbf{x:} 4.222"
      ],
      "text/markdown": [
       "**x:** 4.222"
      ],
      "text/plain": [
       "    x \n",
       "4.222 "
      ]
     },
     "metadata": {},
     "output_type": "display_data"
    }
   ],
   "source": [
    "Coeff<-coefficients(lm.1)\n",
    "a.hat<-Coeff[1]\n",
    "b.hat<-Coeff[2]\n",
    "round(a.hat,3)\n",
    "round(b.hat,3)"
   ]
  },
  {
   "cell_type": "markdown",
   "metadata": {},
   "source": [
    "### Predict the response for a new $ \\tilde{x}$"
   ]
  },
  {
   "cell_type": "code",
   "execution_count": 8,
   "metadata": {
    "tags": [],
    "vscode": {
     "languageId": "r"
    }
   },
   "outputs": [],
   "source": [
    "x.tilde<-c(2.5,3)  # just for example\n",
    "newx<-data.frame(x=x.tilde)"
   ]
  },
  {
   "cell_type": "code",
   "execution_count": 9,
   "metadata": {
    "tags": [],
    "vscode": {
     "languageId": "r"
    }
   },
   "outputs": [
    {
     "data": {
      "text/html": [
       "<style>\n",
       ".dl-inline {width: auto; margin:0; padding: 0}\n",
       ".dl-inline>dt, .dl-inline>dd {float: none; width: auto; display: inline-block}\n",
       ".dl-inline>dt::after {content: \":\\0020\"; padding-right: .5ex}\n",
       ".dl-inline>dt:not(:first-of-type) {padding-left: .5ex}\n",
       "</style><dl class=dl-inline><dt>1</dt><dd>13.0627709071849</dd><dt>2</dt><dd>15.1739952690024</dd></dl>\n"
      ],
      "text/latex": [
       "\\begin{description*}\n",
       "\\item[1] 13.0627709071849\n",
       "\\item[2] 15.1739952690024\n",
       "\\end{description*}\n"
      ],
      "text/markdown": [
       "1\n",
       ":   13.06277090718492\n",
       ":   15.1739952690024\n",
       "\n"
      ],
      "text/plain": [
       "       1        2 \n",
       "13.06277 15.17400 "
      ]
     },
     "metadata": {},
     "output_type": "display_data"
    }
   ],
   "source": [
    "predict(lm.1,newdata=newx)"
   ]
  },
  {
   "cell_type": "markdown",
   "metadata": {},
   "source": [
    "By default for linear models `type=response`"
   ]
  },
  {
   "cell_type": "markdown",
   "metadata": {
    "tags": []
   },
   "source": [
    "Confidence intervals for fitted values $\\hat{\\mu}=\\hat{a}+\\hat{b}\\cdot\\tilde{x}$."
   ]
  },
  {
   "cell_type": "code",
   "execution_count": 10,
   "metadata": {
    "tags": [],
    "vscode": {
     "languageId": "r"
    }
   },
   "outputs": [
    {
     "data": {
      "text/html": [
       "<table class=\"dataframe\">\n",
       "<caption>A matrix: 2 × 3 of type dbl</caption>\n",
       "<thead>\n",
       "\t<tr><th></th><th scope=col>fit</th><th scope=col>lwr</th><th scope=col>upr</th></tr>\n",
       "</thead>\n",
       "<tbody>\n",
       "\t<tr><th scope=row>1</th><td>13.06277</td><td>6.894112</td><td>19.23143</td></tr>\n",
       "\t<tr><th scope=row>2</th><td>15.17400</td><td>8.794218</td><td>21.55377</td></tr>\n",
       "</tbody>\n",
       "</table>\n"
      ],
      "text/latex": [
       "A matrix: 2 × 3 of type dbl\n",
       "\\begin{tabular}{r|lll}\n",
       "  & fit & lwr & upr\\\\\n",
       "\\hline\n",
       "\t1 & 13.06277 & 6.894112 & 19.23143\\\\\n",
       "\t2 & 15.17400 & 8.794218 & 21.55377\\\\\n",
       "\\end{tabular}\n"
      ],
      "text/markdown": [
       "\n",
       "A matrix: 2 × 3 of type dbl\n",
       "\n",
       "| <!--/--> | fit | lwr | upr |\n",
       "|---|---|---|---|\n",
       "| 1 | 13.06277 | 6.894112 | 19.23143 |\n",
       "| 2 | 15.17400 | 8.794218 | 21.55377 |\n",
       "\n"
      ],
      "text/plain": [
       "  fit      lwr      upr     \n",
       "1 13.06277 6.894112 19.23143\n",
       "2 15.17400 8.794218 21.55377"
      ]
     },
     "metadata": {},
     "output_type": "display_data"
    }
   ],
   "source": [
    "predict(lm.1,newdata=newx,interval = \"confidence\")"
   ]
  },
  {
   "cell_type": "markdown",
   "metadata": {},
   "source": [
    "Confidence intervals for predicted values, $\\hat{y}=\\hat{\\mu}+\\varepsilon=\\hat{a}+\\hat{b}\\cdot\\tilde{x}+\\varepsilon$ including the $ \\textrm{N}(0,\\sigma^{2})$ fluctuation around $\\hat{\\mu}$ (so the results are wider intervals)"
   ]
  },
  {
   "cell_type": "code",
   "execution_count": 11,
   "metadata": {
    "tags": [],
    "vscode": {
     "languageId": "r"
    }
   },
   "outputs": [
    {
     "data": {
      "text/html": [
       "<table class=\"dataframe\">\n",
       "<caption>A matrix: 2 × 3 of type dbl</caption>\n",
       "<thead>\n",
       "\t<tr><th></th><th scope=col>fit</th><th scope=col>lwr</th><th scope=col>upr</th></tr>\n",
       "</thead>\n",
       "<tbody>\n",
       "\t<tr><th scope=row>1</th><td>13.06277</td><td>-12.98873</td><td>39.11427</td></tr>\n",
       "\t<tr><th scope=row>2</th><td>15.17400</td><td>-10.92830</td><td>41.27629</td></tr>\n",
       "</tbody>\n",
       "</table>\n"
      ],
      "text/latex": [
       "A matrix: 2 × 3 of type dbl\n",
       "\\begin{tabular}{r|lll}\n",
       "  & fit & lwr & upr\\\\\n",
       "\\hline\n",
       "\t1 & 13.06277 & -12.98873 & 39.11427\\\\\n",
       "\t2 & 15.17400 & -10.92830 & 41.27629\\\\\n",
       "\\end{tabular}\n"
      ],
      "text/markdown": [
       "\n",
       "A matrix: 2 × 3 of type dbl\n",
       "\n",
       "| <!--/--> | fit | lwr | upr |\n",
       "|---|---|---|---|\n",
       "| 1 | 13.06277 | -12.98873 | 39.11427 |\n",
       "| 2 | 15.17400 | -10.92830 | 41.27629 |\n",
       "\n"
      ],
      "text/plain": [
       "  fit      lwr       upr     \n",
       "1 13.06277 -12.98873 39.11427\n",
       "2 15.17400 -10.92830 41.27629"
      ]
     },
     "metadata": {},
     "output_type": "display_data"
    }
   ],
   "source": [
    "predict(lm.1,newdata=newx,interval=\"prediction\")"
   ]
  },
  {
   "cell_type": "markdown",
   "metadata": {},
   "source": [
    "# 02. Simple linear regression: Bayesian model"
   ]
  },
  {
   "cell_type": "markdown",
   "metadata": {},
   "source": [
    "The purpose of fitting a model in this case is to explore the relationship between $y $ and $x $. Since both $y$ and $x$ are continuous, a simple regression line is a good start. Each observed response ($ y_{i}$) is assumed to be drawn from a normal distribution with mean ($\\mu_{i}$) and standard deviation ($\\sigma$). \n",
    "\n",
    "The expected values ($\\mu_{i}$) are themselves determined by the linear predictor ($\\beta_{0}+\\beta\\cdot x_{i}$). In this case, $\\beta_{0}$ represents the $y$-intercept (value of $y$ when $x$ is equal to zero) and $\\beta$ represents the rate of change in $y$ for every unit change in $x$ (the effect).\n",
    "\n",
    "We will employ weakly informative _(\"non informative\")_ priors. This choice is always a bit of a balancing act. If the priors are too vague (wide) the MCMC sampler can wander off into nonsense areas of likelihood rather than concentrate around areas of highest likelihood (desired when wanting the outcomes to be largely driven by the data). On the other hand, if the priors are too strong, they may have an influence on the parameters. In such a simple model, this balance is very forgiving - it is for more complex models that prior choice becomes more important.\n",
    "\n",
    "For this simple model, we will go with Gaussian (normal) priors with relatively large standard deviations (100) for both the intercept and the treatment effect and a wide uniform for the standard deviation. The intercept $\\beta_{0}$  will be centered either at $\\hat{a}$ (`a.hat`), the least squares intercept or at zero, and the slope will be zero centered. Alternatively we could center $x$ and $y$ beforehand and then use a zero-centered prior for  $\\beta_{0}$ too."
   ]
  },
  {
   "cell_type": "markdown",
   "metadata": {},
   "source": [
    "The model, likelihood $+ $ priors, is:\n",
    "\n",
    "$$\n",
    "\\begin{array}{lcllcl}\n",
    "    y_{i}     &\\sim &\\textrm{N}(\\mu_{i},\\sigma^2),\\\\[0.2cm]\n",
    "    \\mu_{i}   &=    &\\beta_{0}+\\beta\\cdot x_{i},\\\\[0.2cm]\n",
    "    \\beta_{0} &\\sim &\\textrm{N}(\\,\\hat{a}\\,,100^2), \\mskip40mu\\text{or }\\mskip40mu\\beta_{0} &\\sim &\\textrm{N}(\\,0\\,,100^2),\\\\[0.2cm]\n",
    "    \\beta     &\\sim &\\textrm{N}(0,100^2),\\\\[0.2cm]\n",
    "    \\sigma    &\\sim &\\textrm{u}(0,100).\n",
    "\\end{array}\n",
    "$$"
   ]
  },
  {
   "cell_type": "markdown",
   "metadata": {},
   "source": [
    "Alternative priors for the regression coefficients are $\\textrm{Cauchy} (0,\\,\\cdot\\,)$ distributions, as sugggested by Gelman et al (2008):\n",
    "\n",
    "Andrew Gelman, Aleks Jakulin, Maria Grazia Pittau, Yu-Sung Su (2008), [A weakly informative default prior distribution for logistic and other regression models, Ann. Appl. Stat. 2(4): 1360-1383.](https://projecteuclid.org/journals/annals-of-applied-statistics/volume-2/issue-4/A-weakly-informative-default-prior-distribution/10.1214/08-AOAS191.full)\n",
    "\n",
    "There the authors suggest $\\textrm{Cauchy} (0,s)$, with a scale parameter $s=2.5$."
   ]
  },
  {
   "cell_type": "markdown",
   "metadata": {},
   "source": [
    "## Stan implementation"
   ]
  },
  {
   "cell_type": "code",
   "execution_count": 1,
   "metadata": {
    "vscode": {
     "languageId": "r"
    }
   },
   "outputs": [
    {
     "name": "stderr",
     "output_type": "stream",
     "text": [
      "\n",
      "rstan version 2.32.3 (Stan version 2.26.1)\n",
      "\n",
      "\n",
      "For execution on a local, multicore CPU with excess RAM we recommend calling\n",
      "options(mc.cores = parallel::detectCores()).\n",
      "To avoid recompilation of unchanged Stan programs, we recommend calling\n",
      "rstan_options(auto_write = TRUE)\n",
      "For within-chain threading using `reduce_sum()` or `map_rect()` Stan functions,\n",
      "change `threads_per_chain` option:\n",
      "rstan_options(threads_per_chain = 1)\n",
      "\n",
      "\n"
     ]
    }
   ],
   "source": [
    "#install.packages(\"rstan\", repos= \"https://cloud.r-project.org\")\n",
    "options(mc.cores = parallel::detectCores())\n",
    "require(rstan,quietly=TRUE)\n",
    "rstan_options(auto_write = TRUE)"
   ]
  },
  {
   "cell_type": "markdown",
   "metadata": {},
   "source": [
    "### Depending on your hardware"
   ]
  },
  {
   "cell_type": "code",
   "execution_count": 13,
   "metadata": {
    "vscode": {
     "languageId": "r"
    }
   },
   "outputs": [],
   "source": [
    "# Sys.setenv(LOCAL_CPPFLAGS = '-march=corei7 -mtune=corei7')"
   ]
  },
  {
   "cell_type": "code",
   "execution_count": 2,
   "metadata": {
    "vscode": {
     "languageId": "r"
    }
   },
   "outputs": [],
   "source": [
    "simple.regression.pred.stan.model<-\"\n",
    "    data{\n",
    "        int<lower=1> n;\n",
    "        vector[n] x; \n",
    "        vector[n] y; \n",
    "        real x_tilde; // a new x (we will compute the posterior predictive pdf at x_tilde)\n",
    "        }\n",
    "    parameters{\n",
    "        real a;\n",
    "        real b;\n",
    "        real<lower=0> sigma;\n",
    "        }\n",
    "    model{ \n",
    "        // we need this for the likelihood\n",
    "        vector[n] y_hat;\n",
    "        y_hat=a+b*x; \n",
    "\n",
    "        // Prior \n",
    "        a~normal(0,100);        // equivalent to b0\n",
    "        b~normal(0,100);        // equivalent to b1\n",
    "        sigma~uniform(0,100);   // std\n",
    "\n",
    "        // Likelihood   \n",
    "        y~normal(y_hat,sigma);\n",
    "        }\n",
    "    generated quantities{\n",
    "        real mu_tilde=a+b*x_tilde;\n",
    "        real y_tilde=normal_rng(mu_tilde,sigma);\n",
    "        }\n",
    "\""
   ]
  },
  {
   "cell_type": "code",
   "execution_count": 3,
   "metadata": {
    "vscode": {
     "languageId": "r"
    }
   },
   "outputs": [],
   "source": [
    "# Translate model to C++ and compile to DSO:\n",
    "#simple.regression.pred.stanDso <- stan_model(model_code=simple.regression.pred.stan.model) \n",
    "simple.regression.pred.stanc<- stanc(model_code=simple.regression.pred.stan.model) "
   ]
  },
  {
   "cell_type": "code",
   "execution_count": 4,
   "metadata": {
    "vscode": {
     "languageId": "r"
    }
   },
   "outputs": [
    {
     "name": "stdout",
     "output_type": "stream",
     "text": [
      "List of 5\n",
      " $ status       : logi TRUE\n",
      " $ model_cppname: chr \"model59eaa3d3e6c0_file59eaa89077b6\"\n",
      " $ cppcode      : chr \"#ifndef USE_STANC3\\n#define USE_STANC3\\n#endif\\n// Code generated by stanc v2.26.1-4-gd72b68b7-dirty\\n#include \"| __truncated__\n",
      " $ model_name   : chr \"file59eaa89077b6\"\n",
      " $ model_code   : chr \"    data{\\n        int<lower=1> n;\\n        vector[n] x;\\n        vector[n] y;\\n        real x_tilde; // a new \"| __truncated__\n",
      "  ..- attr(*, \"model_name2\")= chr \"file59eaa89077b6\"\n"
     ]
    }
   ],
   "source": [
    "str(simple.regression.pred.stanc)"
   ]
  },
  {
   "cell_type": "code",
   "execution_count": 5,
   "metadata": {
    "vscode": {
     "languageId": "r"
    }
   },
   "outputs": [],
   "source": [
    "#simple.regression.pred.stanDso<-stan_model(stanc_ret = simple.regression.pred.stanc, verbose=TRUE)\n",
    "simple.regression.pred.stanDso<-stan_model(stanc_ret = simple.regression.pred.stanc, verbose=FALSE)"
   ]
  },
  {
   "cell_type": "code",
   "execution_count": 6,
   "metadata": {
    "vscode": {
     "languageId": "r"
    }
   },
   "outputs": [],
   "source": [
    "# Choose a new x within the interval of x values\n",
    "x_tilde<-1"
   ]
  },
  {
   "cell_type": "code",
   "execution_count": null,
   "metadata": {
    "vscode": {
     "languageId": "r"
    }
   },
   "outputs": [],
   "source": [
    "simple.regression.pred.stan.dat<-list(y = y, x = x, n = sampleSize, x_tilde=x_tilde)"
   ]
  },
  {
   "cell_type": "code",
   "execution_count": 20,
   "metadata": {
    "vscode": {
     "languageId": "r"
    }
   },
   "outputs": [],
   "source": [
    "# Generate posterior sample:\n",
    "simple.regression.pred.stan.m1<-sampling(object=simple.regression.pred.stanDso,data=simple.regression.pred.stan.dat,chains=3,iter=10000,warmup=1500,thin=5)"
   ]
  },
  {
   "cell_type": "code",
   "execution_count": 21,
   "metadata": {
    "vscode": {
     "languageId": "r"
    }
   },
   "outputs": [
    {
     "name": "stdout",
     "output_type": "stream",
     "text": [
      "Inference for Stan model: file6bf03a3d228.\n",
      "3 chains, each with iter=10000; warmup=1500; thin=5; \n",
      "post-warmup draws per chain=1700, total post-warmup draws=5100.\n",
      "\n",
      "           mean se_mean    sd   2.5%    25%    50%    75%  97.5% n_eff Rhat\n",
      "a          2.48    0.04  2.92  -3.15   0.55   2.44   4.39   8.24  5134    1\n",
      "b          4.23    0.01  0.51   3.19   3.89   4.23   4.56   5.24  4634    1\n",
      "sigma     12.99    0.03  2.40   9.34  11.29  12.64  14.34  18.63  5226    1\n",
      "mu_tilde   6.71    0.04  2.97   0.87   4.72   6.67   8.70  12.59  5126    1\n",
      "y_tilde    6.55    0.19 13.64 -20.82  -2.40   6.70  15.40  32.91  5001    1\n",
      "lp__     -57.90    0.02  1.31 -61.36 -58.51 -57.56 -56.94 -56.39  5120    1\n",
      "\n",
      "Samples were drawn using NUTS(diag_e) at Sun Apr 16 09:15:28 2023.\n",
      "For each parameter, n_eff is a crude measure of effective sample size,\n",
      "and Rhat is the potential scale reduction factor on split chains (at \n",
      "convergence, Rhat=1).\n"
     ]
    }
   ],
   "source": [
    "print(simple.regression.pred.stan.m1)"
   ]
  },
  {
   "cell_type": "code",
   "execution_count": 22,
   "metadata": {
    "vscode": {
     "languageId": "r"
    }
   },
   "outputs": [
    {
     "data": {
      "text/html": [
       "<table class=\"dataframe\">\n",
       "<caption>A matrix: 6 × 10 of type dbl</caption>\n",
       "<thead>\n",
       "\t<tr><th></th><th scope=col>mean</th><th scope=col>se_mean</th><th scope=col>sd</th><th scope=col>2.5%</th><th scope=col>25%</th><th scope=col>50%</th><th scope=col>75%</th><th scope=col>97.5%</th><th scope=col>n_eff</th><th scope=col>Rhat</th></tr>\n",
       "</thead>\n",
       "<tbody>\n",
       "\t<tr><th scope=row>a</th><td>  2.477383</td><td>0.040743695</td><td> 2.9194094</td><td> -3.1541377</td><td>  0.5542707</td><td>  2.438357</td><td>  4.387275</td><td>  8.23729</td><td>5134.158</td><td>1.0003998</td></tr>\n",
       "\t<tr><th scope=row>b</th><td>  4.228928</td><td>0.007529636</td><td> 0.5125866</td><td>  3.1948954</td><td>  3.8882494</td><td>  4.232484</td><td>  4.563733</td><td>  5.23795</td><td>4634.325</td><td>0.9999481</td></tr>\n",
       "\t<tr><th scope=row>sigma</th><td> 12.993250</td><td>0.033160644</td><td> 2.3971871</td><td>  9.3391694</td><td> 11.2908088</td><td> 12.637239</td><td> 14.336307</td><td> 18.63235</td><td>5225.862</td><td>1.0005051</td></tr>\n",
       "\t<tr><th scope=row>mu_tilde</th><td>  6.706311</td><td>0.041432760</td><td> 2.9663447</td><td>  0.8656065</td><td>  4.7173178</td><td>  6.672320</td><td>  8.699299</td><td> 12.58746</td><td>5125.727</td><td>1.0002795</td></tr>\n",
       "\t<tr><th scope=row>y_tilde</th><td>  6.552734</td><td>0.192902751</td><td>13.6419813</td><td>-20.8164765</td><td> -2.4045689</td><td>  6.700132</td><td> 15.404458</td><td> 32.90746</td><td>5001.244</td><td>0.9998614</td></tr>\n",
       "\t<tr><th scope=row>lp__</th><td>-57.904882</td><td>0.018368550</td><td> 1.3143181</td><td>-61.3609343</td><td>-58.5078226</td><td>-57.561450</td><td>-56.939487</td><td>-56.39245</td><td>5119.779</td><td>0.9996954</td></tr>\n",
       "</tbody>\n",
       "</table>\n"
      ],
      "text/latex": [
       "A matrix: 6 × 10 of type dbl\n",
       "\\begin{tabular}{r|llllllllll}\n",
       "  & mean & se\\_mean & sd & 2.5\\% & 25\\% & 50\\% & 75\\% & 97.5\\% & n\\_eff & Rhat\\\\\n",
       "\\hline\n",
       "\ta &   2.477383 & 0.040743695 &  2.9194094 &  -3.1541377 &   0.5542707 &   2.438357 &   4.387275 &   8.23729 & 5134.158 & 1.0003998\\\\\n",
       "\tb &   4.228928 & 0.007529636 &  0.5125866 &   3.1948954 &   3.8882494 &   4.232484 &   4.563733 &   5.23795 & 4634.325 & 0.9999481\\\\\n",
       "\tsigma &  12.993250 & 0.033160644 &  2.3971871 &   9.3391694 &  11.2908088 &  12.637239 &  14.336307 &  18.63235 & 5225.862 & 1.0005051\\\\\n",
       "\tmu\\_tilde &   6.706311 & 0.041432760 &  2.9663447 &   0.8656065 &   4.7173178 &   6.672320 &   8.699299 &  12.58746 & 5125.727 & 1.0002795\\\\\n",
       "\ty\\_tilde &   6.552734 & 0.192902751 & 13.6419813 & -20.8164765 &  -2.4045689 &   6.700132 &  15.404458 &  32.90746 & 5001.244 & 0.9998614\\\\\n",
       "\tlp\\_\\_ & -57.904882 & 0.018368550 &  1.3143181 & -61.3609343 & -58.5078226 & -57.561450 & -56.939487 & -56.39245 & 5119.779 & 0.9996954\\\\\n",
       "\\end{tabular}\n"
      ],
      "text/markdown": [
       "\n",
       "A matrix: 6 × 10 of type dbl\n",
       "\n",
       "| <!--/--> | mean | se_mean | sd | 2.5% | 25% | 50% | 75% | 97.5% | n_eff | Rhat |\n",
       "|---|---|---|---|---|---|---|---|---|---|---|\n",
       "| a |   2.477383 | 0.040743695 |  2.9194094 |  -3.1541377 |   0.5542707 |   2.438357 |   4.387275 |   8.23729 | 5134.158 | 1.0003998 |\n",
       "| b |   4.228928 | 0.007529636 |  0.5125866 |   3.1948954 |   3.8882494 |   4.232484 |   4.563733 |   5.23795 | 4634.325 | 0.9999481 |\n",
       "| sigma |  12.993250 | 0.033160644 |  2.3971871 |   9.3391694 |  11.2908088 |  12.637239 |  14.336307 |  18.63235 | 5225.862 | 1.0005051 |\n",
       "| mu_tilde |   6.706311 | 0.041432760 |  2.9663447 |   0.8656065 |   4.7173178 |   6.672320 |   8.699299 |  12.58746 | 5125.727 | 1.0002795 |\n",
       "| y_tilde |   6.552734 | 0.192902751 | 13.6419813 | -20.8164765 |  -2.4045689 |   6.700132 |  15.404458 |  32.90746 | 5001.244 | 0.9998614 |\n",
       "| lp__ | -57.904882 | 0.018368550 |  1.3143181 | -61.3609343 | -58.5078226 | -57.561450 | -56.939487 | -56.39245 | 5119.779 | 0.9996954 |\n",
       "\n"
      ],
      "text/plain": [
       "         mean       se_mean     sd         2.5%        25%         50%       \n",
       "a          2.477383 0.040743695  2.9194094  -3.1541377   0.5542707   2.438357\n",
       "b          4.228928 0.007529636  0.5125866   3.1948954   3.8882494   4.232484\n",
       "sigma     12.993250 0.033160644  2.3971871   9.3391694  11.2908088  12.637239\n",
       "mu_tilde   6.706311 0.041432760  2.9663447   0.8656065   4.7173178   6.672320\n",
       "y_tilde    6.552734 0.192902751 13.6419813 -20.8164765  -2.4045689   6.700132\n",
       "lp__     -57.904882 0.018368550  1.3143181 -61.3609343 -58.5078226 -57.561450\n",
       "         75%        97.5%     n_eff    Rhat     \n",
       "a          4.387275   8.23729 5134.158 1.0003998\n",
       "b          4.563733   5.23795 4634.325 0.9999481\n",
       "sigma     14.336307  18.63235 5225.862 1.0005051\n",
       "mu_tilde   8.699299  12.58746 5125.727 1.0002795\n",
       "y_tilde   15.404458  32.90746 5001.244 0.9998614\n",
       "lp__     -56.939487 -56.39245 5119.779 0.9996954"
      ]
     },
     "metadata": {},
     "output_type": "display_data"
    }
   ],
   "source": [
    "summary(simple.regression.pred.stan.m1)$summary"
   ]
  },
  {
   "cell_type": "markdown",
   "metadata": {},
   "source": [
    "#### Compare to the least squares solution"
   ]
  },
  {
   "cell_type": "code",
   "execution_count": 23,
   "metadata": {
    "vscode": {
     "languageId": "r"
    }
   },
   "outputs": [
    {
     "data": {
      "text/html": [
       "<table class=\"dataframe\">\n",
       "<caption>A matrix: 2 × 4 of type dbl</caption>\n",
       "<thead>\n",
       "\t<tr><th></th><th scope=col>Estimate</th><th scope=col>Std. Error</th><th scope=col>t value</th><th scope=col>Pr(&gt;|t|)</th></tr>\n",
       "</thead>\n",
       "<tbody>\n",
       "\t<tr><th scope=row>(Intercept)</th><td>2.506649</td><td>2.6938789</td><td>0.9304981</td><td>3.644257e-01</td></tr>\n",
       "\t<tr><th scope=row>x</th><td>4.222449</td><td>0.4671779</td><td>9.0382039</td><td>4.134917e-08</td></tr>\n",
       "</tbody>\n",
       "</table>\n"
      ],
      "text/latex": [
       "A matrix: 2 × 4 of type dbl\n",
       "\\begin{tabular}{r|llll}\n",
       "  & Estimate & Std. Error & t value & Pr(>\\textbar{}t\\textbar{})\\\\\n",
       "\\hline\n",
       "\t(Intercept) & 2.506649 & 2.6938789 & 0.9304981 & 3.644257e-01\\\\\n",
       "\tx & 4.222449 & 0.4671779 & 9.0382039 & 4.134917e-08\\\\\n",
       "\\end{tabular}\n"
      ],
      "text/markdown": [
       "\n",
       "A matrix: 2 × 4 of type dbl\n",
       "\n",
       "| <!--/--> | Estimate | Std. Error | t value | Pr(&gt;|t|) |\n",
       "|---|---|---|---|---|\n",
       "| (Intercept) | 2.506649 | 2.6938789 | 0.9304981 | 3.644257e-01 |\n",
       "| x | 4.222449 | 0.4671779 | 9.0382039 | 4.134917e-08 |\n",
       "\n"
      ],
      "text/plain": [
       "            Estimate Std. Error t value   Pr(>|t|)    \n",
       "(Intercept) 2.506649 2.6938789  0.9304981 3.644257e-01\n",
       "x           4.222449 0.4671779  9.0382039 4.134917e-08"
      ]
     },
     "metadata": {},
     "output_type": "display_data"
    },
    {
     "data": {
      "text/html": [
       "12.0473928297798"
      ],
      "text/latex": [
       "12.0473928297798"
      ],
      "text/markdown": [
       "12.0473928297798"
      ],
      "text/plain": [
       "[1] 12.04739"
      ]
     },
     "metadata": {},
     "output_type": "display_data"
    }
   ],
   "source": [
    "coefficients(S)\n",
    "sigma(lm.1)"
   ]
  },
  {
   "cell_type": "markdown",
   "metadata": {},
   "source": [
    "These values should be compared to the MAP estimators obtained from the Bayesian samples."
   ]
  },
  {
   "cell_type": "markdown",
   "metadata": {},
   "source": [
    "## Prediction for new observations in the classical framework: Confidence interval"
   ]
  },
  {
   "cell_type": "markdown",
   "metadata": {},
   "source": [
    "#### Prediction for $ x=\\widetilde{x}$"
   ]
  },
  {
   "cell_type": "code",
   "execution_count": 24,
   "metadata": {
    "vscode": {
     "languageId": "r"
    }
   },
   "outputs": [
    {
     "data": {
      "text/html": [
       "6.7291"
      ],
      "text/latex": [
       "6.7291"
      ],
      "text/markdown": [
       "6.7291"
      ],
      "text/plain": [
       "[1] 6.7291"
      ]
     },
     "metadata": {},
     "output_type": "display_data"
    }
   ],
   "source": [
    "mu.tilde<-as.numeric(a.hat+b.hat*x_tilde)\n",
    "round(mu.tilde,5)"
   ]
  },
  {
   "cell_type": "markdown",
   "metadata": {},
   "source": [
    "From the (clasical-frequentist) perspective, the predicted $ \\tilde{y}$ corresponding to a new $\\widetilde{x}$ is given as:\n",
    "\n",
    "$$\n",
    "    \\widetilde{y}=\\tilde{\\mu}+\\varepsilon,\n",
    "    \\mskip30mu\\text{where}\\mskip20mu \\tilde{\\mu}=\\hat{a}+\\hat{b}\\cdot \\widetilde{x},\n",
    "    \\mskip30mu \\varepsilon\\sim\\textrm{N}(0,\\sigma),\n",
    "    \\mskip30mu\\text{and}\\mskip20mu \\tilde{\\mu},\\varepsilon \n",
    "    \\mskip20mu\\text{are independent.}\n",
    "$$"
   ]
  },
  {
   "cell_type": "markdown",
   "metadata": {},
   "source": [
    "We can compute the variance of $ \\tilde{\\mu}$ from the covariance matrix $V=\\textrm{Var}(\\hat{\\beta})$ of the regression coefficients vector $\\hat{\\beta}=(\\hat{a},\\hat{b})'$.\n",
    "\n",
    "$$\n",
    "    \\tilde{\\mu}=\\hat{a}+\\hat{b}\\cdot\\widetilde{x}= (1,\\widetilde{x})\\cdot\\hat{\\beta}.\n",
    "    \\mskip20mu\\text{hence}\\mskip10mu \\textrm{Var}(\\tilde{\\mu}) =\n",
    "    (1,\\widetilde{x})\\cdot V \\cdot(1,\\widetilde{x})'\n",
    "$$\n",
    "\n",
    "which follows from the generalization of $\\textrm{Var}(aX)=a^2 \\textrm{Var}(X)$."
   ]
  },
  {
   "cell_type": "code",
   "execution_count": 25,
   "metadata": {
    "vscode": {
     "languageId": "r"
    }
   },
   "outputs": [
    {
     "data": {
      "text/html": [
       "6.7291"
      ],
      "text/latex": [
       "6.7291"
      ],
      "text/markdown": [
       "6.7291"
      ],
      "text/plain": [
       "[1] 6.7291"
      ]
     },
     "metadata": {},
     "output_type": "display_data"
    }
   ],
   "source": [
    "y.tilde.class<-mu.tilde\n",
    "round(y.tilde.class,5)"
   ]
  },
  {
   "cell_type": "markdown",
   "metadata": {},
   "source": [
    "We can get the variance of the parameter estimate using `vcov`:"
   ]
  },
  {
   "cell_type": "code",
   "execution_count": 26,
   "metadata": {
    "vscode": {
     "languageId": "r"
    }
   },
   "outputs": [
    {
     "data": {
      "text/html": [
       "<table class=\"dataframe\">\n",
       "<caption>A matrix: 2 × 2 of type dbl</caption>\n",
       "<thead>\n",
       "\t<tr><th></th><th scope=col>(Intercept)</th><th scope=col>x</th></tr>\n",
       "</thead>\n",
       "<tbody>\n",
       "\t<tr><th scope=row>(Intercept)</th><td>7.25698</td><td>0.00000</td></tr>\n",
       "\t<tr><th scope=row>x</th><td>0.00000</td><td>0.21826</td></tr>\n",
       "</tbody>\n",
       "</table>\n"
      ],
      "text/latex": [
       "A matrix: 2 × 2 of type dbl\n",
       "\\begin{tabular}{r|ll}\n",
       "  & (Intercept) & x\\\\\n",
       "\\hline\n",
       "\t(Intercept) & 7.25698 & 0.00000\\\\\n",
       "\tx & 0.00000 & 0.21826\\\\\n",
       "\\end{tabular}\n"
      ],
      "text/markdown": [
       "\n",
       "A matrix: 2 × 2 of type dbl\n",
       "\n",
       "| <!--/--> | (Intercept) | x |\n",
       "|---|---|---|\n",
       "| (Intercept) | 7.25698 | 0.00000 |\n",
       "| x | 0.00000 | 0.21826 |\n",
       "\n"
      ],
      "text/plain": [
       "            (Intercept) x      \n",
       "(Intercept) 7.25698     0.00000\n",
       "x           0.00000     0.21826"
      ]
     },
     "metadata": {},
     "output_type": "display_data"
    }
   ],
   "source": [
    "V<-vcov(lm.1)\n",
    "round(V,5)"
   ]
  },
  {
   "cell_type": "code",
   "execution_count": 27,
   "metadata": {
    "vscode": {
     "languageId": "r"
    }
   },
   "outputs": [
    {
     "data": {
      "text/html": [
       "7.4752"
      ],
      "text/latex": [
       "7.4752"
      ],
      "text/markdown": [
       "7.4752"
      ],
      "text/plain": [
       "[1] 7.4752"
      ]
     },
     "metadata": {},
     "output_type": "display_data"
    },
    {
     "data": {
      "text/html": [
       "2.7341"
      ],
      "text/latex": [
       "2.7341"
      ],
      "text/markdown": [
       "2.7341"
      ],
      "text/plain": [
       "[1] 2.7341"
      ]
     },
     "metadata": {},
     "output_type": "display_data"
    }
   ],
   "source": [
    "var.mu_tilde<-as.numeric(t(c(1,x_tilde)) %*% V %*% c(1,x_tilde))\n",
    "round(var.mu_tilde,4)\n",
    "sigma.mu_tilde=sqrt(var.mu_tilde)\n",
    "round(sigma.mu_tilde,4)"
   ]
  },
  {
   "cell_type": "markdown",
   "metadata": {},
   "source": [
    "Finally, $ \\tilde{y}$ follows a normal distribution centered on $\\tilde{\\mu}$ and variance:\n",
    "\n",
    "$$\n",
    "    \\textrm{Var}(\\widetilde{y})=\\textrm{Var}(\\tilde{\\mu})+\\textrm{Var}(\\varepsilon) = \\textrm{Var}(\\tilde{\\mu})+\\sigma^2.\n",
    "$$"
   ]
  },
  {
   "cell_type": "code",
   "execution_count": 28,
   "metadata": {
    "vscode": {
     "languageId": "r"
    }
   },
   "outputs": [
    {
     "data": {
      "text/html": [
       "152.6149"
      ],
      "text/latex": [
       "152.6149"
      ],
      "text/markdown": [
       "152.6149"
      ],
      "text/plain": [
       "[1] 152.6149"
      ]
     },
     "metadata": {},
     "output_type": "display_data"
    },
    {
     "data": {
      "text/html": [
       "12.3537"
      ],
      "text/latex": [
       "12.3537"
      ],
      "text/markdown": [
       "12.3537"
      ],
      "text/plain": [
       "[1] 12.3537"
      ]
     },
     "metadata": {},
     "output_type": "display_data"
    }
   ],
   "source": [
    "var.y_tilde<-var.mu_tilde+sigma(lm.1)^2\n",
    "round(var.y_tilde,4)\n",
    "sigma.y_tilde=sqrt(var.y_tilde)\n",
    "round(sigma.y_tilde,4)"
   ]
  },
  {
   "cell_type": "markdown",
   "metadata": {},
   "source": [
    "With this information we can compute confidence intervals for predicted values."
   ]
  },
  {
   "cell_type": "markdown",
   "metadata": {},
   "source": [
    "## Diagnostic plots"
   ]
  },
  {
   "cell_type": "code",
   "execution_count": 30,
   "metadata": {
    "vscode": {
     "languageId": "r"
    }
   },
   "outputs": [
    {
     "data": {
      "image/png": "[encoded data removed]",
      "text/plain": [
       "plot without title"
      ]
     },
     "metadata": {
      "image/png": {
       "height": 300,
       "width": 900
      }
     },
     "output_type": "display_data"
    }
   ],
   "source": [
    "color_scheme_set(\"viridis\")\n",
    "options(repr.plot.width=15, repr.plot.height=5)\n",
    "mcmc_trace(simple.regression.pred.stan.m1)"
   ]
  },
  {
   "cell_type": "code",
   "execution_count": 31,
   "metadata": {
    "vscode": {
     "languageId": "r"
    }
   },
   "outputs": [
    {
     "data": {
      "image/png": "[encoded data removed]",
      "text/plain": [
       "plot without title"
      ]
     },
     "metadata": {
      "image/png": {
       "height": 300,
       "width": 900
      }
     },
     "output_type": "display_data"
    }
   ],
   "source": [
    "color_scheme_set(\"brightblue\")\n",
    "options(repr.plot.width=15, repr.plot.height=5)\n",
    "mcmc_acf(simple.regression.pred.stan.m1)"
   ]
  },
  {
   "cell_type": "markdown",
   "metadata": {},
   "source": [
    "## Summary plots"
   ]
  },
  {
   "cell_type": "code",
   "execution_count": 32,
   "metadata": {
    "tags": [],
    "vscode": {
     "languageId": "r"
    }
   },
   "outputs": [
    {
     "name": "stderr",
     "output_type": "stream",
     "text": [
      "\u001b[1m\u001b[22m`stat_bin()` using `bins = 30`. Pick better value with `binwidth`.\n"
     ]
    },
    {
     "data": {
      "image/png": "[encoded data removed]",
      "text/plain": [
       "plot without title"
      ]
     },
     "metadata": {
      "image/png": {
       "height": 300,
       "width": 900
      }
     },
     "output_type": "display_data"
    }
   ],
   "source": [
    "color_scheme_set(\"brightblue\")\n",
    "options(repr.plot.width=15, repr.plot.height=5)\n",
    "mcmc_hist(simple.regression.pred.stan.m1,pars=c(\"a\",\"b\",\"sigma\",\"mu_tilde\",\"y_tilde\"))"
   ]
  },
  {
   "cell_type": "code",
   "execution_count": 33,
   "metadata": {
    "tags": [],
    "vscode": {
     "languageId": "r"
    }
   },
   "outputs": [
    {
     "data": {
      "image/png": "[encoded data removed]",
      "text/plain": [
       "plot without title"
      ]
     },
     "metadata": {
      "image/png": {
       "height": 300,
       "width": 900
      }
     },
     "output_type": "display_data"
    }
   ],
   "source": [
    "color_scheme_set(\"brightblue\")\n",
    "options(repr.plot.width=15, repr.plot.height=5)\n",
    "mcmc_hist(simple.regression.pred.stan.m1,pars=c(\"a\",\"b\",\"sigma\",\"mu_tilde\",\"y_tilde\"),binwidth=0.6)"
   ]
  },
  {
   "cell_type": "code",
   "execution_count": 34,
   "metadata": {
    "tags": [],
    "vscode": {
     "languageId": "r"
    }
   },
   "outputs": [
    {
     "data": {
      "image/png": "[encoded data removed]",
      "text/plain": [
       "plot without title"
      ]
     },
     "metadata": {
      "image/png": {
       "height": 300,
       "width": 900
      }
     },
     "output_type": "display_data"
    }
   ],
   "source": [
    "color_scheme_set(\"brightblue\")\n",
    "options(repr.plot.width=15, repr.plot.height=5)\n",
    "mcmc_dens(simple.regression.pred.stan.m1,pars=c(\"a\",\"b\",\"sigma\",\"mu_tilde\",\"y_tilde\"))"
   ]
  },
  {
   "cell_type": "markdown",
   "metadata": {},
   "source": [
    "We can plot central (quantile-based) posterior interval estimates from MCMC draws:"
   ]
  },
  {
   "cell_type": "code",
   "execution_count": 35,
   "metadata": {
    "tags": [],
    "vscode": {
     "languageId": "r"
    }
   },
   "outputs": [
    {
     "data": {
      "image/png": "[encoded data removed]",
      "text/plain": [
       "plot without title"
      ]
     },
     "metadata": {
      "image/png": {
       "height": 360,
       "width": 600
      }
     },
     "output_type": "display_data"
    }
   ],
   "source": [
    "color_scheme_set(\"brightblue\")\n",
    "options(repr.plot.width=10, repr.plot.height=6)\n",
    "mcmc_areas(simple.regression.pred.stan.m1,pars=c(\"a\",\"b\",\"sigma\",\"mu_tilde\",\"y_tilde\"))"
   ]
  },
  {
   "cell_type": "code",
   "execution_count": 36,
   "metadata": {
    "tags": [],
    "vscode": {
     "languageId": "r"
    }
   },
   "outputs": [
    {
     "data": {
      "image/png": "[encoded data removed]",
      "text/plain": [
       "plot without title"
      ]
     },
     "metadata": {
      "image/png": {
       "height": 300,
       "width": 360
      }
     },
     "output_type": "display_data"
    }
   ],
   "source": [
    "color_scheme_set(\"brightblue\")\n",
    "options(repr.plot.width=6, repr.plot.height=5)\n",
    "mcmc_areas(simple.regression.pred.stan.m1,pars=c(\"a\",\"b\"))"
   ]
  },
  {
   "cell_type": "code",
   "execution_count": 37,
   "metadata": {
    "tags": [],
    "vscode": {
     "languageId": "r"
    }
   },
   "outputs": [
    {
     "data": {
      "image/png": "[encoded data removed]",
      "text/plain": [
       "plot without title"
      ]
     },
     "metadata": {
      "image/png": {
       "height": 300,
       "width": 300
      }
     },
     "output_type": "display_data"
    }
   ],
   "source": [
    "color_scheme_set(\"brightblue\")\n",
    "options(repr.plot.width=5, repr.plot.height=5)\n",
    "mcmc_areas(simple.regression.pred.stan.m1,pars=c(\"sigma\"))"
   ]
  },
  {
   "cell_type": "code",
   "execution_count": 38,
   "metadata": {
    "tags": [],
    "vscode": {
     "languageId": "r"
    }
   },
   "outputs": [
    {
     "data": {
      "image/png": "[encoded data removed]",
      "text/plain": [
       "plot without title"
      ]
     },
     "metadata": {
      "image/png": {
       "height": 300,
       "width": 300
      }
     },
     "output_type": "display_data"
    }
   ],
   "source": [
    "color_scheme_set(\"brightblue\")\n",
    "options(repr.plot.width=5, repr.plot.height=5)\n",
    "mcmc_areas(simple.regression.pred.stan.m1,pars=c(\"mu_tilde\",\"y_tilde\"))"
   ]
  },
  {
   "cell_type": "markdown",
   "metadata": {},
   "source": [
    "# 03. The `Advertising` dataset"
   ]
  },
  {
   "cell_type": "markdown",
   "metadata": {
    "tags": []
   },
   "source": [
    "From [An Introduction to Statistical Learning with Applications in R (ISLR)](https://www.statlearning.com/). \n",
    "\n",
    "File [`Advertising.csv`](https://www.statlearning.com/s/Advertising.csv) from the textbook web page. \n",
    "\n",
    "In this section we follow the treatment of the `Advertising` dataset from chapters 2 and 3."
   ]
  },
  {
   "cell_type": "markdown",
   "metadata": {},
   "source": [
    "Suppose that we are statistical consultants hired by a client to investigate  the  association  between \n",
    "advertising  and  sales  of  a  particular product.  The  `Advertising`  data  set  consists  of  the  \n",
    "sales  of  that  product in 200 different markets, along with advertising budgets for the product in each \n",
    "of those markets for three different media: TV, radio, and newspaper.  It  is  not  possible  for  our  \n",
    "client  to directly increase sales of the product. On the other hand, they can control the advertising\n",
    "expenditure  in  each  of  the  three  media.  Therefore,  if  we determine that there \n",
    "is an association between advertising and sales, then we can instruct our client to adjust \n",
    "advertising budgets, thereby indirectly increasing sales."
   ]
  },
  {
   "cell_type": "markdown",
   "metadata": {},
   "source": [
    "In other words, our goal is to develop an accurate model that can be used to predict sales on the basis of the three media budgets.\n",
    "In this setting, the advertising budgets are  input  variables  while sales is an output  variable. \n",
    "The input variables are typically denoted using the symbol $ X$, with a subscript to distinguish them. So $ X_{1}$ might be the TV budget, \n",
    "$X_{2}$ the radio  budget, and $X_{3}$ the newspaper  budget. The inputs go by different names, such as _predictors,_\n",
    "_independent variables,_ _features,_ or sometimes just _variables._ The output variable —in this case, sales— is often \n",
    "called the _response_  or _dependent  variable,_ and is typically denoted using the symbol $Y$."
   ]
  },
  {
   "cell_type": "markdown",
   "metadata": {},
   "source": [
    "### Read dataset.\n",
    "\n",
    "Omit first column, the index of each sample. If needed it could be recovered by: `row.names(Advertising)`."
   ]
  },
  {
   "cell_type": "code",
   "execution_count": 39,
   "metadata": {
    "vscode": {
     "languageId": "r"
    }
   },
   "outputs": [],
   "source": [
    "Advertising<-read.csv(\"Data/Advertising.csv\")\n",
    "#Advertising<-read.csv(\"https://www.statlearning.com/s/Advertising.csv\")\n",
    "Advertising<-Advertising[,-1]"
   ]
  },
  {
   "cell_type": "code",
   "execution_count": 40,
   "metadata": {
    "vscode": {
     "languageId": "r"
    }
   },
   "outputs": [
    {
     "data": {
      "image/png": "[encoded data removed]",
      "text/plain": [
       "plot without title"
      ]
     },
     "metadata": {
      "image/png": {
       "height": 720,
       "width": 720
      }
     },
     "output_type": "display_data"
    }
   ],
   "source": [
    "options(repr.plot.width=12, repr.plot.height=12)\n",
    "plot(Advertising,pch=19,col=\"LightGreen\",cex=0.8,main=\"Pairwise scatterplots\",cex.main=1.5)"
   ]
  },
  {
   "cell_type": "code",
   "execution_count": 41,
   "metadata": {
    "vscode": {
     "languageId": "r"
    }
   },
   "outputs": [
    {
     "data": {
      "text/html": [
       "<table class=\"dataframe\">\n",
       "<caption>A matrix: 4 × 4 of type dbl</caption>\n",
       "<thead>\n",
       "\t<tr><th></th><th scope=col>TV</th><th scope=col>Radio</th><th scope=col>Newspaper</th><th scope=col>Sales</th></tr>\n",
       "</thead>\n",
       "<tbody>\n",
       "\t<tr><th scope=row>TV</th><td>1.0</td><td>0.1</td><td>0.1</td><td>0.8</td></tr>\n",
       "\t<tr><th scope=row>Radio</th><td>0.1</td><td>1.0</td><td>0.4</td><td>0.6</td></tr>\n",
       "\t<tr><th scope=row>Newspaper</th><td>0.1</td><td>0.4</td><td>1.0</td><td>0.2</td></tr>\n",
       "\t<tr><th scope=row>Sales</th><td>0.8</td><td>0.6</td><td>0.2</td><td>1.0</td></tr>\n",
       "</tbody>\n",
       "</table>\n"
      ],
      "text/latex": [
       "A matrix: 4 × 4 of type dbl\n",
       "\\begin{tabular}{r|llll}\n",
       "  & TV & Radio & Newspaper & Sales\\\\\n",
       "\\hline\n",
       "\tTV & 1.0 & 0.1 & 0.1 & 0.8\\\\\n",
       "\tRadio & 0.1 & 1.0 & 0.4 & 0.6\\\\\n",
       "\tNewspaper & 0.1 & 0.4 & 1.0 & 0.2\\\\\n",
       "\tSales & 0.8 & 0.6 & 0.2 & 1.0\\\\\n",
       "\\end{tabular}\n"
      ],
      "text/markdown": [
       "\n",
       "A matrix: 4 × 4 of type dbl\n",
       "\n",
       "| <!--/--> | TV | Radio | Newspaper | Sales |\n",
       "|---|---|---|---|---|\n",
       "| TV | 1.0 | 0.1 | 0.1 | 0.8 |\n",
       "| Radio | 0.1 | 1.0 | 0.4 | 0.6 |\n",
       "| Newspaper | 0.1 | 0.4 | 1.0 | 0.2 |\n",
       "| Sales | 0.8 | 0.6 | 0.2 | 1.0 |\n",
       "\n"
      ],
      "text/plain": [
       "          TV  Radio Newspaper Sales\n",
       "TV        1.0 0.1   0.1       0.8  \n",
       "Radio     0.1 1.0   0.4       0.6  \n",
       "Newspaper 0.1 0.4   1.0       0.2  \n",
       "Sales     0.8 0.6   0.2       1.0  "
      ]
     },
     "metadata": {},
     "output_type": "display_data"
    }
   ],
   "source": [
    "#cor(Advertising)\n",
    "#round(cor(Advertising),2)\n",
    "round(cor(Advertising),1)"
   ]
  },
  {
   "cell_type": "markdown",
   "metadata": {},
   "source": [
    "## Multiple regression (classical)"
   ]
  },
  {
   "cell_type": "markdown",
   "metadata": {},
   "source": [
    "Multiple linear regression of Sales on all three predictors"
   ]
  },
  {
   "cell_type": "code",
   "execution_count": 42,
   "metadata": {
    "vscode": {
     "languageId": "r"
    }
   },
   "outputs": [
    {
     "data": {
      "text/plain": [
       "\n",
       "Call:\n",
       "lm(formula = Sales ~ TV + Radio + Newspaper, data = Advertising)\n",
       "\n",
       "Residuals:\n",
       "    Min      1Q  Median      3Q     Max \n",
       "-8.8277 -0.8908  0.2418  1.1893  2.8292 \n",
       "\n",
       "Coefficients:\n",
       "             Estimate Std. Error t value Pr(>|t|)    \n",
       "(Intercept)  2.938889   0.311908   9.422   <2e-16 ***\n",
       "TV           0.045765   0.001395  32.809   <2e-16 ***\n",
       "Radio        0.188530   0.008611  21.893   <2e-16 ***\n",
       "Newspaper   -0.001037   0.005871  -0.177     0.86    \n",
       "---\n",
       "Signif. codes:  0 '***' 0.001 '**' 0.01 '*' 0.05 '.' 0.1 ' ' 1\n",
       "\n",
       "Residual standard error: 1.686 on 196 degrees of freedom\n",
       "Multiple R-squared:  0.8972,\tAdjusted R-squared:  0.8956 \n",
       "F-statistic: 570.3 on 3 and 196 DF,  p-value: < 2.2e-16\n"
      ]
     },
     "metadata": {},
     "output_type": "display_data"
    }
   ],
   "source": [
    "lm.Advertising.01<-lm(Sales~TV+Radio+Newspaper,data=Advertising)\n",
    "# Equivalent, alternative notation\n",
    "#lm.Advertising.01<-lm(Sales~.,data=Advertising)\n",
    "S<-summary(lm.Advertising.01)\n",
    "S"
   ]
  },
  {
   "cell_type": "code",
   "execution_count": 43,
   "metadata": {
    "vscode": {
     "languageId": "r"
    }
   },
   "outputs": [
    {
     "data": {
      "text/html": [
       "<table class=\"dataframe\">\n",
       "<caption>A anova: 4 × 5</caption>\n",
       "<thead>\n",
       "\t<tr><th></th><th scope=col>Df</th><th scope=col>Sum Sq</th><th scope=col>Mean Sq</th><th scope=col>F value</th><th scope=col>Pr(&gt;F)</th></tr>\n",
       "\t<tr><th></th><th scope=col>&lt;int&gt;</th><th scope=col>&lt;dbl&gt;</th><th scope=col>&lt;dbl&gt;</th><th scope=col>&lt;dbl&gt;</th><th scope=col>&lt;dbl&gt;</th></tr>\n",
       "</thead>\n",
       "<tbody>\n",
       "\t<tr><th scope=row>TV</th><td>  1</td><td>3.314618e+03</td><td>3.314618e+03</td><td>1.166731e+03</td><td>1.809337e-84</td></tr>\n",
       "\t<tr><th scope=row>Radio</th><td>  1</td><td>1.545617e+03</td><td>1.545617e+03</td><td>5.440501e+02</td><td>1.882722e-58</td></tr>\n",
       "\t<tr><th scope=row>Newspaper</th><td>  1</td><td>8.871717e-02</td><td>8.871717e-02</td><td>3.122805e-02</td><td>8.599151e-01</td></tr>\n",
       "\t<tr><th scope=row>Residuals</th><td>196</td><td>5.568253e+02</td><td>2.840945e+00</td><td>          NA</td><td>          NA</td></tr>\n",
       "</tbody>\n",
       "</table>\n"
      ],
      "text/latex": [
       "A anova: 4 × 5\n",
       "\\begin{tabular}{r|lllll}\n",
       "  & Df & Sum Sq & Mean Sq & F value & Pr(>F)\\\\\n",
       "  & <int> & <dbl> & <dbl> & <dbl> & <dbl>\\\\\n",
       "\\hline\n",
       "\tTV &   1 & 3.314618e+03 & 3.314618e+03 & 1.166731e+03 & 1.809337e-84\\\\\n",
       "\tRadio &   1 & 1.545617e+03 & 1.545617e+03 & 5.440501e+02 & 1.882722e-58\\\\\n",
       "\tNewspaper &   1 & 8.871717e-02 & 8.871717e-02 & 3.122805e-02 & 8.599151e-01\\\\\n",
       "\tResiduals & 196 & 5.568253e+02 & 2.840945e+00 &           NA &           NA\\\\\n",
       "\\end{tabular}\n"
      ],
      "text/markdown": [
       "\n",
       "A anova: 4 × 5\n",
       "\n",
       "| <!--/--> | Df &lt;int&gt; | Sum Sq &lt;dbl&gt; | Mean Sq &lt;dbl&gt; | F value &lt;dbl&gt; | Pr(&gt;F) &lt;dbl&gt; |\n",
       "|---|---|---|---|---|---|\n",
       "| TV |   1 | 3.314618e+03 | 3.314618e+03 | 1.166731e+03 | 1.809337e-84 |\n",
       "| Radio |   1 | 1.545617e+03 | 1.545617e+03 | 5.440501e+02 | 1.882722e-58 |\n",
       "| Newspaper |   1 | 8.871717e-02 | 8.871717e-02 | 3.122805e-02 | 8.599151e-01 |\n",
       "| Residuals | 196 | 5.568253e+02 | 2.840945e+00 |           NA |           NA |\n",
       "\n"
      ],
      "text/plain": [
       "          Df  Sum Sq       Mean Sq      F value      Pr(>F)      \n",
       "TV          1 3.314618e+03 3.314618e+03 1.166731e+03 1.809337e-84\n",
       "Radio       1 1.545617e+03 1.545617e+03 5.440501e+02 1.882722e-58\n",
       "Newspaper   1 8.871717e-02 8.871717e-02 3.122805e-02 8.599151e-01\n",
       "Residuals 196 5.568253e+02 2.840945e+00           NA           NA"
      ]
     },
     "metadata": {},
     "output_type": "display_data"
    }
   ],
   "source": [
    "A<-anova(lm.Advertising.01)\n",
    "A"
   ]
  },
  {
   "cell_type": "markdown",
   "metadata": {},
   "source": [
    "Rename response and model for the sake of pithy expressions"
   ]
  },
  {
   "cell_type": "code",
   "execution_count": 44,
   "metadata": {
    "vscode": {
     "languageId": "r"
    }
   },
   "outputs": [
    {
     "data": {
      "text/html": [
       "200"
      ],
      "text/latex": [
       "200"
      ],
      "text/markdown": [
       "200"
      ],
      "text/plain": [
       "[1] 200"
      ]
     },
     "metadata": {},
     "output_type": "display_data"
    },
    {
     "data": {
      "text/html": [
       "3"
      ],
      "text/latex": [
       "3"
      ],
      "text/markdown": [
       "3"
      ],
      "text/plain": [
       "[1] 3"
      ]
     },
     "metadata": {},
     "output_type": "display_data"
    },
    {
     "data": {
      "text/html": [
       "200"
      ],
      "text/latex": [
       "200"
      ],
      "text/markdown": [
       "200"
      ],
      "text/plain": [
       "[1] 200"
      ]
     },
     "metadata": {},
     "output_type": "display_data"
    }
   ],
   "source": [
    "y<-Advertising$Sales\n",
    "n<-length(y)\n",
    "n\n",
    "# (number of predictors)\n",
    "p<-3 \n",
    "# (number of columns in the regression matrix, including the colummn of ones for the intercept)\n",
    "m<-p+1\n",
    "p\n",
    "n"
   ]
  },
  {
   "cell_type": "code",
   "execution_count": 45,
   "metadata": {
    "vscode": {
     "languageId": "r"
    }
   },
   "outputs": [],
   "source": [
    "lm.1<-lm.Advertising.01"
   ]
  },
  {
   "cell_type": "code",
   "execution_count": 46,
   "metadata": {
    "vscode": {
     "languageId": "r"
    }
   },
   "outputs": [
    {
     "data": {
      "text/html": [
       "2.9389"
      ],
      "text/latex": [
       "2.9389"
      ],
      "text/markdown": [
       "2.9389"
      ],
      "text/plain": [
       "[1] 2.9389"
      ]
     },
     "metadata": {},
     "output_type": "display_data"
    }
   ],
   "source": [
    "# Keep the classical intercept (eventually to center the Bayesian prior for the intercept parameter)\n",
    "beta<-as.numeric(coef(lm.1))\n",
    "beta0.hat<-beta[1]\n",
    "round(beta0.hat,4)"
   ]
  },
  {
   "cell_type": "code",
   "execution_count": 47,
   "metadata": {
    "vscode": {
     "languageId": "r"
    }
   },
   "outputs": [
    {
     "data": {
      "text/html": [
       "<table class=\"dataframe\">\n",
       "<caption>A matrix: 6 × 3 of type dbl</caption>\n",
       "<thead>\n",
       "\t<tr><th></th><th scope=col>TV</th><th scope=col>Radio</th><th scope=col>Newspaper</th></tr>\n",
       "</thead>\n",
       "<tbody>\n",
       "\t<tr><th scope=row>1</th><td>230.1</td><td>37.8</td><td>69.2</td></tr>\n",
       "\t<tr><th scope=row>2</th><td> 44.5</td><td>39.3</td><td>45.1</td></tr>\n",
       "\t<tr><th scope=row>3</th><td> 17.2</td><td>45.9</td><td>69.3</td></tr>\n",
       "\t<tr><th scope=row>4</th><td>151.5</td><td>41.3</td><td>58.5</td></tr>\n",
       "\t<tr><th scope=row>5</th><td>180.8</td><td>10.8</td><td>58.4</td></tr>\n",
       "\t<tr><th scope=row>6</th><td>  8.7</td><td>48.9</td><td>75.0</td></tr>\n",
       "</tbody>\n",
       "</table>\n"
      ],
      "text/latex": [
       "A matrix: 6 × 3 of type dbl\n",
       "\\begin{tabular}{r|lll}\n",
       "  & TV & Radio & Newspaper\\\\\n",
       "\\hline\n",
       "\t1 & 230.1 & 37.8 & 69.2\\\\\n",
       "\t2 &  44.5 & 39.3 & 45.1\\\\\n",
       "\t3 &  17.2 & 45.9 & 69.3\\\\\n",
       "\t4 & 151.5 & 41.3 & 58.5\\\\\n",
       "\t5 & 180.8 & 10.8 & 58.4\\\\\n",
       "\t6 &   8.7 & 48.9 & 75.0\\\\\n",
       "\\end{tabular}\n"
      ],
      "text/markdown": [
       "\n",
       "A matrix: 6 × 3 of type dbl\n",
       "\n",
       "| <!--/--> | TV | Radio | Newspaper |\n",
       "|---|---|---|---|\n",
       "| 1 | 230.1 | 37.8 | 69.2 |\n",
       "| 2 |  44.5 | 39.3 | 45.1 |\n",
       "| 3 |  17.2 | 45.9 | 69.3 |\n",
       "| 4 | 151.5 | 41.3 | 58.5 |\n",
       "| 5 | 180.8 | 10.8 | 58.4 |\n",
       "| 6 |   8.7 | 48.9 | 75.0 |\n",
       "\n"
      ],
      "text/plain": [
       "  TV    Radio Newspaper\n",
       "1 230.1 37.8  69.2     \n",
       "2  44.5 39.3  45.1     \n",
       "3  17.2 45.9  69.3     \n",
       "4 151.5 41.3  58.5     \n",
       "5 180.8 10.8  58.4     \n",
       "6   8.7 48.9  75.0     "
      ]
     },
     "metadata": {},
     "output_type": "display_data"
    }
   ],
   "source": [
    "X<-model.matrix(lm.1)\n",
    "attr(X,\"assign\")<-NULL\n",
    "# Remove the \"intercept\" column of ones \n",
    "X<-X[, -1]\n",
    "#str(X)\n",
    "head(X)"
   ]
  },
  {
   "cell_type": "markdown",
   "metadata": {},
   "source": [
    "## 04. Bayesian linear regression"
   ]
  },
  {
   "cell_type": "markdown",
   "metadata": {},
   "source": [
    "## Model"
   ]
  },
  {
   "cell_type": "markdown",
   "metadata": {},
   "source": [
    "### Likelihood\n",
    "\n",
    "Each of the $ n$ observed responses $y_{i}$ ($1\\leq i\\leq n$) is assumed to be drawn from a normal distribution with mean $\\mu_{i}$ and standard deviation $\\sigma$ (or precision $\\tau=1/\\sigma^{2}$).\n",
    "\n",
    "The expected values ($\\mu_{i}$) are themselves determined by the linear predictor ($\\beta_{0}+x_{i}\\cdot\\beta$), $x_{i}\\in\\mathbb{R}^p$. \n",
    "\n",
    "$\\beta_{0}$ is the $y$-intercept and each $\\beta_{j}\\in\\R$, $j\\geq 1$ represents the rate of change in $y$ for every unit change in the $j$-th effect $x_{j}$ ($1\\leq j\\leq p$)."
   ]
  },
  {
   "cell_type": "markdown",
   "metadata": {},
   "source": [
    "### Priors\n",
    "\n",
    "Gaussian (normal) priors with relatively large standard deviations for the regression coefficients, intercept centered on the classical estimate and the others on zero,\n",
    "and a uniform for the standard deviation. \n",
    "\n",
    "In JAGS the normal distribution is parameterized with mean and precision $ \\tau=1/\\sigma^{2}$, hence a noninformative normal prior will have a _small_ precision. In Stan the normal distribution is parameterized with $\\sigma$, as in R.\n",
    "  \n",
    "$$\n",
    "\\begin{array}{lcl}\n",
    "        y_{i}         &\\sim &\\textrm{N}(\\mu_{i},\\sigma),\\\\[0.2cm]\n",
    "        \\mu_{i}       &=    &\\beta_{0}+x_{i}\\cdot\\beta,\\mskip20mu 1\\leq i\\leq n.\\\\[0.2cm]\n",
    "         y            &\\sim &\\textrm{N}(\\mu,\\sigma), \\mskip20mu\\text{(vector notation)}\\\\[0.2cm]  \n",
    "        \\mu           &=    &\\beta_{0}+X\\cdot\\beta, \\mskip20mu\\text{(matrix notation)}\\\\[0.2cm]\n",
    "        \\beta_{0}     &\\sim &\\textrm{Cauchy}(0,10),\\\\[0.2cm]\n",
    "        \\beta_{j}     &\\sim &\\textrm{Cauchy}(0,2.5),\\mskip20mu 1\\leq j\\leq p.\\\\[0.2cm]\n",
    "        \\sigma        &\\sim &\\textrm{u}(0,100).\n",
    "\\end{array}\n",
    "$$"
   ]
  },
  {
   "cell_type": "markdown",
   "metadata": {},
   "source": [
    "Alternative priors for the regression coefficients are $ \\textrm{Cauchy} (0,\\,\\cdot\\,)$ distributions, as sugggested by Gelman et al (2008).\n",
    "\n",
    "Andrew Gelman, Aleks Jakulin, Maria Grazia Pittau, Yu-Sung Su (2008), [A weakly informative default prior distribution for logistic and other regression models, Ann. Appl. Stat. 2(4): 1360-1383.](https://projecteuclid.org/journals/annals-of-applied-statistics/volume-2/issue-4/A-weakly-informative-default-prior-distribution/10.1214/08-AOAS191.full)\n",
    "\n",
    "There the authors suggest $\\textrm{Cauchy} (0,s)$, with a scale parameter $s=2.5$."
   ]
  },
  {
   "cell_type": "markdown",
   "metadata": {},
   "source": [
    "## Stan implementation"
   ]
  },
  {
   "cell_type": "code",
   "execution_count": 48,
   "metadata": {
    "vscode": {
     "languageId": "r"
    }
   },
   "outputs": [],
   "source": [
    "#install.packages(\"rstan\", repos= \"https://cloud.r-project.org\")\n",
    "options(mc.cores = parallel::detectCores())\n",
    "require(rstan)\n",
    "rstan_options(auto_write = TRUE)"
   ]
  },
  {
   "cell_type": "markdown",
   "metadata": {},
   "source": [
    "### Depending on your hardware"
   ]
  },
  {
   "cell_type": "code",
   "execution_count": 49,
   "metadata": {
    "vscode": {
     "languageId": "r"
    }
   },
   "outputs": [],
   "source": [
    "Sys.setenv(LOCAL_CPPFLAGS = '-march=corei7 -mtune=corei7')"
   ]
  },
  {
   "cell_type": "code",
   "execution_count": 50,
   "metadata": {
    "vscode": {
     "languageId": "r"
    }
   },
   "outputs": [],
   "source": [
    "Advertising.stan.model<-\"\n",
    "    data{\n",
    "    int<lower=1>  n;\n",
    "    int<lower=1>  p;\n",
    "    matrix[n,p]   X; \n",
    "    vector[n]     y; \n",
    "    row_vector[p] x_tilde; // a new x (we will compute the posterior predictive pdf at x_tilde)\n",
    "    }\n",
    "    parameters{\n",
    "    real a;\n",
    "    vector[p] b;\n",
    "    real<lower=0> sigma;\n",
    "    }\n",
    "    model{ \n",
    "        vector[n] y_hat;\n",
    "        y_hat=a+X*b; \n",
    "\n",
    "        // Prior \n",
    "        a ~ cauchy(0,10);        //prior following Gelman 2008\n",
    "\n",
    "        for(i in 1:p)\n",
    "            b[i] ~ cauchy(0,2.5);  \n",
    "  \n",
    "        sigma~uniform(0,100);\n",
    "\n",
    "        // Likelihood   \n",
    "        y~normal(y_hat,sigma);\n",
    "    }\n",
    "    generated quantities{\n",
    "        real mu_tilde=a+x_tilde*b  ;\n",
    "        real y_tilde=normal_rng(mu_tilde,sigma);\n",
    "    }\n",
    "\""
   ]
  },
  {
   "cell_type": "code",
   "execution_count": 51,
   "metadata": {
    "vscode": {
     "languageId": "r"
    }
   },
   "outputs": [],
   "source": [
    "# Translate model to C++ and compile to DSO:\n",
    "Advertising.stanDso <- stan_model(model_code=Advertising.stan.model) "
   ]
  },
  {
   "cell_type": "code",
   "execution_count": 52,
   "metadata": {
    "vscode": {
     "languageId": "r"
    }
   },
   "outputs": [
    {
     "data": {
      "text/html": [
       "<style>\n",
       ".dl-inline {width: auto; margin:0; padding: 0}\n",
       ".dl-inline>dt, .dl-inline>dd {float: none; width: auto; display: inline-block}\n",
       ".dl-inline>dt::after {content: \":\\0020\"; padding-right: .5ex}\n",
       ".dl-inline>dt:not(:first-of-type) {padding-left: .5ex}\n",
       "</style><dl class=dl-inline><dt>TV</dt><dd>147.04</dd><dt>Radio</dt><dd>23.26</dd><dt>Newspaper</dt><dd>30.55</dd></dl>\n"
      ],
      "text/latex": [
       "\\begin{description*}\n",
       "\\item[TV] 147.04\n",
       "\\item[Radio] 23.26\n",
       "\\item[Newspaper] 30.55\n",
       "\\end{description*}\n"
      ],
      "text/markdown": [
       "TV\n",
       ":   147.04Radio\n",
       ":   23.26Newspaper\n",
       ":   30.55\n",
       "\n"
      ],
      "text/plain": [
       "       TV     Radio Newspaper \n",
       "   147.04     23.26     30.55 "
      ]
     },
     "metadata": {},
     "output_type": "display_data"
    }
   ],
   "source": [
    "x.tilde<-colMeans(X) # We predict for a new x equal to the average of the observed data\n",
    "round(x.tilde,2)"
   ]
  },
  {
   "cell_type": "code",
   "execution_count": 53,
   "metadata": {
    "vscode": {
     "languageId": "r"
    }
   },
   "outputs": [],
   "source": [
    "Advertising.stan.dat<-list(n = n, p=p, X = X, y = y,x_tilde=x.tilde)"
   ]
  },
  {
   "cell_type": "code",
   "execution_count": 54,
   "metadata": {
    "vscode": {
     "languageId": "r"
    }
   },
   "outputs": [],
   "source": [
    "# Generate posterior sample:\n",
    "Advertising.stan.m1<-sampling(object=Advertising.stanDso,\n",
    "                                    data=Advertising.stan.dat,chains=3,iter=6000,warmup=500,thin=1)"
   ]
  },
  {
   "cell_type": "code",
   "execution_count": 55,
   "metadata": {
    "vscode": {
     "languageId": "r"
    }
   },
   "outputs": [],
   "source": [
    "#str(Advertising.stan.m1)"
   ]
  },
  {
   "cell_type": "code",
   "execution_count": 56,
   "metadata": {
    "vscode": {
     "languageId": "r"
    }
   },
   "outputs": [
    {
     "name": "stdout",
     "output_type": "stream",
     "text": [
      "Inference for Stan model: anon_model.\n",
      "3 chains, each with iter=6000; warmup=500; thin=1; \n",
      "post-warmup draws per chain=5500, total post-warmup draws=16500.\n",
      "\n",
      "            mean se_mean   sd    2.5%     25%     50%     75%   97.5% n_eff\n",
      "a           2.93    0.00 0.31    2.32    2.72    2.93    3.14    3.54  9190\n",
      "b[1]        0.05    0.00 0.00    0.04    0.04    0.05    0.05    0.05 14929\n",
      "b[2]        0.19    0.00 0.01    0.17    0.18    0.19    0.19    0.21 10011\n",
      "b[3]        0.00    0.00 0.01   -0.01    0.00    0.00    0.00    0.01 11286\n",
      "sigma       1.70    0.00 0.09    1.53    1.63    1.69    1.75    1.88  9539\n",
      "mu_tilde   14.02    0.00 0.12   13.78   13.94   14.02   14.10   14.26 16838\n",
      "y_tilde    14.04    0.01 1.70   10.67   12.89   14.04   15.19   17.31 16824\n",
      "lp__     -204.52    0.02 1.63 -208.50 -205.35 -204.20 -203.33 -202.37  6733\n",
      "         Rhat\n",
      "a           1\n",
      "b[1]        1\n",
      "b[2]        1\n",
      "b[3]        1\n",
      "sigma       1\n",
      "mu_tilde    1\n",
      "y_tilde     1\n",
      "lp__        1\n",
      "\n",
      "Samples were drawn using NUTS(diag_e) at Sun Apr 16 09:16:14 2023.\n",
      "For each parameter, n_eff is a crude measure of effective sample size,\n",
      "and Rhat is the potential scale reduction factor on split chains (at \n",
      "convergence, Rhat=1).\n"
     ]
    }
   ],
   "source": [
    "print(Advertising.stan.m1)"
   ]
  },
  {
   "cell_type": "code",
   "execution_count": 57,
   "metadata": {
    "vscode": {
     "languageId": "r"
    }
   },
   "outputs": [
    {
     "data": {
      "text/html": [
       "<table class=\"dataframe\">\n",
       "<caption>A matrix: 8 × 10 of type dbl</caption>\n",
       "<thead>\n",
       "\t<tr><th></th><th scope=col>mean</th><th scope=col>se_mean</th><th scope=col>sd</th><th scope=col>2.5%</th><th scope=col>25%</th><th scope=col>50%</th><th scope=col>75%</th><th scope=col>97.5%</th><th scope=col>n_eff</th><th scope=col>Rhat</th></tr>\n",
       "</thead>\n",
       "<tbody>\n",
       "\t<tr><th scope=row>a</th><td>   2.931244</td><td>0.003249</td><td>0.311444</td><td>   2.321486</td><td>   2.720348</td><td>   2.930288</td><td>   3.140849</td><td>   3.538244</td><td> 9190.295</td><td>1.000045</td></tr>\n",
       "\t<tr><th scope=row>b[1]</th><td>   0.045770</td><td>0.000012</td><td>0.001422</td><td>   0.042964</td><td>   0.044827</td><td>   0.045769</td><td>   0.046726</td><td>   0.048578</td><td>14928.805</td><td>0.999972</td></tr>\n",
       "\t<tr><th scope=row>b[2]</th><td>   0.188628</td><td>0.000086</td><td>0.008650</td><td>   0.171264</td><td>   0.182944</td><td>   0.188622</td><td>   0.194450</td><td>   0.205573</td><td>10010.825</td><td>0.999924</td></tr>\n",
       "\t<tr><th scope=row>b[3]</th><td>  -0.000924</td><td>0.000055</td><td>0.005891</td><td>  -0.012510</td><td>  -0.004890</td><td>  -0.000880</td><td>   0.003116</td><td>   0.010459</td><td>11285.517</td><td>0.999995</td></tr>\n",
       "\t<tr><th scope=row>sigma</th><td>   1.695990</td><td>0.000893</td><td>0.087250</td><td>   1.534981</td><td>   1.634552</td><td>   1.693403</td><td>   1.752949</td><td>   1.876479</td><td> 9539.278</td><td>1.000049</td></tr>\n",
       "\t<tr><th scope=row>mu_tilde</th><td>  14.021343</td><td>0.000930</td><td>0.120621</td><td>  13.783641</td><td>  13.940920</td><td>  14.021322</td><td>  14.101924</td><td>  14.257913</td><td>16837.804</td><td>0.999843</td></tr>\n",
       "\t<tr><th scope=row>y_tilde</th><td>  14.036095</td><td>0.013086</td><td>1.697355</td><td>  10.674621</td><td>  12.890300</td><td>  14.044431</td><td>  15.185950</td><td>  17.309323</td><td>16823.656</td><td>0.999852</td></tr>\n",
       "\t<tr><th scope=row>lp__</th><td>-204.522822</td><td>0.019809</td><td>1.625479</td><td>-208.503676</td><td>-205.352944</td><td>-204.197017</td><td>-203.327213</td><td>-202.369406</td><td> 6733.211</td><td>1.000687</td></tr>\n",
       "</tbody>\n",
       "</table>\n"
      ],
      "text/latex": [
       "A matrix: 8 × 10 of type dbl\n",
       "\\begin{tabular}{r|llllllllll}\n",
       "  & mean & se\\_mean & sd & 2.5\\% & 25\\% & 50\\% & 75\\% & 97.5\\% & n\\_eff & Rhat\\\\\n",
       "\\hline\n",
       "\ta &    2.931244 & 0.003249 & 0.311444 &    2.321486 &    2.720348 &    2.930288 &    3.140849 &    3.538244 &  9190.295 & 1.000045\\\\\n",
       "\tb{[}1{]} &    0.045770 & 0.000012 & 0.001422 &    0.042964 &    0.044827 &    0.045769 &    0.046726 &    0.048578 & 14928.805 & 0.999972\\\\\n",
       "\tb{[}2{]} &    0.188628 & 0.000086 & 0.008650 &    0.171264 &    0.182944 &    0.188622 &    0.194450 &    0.205573 & 10010.825 & 0.999924\\\\\n",
       "\tb{[}3{]} &   -0.000924 & 0.000055 & 0.005891 &   -0.012510 &   -0.004890 &   -0.000880 &    0.003116 &    0.010459 & 11285.517 & 0.999995\\\\\n",
       "\tsigma &    1.695990 & 0.000893 & 0.087250 &    1.534981 &    1.634552 &    1.693403 &    1.752949 &    1.876479 &  9539.278 & 1.000049\\\\\n",
       "\tmu\\_tilde &   14.021343 & 0.000930 & 0.120621 &   13.783641 &   13.940920 &   14.021322 &   14.101924 &   14.257913 & 16837.804 & 0.999843\\\\\n",
       "\ty\\_tilde &   14.036095 & 0.013086 & 1.697355 &   10.674621 &   12.890300 &   14.044431 &   15.185950 &   17.309323 & 16823.656 & 0.999852\\\\\n",
       "\tlp\\_\\_ & -204.522822 & 0.019809 & 1.625479 & -208.503676 & -205.352944 & -204.197017 & -203.327213 & -202.369406 &  6733.211 & 1.000687\\\\\n",
       "\\end{tabular}\n"
      ],
      "text/markdown": [
       "\n",
       "A matrix: 8 × 10 of type dbl\n",
       "\n",
       "| <!--/--> | mean | se_mean | sd | 2.5% | 25% | 50% | 75% | 97.5% | n_eff | Rhat |\n",
       "|---|---|---|---|---|---|---|---|---|---|---|\n",
       "| a |    2.931244 | 0.003249 | 0.311444 |    2.321486 |    2.720348 |    2.930288 |    3.140849 |    3.538244 |  9190.295 | 1.000045 |\n",
       "| b[1] |    0.045770 | 0.000012 | 0.001422 |    0.042964 |    0.044827 |    0.045769 |    0.046726 |    0.048578 | 14928.805 | 0.999972 |\n",
       "| b[2] |    0.188628 | 0.000086 | 0.008650 |    0.171264 |    0.182944 |    0.188622 |    0.194450 |    0.205573 | 10010.825 | 0.999924 |\n",
       "| b[3] |   -0.000924 | 0.000055 | 0.005891 |   -0.012510 |   -0.004890 |   -0.000880 |    0.003116 |    0.010459 | 11285.517 | 0.999995 |\n",
       "| sigma |    1.695990 | 0.000893 | 0.087250 |    1.534981 |    1.634552 |    1.693403 |    1.752949 |    1.876479 |  9539.278 | 1.000049 |\n",
       "| mu_tilde |   14.021343 | 0.000930 | 0.120621 |   13.783641 |   13.940920 |   14.021322 |   14.101924 |   14.257913 | 16837.804 | 0.999843 |\n",
       "| y_tilde |   14.036095 | 0.013086 | 1.697355 |   10.674621 |   12.890300 |   14.044431 |   15.185950 |   17.309323 | 16823.656 | 0.999852 |\n",
       "| lp__ | -204.522822 | 0.019809 | 1.625479 | -208.503676 | -205.352944 | -204.197017 | -203.327213 | -202.369406 |  6733.211 | 1.000687 |\n",
       "\n"
      ],
      "text/plain": [
       "         mean        se_mean  sd       2.5%        25%         50%        \n",
       "a           2.931244 0.003249 0.311444    2.321486    2.720348    2.930288\n",
       "b[1]        0.045770 0.000012 0.001422    0.042964    0.044827    0.045769\n",
       "b[2]        0.188628 0.000086 0.008650    0.171264    0.182944    0.188622\n",
       "b[3]       -0.000924 0.000055 0.005891   -0.012510   -0.004890   -0.000880\n",
       "sigma       1.695990 0.000893 0.087250    1.534981    1.634552    1.693403\n",
       "mu_tilde   14.021343 0.000930 0.120621   13.783641   13.940920   14.021322\n",
       "y_tilde    14.036095 0.013086 1.697355   10.674621   12.890300   14.044431\n",
       "lp__     -204.522822 0.019809 1.625479 -208.503676 -205.352944 -204.197017\n",
       "         75%         97.5%       n_eff     Rhat    \n",
       "a           3.140849    3.538244  9190.295 1.000045\n",
       "b[1]        0.046726    0.048578 14928.805 0.999972\n",
       "b[2]        0.194450    0.205573 10010.825 0.999924\n",
       "b[3]        0.003116    0.010459 11285.517 0.999995\n",
       "sigma       1.752949    1.876479  9539.278 1.000049\n",
       "mu_tilde   14.101924   14.257913 16837.804 0.999843\n",
       "y_tilde    15.185950   17.309323 16823.656 0.999852\n",
       "lp__     -203.327213 -202.369406  6733.211 1.000687"
      ]
     },
     "metadata": {},
     "output_type": "display_data"
    }
   ],
   "source": [
    "round(summary(Advertising.stan.m1)$summary,6)"
   ]
  },
  {
   "cell_type": "markdown",
   "metadata": {},
   "source": [
    "#### Compare with classical solution coefficients"
   ]
  },
  {
   "cell_type": "code",
   "execution_count": 58,
   "metadata": {
    "vscode": {
     "languageId": "r"
    }
   },
   "outputs": [
    {
     "data": {
      "text/html": [
       "<table class=\"dataframe\">\n",
       "<caption>A matrix: 4 × 4 of type dbl</caption>\n",
       "<thead>\n",
       "\t<tr><th></th><th scope=col>Estimate</th><th scope=col>Std. Error</th><th scope=col>t value</th><th scope=col>Pr(&gt;|t|)</th></tr>\n",
       "</thead>\n",
       "<tbody>\n",
       "\t<tr><th scope=row>(Intercept)</th><td> 2.93889</td><td>0.31191</td><td> 9.42229</td><td>0.00000</td></tr>\n",
       "\t<tr><th scope=row>TV</th><td> 0.04576</td><td>0.00139</td><td>32.80862</td><td>0.00000</td></tr>\n",
       "\t<tr><th scope=row>Radio</th><td> 0.18853</td><td>0.00861</td><td>21.89350</td><td>0.00000</td></tr>\n",
       "\t<tr><th scope=row>Newspaper</th><td>-0.00104</td><td>0.00587</td><td>-0.17671</td><td>0.85992</td></tr>\n",
       "</tbody>\n",
       "</table>\n"
      ],
      "text/latex": [
       "A matrix: 4 × 4 of type dbl\n",
       "\\begin{tabular}{r|llll}\n",
       "  & Estimate & Std. Error & t value & Pr(>\\textbar{}t\\textbar{})\\\\\n",
       "\\hline\n",
       "\t(Intercept) &  2.93889 & 0.31191 &  9.42229 & 0.00000\\\\\n",
       "\tTV &  0.04576 & 0.00139 & 32.80862 & 0.00000\\\\\n",
       "\tRadio &  0.18853 & 0.00861 & 21.89350 & 0.00000\\\\\n",
       "\tNewspaper & -0.00104 & 0.00587 & -0.17671 & 0.85992\\\\\n",
       "\\end{tabular}\n"
      ],
      "text/markdown": [
       "\n",
       "A matrix: 4 × 4 of type dbl\n",
       "\n",
       "| <!--/--> | Estimate | Std. Error | t value | Pr(&gt;|t|) |\n",
       "|---|---|---|---|---|\n",
       "| (Intercept) |  2.93889 | 0.31191 |  9.42229 | 0.00000 |\n",
       "| TV |  0.04576 | 0.00139 | 32.80862 | 0.00000 |\n",
       "| Radio |  0.18853 | 0.00861 | 21.89350 | 0.00000 |\n",
       "| Newspaper | -0.00104 | 0.00587 | -0.17671 | 0.85992 |\n",
       "\n"
      ],
      "text/plain": [
       "            Estimate Std. Error t value  Pr(>|t|)\n",
       "(Intercept)  2.93889 0.31191     9.42229 0.00000 \n",
       "TV           0.04576 0.00139    32.80862 0.00000 \n",
       "Radio        0.18853 0.00861    21.89350 0.00000 \n",
       "Newspaper   -0.00104 0.00587    -0.17671 0.85992 "
      ]
     },
     "metadata": {},
     "output_type": "display_data"
    }
   ],
   "source": [
    "round(S$coefficients,5)"
   ]
  },
  {
   "cell_type": "code",
   "execution_count": 59,
   "metadata": {
    "vscode": {
     "languageId": "r"
    }
   },
   "outputs": [
    {
     "data": {
      "text/html": [
       "1.68551"
      ],
      "text/latex": [
       "1.68551"
      ],
      "text/markdown": [
       "1.68551"
      ],
      "text/plain": [
       "[1] 1.68551"
      ]
     },
     "metadata": {},
     "output_type": "display_data"
    }
   ],
   "source": [
    "round(sigma(lm.1),5)"
   ]
  },
  {
   "cell_type": "code",
   "execution_count": 60,
   "metadata": {
    "vscode": {
     "languageId": "r"
    }
   },
   "outputs": [
    {
     "data": {
      "text/html": [
       "0.89721"
      ],
      "text/latex": [
       "0.89721"
      ],
      "text/markdown": [
       "0.89721"
      ],
      "text/plain": [
       "[1] 0.89721"
      ]
     },
     "metadata": {},
     "output_type": "display_data"
    }
   ],
   "source": [
    "round(S$r.squared,5)"
   ]
  },
  {
   "cell_type": "code",
   "execution_count": 61,
   "metadata": {
    "vscode": {
     "languageId": "r"
    }
   },
   "outputs": [
    {
     "data": {
      "text/html": [
       "<table class=\"dataframe\">\n",
       "<caption>A anova: 4 × 5</caption>\n",
       "<thead>\n",
       "\t<tr><th></th><th scope=col>Df</th><th scope=col>Sum Sq</th><th scope=col>Mean Sq</th><th scope=col>F value</th><th scope=col>Pr(&gt;F)</th></tr>\n",
       "\t<tr><th></th><th scope=col>&lt;int&gt;</th><th scope=col>&lt;dbl&gt;</th><th scope=col>&lt;dbl&gt;</th><th scope=col>&lt;dbl&gt;</th><th scope=col>&lt;dbl&gt;</th></tr>\n",
       "</thead>\n",
       "<tbody>\n",
       "\t<tr><th scope=row>TV</th><td>  1</td><td>3.314618e+03</td><td>3.314618e+03</td><td>1.166731e+03</td><td>1.809337e-84</td></tr>\n",
       "\t<tr><th scope=row>Radio</th><td>  1</td><td>1.545617e+03</td><td>1.545617e+03</td><td>5.440501e+02</td><td>1.882722e-58</td></tr>\n",
       "\t<tr><th scope=row>Newspaper</th><td>  1</td><td>8.871717e-02</td><td>8.871717e-02</td><td>3.122805e-02</td><td>8.599151e-01</td></tr>\n",
       "\t<tr><th scope=row>Residuals</th><td>196</td><td>5.568253e+02</td><td>2.840945e+00</td><td>          NA</td><td>          NA</td></tr>\n",
       "</tbody>\n",
       "</table>\n"
      ],
      "text/latex": [
       "A anova: 4 × 5\n",
       "\\begin{tabular}{r|lllll}\n",
       "  & Df & Sum Sq & Mean Sq & F value & Pr(>F)\\\\\n",
       "  & <int> & <dbl> & <dbl> & <dbl> & <dbl>\\\\\n",
       "\\hline\n",
       "\tTV &   1 & 3.314618e+03 & 3.314618e+03 & 1.166731e+03 & 1.809337e-84\\\\\n",
       "\tRadio &   1 & 1.545617e+03 & 1.545617e+03 & 5.440501e+02 & 1.882722e-58\\\\\n",
       "\tNewspaper &   1 & 8.871717e-02 & 8.871717e-02 & 3.122805e-02 & 8.599151e-01\\\\\n",
       "\tResiduals & 196 & 5.568253e+02 & 2.840945e+00 &           NA &           NA\\\\\n",
       "\\end{tabular}\n"
      ],
      "text/markdown": [
       "\n",
       "A anova: 4 × 5\n",
       "\n",
       "| <!--/--> | Df &lt;int&gt; | Sum Sq &lt;dbl&gt; | Mean Sq &lt;dbl&gt; | F value &lt;dbl&gt; | Pr(&gt;F) &lt;dbl&gt; |\n",
       "|---|---|---|---|---|---|\n",
       "| TV |   1 | 3.314618e+03 | 3.314618e+03 | 1.166731e+03 | 1.809337e-84 |\n",
       "| Radio |   1 | 1.545617e+03 | 1.545617e+03 | 5.440501e+02 | 1.882722e-58 |\n",
       "| Newspaper |   1 | 8.871717e-02 | 8.871717e-02 | 3.122805e-02 | 8.599151e-01 |\n",
       "| Residuals | 196 | 5.568253e+02 | 2.840945e+00 |           NA |           NA |\n",
       "\n"
      ],
      "text/plain": [
       "          Df  Sum Sq       Mean Sq      F value      Pr(>F)      \n",
       "TV          1 3.314618e+03 3.314618e+03 1.166731e+03 1.809337e-84\n",
       "Radio       1 1.545617e+03 1.545617e+03 5.440501e+02 1.882722e-58\n",
       "Newspaper   1 8.871717e-02 8.871717e-02 3.122805e-02 8.599151e-01\n",
       "Residuals 196 5.568253e+02 2.840945e+00           NA           NA"
      ]
     },
     "metadata": {},
     "output_type": "display_data"
    }
   ],
   "source": [
    "#A<-anova(lm.1)\n",
    "A"
   ]
  },
  {
   "cell_type": "code",
   "execution_count": 62,
   "metadata": {
    "vscode": {
     "languageId": "r"
    }
   },
   "outputs": [
    {
     "data": {
      "text/html": [
       "<style>\n",
       ".list-inline {list-style: none; margin:0; padding: 0}\n",
       ".list-inline>li {display: inline-block}\n",
       ".list-inline>li:not(:last-child)::after {content: \"\\00b7\"; padding: 0 .5ex}\n",
       "</style>\n",
       "<ol class=list-inline><li>3314.61817</li><li>1545.6166</li><li>0.08872</li><li>556.82526</li></ol>\n"
      ],
      "text/latex": [
       "\\begin{enumerate*}\n",
       "\\item 3314.61817\n",
       "\\item 1545.6166\n",
       "\\item 0.08872\n",
       "\\item 556.82526\n",
       "\\end{enumerate*}\n"
      ],
      "text/markdown": [
       "1. 3314.61817\n",
       "2. 1545.6166\n",
       "3. 0.08872\n",
       "4. 556.82526\n",
       "\n",
       "\n"
      ],
      "text/plain": [
       "[1] 3314.61817 1545.61660    0.08872  556.82526"
      ]
     },
     "metadata": {},
     "output_type": "display_data"
    }
   ],
   "source": [
    "SS<-A$Sum\n",
    "round(SS,5)"
   ]
  },
  {
   "cell_type": "code",
   "execution_count": 63,
   "metadata": {
    "tags": [],
    "vscode": {
     "languageId": "r"
    }
   },
   "outputs": [],
   "source": [
    "#install.packages(\"bayesplot\",dependencies=TRUE,repos= \"https://cloud.r-project.org\")\n",
    "require(bayesplot,quietly=TRUE)"
   ]
  },
  {
   "cell_type": "markdown",
   "metadata": {},
   "source": [
    "### Diagnostics: Traceplot"
   ]
  },
  {
   "cell_type": "code",
   "execution_count": 64,
   "metadata": {
    "vscode": {
     "languageId": "r"
    }
   },
   "outputs": [
    {
     "data": {
      "image/png": "[encoded data removed]",
      "text/plain": [
       "plot without title"
      ]
     },
     "metadata": {
      "image/png": {
       "height": 360,
       "width": 960
      }
     },
     "output_type": "display_data"
    }
   ],
   "source": [
    "options(repr.plot.width=16, repr.plot.height=6)\n",
    "color_scheme_set(\"mix-blue-red\")\n",
    "mcmc_trace(Advertising.stan.m1, pars = c(\"a\",\"b[1]\",\"b[2]\",\"b[3]\",\"sigma\",\"mu_tilde\"))"
   ]
  },
  {
   "cell_type": "markdown",
   "metadata": {},
   "source": [
    "A syntax to list all `b` parameters"
   ]
  },
  {
   "cell_type": "code",
   "execution_count": 65,
   "metadata": {
    "vscode": {
     "languageId": "r"
    }
   },
   "outputs": [
    {
     "data": {
      "image/png": "[encoded data removed]",
      "text/plain": [
       "plot without title"
      ]
     },
     "metadata": {
      "image/png": {
       "height": 360,
       "width": 960
      }
     },
     "output_type": "display_data"
    }
   ],
   "source": [
    "options(repr.plot.width=16, repr.plot.height=6)\n",
    "color_scheme_set(\"mix-blue-red\")\n",
    "mcmc_trace(Advertising.stan.m1, pars = c(vars(\"a\",starts_with(\"b\"),\"sigma\")))"
   ]
  },
  {
   "cell_type": "markdown",
   "metadata": {},
   "source": [
    "### Diagnostics: Autocorrelation plot"
   ]
  },
  {
   "cell_type": "code",
   "execution_count": 66,
   "metadata": {
    "vscode": {
     "languageId": "r"
    }
   },
   "outputs": [
    {
     "data": {
      "image/png": "[encoded data removed]",
      "text/plain": [
       "plot without title"
      ]
     },
     "metadata": {
      "image/png": {
       "height": 360,
       "width": 960
      }
     },
     "output_type": "display_data"
    }
   ],
   "source": [
    "options(repr.plot.width=16, repr.plot.height=6)\n",
    "color_scheme_set(\"blue\")\n",
    "mcmc_acf(Advertising.stan.m1, pars = c(vars(\"a\",starts_with(\"b\"),\"sigma\",\"mu_tilde\")))"
   ]
  },
  {
   "cell_type": "markdown",
   "metadata": {},
   "source": [
    "###  Posterior area plots (posterior density + posterior credible intervals)"
   ]
  },
  {
   "cell_type": "code",
   "execution_count": 67,
   "metadata": {
    "vscode": {
     "languageId": "r"
    }
   },
   "outputs": [
    {
     "data": {
      "image/png": "[encoded data removed]",
      "text/plain": [
       "plot without title"
      ]
     },
     "metadata": {
      "image/png": {
       "height": 300,
       "width": 960
      }
     },
     "output_type": "display_data"
    }
   ],
   "source": [
    "options(repr.plot.width=16, repr.plot.height=5)\n",
    "color_scheme_set(\"mix-blue-red\")\n",
    "mcmc_areas(Advertising.stan.m1, pars = c(vars(\"a\",starts_with(\"b\"),\"sigma\")))"
   ]
  },
  {
   "cell_type": "markdown",
   "metadata": {},
   "source": [
    "Problem with plotting parameters together is, either range or dispersion can be quite different.\n",
    "\n",
    "Then one can plot them separately to better visualize."
   ]
  },
  {
   "cell_type": "code",
   "execution_count": 68,
   "metadata": {
    "vscode": {
     "languageId": "r"
    }
   },
   "outputs": [
    {
     "data": {
      "image/png": "[encoded data removed]",
      "text/plain": [
       "plot without title"
      ]
     },
     "metadata": {
      "image/png": {
       "height": 360,
       "width": 600
      }
     },
     "output_type": "display_data"
    }
   ],
   "source": [
    "options(repr.plot.width=10, repr.plot.height=6)\n",
    "color_scheme_set(\"mix-blue-red\")\n",
    "mcmc_areas(Advertising.stan.m1, pars = vars(starts_with(\"b\")))"
   ]
  },
  {
   "cell_type": "code",
   "execution_count": 69,
   "metadata": {
    "vscode": {
     "languageId": "r"
    }
   },
   "outputs": [
    {
     "data": {
      "image/png": "[encoded data removed]",
      "text/plain": [
       "plot without title"
      ]
     },
     "metadata": {
      "image/png": {
       "height": 300,
       "width": 540
      }
     },
     "output_type": "display_data"
    }
   ],
   "source": [
    "options(repr.plot.width=9, repr.plot.height=5)\n",
    "color_scheme_set(\"blue\")\n",
    "mcmc_areas(Advertising.stan.m1, pars = c(\"mu_tilde\",\"y_tilde\"))"
   ]
  },
  {
   "cell_type": "code",
   "execution_count": 70,
   "metadata": {
    "vscode": {
     "languageId": "r"
    }
   },
   "outputs": [
    {
     "data": {
      "image/png": "[encoded data removed]",
      "text/plain": [
       "plot without title"
      ]
     },
     "metadata": {
      "image/png": {
       "height": 360,
       "width": 360
      }
     },
     "output_type": "display_data"
    }
   ],
   "source": [
    "options(repr.plot.width=6, repr.plot.height=6)\n",
    "color_scheme_set(\"blue\")\n",
    "mcmc_areas(Advertising.stan.m1, pars = c(\"mu_tilde\"))"
   ]
  },
  {
   "cell_type": "code",
   "execution_count": 71,
   "metadata": {
    "vscode": {
     "languageId": "r"
    }
   },
   "outputs": [
    {
     "data": {
      "image/png": "[encoded data removed]",
      "text/plain": [
       "plot without title"
      ]
     },
     "metadata": {
      "image/png": {
       "height": 360,
       "width": 360
      }
     },
     "output_type": "display_data"
    }
   ],
   "source": [
    "options(repr.plot.width=6, repr.plot.height=6)\n",
    "color_scheme_set(\"blue\")\n",
    "mcmc_areas(Advertising.stan.m1, pars = c(\"y_tilde\"))"
   ]
  },
  {
   "cell_type": "markdown",
   "metadata": {},
   "source": [
    "Predicted `y_tilde` has two sources of uncertainty: that of the regression coefficients `a` and  `b` plus that of the generated `y`.\n",
    "\n",
    "When both quantities are represented separately, this information is lost."
   ]
  },
  {
   "cell_type": "markdown",
   "metadata": {},
   "source": [
    "###  Posterior density plots"
   ]
  },
  {
   "cell_type": "code",
   "execution_count": 72,
   "metadata": {
    "vscode": {
     "languageId": "r"
    }
   },
   "outputs": [
    {
     "data": {
      "image/png": "[encoded data removed]",
      "text/plain": [
       "plot without title"
      ]
     },
     "metadata": {
      "image/png": {
       "height": 360,
       "width": 960
      }
     },
     "output_type": "display_data"
    }
   ],
   "source": [
    "options(repr.plot.width=16, repr.plot.height=6)\n",
    "color_scheme_set(\"brightblue\")\n",
    "mcmc_dens(Advertising.stan.m1, pars = c(\"mu_tilde\",\"y_tilde\"))"
   ]
  }
 ],
 "metadata": {
  "kernelspec": {
   "display_name": "R",
   "language": "R",
   "name": "ir"
  },
  "language_info": {
   "codemirror_mode": "r",
   "file_extension": ".r",
   "mimetype": "text/x-r-source",
   "name": "R",
   "pygments_lexer": "r",
   "version": "4.3.1"
  }
 },
 "nbformat": 4,
 "nbformat_minor": 4
}
