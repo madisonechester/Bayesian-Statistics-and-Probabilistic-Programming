{
 "cells": [
  {
   "cell_type": "markdown",
   "metadata": {},
   "source": [
    "# Normal 02b - Mercury in fish - Stan"
   ]
  },
  {
   "cell_type": "markdown",
   "metadata": {},
   "source": [
    "_Adapted from Josep Fortiana (2023-03-13) by Jordi Abante (2024-03-14)_"
   ]
  },
  {
   "cell_type": "markdown",
   "metadata": {},
   "source": [
    "## Data description\n",
    "\n",
    "Mercury concentrations in parts per million (ppm) measured on tissue samples from  21 common carp specimens caught at a particular site.\n",
    "\n",
    "Data by courtesy of Kate Cowles, used in her book, _Applied Bayesian Statistics_ (2013), Chapters 6-8.\n",
    "\n",
    "After log-transforming the data, the observed quantities are:"
   ]
  },
  {
   "cell_type": "code",
   "execution_count": 1,
   "metadata": {
    "vscode": {
     "languageId": "r"
    }
   },
   "outputs": [],
   "source": [
    "# Logs of concentration of mercury in fish tissue\n",
    "x<-c(-2.526, -1.715, -1.427, -2.12, -2.659, -2.408, -3.219, -1.966,-2.526, -1.833,\n",
    "    -2.813, -1.772, -2.813, -2.526, -3.219, -2.526,-2.813, -2.526, -3.507, -2.996, -3.912)"
   ]
  },
  {
   "cell_type": "code",
   "execution_count": 2,
   "metadata": {
    "vscode": {
     "languageId": "r"
    }
   },
   "outputs": [
    {
     "data": {
      "text/plain": [
       "   Min. 1st Qu.  Median    Mean 3rd Qu.    Max. \n",
       " -3.912  -2.813  -2.526  -2.563  -2.120  -1.427 "
      ]
     },
     "metadata": {},
     "output_type": "display_data"
    },
    {
     "data": {
      "text/html": [
       "21"
      ],
      "text/latex": [
       "21"
      ],
      "text/markdown": [
       "21"
      ],
      "text/plain": [
       "[1] 21"
      ]
     },
     "metadata": {},
     "output_type": "display_data"
    }
   ],
   "source": [
    "summary(x)\n",
    "n<-length(x)\n",
    "n"
   ]
  },
  {
   "cell_type": "code",
   "execution_count": 3,
   "metadata": {
    "vscode": {
     "languageId": "r"
    }
   },
   "outputs": [
    {
     "data": {
      "text/html": [
       "<style>\n",
       ".list-inline {list-style: none; margin:0; padding: 0}\n",
       ".list-inline>li {display: inline-block}\n",
       ".list-inline>li:not(:last-child)::after {content: \"\\00b7\"; padding: 0 .5ex}\n",
       "</style>\n",
       "<ol class=list-inline><li>-2.563</li><li>0.3854</li><li>0.367</li></ol>\n"
      ],
      "text/latex": [
       "\\begin{enumerate*}\n",
       "\\item -2.563\n",
       "\\item 0.3854\n",
       "\\item 0.367\n",
       "\\end{enumerate*}\n"
      ],
      "text/markdown": [
       "1. -2.563\n",
       "2. 0.3854\n",
       "3. 0.367\n",
       "\n",
       "\n"
      ],
      "text/plain": [
       "[1] -2.5630  0.3854  0.3670"
      ]
     },
     "metadata": {},
     "output_type": "display_data"
    }
   ],
   "source": [
    "# Empirical mean and variance (the variance both with and without the correction factor)\n",
    "xm<-mean(x)\n",
    "s2tilde<-var(x)\n",
    "s2<-sum((x-xm)^2)/n\n",
    "round(c(xm,s2tilde,s2),4)"
   ]
  },
  {
   "cell_type": "markdown",
   "metadata": {},
   "source": [
    "$$\n",
    "\t\\overline{x}=-2.5630,\\quad \\widetilde{s}{}^2=0.3854,\\quad s^{2}=0.3670.\n",
    "$$"
   ]
  },
  {
   "cell_type": "markdown",
   "metadata": {},
   "source": [
    "## Statistics on the precision $\\psi=1/\\sigma^{2}$, when the mean is known\n",
    "\n",
    "Assume, for the sake of the exercise, that the mean is known to be $\\mu=-2.5$. \n",
    "\n",
    "Then, the variance must be computed with:\n",
    "\n",
    "$$\n",
    "\ts^{2}(\\mu)=\\frac{1}{n}\\textstyle\\sum_{i=1}^{n}(x_{i}-\\mu)^{2}.\n",
    "$$"
   ]
  },
  {
   "cell_type": "code",
   "execution_count": 4,
   "metadata": {
    "vscode": {
     "languageId": "r"
    }
   },
   "outputs": [
    {
     "data": {
      "text/html": [
       "0.371"
      ],
      "text/latex": [
       "0.371"
      ],
      "text/markdown": [
       "0.371"
      ],
      "text/plain": [
       "[1] 0.371"
      ]
     },
     "metadata": {},
     "output_type": "display_data"
    }
   ],
   "source": [
    "mu<--2.5\n",
    "x0<-x-mu\n",
    "s20<-sum(x0^2)/n\n",
    "round(s20,4)\n",
    "#[1] 0.371"
   ]
  },
  {
   "cell_type": "markdown",
   "metadata": {},
   "source": [
    "## Conjugate prior\n",
    "\n",
    "Our prior pdf for the precision is $\\psi\\sim\\textrm{Gamma}(\\alpha,\\beta)$, where $\\alpha$ and $\\beta$ will be determined, if possible, from any prior information available."
   ]
  },
  {
   "cell_type": "markdown",
   "metadata": {},
   "source": [
    "## Computing prior $\\alpha$ and $\\beta$ from quantiles\n",
    "\n",
    "Assume that an expert on mercury contamination told us:\n",
    "\n",
    ">With $95\\%$ certainty the (true) variance is between $q_{0.025}=0.25$ and $q_{0.975}=0.75$ (we assume the remaining 0.05 is symmetrically distributed both sides). \n",
    "\n",
    "That is,\n",
    "\n",
    "$$\n",
    "    0.95=P(q_{0.025}<\\sigma^{2}<q_{0.975})=P(\\frac{1}{q_{0.975}}<\\psi<\\frac{1}{q_{0.025}}).\n",
    "$$\n",
    "\n",
    "We recall that a $\\textrm{Gamma}(\\alpha,\\beta)$ is a **scaled $\\chi^{2}(k)$.**\n",
    "\n",
    "Precisely, if $\\psi\\sim\\textrm{Gamma}(\\alpha,\\beta)$ then $Z\\equiv 2\\,\\beta\\,\\psi\\sim\\chi^{2}(k)$, where $k\\equiv 2\\,\\alpha$.\n",
    "\n",
    "Multiplying the above inequalities by $2\\,\\beta$,\n",
    "\n",
    "$$\n",
    "    0.95=P\\big(a\\equiv 2\\,\\beta\\cdot \\frac{1}{q_{0.975}}<Z< b\\equiv2\\,\\beta\\cdot\\frac{1}{q_{0.025}}\\big).\n",
    "$$\n",
    "\n",
    "Since, for a given $k=2\\,\\alpha$, `a=qchisq(0.025,2*alpha)`  and `b=qchisq(0.975,2*alpha)`, and\n",
    "\n",
    "$$\n",
    "    \\beta=\\dfrac{a\\cdot q_{0.975}}{2}=\\dfrac{b\\cdot q_{0.025}}{2},\n",
    "$$\n",
    "\n",
    "we can use this equality as an equation to determine $\\alpha$. We want $\\alpha$ such that both expressions coincide."
   ]
  },
  {
   "cell_type": "code",
   "execution_count": 5,
   "metadata": {
    "vscode": {
     "languageId": "r"
    }
   },
   "outputs": [
    {
     "data": {
      "text/html": [
       "13.2148"
      ],
      "text/latex": [
       "13.2148"
      ],
      "text/markdown": [
       "13.2148"
      ],
      "text/plain": [
       "[1] 13.2148"
      ]
     },
     "metadata": {},
     "output_type": "display_data"
    },
    {
     "data": {
      "text/html": [
       "5.3087"
      ],
      "text/latex": [
       "5.3087"
      ],
      "text/markdown": [
       "5.3087"
      ],
      "text/plain": [
       "[1] 5.3087"
      ]
     },
     "metadata": {},
     "output_type": "display_data"
    }
   ],
   "source": [
    "q025<-0.25\n",
    "q975<-0.75\n",
    "# diff.two.betas will be equal to zero when both expressions giving beta coincide:\n",
    "diff.two.betas<-function(a,q025=0.25,q975=0.75){\n",
    "    return(qchisq(0.025,2*a)*q975-qchisq(0.975,2*a)*q025)\n",
    "    }\n",
    "A<-uniroot(diff.two.betas,c(1,20))\n",
    "prior.a<-A$root\n",
    "#\n",
    "prior.b<-qchisq(0.025,2*prior.a)*q975/2\n",
    "round(prior.a,4)\n",
    "round(prior.b,4)"
   ]
  },
  {
   "cell_type": "markdown",
   "metadata": {},
   "source": [
    "# Treatment with Stan and `rstan`"
   ]
  },
  {
   "cell_type": "code",
   "execution_count": 6,
   "metadata": {
    "vscode": {
     "languageId": "r"
    }
   },
   "outputs": [
    {
     "name": "stderr",
     "output_type": "stream",
     "text": [
      "\n",
      "rstan version 2.26.13 (Stan version 2.26.1)\n",
      "\n",
      "\n",
      "For execution on a local, multicore CPU with excess RAM we recommend calling\n",
      "options(mc.cores = parallel::detectCores()).\n",
      "To avoid recompilation of unchanged Stan programs, we recommend calling\n",
      "rstan_options(auto_write = TRUE)\n",
      "For within-chain threading using `reduce_sum()` or `map_rect()` Stan functions,\n",
      "change `threads_per_chain` option:\n",
      "rstan_options(threads_per_chain = 1)\n",
      "\n",
      "\n",
      "Do not specify '-march=native' in 'LOCAL_CPPFLAGS' or a Makevars file\n",
      "\n"
     ]
    }
   ],
   "source": [
    "#install.packages(\"rstan\", dependencies=TRUE,repos= \"https://cloud.r-project.org\")\n",
    "require(rstan,quietly=TRUE)\n",
    "# Following directions:\n",
    "# For execution on a local, multicore CPU with excess RAM we recommend calling\n",
    "# options(mc.cores = parallel::detectCores()).\n",
    "# To avoid recompilation of unchanged Stan programs, we recommend calling\n",
    "# rstan_options(auto_write = TRUE)\n",
    "options(mc.cores = parallel::detectCores())\n",
    "rstan_options(auto_write = TRUE)\n",
    "Sys.setenv(LOCAL_CPPFLAGS = '-march=corei7 -mtune=corei7')"
   ]
  },
  {
   "cell_type": "markdown",
   "metadata": {},
   "source": [
    "## 01. Simulate from the prior pdf"
   ]
  },
  {
   "cell_type": "markdown",
   "metadata": {},
   "source": [
    "The `model` block does not contain a likelihood."
   ]
  },
  {
   "cell_type": "code",
   "execution_count": 7,
   "metadata": {
    "vscode": {
     "languageId": "r"
    }
   },
   "outputs": [],
   "source": [
    "modelString.prior = \"data {\n",
    "    real<lower=0> a;     \n",
    "    real<lower=0> b;      \n",
    "    }\n",
    "parameters {\n",
    "    real<lower=0> psi;\n",
    "    }\n",
    "transformed parameters {\n",
    "    real<lower=0> sigma = inv_sqrt(psi);\n",
    "    }\n",
    "model {\n",
    "    // prior\n",
    "    psi ~ gamma(a, b); \n",
    "    }\n",
    "\""
   ]
  },
  {
   "cell_type": "code",
   "execution_count": 8,
   "metadata": {
    "vscode": {
     "languageId": "r"
    }
   },
   "outputs": [],
   "source": [
    "# Translate model to C++ and compile to DSO:\n",
    "stanDso.prior <- stan_model(model_code=modelString.prior) "
   ]
  },
  {
   "cell_type": "code",
   "execution_count": 9,
   "metadata": {
    "vscode": {
     "languageId": "r"
    }
   },
   "outputs": [],
   "source": [
    "# Specify data:\n",
    "prior.a<-13.2148\n",
    "prior.b<-5.3087\n",
    "dataList.prior = list(a=prior.a,b=prior.b)"
   ]
  },
  {
   "cell_type": "code",
   "execution_count": 10,
   "metadata": {
    "vscode": {
     "languageId": "r"
    }
   },
   "outputs": [],
   "source": [
    "# Generate posterior sample:\n",
    "stanFit.prior<-sampling(object=stanDso.prior,data=dataList.prior,chains=3,iter=15000,warmup=1500,thin=5)"
   ]
  },
  {
   "cell_type": "code",
   "execution_count": 11,
   "metadata": {
    "vscode": {
     "languageId": "r"
    }
   },
   "outputs": [
    {
     "data": {
      "text/html": [
       "<table class=\"dataframe\">\n",
       "<caption>A matrix: 3 × 10 of type dbl</caption>\n",
       "<thead>\n",
       "\t<tr><th></th><th scope=col>mean</th><th scope=col>se_mean</th><th scope=col>sd</th><th scope=col>2.5%</th><th scope=col>25%</th><th scope=col>50%</th><th scope=col>75%</th><th scope=col>97.5%</th><th scope=col>n_eff</th><th scope=col>Rhat</th></tr>\n",
       "</thead>\n",
       "<tbody>\n",
       "\t<tr><th scope=row>psi</th><td> 2.5107</td><td>0.0078</td><td>0.6866</td><td> 1.3405</td><td> 2.0161</td><td> 2.4597</td><td> 2.9384</td><td> 4.0205</td><td>7722.358</td><td>0.9999</td></tr>\n",
       "\t<tr><th scope=row>sigma</th><td> 0.6497</td><td>0.0011</td><td>0.0935</td><td> 0.4987</td><td> 0.5834</td><td> 0.6376</td><td> 0.7043</td><td> 0.8637</td><td>7825.934</td><td>0.9999</td></tr>\n",
       "\t<tr><th scope=row>lp__</th><td>-1.6671</td><td>0.0081</td><td>0.7139</td><td>-3.6814</td><td>-1.8276</td><td>-1.3942</td><td>-1.2157</td><td>-1.1635</td><td>7758.632</td><td>0.9997</td></tr>\n",
       "</tbody>\n",
       "</table>\n"
      ],
      "text/latex": [
       "A matrix: 3 × 10 of type dbl\n",
       "\\begin{tabular}{r|llllllllll}\n",
       "  & mean & se\\_mean & sd & 2.5\\% & 25\\% & 50\\% & 75\\% & 97.5\\% & n\\_eff & Rhat\\\\\n",
       "\\hline\n",
       "\tpsi &  2.5107 & 0.0078 & 0.6866 &  1.3405 &  2.0161 &  2.4597 &  2.9384 &  4.0205 & 7722.358 & 0.9999\\\\\n",
       "\tsigma &  0.6497 & 0.0011 & 0.0935 &  0.4987 &  0.5834 &  0.6376 &  0.7043 &  0.8637 & 7825.934 & 0.9999\\\\\n",
       "\tlp\\_\\_ & -1.6671 & 0.0081 & 0.7139 & -3.6814 & -1.8276 & -1.3942 & -1.2157 & -1.1635 & 7758.632 & 0.9997\\\\\n",
       "\\end{tabular}\n"
      ],
      "text/markdown": [
       "\n",
       "A matrix: 3 × 10 of type dbl\n",
       "\n",
       "| <!--/--> | mean | se_mean | sd | 2.5% | 25% | 50% | 75% | 97.5% | n_eff | Rhat |\n",
       "|---|---|---|---|---|---|---|---|---|---|---|\n",
       "| psi |  2.5107 | 0.0078 | 0.6866 |  1.3405 |  2.0161 |  2.4597 |  2.9384 |  4.0205 | 7722.358 | 0.9999 |\n",
       "| sigma |  0.6497 | 0.0011 | 0.0935 |  0.4987 |  0.5834 |  0.6376 |  0.7043 |  0.8637 | 7825.934 | 0.9999 |\n",
       "| lp__ | -1.6671 | 0.0081 | 0.7139 | -3.6814 | -1.8276 | -1.3942 | -1.2157 | -1.1635 | 7758.632 | 0.9997 |\n",
       "\n"
      ],
      "text/plain": [
       "      mean    se_mean sd     2.5%    25%     50%     75%     97.5%   n_eff   \n",
       "psi    2.5107 0.0078  0.6866  1.3405  2.0161  2.4597  2.9384  4.0205 7722.358\n",
       "sigma  0.6497 0.0011  0.0935  0.4987  0.5834  0.6376  0.7043  0.8637 7825.934\n",
       "lp__  -1.6671 0.0081  0.7139 -3.6814 -1.8276 -1.3942 -1.2157 -1.1635 7758.632\n",
       "      Rhat  \n",
       "psi   0.9999\n",
       "sigma 0.9999\n",
       "lp__  0.9997"
      ]
     },
     "metadata": {},
     "output_type": "display_data"
    }
   ],
   "source": [
    "S.prior<-summary(stanFit.prior)\n",
    "round(S.prior$summary,4)"
   ]
  },
  {
   "cell_type": "markdown",
   "metadata": {},
   "source": [
    "### Theoretical prior expectation, variance, sd"
   ]
  },
  {
   "cell_type": "code",
   "execution_count": 12,
   "metadata": {
    "vscode": {
     "languageId": "r"
    }
   },
   "outputs": [
    {
     "data": {
      "text/html": [
       "2.4893"
      ],
      "text/latex": [
       "2.4893"
      ],
      "text/markdown": [
       "2.4893"
      ],
      "text/plain": [
       "[1] 2.4893"
      ]
     },
     "metadata": {},
     "output_type": "display_data"
    },
    {
     "data": {
      "text/html": [
       "0.4689"
      ],
      "text/latex": [
       "0.4689"
      ],
      "text/markdown": [
       "0.4689"
      ],
      "text/plain": [
       "[1] 0.4689"
      ]
     },
     "metadata": {},
     "output_type": "display_data"
    },
    {
     "data": {
      "text/html": [
       "0.6848"
      ],
      "text/latex": [
       "0.6848"
      ],
      "text/markdown": [
       "0.6848"
      ],
      "text/plain": [
       "[1] 0.6848"
      ]
     },
     "metadata": {},
     "output_type": "display_data"
    }
   ],
   "source": [
    "Theor.prior.Expectation<-prior.a/prior.b\n",
    "Theor.prior.variance<-prior.a/prior.b^2\n",
    "Theor.prior.sd<-sqrt(Theor.prior.variance)\n",
    "round(Theor.prior.Expectation,4)\n",
    "round(Theor.prior.variance,4)\n",
    "round(Theor.prior.sd,4)"
   ]
  },
  {
   "cell_type": "code",
   "execution_count": 13,
   "metadata": {
    "vscode": {
     "languageId": "r"
    }
   },
   "outputs": [],
   "source": [
    "# extract prior sample, discard unnecessary attributes to keep just the numbers\n",
    "psi.prior <- extract(stanFit.prior, 'psi')\n",
    "sigma.prior <- extract(stanFit.prior, 'sigma')"
   ]
  },
  {
   "cell_type": "code",
   "execution_count": 14,
   "metadata": {
    "vscode": {
     "languageId": "r"
    }
   },
   "outputs": [
    {
     "name": "stdout",
     "output_type": "stream",
     "text": [
      "List of 1\n",
      " $ psi: num [1:8100(1d)] 2.67 2.21 2.23 2.16 2.06 ...\n",
      "  ..- attr(*, \"dimnames\")=List of 1\n",
      "  .. ..$ iterations: NULL\n",
      " num [1:8100] 2.67 2.21 2.23 2.16 2.06 ...\n"
     ]
    }
   ],
   "source": [
    "str(psi.prior)\n",
    "psi.prior <- unlist(psi.prior, use.names=FALSE)\n",
    "str(psi.prior)"
   ]
  },
  {
   "cell_type": "code",
   "execution_count": 15,
   "metadata": {
    "vscode": {
     "languageId": "r"
    }
   },
   "outputs": [
    {
     "name": "stdout",
     "output_type": "stream",
     "text": [
      "List of 1\n",
      " $ sigma: num [1:8100(1d)] 0.612 0.672 0.67 0.68 0.697 ...\n",
      "  ..- attr(*, \"dimnames\")=List of 1\n",
      "  .. ..$ iterations: NULL\n",
      " num [1:8100] 0.612 0.672 0.67 0.68 0.697 ...\n"
     ]
    }
   ],
   "source": [
    "str(sigma.prior)\n",
    "sigma.prior <- unlist(sigma.prior, use.names=FALSE)\n",
    "str(sigma.prior)"
   ]
  },
  {
   "cell_type": "code",
   "execution_count": 16,
   "metadata": {
    "vscode": {
     "languageId": "r"
    }
   },
   "outputs": [
    {
     "data": {
      "image/png": "[encoded data removed]",
      "text/plain": [
       "Plot with title \"paste(\"Histogram of \", psi[prior])\""
      ]
     },
     "metadata": {
      "image/png": {
       "height": 420,
       "width": 420
      }
     },
     "output_type": "display_data"
    }
   ],
   "source": [
    "# Plot histogram, compare with the theoretical Gamma pdf \n",
    "options(repr.plot.width=7,repr.plot.height=7)\n",
    "hist(psi.prior,freq=FALSE,col=\"LightGreen\",\n",
    "     xlab=expression(psi[prior]),\n",
    "     main=expression(paste(\"Histogram of \",psi[prior])),\n",
    "     ylim=c(0,0.65),breaks=50,cex.lab=1.5,cex.main=1.8)\n",
    "v<-seq(0,max(psi.prior),length=1000)\n",
    "lines(v,dgamma(v,shape=prior.a,rate=prior.b),lwd=3,col=\"DarkGreen\")"
   ]
  },
  {
   "cell_type": "code",
   "execution_count": 17,
   "metadata": {
    "vscode": {
     "languageId": "r"
    }
   },
   "outputs": [
    {
     "data": {
      "image/png": "[encoded data removed]",
      "text/plain": [
       "Plot with title \"paste(\"Histogram of \", sigma[prior]^2)\""
      ]
     },
     "metadata": {
      "image/png": {
       "height": 420,
       "width": 420
      }
     },
     "output_type": "display_data"
    }
   ],
   "source": [
    "# Plot histogram, compare with the theoretical IG pdf \n",
    "require(extraDistr,quietly=TRUE)\n",
    "options(repr.plot.width=7,repr.plot.height=7)\n",
    "hist(sigma.prior^2,freq=FALSE,col=\"LightGreen\",\n",
    "     xlab=expression(sigma[prior]^2),\n",
    "     main=expression(paste(\"Histogram of \",sigma[prior]^2)),\n",
    "     ylim=c(0,4.5),breaks=47,cex.lab=1.5,cex.main=1.8)\n",
    "v<-seq(0,max(sigma.prior^2),length=1000)\n",
    "lines(v,dinvgamma(v,alpha=prior.a,beta=prior.b),lwd=3,col=\"DarkGreen\")"
   ]
  },
  {
   "cell_type": "markdown",
   "metadata": {},
   "source": [
    "## 02. Simulate from the prior predictive pdf"
   ]
  },
  {
   "cell_type": "markdown",
   "metadata": {},
   "source": [
    "The `model` block still does not contain a likelihood but now there is a `generated quantities` block."
   ]
  },
  {
   "cell_type": "code",
   "execution_count": 18,
   "metadata": {
    "vscode": {
     "languageId": "r"
    }
   },
   "outputs": [],
   "source": [
    "modelString.prior.pred = \"data {\n",
    "    real<lower=0> a;     \n",
    "    real<lower=0> b;\n",
    "    real mu;\n",
    "    }\n",
    "parameters {\n",
    "    real<lower=0> psi;\n",
    "    }\n",
    "transformed parameters {\n",
    "     real<lower=0> sigma = inv_sqrt(psi);\n",
    "    }\n",
    "model {\n",
    "    // prior\n",
    "    psi ~ gamma(a, b); \n",
    "    }\n",
    "generated quantities {\n",
    "    real x_pred;\n",
    "\n",
    "// prediction\n",
    "    x_pred = normal_rng(mu, sigma);  // Stan uses same normal parameterization as R\n",
    "    }\n",
    "\""
   ]
  },
  {
   "cell_type": "code",
   "execution_count": 19,
   "metadata": {
    "vscode": {
     "languageId": "r"
    }
   },
   "outputs": [],
   "source": [
    "# Translate model to C++ and compile to DSO:\n",
    "stanDso.prior.pred <- stan_model(model_code=modelString.prior.pred) "
   ]
  },
  {
   "cell_type": "code",
   "execution_count": 20,
   "metadata": {
    "vscode": {
     "languageId": "r"
    }
   },
   "outputs": [],
   "source": [
    "# Specify data:\n",
    "mu<--2.5\n",
    "dataList.prior.pred = list(a=prior.a,b=prior.b,mu=mu)"
   ]
  },
  {
   "cell_type": "code",
   "execution_count": 21,
   "metadata": {
    "vscode": {
     "languageId": "r"
    }
   },
   "outputs": [],
   "source": [
    "# Generate posterior sample:\n",
    "stanFit.prior.pred<-sampling(object=stanDso.prior.pred,data=dataList.prior.pred,\n",
    "                             chains=3,iter=10000,warmup=1500,thin=5)"
   ]
  },
  {
   "cell_type": "code",
   "execution_count": 22,
   "metadata": {
    "vscode": {
     "languageId": "r"
    }
   },
   "outputs": [
    {
     "data": {
      "text/html": [
       "<table class=\"dataframe\">\n",
       "<caption>A matrix: 4 × 10 of type dbl</caption>\n",
       "<thead>\n",
       "\t<tr><th></th><th scope=col>mean</th><th scope=col>se_mean</th><th scope=col>sd</th><th scope=col>2.5%</th><th scope=col>25%</th><th scope=col>50%</th><th scope=col>75%</th><th scope=col>97.5%</th><th scope=col>n_eff</th><th scope=col>Rhat</th></tr>\n",
       "</thead>\n",
       "<tbody>\n",
       "\t<tr><th scope=row>psi</th><td> 2.4984</td><td>0.0100</td><td>0.6884</td><td> 1.3361</td><td> 2.0021</td><td> 2.4415</td><td> 2.9289</td><td> 3.9840</td><td>4733.270</td><td>0.9997</td></tr>\n",
       "\t<tr><th scope=row>sigma</th><td> 0.6515</td><td>0.0014</td><td>0.0942</td><td> 0.5010</td><td> 0.5843</td><td> 0.6400</td><td> 0.7067</td><td> 0.8651</td><td>4622.500</td><td>0.9996</td></tr>\n",
       "\t<tr><th scope=row>x_pred</th><td>-2.5024</td><td>0.0097</td><td>0.6576</td><td>-3.7914</td><td>-2.9286</td><td>-2.5070</td><td>-2.0879</td><td>-1.2113</td><td>4572.617</td><td>1.0002</td></tr>\n",
       "\t<tr><th scope=row>lp__</th><td>-1.6729</td><td>0.0104</td><td>0.7206</td><td>-3.6909</td><td>-1.8460</td><td>-1.4001</td><td>-1.2125</td><td>-1.1636</td><td>4833.046</td><td>0.9999</td></tr>\n",
       "</tbody>\n",
       "</table>\n"
      ],
      "text/latex": [
       "A matrix: 4 × 10 of type dbl\n",
       "\\begin{tabular}{r|llllllllll}\n",
       "  & mean & se\\_mean & sd & 2.5\\% & 25\\% & 50\\% & 75\\% & 97.5\\% & n\\_eff & Rhat\\\\\n",
       "\\hline\n",
       "\tpsi &  2.4984 & 0.0100 & 0.6884 &  1.3361 &  2.0021 &  2.4415 &  2.9289 &  3.9840 & 4733.270 & 0.9997\\\\\n",
       "\tsigma &  0.6515 & 0.0014 & 0.0942 &  0.5010 &  0.5843 &  0.6400 &  0.7067 &  0.8651 & 4622.500 & 0.9996\\\\\n",
       "\tx\\_pred & -2.5024 & 0.0097 & 0.6576 & -3.7914 & -2.9286 & -2.5070 & -2.0879 & -1.2113 & 4572.617 & 1.0002\\\\\n",
       "\tlp\\_\\_ & -1.6729 & 0.0104 & 0.7206 & -3.6909 & -1.8460 & -1.4001 & -1.2125 & -1.1636 & 4833.046 & 0.9999\\\\\n",
       "\\end{tabular}\n"
      ],
      "text/markdown": [
       "\n",
       "A matrix: 4 × 10 of type dbl\n",
       "\n",
       "| <!--/--> | mean | se_mean | sd | 2.5% | 25% | 50% | 75% | 97.5% | n_eff | Rhat |\n",
       "|---|---|---|---|---|---|---|---|---|---|---|\n",
       "| psi |  2.4984 | 0.0100 | 0.6884 |  1.3361 |  2.0021 |  2.4415 |  2.9289 |  3.9840 | 4733.270 | 0.9997 |\n",
       "| sigma |  0.6515 | 0.0014 | 0.0942 |  0.5010 |  0.5843 |  0.6400 |  0.7067 |  0.8651 | 4622.500 | 0.9996 |\n",
       "| x_pred | -2.5024 | 0.0097 | 0.6576 | -3.7914 | -2.9286 | -2.5070 | -2.0879 | -1.2113 | 4572.617 | 1.0002 |\n",
       "| lp__ | -1.6729 | 0.0104 | 0.7206 | -3.6909 | -1.8460 | -1.4001 | -1.2125 | -1.1636 | 4833.046 | 0.9999 |\n",
       "\n"
      ],
      "text/plain": [
       "       mean    se_mean sd     2.5%    25%     50%     75%     97.5%   n_eff   \n",
       "psi     2.4984 0.0100  0.6884  1.3361  2.0021  2.4415  2.9289  3.9840 4733.270\n",
       "sigma   0.6515 0.0014  0.0942  0.5010  0.5843  0.6400  0.7067  0.8651 4622.500\n",
       "x_pred -2.5024 0.0097  0.6576 -3.7914 -2.9286 -2.5070 -2.0879 -1.2113 4572.617\n",
       "lp__   -1.6729 0.0104  0.7206 -3.6909 -1.8460 -1.4001 -1.2125 -1.1636 4833.046\n",
       "       Rhat  \n",
       "psi    0.9997\n",
       "sigma  0.9996\n",
       "x_pred 1.0002\n",
       "lp__   0.9999"
      ]
     },
     "metadata": {},
     "output_type": "display_data"
    }
   ],
   "source": [
    "S.prior.pred<-summary(stanFit.prior.pred)\n",
    "round(S.prior.pred$summary,4)"
   ]
  },
  {
   "cell_type": "code",
   "execution_count": 23,
   "metadata": {
    "vscode": {
     "languageId": "r"
    }
   },
   "outputs": [
    {
     "name": "stdout",
     "output_type": "stream",
     "text": [
      " num [1:5100] -2.59 -2.07 -1.96 -1.83 -2.95 ...\n"
     ]
    }
   ],
   "source": [
    "# extract prior sample, discard unnecessary attributes to keep just the numbers\n",
    "x_prior.pred <- extract(stanFit.prior.pred, 'x_pred')\n",
    "x_prior.pred <- unlist(x_prior.pred, use.names=FALSE)\n",
    "str(x_prior.pred)"
   ]
  },
  {
   "cell_type": "code",
   "execution_count": 24,
   "metadata": {
    "vscode": {
     "languageId": "r"
    }
   },
   "outputs": [
    {
     "name": "stdout",
     "output_type": "stream",
     "text": [
      " num [1:5100] -0.0926 0.4323 0.5384 0.6723 -0.4531 ...\n"
     ]
    }
   ],
   "source": [
    "# center the sample (to compare with the theoretical pdf)\n",
    "x_prior.pred.0<-x_prior.pred-mu\n",
    "str(x_prior.pred.0)"
   ]
  },
  {
   "cell_type": "code",
   "execution_count": 25,
   "metadata": {
    "vscode": {
     "languageId": "r"
    }
   },
   "outputs": [
    {
     "data": {
      "text/html": [
       "-0.002"
      ],
      "text/latex": [
       "-0.002"
      ],
      "text/markdown": [
       "-0.002"
      ],
      "text/plain": [
       "[1] -0.002"
      ]
     },
     "metadata": {},
     "output_type": "display_data"
    },
    {
     "data": {
      "text/html": [
       "0.432"
      ],
      "text/latex": [
       "0.432"
      ],
      "text/markdown": [
       "0.432"
      ],
      "text/plain": [
       "[1] 0.432"
      ]
     },
     "metadata": {},
     "output_type": "display_data"
    },
    {
     "data": {
      "text/html": [
       "0.658"
      ],
      "text/latex": [
       "0.658"
      ],
      "text/markdown": [
       "0.658"
      ],
      "text/plain": [
       "[1] 0.658"
      ]
     },
     "metadata": {},
     "output_type": "display_data"
    }
   ],
   "source": [
    "round(mean(x_prior.pred.0),3)\n",
    "round(var(x_prior.pred.0),3)\n",
    "round(sd(x_prior.pred.0),3)"
   ]
  },
  {
   "cell_type": "code",
   "execution_count": 26,
   "metadata": {
    "vscode": {
     "languageId": "r"
    }
   },
   "outputs": [
    {
     "data": {
      "text/html": [
       "26.4296"
      ],
      "text/latex": [
       "26.4296"
      ],
      "text/markdown": [
       "26.4296"
      ],
      "text/plain": [
       "[1] 26.4296"
      ]
     },
     "metadata": {},
     "output_type": "display_data"
    },
    {
     "data": {
      "text/html": [
       "1.5777"
      ],
      "text/latex": [
       "1.5777"
      ],
      "text/markdown": [
       "1.5777"
      ],
      "text/plain": [
       "[1] 1.5777"
      ]
     },
     "metadata": {},
     "output_type": "display_data"
    }
   ],
   "source": [
    "n.0<-1\n",
    "k.0<-2*prior.a+n.0-1\n",
    "round(k.0,4)\n",
    "c0<-sqrt(k.0*n.0/(2*prior.b))\n",
    "round(c0,4)\n",
    "Stan.sim.t<-c0*x_prior.pred.0"
   ]
  },
  {
   "cell_type": "code",
   "execution_count": 27,
   "metadata": {
    "vscode": {
     "languageId": "r"
    }
   },
   "outputs": [
    {
     "data": {
      "image/png": "[encoded data removed]",
      "text/plain": [
       "Plot with title \"Histogram of Stan.sim.t\""
      ]
     },
     "metadata": {
      "image/png": {
       "height": 420,
       "width": 420
      }
     },
     "output_type": "display_data"
    }
   ],
   "source": [
    "# Plot histogram, \n",
    "options(repr.plot.width=7,repr.plot.height=7)\n",
    "tmax<-0.7*max(max(Stan.sim.t),-min(Stan.sim.t))\n",
    "hist(Stan.sim.t,freq=FALSE,col=\"LightGreen\",xlim=c(-tmax,tmax),ylim=c(0,0.45),breaks=40)\n",
    "u<-seq(-tmax,tmax,length=1000)\n",
    "yu<-dt(u,df=k.0)\n",
    "lines(u,yu,lwd=2.5,col=\"DarkGreen\")"
   ]
  },
  {
   "cell_type": "markdown",
   "metadata": {},
   "source": [
    "## 03. Simulate from the posterior pdf"
   ]
  },
  {
   "cell_type": "markdown",
   "metadata": {},
   "source": [
    "The `model` block now has a likelihood but there is no `generated quantities` block."
   ]
  },
  {
   "cell_type": "code",
   "execution_count": 28,
   "metadata": {
    "vscode": {
     "languageId": "r"
    }
   },
   "outputs": [],
   "source": [
    "modelString.post = \"data {\n",
    "    real<lower=0> a;     \n",
    "    real<lower=0> b;\n",
    "    int<lower=1> n;\n",
    "    real x[n];\n",
    "    real mu;\n",
    "    }\n",
    "parameters {\n",
    "    real<lower=0> psi;\n",
    "    }\n",
    "transformed parameters {\n",
    "    real<lower=0> sigma = inv_sqrt(psi);\n",
    "    }\n",
    "model {\n",
    "    // prior\n",
    "    psi ~ gamma(a, b); \n",
    "    //likelihood\n",
    "    x ~ normal(mu, sigma);   // vectorized likelihood statement\n",
    "    }\n",
    "\""
   ]
  },
  {
   "cell_type": "code",
   "execution_count": 29,
   "metadata": {
    "vscode": {
     "languageId": "r"
    }
   },
   "outputs": [],
   "source": [
    "# Translate model to C++ and compile to DSO:\n",
    "stanDso.post <- stan_model(model_code=modelString.post) "
   ]
  },
  {
   "cell_type": "code",
   "execution_count": 30,
   "metadata": {
    "vscode": {
     "languageId": "r"
    }
   },
   "outputs": [
    {
     "data": {
      "text/html": [
       "21"
      ],
      "text/latex": [
       "21"
      ],
      "text/markdown": [
       "21"
      ],
      "text/plain": [
       "[1] 21"
      ]
     },
     "metadata": {},
     "output_type": "display_data"
    }
   ],
   "source": [
    "# Logs of concentration of mercury in fish tissue\n",
    "x<-c(-2.526, -1.715, -1.427, -2.12, -2.659, -2.408, -3.219, -1.966,-2.526, -1.833,\n",
    "    -2.813, -1.772, -2.813, -2.526, -3.219, -2.526,-2.813, -2.526, -3.507, -2.996, -3.912)\n",
    "n<-length(x)\n",
    "n"
   ]
  },
  {
   "cell_type": "code",
   "execution_count": 31,
   "metadata": {
    "vscode": {
     "languageId": "r"
    }
   },
   "outputs": [],
   "source": [
    "# Specify data:\n",
    "mu<--2.5\n",
    "dataList.post = list(a=prior.a,b=prior.b,mu=mu,x=x,n=n)"
   ]
  },
  {
   "cell_type": "code",
   "execution_count": 32,
   "metadata": {
    "vscode": {
     "languageId": "r"
    }
   },
   "outputs": [],
   "source": [
    "# Generate posterior sample:\n",
    "stanFit.post<-sampling(object=stanDso.post,data=dataList.post,chains=3,iter=10000,warmup=1500,thin=1)"
   ]
  },
  {
   "cell_type": "code",
   "execution_count": 33,
   "metadata": {
    "vscode": {
     "languageId": "r"
    }
   },
   "outputs": [
    {
     "data": {
      "text/html": [
       "<table class=\"dataframe\">\n",
       "<caption>A matrix: 3 × 10 of type dbl</caption>\n",
       "<thead>\n",
       "\t<tr><th></th><th scope=col>mean</th><th scope=col>se_mean</th><th scope=col>sd</th><th scope=col>2.5%</th><th scope=col>25%</th><th scope=col>50%</th><th scope=col>75%</th><th scope=col>97.5%</th><th scope=col>n_eff</th><th scope=col>Rhat</th></tr>\n",
       "</thead>\n",
       "<tbody>\n",
       "\t<tr><th scope=row>psi</th><td> 2.5791</td><td>0.0056</td><td>0.5268</td><td> 1.6609</td><td> 2.2054</td><td> 2.5391</td><td> 2.9122</td><td> 3.7156</td><td> 8894.507</td><td>1.0006</td></tr>\n",
       "\t<tr><th scope=row>sigma</th><td> 0.6326</td><td>0.0007</td><td>0.0659</td><td> 0.5188</td><td> 0.5860</td><td> 0.6276</td><td> 0.6734</td><td> 0.7759</td><td> 8547.952</td><td>1.0007</td></tr>\n",
       "\t<tr><th scope=row>lp__</th><td>-1.7664</td><td>0.0064</td><td>0.6982</td><td>-3.7968</td><td>-1.9298</td><td>-1.4972</td><td>-1.3211</td><td>-1.2704</td><td>11957.363</td><td>1.0002</td></tr>\n",
       "</tbody>\n",
       "</table>\n"
      ],
      "text/latex": [
       "A matrix: 3 × 10 of type dbl\n",
       "\\begin{tabular}{r|llllllllll}\n",
       "  & mean & se\\_mean & sd & 2.5\\% & 25\\% & 50\\% & 75\\% & 97.5\\% & n\\_eff & Rhat\\\\\n",
       "\\hline\n",
       "\tpsi &  2.5791 & 0.0056 & 0.5268 &  1.6609 &  2.2054 &  2.5391 &  2.9122 &  3.7156 &  8894.507 & 1.0006\\\\\n",
       "\tsigma &  0.6326 & 0.0007 & 0.0659 &  0.5188 &  0.5860 &  0.6276 &  0.6734 &  0.7759 &  8547.952 & 1.0007\\\\\n",
       "\tlp\\_\\_ & -1.7664 & 0.0064 & 0.6982 & -3.7968 & -1.9298 & -1.4972 & -1.3211 & -1.2704 & 11957.363 & 1.0002\\\\\n",
       "\\end{tabular}\n"
      ],
      "text/markdown": [
       "\n",
       "A matrix: 3 × 10 of type dbl\n",
       "\n",
       "| <!--/--> | mean | se_mean | sd | 2.5% | 25% | 50% | 75% | 97.5% | n_eff | Rhat |\n",
       "|---|---|---|---|---|---|---|---|---|---|---|\n",
       "| psi |  2.5791 | 0.0056 | 0.5268 |  1.6609 |  2.2054 |  2.5391 |  2.9122 |  3.7156 |  8894.507 | 1.0006 |\n",
       "| sigma |  0.6326 | 0.0007 | 0.0659 |  0.5188 |  0.5860 |  0.6276 |  0.6734 |  0.7759 |  8547.952 | 1.0007 |\n",
       "| lp__ | -1.7664 | 0.0064 | 0.6982 | -3.7968 | -1.9298 | -1.4972 | -1.3211 | -1.2704 | 11957.363 | 1.0002 |\n",
       "\n"
      ],
      "text/plain": [
       "      mean    se_mean sd     2.5%    25%     50%     75%     97.5%   n_eff    \n",
       "psi    2.5791 0.0056  0.5268  1.6609  2.2054  2.5391  2.9122  3.7156  8894.507\n",
       "sigma  0.6326 0.0007  0.0659  0.5188  0.5860  0.6276  0.6734  0.7759  8547.952\n",
       "lp__  -1.7664 0.0064  0.6982 -3.7968 -1.9298 -1.4972 -1.3211 -1.2704 11957.363\n",
       "      Rhat  \n",
       "psi   1.0006\n",
       "sigma 1.0007\n",
       "lp__  1.0002"
      ]
     },
     "metadata": {},
     "output_type": "display_data"
    }
   ],
   "source": [
    "S.post<-summary(stanFit.post)\n",
    "round(S.post$summary,4)"
   ]
  },
  {
   "cell_type": "code",
   "execution_count": 34,
   "metadata": {
    "tags": [],
    "vscode": {
     "languageId": "r"
    }
   },
   "outputs": [
    {
     "name": "stdout",
     "output_type": "stream",
     "text": [
      " num [1:25500] 2.96 2.95 2.88 3.04 2.76 ...\n"
     ]
    }
   ],
   "source": [
    "# extract posterior sample, discard unnecessary attributes to keep just the numbers\n",
    "psi.post <- extract(stanFit.post, 'psi')\n",
    "psi.post <- unlist(psi.post, use.names=FALSE)\n",
    "str(psi.post)"
   ]
  },
  {
   "cell_type": "code",
   "execution_count": 35,
   "metadata": {
    "tags": [],
    "vscode": {
     "languageId": "r"
    }
   },
   "outputs": [
    {
     "name": "stdout",
     "output_type": "stream",
     "text": [
      " num [1:25500] 0.581 0.582 0.59 0.574 0.602 ...\n"
     ]
    }
   ],
   "source": [
    "# extract posterior sample, discard unnecessary attributes to keep just the numbers\n",
    "sigma.post <- extract(stanFit.post, 'sigma')\n",
    "sigma.post <- unlist(sigma.post, use.names=FALSE)\n",
    "str(sigma.post)"
   ]
  },
  {
   "cell_type": "code",
   "execution_count": 36,
   "metadata": {
    "vscode": {
     "languageId": "r"
    }
   },
   "outputs": [
    {
     "data": {
      "text/html": [
       "23.7148"
      ],
      "text/latex": [
       "23.7148"
      ],
      "text/markdown": [
       "23.7148"
      ],
      "text/plain": [
       "[1] 23.7148"
      ]
     },
     "metadata": {},
     "output_type": "display_data"
    },
    {
     "data": {
      "text/html": [
       "9.2041"
      ],
      "text/latex": [
       "9.2041"
      ],
      "text/markdown": [
       "9.2041"
      ],
      "text/plain": [
       "[1] 9.2041"
      ]
     },
     "metadata": {},
     "output_type": "display_data"
    }
   ],
   "source": [
    "post.a<-prior.a+n/2\n",
    "post.b<-prior.b+n*s20/2\n",
    "round(post.a,4)\n",
    "round(post.b,4)"
   ]
  },
  {
   "cell_type": "code",
   "execution_count": 37,
   "metadata": {
    "tags": [],
    "vscode": {
     "languageId": "r"
    }
   },
   "outputs": [
    {
     "data": {
      "text/html": [
       "2.4689"
      ],
      "text/latex": [
       "2.4689"
      ],
      "text/markdown": [
       "2.4689"
      ],
      "text/plain": [
       "[1] 2.4689"
      ]
     },
     "metadata": {},
     "output_type": "display_data"
    },
    {
     "data": {
      "image/png": "[encoded data removed]",
      "text/plain": [
       "Plot with title \"paste(\"Posterior pdf of \", psi)\""
      ]
     },
     "metadata": {
      "image/png": {
       "height": 420,
       "width": 420
      }
     },
     "output_type": "display_data"
    }
   ],
   "source": [
    "options(repr.plot.width=7,repr.plot.height=7)\n",
    "hist(psi.post,freq=FALSE,col=\"LightGreen\",ylim=c(0,0.8),breaks=30,\n",
    "     xlab=expression(psi),\n",
    "     ylab=\"Density\",\n",
    "     main=expression(paste(\"Posterior pdf of \",psi)),\n",
    "     cex.lab=1.5,cex.main=1.8)\n",
    "# Theoretical posterior pdf\n",
    "pdf<-function(x){dgamma(x,shape=post.a,rate=post.b)}\n",
    "u<-seq(0,4,length=500)\n",
    "lines(u,pdf(u),lwd=3.5,col=\"DarkGreen\")\n",
    "# Theoretical MAP\n",
    "MAP.psi<-u[which.max(pdf(u))]\n",
    "round(MAP.psi,4)\n",
    "abline(v=MAP.psi,lwd=1.5,col=\"black\")"
   ]
  },
  {
   "cell_type": "code",
   "execution_count": 38,
   "metadata": {
    "tags": [],
    "vscode": {
     "languageId": "r"
    }
   },
   "outputs": [
    {
     "data": {
      "text/html": [
       "0.3725"
      ],
      "text/latex": [
       "0.3725"
      ],
      "text/markdown": [
       "0.3725"
      ],
      "text/plain": [
       "[1] 0.3725"
      ]
     },
     "metadata": {},
     "output_type": "display_data"
    },
    {
     "data": {
      "image/png": "[encoded data removed]",
      "text/plain": [
       "Plot with title \"paste(\"Posterior pdf of \", sigma^2)\""
      ]
     },
     "metadata": {
      "image/png": {
       "height": 420,
       "width": 420
      }
     },
     "output_type": "display_data"
    }
   ],
   "source": [
    "options(repr.plot.width=7,repr.plot.height=7)\n",
    "hist(sigma.post^2,freq=FALSE,col=\"LightGreen\",\n",
    "     ylim=c(0,5.2),breaks=40,\n",
    "     xlab=expression(sigma^2),\n",
    "     ylab=\"Density\",\n",
    "     main=expression(paste(\"Posterior pdf of \",sigma^2)),\n",
    "     cex.lab=1.5,cex.main=1.8)\n",
    "# Theoretical posterior pdf\n",
    "pdf<-function(x){dinvgamma(x,alpha=post.a,beta=post.b)}\n",
    "u<-seq(0,1.1,length=500)\n",
    "lines(u,pdf(u),lwd=3.5,col=\"DarkGreen\")\n",
    "# Theoretical MAP\n",
    "MAP.sigma2<-u[which.max(pdf(u))]\n",
    "round(MAP.sigma2,4)\n",
    "abline(v=MAP.sigma2,lwd=2.5,col=\"black\")"
   ]
  },
  {
   "cell_type": "markdown",
   "metadata": {},
   "source": [
    "## 04. Simulate from the posterior predictive pdf"
   ]
  },
  {
   "cell_type": "markdown",
   "metadata": {},
   "source": [
    "Now both the `model` block does contain a likelihood and there is a `generated quantities` block."
   ]
  },
  {
   "cell_type": "code",
   "execution_count": 39,
   "metadata": {
    "vscode": {
     "languageId": "r"
    }
   },
   "outputs": [],
   "source": [
    "modelString.post.pred = \"data {\n",
    "    real<lower=0> a;     \n",
    "    real<lower=0> b;\n",
    "    int<lower=1> n;\n",
    "    real x[n];\n",
    "    real mu;\n",
    "    }\n",
    "parameters {\n",
    "    real<lower=0> psi;\n",
    "    }\n",
    "transformed parameters {\n",
    "    real<lower=0> sigma = inv_sqrt(psi);\n",
    "    }\n",
    "model {\n",
    "    // prior\n",
    "    psi ~ gamma(a, b); \n",
    "    //likelihood\n",
    "    x ~ normal(mu, sigma);\n",
    "    }\n",
    "generated quantities {\n",
    "    real x_pred;\n",
    "\n",
    "// prediction\n",
    "    x_pred = normal_rng(mu, sigma);\n",
    "    }\n",
    "\""
   ]
  },
  {
   "cell_type": "code",
   "execution_count": 40,
   "metadata": {
    "vscode": {
     "languageId": "r"
    }
   },
   "outputs": [],
   "source": [
    "# Translate model to C++ and compile to DSO:\n",
    "stanDso.post.pred <- stan_model(model_code=modelString.post.pred) "
   ]
  },
  {
   "cell_type": "code",
   "execution_count": 41,
   "metadata": {
    "vscode": {
     "languageId": "r"
    }
   },
   "outputs": [
    {
     "data": {
      "text/html": [
       "21"
      ],
      "text/latex": [
       "21"
      ],
      "text/markdown": [
       "21"
      ],
      "text/plain": [
       "[1] 21"
      ]
     },
     "metadata": {},
     "output_type": "display_data"
    }
   ],
   "source": [
    "# Logs of concentration of mercury in fish tissue\n",
    "x<-c(-2.526, -1.715, -1.427, -2.12, -2.659, -2.408, -3.219, -1.966,-2.526, -1.833,\n",
    "    -2.813, -1.772, -2.813, -2.526, -3.219, -2.526,-2.813, -2.526, -3.507, -2.996, -3.912)\n",
    "n<-length(x)\n",
    "n"
   ]
  },
  {
   "cell_type": "code",
   "execution_count": 42,
   "metadata": {
    "vscode": {
     "languageId": "r"
    }
   },
   "outputs": [],
   "source": [
    "# Specify data:\n",
    "mu<--2.5\n",
    "dataList.post.pred = list(a=prior.a,b=prior.b,mu=mu,x=x,n=n)"
   ]
  },
  {
   "cell_type": "code",
   "execution_count": 43,
   "metadata": {
    "vscode": {
     "languageId": "r"
    }
   },
   "outputs": [],
   "source": [
    "# Generate posterior sample:\n",
    "stanFit.post.pred<-sampling(object=stanDso.post.pred,data=dataList.post.pred,\n",
    "                             chains=3,iter=10000,warmup=1500,thin=5)"
   ]
  },
  {
   "cell_type": "code",
   "execution_count": 44,
   "metadata": {
    "vscode": {
     "languageId": "r"
    }
   },
   "outputs": [
    {
     "data": {
      "text/html": [
       "<table class=\"dataframe\">\n",
       "<caption>A matrix: 4 × 10 of type dbl</caption>\n",
       "<thead>\n",
       "\t<tr><th></th><th scope=col>mean</th><th scope=col>se_mean</th><th scope=col>sd</th><th scope=col>2.5%</th><th scope=col>25%</th><th scope=col>50%</th><th scope=col>75%</th><th scope=col>97.5%</th><th scope=col>n_eff</th><th scope=col>Rhat</th></tr>\n",
       "</thead>\n",
       "<tbody>\n",
       "\t<tr><th scope=row>psi</th><td> 2.5770</td><td>0.0077</td><td>0.5379</td><td> 1.6328</td><td> 2.1984</td><td> 2.5389</td><td> 2.9124</td><td> 3.7500</td><td>4862.488</td><td>1.0003</td></tr>\n",
       "\t<tr><th scope=row>sigma</th><td> 0.6334</td><td>0.0010</td><td>0.0680</td><td> 0.5164</td><td> 0.5860</td><td> 0.6276</td><td> 0.6745</td><td> 0.7826</td><td>4970.518</td><td>1.0002</td></tr>\n",
       "\t<tr><th scope=row>x_pred</th><td>-2.5162</td><td>0.0089</td><td>0.6509</td><td>-3.8126</td><td>-2.9525</td><td>-2.5164</td><td>-2.0756</td><td>-1.2308</td><td>5403.095</td><td>0.9998</td></tr>\n",
       "\t<tr><th scope=row>lp__</th><td>-1.7911</td><td>0.0104</td><td>0.7547</td><td>-3.8605</td><td>-1.9430</td><td>-1.5016</td><td>-1.3217</td><td>-1.2704</td><td>5284.086</td><td>0.9996</td></tr>\n",
       "</tbody>\n",
       "</table>\n"
      ],
      "text/latex": [
       "A matrix: 4 × 10 of type dbl\n",
       "\\begin{tabular}{r|llllllllll}\n",
       "  & mean & se\\_mean & sd & 2.5\\% & 25\\% & 50\\% & 75\\% & 97.5\\% & n\\_eff & Rhat\\\\\n",
       "\\hline\n",
       "\tpsi &  2.5770 & 0.0077 & 0.5379 &  1.6328 &  2.1984 &  2.5389 &  2.9124 &  3.7500 & 4862.488 & 1.0003\\\\\n",
       "\tsigma &  0.6334 & 0.0010 & 0.0680 &  0.5164 &  0.5860 &  0.6276 &  0.6745 &  0.7826 & 4970.518 & 1.0002\\\\\n",
       "\tx\\_pred & -2.5162 & 0.0089 & 0.6509 & -3.8126 & -2.9525 & -2.5164 & -2.0756 & -1.2308 & 5403.095 & 0.9998\\\\\n",
       "\tlp\\_\\_ & -1.7911 & 0.0104 & 0.7547 & -3.8605 & -1.9430 & -1.5016 & -1.3217 & -1.2704 & 5284.086 & 0.9996\\\\\n",
       "\\end{tabular}\n"
      ],
      "text/markdown": [
       "\n",
       "A matrix: 4 × 10 of type dbl\n",
       "\n",
       "| <!--/--> | mean | se_mean | sd | 2.5% | 25% | 50% | 75% | 97.5% | n_eff | Rhat |\n",
       "|---|---|---|---|---|---|---|---|---|---|---|\n",
       "| psi |  2.5770 | 0.0077 | 0.5379 |  1.6328 |  2.1984 |  2.5389 |  2.9124 |  3.7500 | 4862.488 | 1.0003 |\n",
       "| sigma |  0.6334 | 0.0010 | 0.0680 |  0.5164 |  0.5860 |  0.6276 |  0.6745 |  0.7826 | 4970.518 | 1.0002 |\n",
       "| x_pred | -2.5162 | 0.0089 | 0.6509 | -3.8126 | -2.9525 | -2.5164 | -2.0756 | -1.2308 | 5403.095 | 0.9998 |\n",
       "| lp__ | -1.7911 | 0.0104 | 0.7547 | -3.8605 | -1.9430 | -1.5016 | -1.3217 | -1.2704 | 5284.086 | 0.9996 |\n",
       "\n"
      ],
      "text/plain": [
       "       mean    se_mean sd     2.5%    25%     50%     75%     97.5%   n_eff   \n",
       "psi     2.5770 0.0077  0.5379  1.6328  2.1984  2.5389  2.9124  3.7500 4862.488\n",
       "sigma   0.6334 0.0010  0.0680  0.5164  0.5860  0.6276  0.6745  0.7826 4970.518\n",
       "x_pred -2.5162 0.0089  0.6509 -3.8126 -2.9525 -2.5164 -2.0756 -1.2308 5403.095\n",
       "lp__   -1.7911 0.0104  0.7547 -3.8605 -1.9430 -1.5016 -1.3217 -1.2704 5284.086\n",
       "       Rhat  \n",
       "psi    1.0003\n",
       "sigma  1.0002\n",
       "x_pred 0.9998\n",
       "lp__   0.9996"
      ]
     },
     "metadata": {},
     "output_type": "display_data"
    }
   ],
   "source": [
    "S.post.pred<-summary(stanFit.post.pred)\n",
    "round(S.post.pred$summary,4)"
   ]
  },
  {
   "cell_type": "code",
   "execution_count": 45,
   "metadata": {
    "vscode": {
     "languageId": "r"
    }
   },
   "outputs": [
    {
     "name": "stdout",
     "output_type": "stream",
     "text": [
      " num [1:5100] -2.29 -2.53 -2 -2.63 -2.18 ...\n"
     ]
    }
   ],
   "source": [
    "# extract prior sample, discard unnecessary attributes to keep just the numbers\n",
    "x_post.pred <- extract(stanFit.post.pred, 'x_pred')\n",
    "x_post.pred <- unlist(x_post.pred, use.names=FALSE)\n",
    "str(x_post.pred)"
   ]
  },
  {
   "cell_type": "code",
   "execution_count": 46,
   "metadata": {
    "vscode": {
     "languageId": "r"
    }
   },
   "outputs": [
    {
     "name": "stdout",
     "output_type": "stream",
     "text": [
      " num [1:5100] 0.2148 -0.0336 0.502 -0.1322 0.3213 ...\n"
     ]
    }
   ],
   "source": [
    "# center the sample (to compare with the theoretical pdf)\n",
    "x_post.pred.0<-x_post.pred-mu\n",
    "str(x_post.pred.0)"
   ]
  },
  {
   "cell_type": "code",
   "execution_count": 47,
   "metadata": {
    "vscode": {
     "languageId": "r"
    }
   },
   "outputs": [
    {
     "data": {
      "text/html": [
       "-0.016"
      ],
      "text/latex": [
       "-0.016"
      ],
      "text/markdown": [
       "-0.016"
      ],
      "text/plain": [
       "[1] -0.016"
      ]
     },
     "metadata": {},
     "output_type": "display_data"
    },
    {
     "data": {
      "text/html": [
       "0.424"
      ],
      "text/latex": [
       "0.424"
      ],
      "text/markdown": [
       "0.424"
      ],
      "text/plain": [
       "[1] 0.424"
      ]
     },
     "metadata": {},
     "output_type": "display_data"
    },
    {
     "data": {
      "text/html": [
       "0.651"
      ],
      "text/latex": [
       "0.651"
      ],
      "text/markdown": [
       "0.651"
      ],
      "text/plain": [
       "[1] 0.651"
      ]
     },
     "metadata": {},
     "output_type": "display_data"
    }
   ],
   "source": [
    "round(mean(x_post.pred.0),3)\n",
    "round(var(x_post.pred.0),3)\n",
    "round(sd(x_post.pred.0),3)"
   ]
  },
  {
   "cell_type": "code",
   "execution_count": 48,
   "metadata": {
    "vscode": {
     "languageId": "r"
    }
   },
   "outputs": [
    {
     "data": {
      "text/html": [
       "47.4296"
      ],
      "text/latex": [
       "47.4296"
      ],
      "text/markdown": [
       "47.4296"
      ],
      "text/plain": [
       "[1] 47.4296"
      ]
     },
     "metadata": {},
     "output_type": "display_data"
    },
    {
     "data": {
      "text/html": [
       "1.6052"
      ],
      "text/latex": [
       "1.6052"
      ],
      "text/markdown": [
       "1.6052"
      ],
      "text/plain": [
       "[1] 1.6052"
      ]
     },
     "metadata": {},
     "output_type": "display_data"
    }
   ],
   "source": [
    "n.1<-1 # sample size for posterior prediction\n",
    "k.1<-2*post.a+n.1-1\n",
    "round(k.1,4)\n",
    "c1<-sqrt(k.1*n.1/(2*post.b))\n",
    "round(c1,4)\n",
    "Stan.post.t<-c0*x_post.pred.0"
   ]
  },
  {
   "cell_type": "code",
   "execution_count": 49,
   "metadata": {
    "vscode": {
     "languageId": "r"
    }
   },
   "outputs": [
    {
     "data": {
      "image/png": "[encoded data removed]",
      "text/plain": [
       "Plot with title \"Histogram of Stan.post.t\""
      ]
     },
     "metadata": {
      "image/png": {
       "height": 420,
       "width": 420
      }
     },
     "output_type": "display_data"
    }
   ],
   "source": [
    "# Plot histogram, superimposing the theoretical Student t distribution, with k.1 degrees of freedom\n",
    "options(repr.plot.width=7,repr.plot.height=7)\n",
    "tmax<-0.7*max(max(Stan.post.t),-min(Stan.post.t))\n",
    "hist(Stan.post.t,freq=FALSE,col=\"LightGreen\",xlim=c(-tmax,tmax),ylim=c(0,0.45),breaks=40,\n",
    "    cex.main=1.8)\n",
    "u<-seq(-tmax,tmax,length=1000)\n",
    "yu<-dt(u,df=k.1)\n",
    "lines(u,yu,lwd=2.5,col=\"DarkGreen\")"
   ]
  }
 ],
 "metadata": {
  "kernelspec": {
   "display_name": "R",
   "language": "R",
   "name": "ir"
  },
  "language_info": {
   "codemirror_mode": "r",
   "file_extension": ".r",
   "mimetype": "text/x-r-source",
   "name": "R",
   "pygments_lexer": "r",
   "version": "4.2.2"
  }
 },
 "nbformat": 4,
 "nbformat_minor": 4
}
