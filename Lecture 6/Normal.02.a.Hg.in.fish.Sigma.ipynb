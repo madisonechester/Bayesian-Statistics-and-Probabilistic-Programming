{
 "cells": [
  {
   "cell_type": "markdown",
   "metadata": {},
   "source": [
    "# Normal 02a - Mercury in fish"
   ]
  },
  {
   "cell_type": "markdown",
   "metadata": {},
   "source": [
    "_Adapted from Josep Fortiana (2023-03-13) by Jordi Abante (2024-03-14)_"
   ]
  },
  {
   "cell_type": "markdown",
   "metadata": {},
   "source": [
    "# Case study:  Mercury concentration in fish "
   ]
  },
  {
   "cell_type": "markdown",
   "metadata": {},
   "source": [
    "## Data description\n",
    "\n",
    "Mercury concentrations in parts per million (ppm) measured on tissue samples from  21 common carp specimens caught at a particular site. \n",
    "\n",
    "Data by courtesy of Kate Cowles, used in her book, _Applied Bayesian Statistics_ (2013), Chapters 6-8.\n",
    "\n",
    "After log-transforming the data, the observed quantities are:"
   ]
  },
  {
   "cell_type": "code",
   "execution_count": 1,
   "metadata": {
    "vscode": {
     "languageId": "r"
    }
   },
   "outputs": [],
   "source": [
    "# Logs of concentration of mercury in fish tissue\n",
    "x<-c(-2.526, -1.715, -1.427, -2.12, -2.659, -2.408, -3.219, -1.966,-2.526, -1.833,\n",
    "    -2.813, -1.772, -2.813, -2.526, -3.219, -2.526,-2.813, -2.526, -3.507, -2.996, -3.912)"
   ]
  },
  {
   "cell_type": "code",
   "execution_count": 2,
   "metadata": {
    "vscode": {
     "languageId": "r"
    }
   },
   "outputs": [
    {
     "data": {
      "text/plain": [
       "   Min. 1st Qu.  Median    Mean 3rd Qu.    Max. \n",
       " -3.912  -2.813  -2.526  -2.563  -2.120  -1.427 "
      ]
     },
     "metadata": {},
     "output_type": "display_data"
    },
    {
     "data": {
      "text/html": [
       "21"
      ],
      "text/latex": [
       "21"
      ],
      "text/markdown": [
       "21"
      ],
      "text/plain": [
       "[1] 21"
      ]
     },
     "metadata": {},
     "output_type": "display_data"
    }
   ],
   "source": [
    "summary(x)\n",
    "n<-length(x)\n",
    "n"
   ]
  },
  {
   "cell_type": "code",
   "execution_count": 3,
   "metadata": {
    "vscode": {
     "languageId": "r"
    }
   },
   "outputs": [
    {
     "data": {
      "text/html": [
       "<style>\n",
       ".list-inline {list-style: none; margin:0; padding: 0}\n",
       ".list-inline>li {display: inline-block}\n",
       ".list-inline>li:not(:last-child)::after {content: \"\\00b7\"; padding: 0 .5ex}\n",
       "</style>\n",
       "<ol class=list-inline><li>-2.563</li><li>0.3854</li><li>0.367</li></ol>\n"
      ],
      "text/latex": [
       "\\begin{enumerate*}\n",
       "\\item -2.563\n",
       "\\item 0.3854\n",
       "\\item 0.367\n",
       "\\end{enumerate*}\n"
      ],
      "text/markdown": [
       "1. -2.563\n",
       "2. 0.3854\n",
       "3. 0.367\n",
       "\n",
       "\n"
      ],
      "text/plain": [
       "[1] -2.5630  0.3854  0.3670"
      ]
     },
     "metadata": {},
     "output_type": "display_data"
    }
   ],
   "source": [
    "# Empirical mean and variance (the variance both with and without the correction factor)\n",
    "xm<-mean(x)\n",
    "s2tilde<-var(x)\n",
    "s2<-sum((x-xm)^2)/n\n",
    "round(c(xm,s2tilde,s2),4)"
   ]
  },
  {
   "cell_type": "markdown",
   "metadata": {},
   "source": [
    "# 01 - Statistics on the precision $\\psi=1/\\sigma^{2}$, assuming the mean is known\n",
    "\n",
    "Assume, for the sake of the exercise, that the mean is known to be $\\mu=-2.5$. \n",
    "\n",
    "Then, the variance must be computed with:\n",
    "\n",
    "$$\n",
    "\ts^{2}(\\mu)=\\dfrac{1}{n}\\sum_{i=1}^{n}(x_{i}-\\mu)^{2}.\n",
    "$$"
   ]
  },
  {
   "cell_type": "code",
   "execution_count": 4,
   "metadata": {
    "vscode": {
     "languageId": "r"
    }
   },
   "outputs": [
    {
     "data": {
      "text/html": [
       "0.371"
      ],
      "text/latex": [
       "0.371"
      ],
      "text/markdown": [
       "0.371"
      ],
      "text/plain": [
       "[1] 0.371"
      ]
     },
     "metadata": {},
     "output_type": "display_data"
    }
   ],
   "source": [
    "mu<--2.5\n",
    "x0<-x-mu\n",
    "s20<-sum(x0^2)/n\n",
    "round(s20,4)\n",
    "#[1] 0.371"
   ]
  },
  {
   "cell_type": "markdown",
   "metadata": {},
   "source": [
    "## Conjugate prior\n",
    "\n",
    "Our prior pdf for the precision is $\\psi\\sim\\textrm{Gamma}(\\alpha,\\beta)$, where $\\alpha$ and $\\beta$ will be determined, if possible, from any prior information available."
   ]
  },
  {
   "cell_type": "markdown",
   "metadata": {},
   "source": [
    "## Computing prior $\\alpha$ and $\\beta$ from quantiles\n",
    "\n",
    "Assume that an expert on mercury contamination told us:\n",
    "\n",
    ">With $95\\%$ certainty the (true) variance is between $q_{0.025}=0.25$ and $q_{0.975}=0.75$ (we assume the remaining 0.05 is symmetrically distributed both sides). \n",
    "\n",
    "That is,\n",
    "\n",
    "$$\n",
    "    0.95=P(q_{0.025}<\\sigma^{2}<q_{0.975})=P(\\frac{1}{q_{0.975}}<\\psi<\\frac{1}{q_{0.025}}).\n",
    "$$\n",
    "\n",
    "We recall that a $\\textrm{Gamma}(\\alpha,\\beta)$ is a **scaled $\\chi^{2}(k)$.**\n",
    "\n",
    "Precisely, if $\\psi\\sim\\gammadist(\\alpha,\\beta)$ then $Z\\equiv 2\\,\\beta\\,\\psi\\sim\\chi^{2}(k)$, where $k\\equiv 2\\,\\alpha$.\n",
    "\n",
    "Multiplying the above inequalities by $2\\,\\beta$,\n",
    "\n",
    "$$\n",
    "    0.95=P\\big(a\\equiv 2\\,\\beta\\cdot \\frac{1}{q_{0.975}}<Z< b\\equiv2\\,\\beta\\cdot\\frac{1}{q_{0.025}}\\big).\n",
    "$$\n",
    "\n",
    "Since, for a given $k=2\\,\\alpha$, `a=qchisq(0.025,2*alpha)`  and `b=qchisq(0.975,2*alpha)`, and\n",
    "\n",
    "$$\n",
    "    \\beta=\\dfrac{a\\cdot q_{0.975}}{2}=\\dfrac{b\\cdot q_{0.025}}{2},\n",
    "$$\n",
    "\n",
    "we can use this equality as an equation to determine $\\alpha$. We want $\\alpha$ such that both expressions coincide."
   ]
  },
  {
   "cell_type": "code",
   "execution_count": 5,
   "metadata": {
    "vscode": {
     "languageId": "r"
    }
   },
   "outputs": [
    {
     "data": {
      "text/html": [
       "13.2148"
      ],
      "text/latex": [
       "13.2148"
      ],
      "text/markdown": [
       "13.2148"
      ],
      "text/plain": [
       "[1] 13.2148"
      ]
     },
     "metadata": {},
     "output_type": "display_data"
    },
    {
     "data": {
      "text/html": [
       "5.3087"
      ],
      "text/latex": [
       "5.3087"
      ],
      "text/markdown": [
       "5.3087"
      ],
      "text/plain": [
       "[1] 5.3087"
      ]
     },
     "metadata": {},
     "output_type": "display_data"
    }
   ],
   "source": [
    "q025<-0.25\n",
    "q975<-0.75\n",
    "# diff.two.betas will be equal to zero when both expressions giving beta coincide:\n",
    "diff.two.betas<-function(a,q025=0.25,q975=0.75){\n",
    "    return(qchisq(0.025,2*a)*q975-qchisq(0.975,2*a)*q025)\n",
    "    }\n",
    "A<-uniroot(diff.two.betas,c(1,20))\n",
    "prior.a<-A$root\n",
    "#\n",
    "prior.b<-qchisq(0.025,2*prior.a)*q975/2\n",
    "round(prior.a,4)\n",
    "round(prior.b,4)"
   ]
  },
  {
   "cell_type": "markdown",
   "metadata": {},
   "source": [
    "We obtain $\\alpha=13.2148$, $\\beta=5.3087$ as prior parameters."
   ]
  },
  {
   "cell_type": "markdown",
   "metadata": {},
   "source": [
    "# A. Simulate with R"
   ]
  },
  {
   "cell_type": "markdown",
   "metadata": {},
   "source": [
    "## Prior predictive pdf\n",
    "\n",
    "In terms of:\n",
    "\n",
    "$$\n",
    "\tt=\\sqrt{\\dfrac{(2\\alpha+n-1)\\,n\\,s_{\\mu}{}^{2}}{2\\,\\beta}}=\\sqrt{\\dfrac{k\\,n\\,s_{\\mu}{}^{2}}{2\\,\\beta}},\n",
    "$$\n",
    "\n",
    "the prior predictive distribution is a Student's $t(k)$, with $k=2\\,\\alpha+n-1$ degrees of freedom."
   ]
  },
  {
   "cell_type": "code",
   "execution_count": 6,
   "metadata": {
    "vscode": {
     "languageId": "r"
    }
   },
   "outputs": [
    {
     "data": {
      "text/html": [
       "46.4296"
      ],
      "text/latex": [
       "46.4296"
      ],
      "text/markdown": [
       "46.4296"
      ],
      "text/plain": [
       "[1] 46.4296"
      ]
     },
     "metadata": {},
     "output_type": "display_data"
    }
   ],
   "source": [
    "k<-2*prior.a+n-1\n",
    "round(k,4)\n",
    "#[1] 46.4296"
   ]
  },
  {
   "cell_type": "markdown",
   "metadata": {},
   "source": [
    "## Simulated sample from the prior pdf"
   ]
  },
  {
   "cell_type": "code",
   "execution_count": 7,
   "metadata": {
    "vscode": {
     "languageId": "r"
    }
   },
   "outputs": [],
   "source": [
    "N<-20000\n",
    "# N samples from the prior pdf of the precision parameter\n",
    "Sim.psi<-rgamma(N,prior.a,prior.b)"
   ]
  },
  {
   "cell_type": "code",
   "execution_count": 8,
   "metadata": {
    "vscode": {
     "languageId": "r"
    }
   },
   "outputs": [
    {
     "data": {
      "image/png": "[encoded data removed]",
      "text/plain": [
       "Plot with title \"paste(\"Histogram of Sim.\", psi)\""
      ]
     },
     "metadata": {
      "image/png": {
       "height": 420,
       "width": 420
      }
     },
     "output_type": "display_data"
    }
   ],
   "source": [
    "# Plot histogram, compare with the theoretical Gamma pdf \n",
    "options(repr.plot.width=7,repr.plot.height=7)\n",
    "hist(Sim.psi,freq=FALSE,col=\"LightGreen\",ylim=c(0,0.65),\n",
    "     xlab=expression(paste(\"Sim.\",psi)),\n",
    "     main=expression(paste(\"Histogram of Sim.\",psi)),breaks=25,cex.lab=1.5,cex.main=1.8)\n",
    "v<-seq(0,max(Sim.psi),length=1000)\n",
    "lines(v,dgamma(v,shape=prior.a,rate=prior.b),lwd=3.0,col=\"DarkGreen\")"
   ]
  },
  {
   "cell_type": "code",
   "execution_count": 9,
   "metadata": {
    "vscode": {
     "languageId": "r"
    }
   },
   "outputs": [
    {
     "data": {
      "text/html": [
       "2.49"
      ],
      "text/latex": [
       "2.49"
      ],
      "text/markdown": [
       "2.49"
      ],
      "text/plain": [
       "[1] 2.49"
      ]
     },
     "metadata": {},
     "output_type": "display_data"
    },
    {
     "data": {
      "text/html": [
       "0.435"
      ],
      "text/latex": [
       "0.435"
      ],
      "text/markdown": [
       "0.435"
      ],
      "text/plain": [
       "[1] 0.435"
      ]
     },
     "metadata": {},
     "output_type": "display_data"
    },
    {
     "data": {
      "text/html": [
       "0.653"
      ],
      "text/latex": [
       "0.653"
      ],
      "text/markdown": [
       "0.653"
      ],
      "text/plain": [
       "[1] 0.653"
      ]
     },
     "metadata": {},
     "output_type": "display_data"
    }
   ],
   "source": [
    "round(mean(Sim.psi),3)\n",
    "round(mean(1/Sim.psi),3)\n",
    "round(mean(sqrt(1/Sim.psi)),3)"
   ]
  },
  {
   "cell_type": "code",
   "execution_count": 10,
   "metadata": {
    "vscode": {
     "languageId": "r"
    }
   },
   "outputs": [],
   "source": [
    "mu<--2.5\n",
    "#prior.a<-13.2148\n",
    "#prior.b<-5.3087"
   ]
  },
  {
   "cell_type": "markdown",
   "metadata": {},
   "source": [
    "## Simulated sample from the prior predictive pdf"
   ]
  },
  {
   "cell_type": "code",
   "execution_count": 11,
   "metadata": {
    "vscode": {
     "languageId": "r"
    }
   },
   "outputs": [],
   "source": [
    "# Generate N samples of x\n",
    "# For each of the psi values generated above we generate an n-sample of normals with mean mu and sd=1/sqrt(psi)\n",
    "Sim.x<-rnorm(N,mean=mu,sd=sqrt(1/Sim.psi)) "
   ]
  },
  {
   "cell_type": "code",
   "execution_count": 12,
   "metadata": {
    "vscode": {
     "languageId": "r"
    }
   },
   "outputs": [
    {
     "name": "stdout",
     "output_type": "stream",
     "text": [
      " num [1:20000] 0.641 0.967 -0.371 0.92 -1.72 ...\n"
     ]
    }
   ],
   "source": [
    "# center the sample (to compare with the theoretical pdf)\n",
    "Sim.x0<-Sim.x-mu\n",
    "str(Sim.x0)"
   ]
  },
  {
   "cell_type": "code",
   "execution_count": 13,
   "metadata": {
    "vscode": {
     "languageId": "r"
    }
   },
   "outputs": [
    {
     "data": {
      "text/html": [
       "0.005"
      ],
      "text/latex": [
       "0.005"
      ],
      "text/markdown": [
       "0.005"
      ],
      "text/plain": [
       "[1] 0.005"
      ]
     },
     "metadata": {},
     "output_type": "display_data"
    },
    {
     "data": {
      "text/html": [
       "0.436"
      ],
      "text/latex": [
       "0.436"
      ],
      "text/markdown": [
       "0.436"
      ],
      "text/plain": [
       "[1] 0.436"
      ]
     },
     "metadata": {},
     "output_type": "display_data"
    },
    {
     "data": {
      "text/html": [
       "0.661"
      ],
      "text/latex": [
       "0.661"
      ],
      "text/markdown": [
       "0.661"
      ],
      "text/plain": [
       "[1] 0.661"
      ]
     },
     "metadata": {},
     "output_type": "display_data"
    }
   ],
   "source": [
    "round(mean(Sim.x0),3)\n",
    "round(var(Sim.x0),3)\n",
    "round(sd(Sim.x0),3)"
   ]
  },
  {
   "cell_type": "markdown",
   "metadata": {},
   "source": [
    "To convert from the $x$ scale to the $t$ variable we have a single $x$ observation, that is $n_{0}=1$ for each prior sample:"
   ]
  },
  {
   "cell_type": "code",
   "execution_count": 14,
   "metadata": {
    "vscode": {
     "languageId": "r"
    }
   },
   "outputs": [
    {
     "data": {
      "text/html": [
       "1.5777"
      ],
      "text/latex": [
       "1.5777"
      ],
      "text/markdown": [
       "1.5777"
      ],
      "text/plain": [
       "[1] 1.5777"
      ]
     },
     "metadata": {},
     "output_type": "display_data"
    }
   ],
   "source": [
    "n.0<-1\n",
    "k.0<-2*prior.a+n.0-1\n",
    "# Formula above: t is a multiple of the centered x value. Proportionality coefficient:\n",
    "c0<-sqrt(k.0*n.0/(2*prior.b))\n",
    "round(c0,4)        \n",
    "Sim.t<-c0*Sim.x0"
   ]
  },
  {
   "cell_type": "code",
   "execution_count": 15,
   "metadata": {
    "vscode": {
     "languageId": "r"
    }
   },
   "outputs": [
    {
     "data": {
      "image/png": "[encoded data removed]",
      "text/plain": [
       "Plot with title \"paste(\"Histogram of Sim.\", t)\""
      ]
     },
     "metadata": {
      "image/png": {
       "height": 420,
       "width": 420
      }
     },
     "output_type": "display_data"
    }
   ],
   "source": [
    "# Plot histogram, \n",
    "options(repr.plot.width=7,repr.plot.height=7)\n",
    "tmax<-max(0.7*max(Sim.t),-0.7*min(Sim.t))\n",
    "hist(Sim.t,freq=FALSE,col=\"LightGreen\",xlim=c(-tmax,tmax),ylim=c(0,0.45),\n",
    "     xlab=expression(paste(\"Sim.\",t)),\n",
    "     main=expression(paste(\"Histogram of Sim.\",t)),\n",
    "     nclass=40,cex.lab=1.5,cex.main=1.8)\n",
    "u<-seq(-tmax,tmax,length=1000)\n",
    "yu<-dt(u,df=k.0)\n",
    "lines(u,yu,lwd=3.0,col=\"DarkGreen\")"
   ]
  },
  {
   "cell_type": "markdown",
   "metadata": {},
   "source": [
    "## Posterior pdf for $\\psi$, given $x$\n",
    "\n",
    "$$\n",
    "    (\\psi\\CondTo x)\\sim\\gammadist(\\tilde{\\alpha},\\tilde{\\beta}), \n",
    "$$\n",
    "\n",
    "where:\n",
    "\n",
    "$$\n",
    "    \\left\\{\\begin{array}{lclclcr}\n",
    "    \\tilde{\\alpha}  &=&\\alpha+\\dfrac{n}{2}      &=&13.2148+\\dfrac{21}{2}           &=&23.7148,\\\\[0.2cm]\n",
    "    \\tilde{\\beta}   &=&\\beta+\\dfrac{n\\,s^{2}}{2}&=&5.3087+\\dfrac{21\\times0.3710}{2}&=&9.2041.\n",
    "    \\end{array}\\right.\n",
    "$$"
   ]
  },
  {
   "cell_type": "code",
   "execution_count": 16,
   "metadata": {
    "vscode": {
     "languageId": "r"
    }
   },
   "outputs": [
    {
     "data": {
      "text/html": [
       "23.7148"
      ],
      "text/latex": [
       "23.7148"
      ],
      "text/markdown": [
       "23.7148"
      ],
      "text/plain": [
       "[1] 23.7148"
      ]
     },
     "metadata": {},
     "output_type": "display_data"
    },
    {
     "data": {
      "text/html": [
       "9.2041"
      ],
      "text/latex": [
       "9.2041"
      ],
      "text/markdown": [
       "9.2041"
      ],
      "text/plain": [
       "[1] 9.2041"
      ]
     },
     "metadata": {},
     "output_type": "display_data"
    }
   ],
   "source": [
    "n<-21\n",
    "post.a<-prior.a+n/2\n",
    "post.b<-prior.b+n*s20/2\n",
    "round(post.a,4)\n",
    "round(post.b,4)"
   ]
  },
  {
   "cell_type": "code",
   "execution_count": 17,
   "metadata": {
    "vscode": {
     "languageId": "r"
    }
   },
   "outputs": [
    {
     "data": {
      "image/png": "[encoded data removed]",
      "text/plain": [
       "Plot with title \"paste(\"Posterior pdf of \", psi)\""
      ]
     },
     "metadata": {
      "image/png": {
       "height": 420,
       "width": 420
      }
     },
     "output_type": "display_data"
    }
   ],
   "source": [
    "# posterior pdf\n",
    "options(repr.plot.width=7,repr.plot.height=7)\n",
    "pdf<-function(x){dgamma(x,shape=post.a,rate=post.b)}\n",
    "u<-seq(0,7,length=500)\n",
    "plot(u,pdf(u),\"l\",lwd=3.0,col=\"DarkGreen\",xlab=expression(psi),ylab=\"Density\",\n",
    "     main=expression(paste(\"Posterior pdf of \",psi)),\n",
    "     cex.lab=1.5,cex.main=1.8)"
   ]
  },
  {
   "cell_type": "markdown",
   "metadata": {},
   "source": [
    "## MAP point estimator for $\\psi$ and $\\sigma^{2}$\n",
    "\n",
    "Locating the mode of the posterior $(\\psi\\,|\\,\\mathbf{x})\\sim\n",
    "\\gammadist(\\tilde{\\alpha},\\tilde{\\beta})$ pdf, we find it at:\n",
    "\n",
    "$$\n",
    "    \\begin{array}{lcl}\n",
    "    \\hat{\\psi}_{MAP} &=&2.4679,\\\\\n",
    "    {\\hat{\\sigma}^{2}}_{MAP}\t&=&0.4052.\n",
    "    \\end{array}\n",
    "$$"
   ]
  },
  {
   "cell_type": "code",
   "execution_count": 18,
   "metadata": {
    "vscode": {
     "languageId": "r"
    }
   },
   "outputs": [
    {
     "data": {
      "text/html": [
       "2.4689"
      ],
      "text/latex": [
       "2.4689"
      ],
      "text/markdown": [
       "2.4689"
      ],
      "text/plain": [
       "[1] 2.4689"
      ]
     },
     "metadata": {},
     "output_type": "display_data"
    },
    {
     "data": {
      "text/html": [
       "0.405"
      ],
      "text/latex": [
       "0.405"
      ],
      "text/markdown": [
       "0.405"
      ],
      "text/plain": [
       "[1] 0.405"
      ]
     },
     "metadata": {},
     "output_type": "display_data"
    }
   ],
   "source": [
    "#options(repr.plot.width=7,repr.plot.height=7)\n",
    "pdf<-function(x){dgamma(x,shape=post.a,rate=post.b)}\n",
    "u<-seq(0,7,length=500)\n",
    "#plot(u,pdf(u),\"l\",lwd=3.0,col=\"DarkGreen\",xlab=\"\",ylab=\"\",main=\"Posterior pdf of psi\")\n",
    "MAP.psi<-u[which.max(pdf(u))]\n",
    "round(MAP.psi,4)\n",
    "# Find MAP for the variance sigma2\n",
    "MAP.sigma2<-1/MAP.psi\n",
    "round(MAP.sigma2,4)"
   ]
  },
  {
   "cell_type": "code",
   "execution_count": 19,
   "metadata": {
    "vscode": {
     "languageId": "r"
    }
   },
   "outputs": [
    {
     "data": {
      "text/html": [
       "2.4679"
      ],
      "text/latex": [
       "2.4679"
      ],
      "text/markdown": [
       "2.4679"
      ],
      "text/plain": [
       "[1] 2.4679"
      ]
     },
     "metadata": {},
     "output_type": "display_data"
    },
    {
     "data": {
      "text/html": [
       "0.4052"
      ],
      "text/latex": [
       "0.4052"
      ],
      "text/markdown": [
       "0.4052"
      ],
      "text/plain": [
       "[1] 0.4052"
      ]
     },
     "metadata": {},
     "output_type": "display_data"
    }
   ],
   "source": [
    "# Alternative computation\n",
    "MAP.psi.1<-optimize(pdf,interval=c(0,7),maximum=TRUE)\n",
    "round(MAP.psi.1$maximum,4)\n",
    "#options(repr.plot.width=7,repr.plot.height=7)\n",
    "#plot(u,pdf(u),\"l\",lwd=3.0,col=\"DarkGreen\",xlab=\"\",ylab=\"\",main=\"Posterior pdf of psi\")\n",
    "#abline(v=MAP.psi.1$maximum,lwd=2,col=\"green\")\n",
    "MAP.sigma2.1<-1/MAP.psi.1$maximum\n",
    "round(MAP.sigma2.1,4)"
   ]
  },
  {
   "cell_type": "markdown",
   "metadata": {},
   "source": [
    "## Posterior 95% credible interval for the precision $\\psi$ and for $\\sigma^2=1/\\psi$"
   ]
  },
  {
   "cell_type": "markdown",
   "metadata": {},
   "source": [
    "With this posterior pdf, $(\\psi\\CondTo x)\\sim\\gammadist(\\tilde{\\alpha},\\tilde{\\beta})$ pdf,\n",
    "we compute a posterior 95\\% credible interval for $\\psi$, and for $\\sigma^{2}$, taking reciprocals."
   ]
  },
  {
   "cell_type": "code",
   "execution_count": 20,
   "metadata": {
    "vscode": {
     "languageId": "r"
    }
   },
   "outputs": [
    {
     "data": {
      "text/html": [
       "<style>\n",
       ".list-inline {list-style: none; margin:0; padding: 0}\n",
       ".list-inline>li {display: inline-block}\n",
       ".list-inline>li:not(:last-child)::after {content: \"\\00b7\"; padding: 0 .5ex}\n",
       "</style>\n",
       "<ol class=list-inline><li>1.6459</li><li>3.7123</li></ol>\n"
      ],
      "text/latex": [
       "\\begin{enumerate*}\n",
       "\\item 1.6459\n",
       "\\item 3.7123\n",
       "\\end{enumerate*}\n"
      ],
      "text/markdown": [
       "1. 1.6459\n",
       "2. 3.7123\n",
       "\n",
       "\n"
      ],
      "text/plain": [
       "[1] 1.6459 3.7123"
      ]
     },
     "metadata": {},
     "output_type": "display_data"
    },
    {
     "data": {
      "text/html": [
       "<style>\n",
       ".list-inline {list-style: none; margin:0; padding: 0}\n",
       ".list-inline>li {display: inline-block}\n",
       ".list-inline>li:not(:last-child)::after {content: \"\\00b7\"; padding: 0 .5ex}\n",
       "</style>\n",
       "<ol class=list-inline><li>0.2694</li><li>0.6076</li></ol>\n"
      ],
      "text/latex": [
       "\\begin{enumerate*}\n",
       "\\item 0.2694\n",
       "\\item 0.6076\n",
       "\\end{enumerate*}\n"
      ],
      "text/markdown": [
       "1. 0.2694\n",
       "2. 0.6076\n",
       "\n",
       "\n"
      ],
      "text/plain": [
       "[1] 0.2694 0.6076"
      ]
     },
     "metadata": {},
     "output_type": "display_data"
    }
   ],
   "source": [
    "a2<-qgamma(0.025,shape=post.a,rate=post.b)\n",
    "b2<-qgamma(0.975,shape=post.a,rate=post.b)\n",
    "I.post.95.psi<-c(a2,b2)\n",
    "round(I.post.95.psi,4)\n",
    "I.post.95.sigma2<-c(1/b2,1/a2)\n",
    "round(I.post.95.sigma2,4)\n",
    "#[1] 0.2694 0.6076"
   ]
  }
 ],
 "metadata": {
  "kernelspec": {
   "display_name": "R",
   "language": "R",
   "name": "ir"
  },
  "language_info": {
   "codemirror_mode": "r",
   "file_extension": ".r",
   "mimetype": "text/x-r-source",
   "name": "R",
   "pygments_lexer": "r",
   "version": "4.2.2"
  }
 },
 "nbformat": 4,
 "nbformat_minor": 4
}
