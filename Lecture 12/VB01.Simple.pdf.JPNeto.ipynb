{
 "cells": [
  {
   "cell_type": "markdown",
   "id": "3788383f-7043-43be-9b55-86b18d2d489d",
   "metadata": {
    "tags": []
   },
   "source": [
    "# VB01 - Variational Bayes\n",
    "\n",
    "# Approximate a simple univariate pdf  \n",
    "\n",
    "## Code by Joao Pedro Neto [Markdown tutorials](http://www.di.fc.ul.pt/~jpn/r/variational_inference/variational.html)"
   ]
  },
  {
   "cell_type": "markdown",
   "id": "3d3ac34b-34dd-4fbf-bde6-fff024be882f",
   "metadata": {},
   "source": [
    "We have an intractable posterior distribution $ p(x|D)$ that we wish to approximate with $q(x)$, chosen from a given family of tractable distribution (eg, a gaussian).\n",
    "\n",
    "We define $\\widetilde{p}(x) = p(x|D)\\cdot p(D) = p(x,D)$, which is easier to compute pointwise, since we don't need to compute the expensive $p(D)$.\n",
    "\n",
    "The goal is to find an approximate $q$, where the cost function is defined as the KL-divergence from Information Theory:\n",
    "\n",
    "$$J(q) = \\KL{q}{\\widetilde{p}} = \\sum_{x} q(x) \\log \\frac{q(x)}{\\widetilde{p}(x)}.$$"
   ]
  },
  {
   "cell_type": "markdown",
   "id": "1170dce3-cbbe-41e4-a39e-9b8bc9cf71b8",
   "metadata": {},
   "source": [
    "### Implement KL divergence in R"
   ]
  },
  {
   "cell_type": "markdown",
   "id": "d00cd98f",
   "metadata": {},
   "source": [
    "We can use this function to numericlly compute the KL divergence"
   ]
  },
  {
   "cell_type": "code",
   "execution_count": 1,
   "id": "ebc9182f-5f4e-4dbd-9ece-2947a8244306",
   "metadata": {
    "Rmd_chunk_options": "collapse=TRUE",
    "kernel": "R",
    "tags": [
     "report_cell"
    ],
    "vscode": {
     "languageId": "r"
    }
   },
   "outputs": [],
   "source": [
    "# KL for continuous functions\n",
    "KL <- function(q, p_tilde, lower, upper, ...) {\n",
    "  f <- function(x) q(x, ...) * log(q(x, ...)/p_tilde(x))\n",
    "  integrate(f, lower, upper)$value\n",
    "}"
   ]
  },
  {
   "cell_type": "markdown",
   "id": "2a341e70-ad0f-4bf3-9f29-270ed673b73b",
   "metadata": {},
   "source": [
    "### Example\n",
    "\n",
    "Approximate $ \\widetilde{p}\\sim\\gammadist(\\alpha,beta)$ with each of two possible candidates:\n",
    "\n",
    "- With $q_{1}\\sim\\lognormaldist(0,a_{1})$\n",
    "- With $q_{2}\\sim\\lognormaldist(0,a_{2})$"
   ]
  },
  {
   "cell_type": "code",
   "execution_count": 2,
   "id": "61b36b16-c5f3-4122-9db4-6ac5b41bd665",
   "metadata": {
    "Rmd_chunk_options": "collapse=TRUE",
    "kernel": "R",
    "tags": [
     "report_cell"
    ],
    "vscode": {
     "languageId": "r"
    }
   },
   "outputs": [],
   "source": [
    "alpha<-3.0\n",
    "beta<-0.25\n",
    "a1<-1.00\n",
    "a2<-0.45\n",
    "p_tilde <- function(x) dgamma(x, shape=alpha, scale=beta)\n",
    "q1 <- function(x) dlnorm(x, 0,a1)\n",
    "q2 <- function(x) dlnorm(x, 0,a2) "
   ]
  },
  {
   "cell_type": "code",
   "execution_count": 3,
   "id": "fae38bf5-4139-4439-afdc-873350aad763",
   "metadata": {
    "Rmd_chunk_options": "collapse=TRUE",
    "kernel": "R",
    "tags": [
     "report_cell"
    ],
    "vscode": {
     "languageId": "r"
    }
   },
   "outputs": [
    {
     "data": {
      "image/png": "[encoded data removed]",
      "text/plain": [
       "plot without title"
      ]
     },
     "metadata": {
      "image/png": {
       "height": 420,
       "width": 420
      }
     },
     "output_type": "display_data"
    }
   ],
   "source": [
    "options(repr.plot.width=7, repr.plot.height=7)\n",
    "curve(p_tilde, 0, 6, lwd=2, ylab=\"\")\n",
    "curve(q1,      0, 6, lwd=2, col=\"red\",   add=T)\n",
    "curve(q2,      0, 6, lwd=2, col=\"green\", add=T)  # this one 'seems' closer...\n",
    "legend(\"topright\",c(\"p_tilde\",\"q1\",\"q2\"),lwd=2,col=c(\"black\",\"red\",\"green\"))"
   ]
  },
  {
   "cell_type": "markdown",
   "id": "0f6d48c9",
   "metadata": {},
   "source": [
    "$q_2$ is much closer to the target density than $q_2$ and this is quantified by the KL divergence."
   ]
  },
  {
   "cell_type": "code",
   "execution_count": 4,
   "id": "b25bdde9-52f7-4753-9bc2-b414f8442ee1",
   "metadata": {
    "Rmd_chunk_options": "collapse=TRUE",
    "kernel": "R",
    "tags": [
     "report_cell"
    ],
    "vscode": {
     "languageId": "r"
    }
   },
   "outputs": [
    {
     "data": {
      "text/html": [
       "1.70924458648427"
      ],
      "text/latex": [
       "1.70924458648427"
      ],
      "text/markdown": [
       "1.70924458648427"
      ],
      "text/plain": [
       "[1] 1.709245"
      ]
     },
     "metadata": {},
     "output_type": "display_data"
    },
    {
     "data": {
      "text/html": [
       "0.34004624220611"
      ],
      "text/latex": [
       "0.34004624220611"
      ],
      "text/markdown": [
       "0.34004624220611"
      ],
      "text/plain": [
       "[1] 0.3400462"
      ]
     },
     "metadata": {},
     "output_type": "display_data"
    }
   ],
   "source": [
    "KL(q1,p_tilde, lower=1e-3, upper=100)\n",
    "KL(q2,p_tilde, lower=1e-3, upper=100) # ...and in fact, KL gives a smaller number"
   ]
  },
  {
   "cell_type": "markdown",
   "id": "5bb88f77",
   "metadata": {},
   "source": [
    "Notice that this is not exactly a KL divergence, since $ \\widetilde{p}$ is a non-normalized 'distribution'.\n",
    "\n",
    "To see that cost function $J$ works as desired, let's develop the equation:\n",
    "\n",
    "$$\n",
    "\\begin{array}{lcll}\n",
    "J(q)  & = & \\sum_{x}q(x)\\cdot\\log\\dfrac{q(x)}{\\widetilde{p}(x)} &\\\\[0.2cm]\n",
    "      & = & \\sum_{x}q(x)\\cdot\\log\\dfrac{q(x)}{p(x|D)p(D)}       &\\\\[0.2cm]\n",
    "      & = & \\sum_{x}q(x)\\cdot\\left(\\log\\dfrac{q(x)}{p(x|D)} - \\log p(D) \\right) &\\\\[0.2cm]\n",
    "      & = & \\sum_{x}q(x)\\cdot\\log\\dfrac{q(x)}{p(x|D)} - \\log p(D) &\\mskip40mu \\color{blue}{\\sum_{x} q(x) = 1}\\\\[0.2cm]\n",
    "      & = & \\KL{q}{p(x|D)}-\\log p(D) &\n",
    "\\end{array}\n",
    "$$\n",
    "\n",
    "Since $p(D)$ is a constant, it means that minimizing $J(q)$ is minimizing $\\KL{q}{p(x|D)}$, and so $q(x)$ will approach $p(x|D)$."
   ]
  },
  {
   "cell_type": "markdown",
   "id": "4a300d55",
   "metadata": {},
   "source": [
    "## Aproximation via `optim`"
   ]
  },
  {
   "cell_type": "markdown",
   "id": "bf942fd1",
   "metadata": {},
   "source": [
    "Here's an example where we want to approximate a **Gamma target using log-normals:**"
   ]
  },
  {
   "cell_type": "code",
   "execution_count": 5,
   "id": "54b22a5c-f61c-448b-ba9d-5aa6d67a77fe",
   "metadata": {
    "Rmd_chunk_options": "collapse=TRUE",
    "kernel": "R",
    "tags": [
     "report_cell"
    ],
    "vscode": {
     "languageId": "r"
    }
   },
   "outputs": [],
   "source": [
    "variational_lnorm <- function(p_tilde, lower, upper){\n",
    "  q <- dlnorm # in this eg, q is a log-normal\n",
    "\n",
    "    J <- function(params){\n",
    "        KL(q, p_tilde,lower=lower,upper=upper,meanlog=params[1], sdlog=params[2])\n",
    "        }\n",
    "\n",
    "    optim(par=c(0, 1),fn=J)$par\n",
    "    }"
   ]
  },
  {
   "cell_type": "markdown",
   "id": "4ae9a1a0-8b5f-4b5e-8285-b0637b437b82",
   "metadata": {},
   "source": [
    "Target pdf"
   ]
  },
  {
   "cell_type": "code",
   "execution_count": 6,
   "id": "c8d1f310-63a4-4c90-b600-83ef61667641",
   "metadata": {
    "Rmd_chunk_options": "collapse=TRUE",
    "kernel": "R",
    "tags": [
     "report_cell"
    ],
    "vscode": {
     "languageId": "r"
    }
   },
   "outputs": [],
   "source": [
    "alpha<-3.0\n",
    "beta<-0.25\n",
    "p_tilde <- function(x) dgamma(x, shape=alpha, scale=beta)"
   ]
  },
  {
   "cell_type": "markdown",
   "id": "47980af8-f8f6-482b-b8cc-7a24d879d46f",
   "metadata": {},
   "source": [
    "Locate the minimum"
   ]
  },
  {
   "cell_type": "code",
   "execution_count": 7,
   "id": "3541e22e-7c6d-4498-8303-a8ff18ec357e",
   "metadata": {
    "Rmd_chunk_options": "collapse=TRUE",
    "kernel": "R",
    "tags": [
     "report_cell"
    ],
    "vscode": {
     "languageId": "r"
    }
   },
   "outputs": [],
   "source": [
    "approximation_params <- variational_lnorm(p_tilde, lower=1e-3, upper=100)\n",
    "# get the resulting approximation:\n",
    "q <- function(x) dlnorm(x, approximation_params[1], approximation_params[2])"
   ]
  },
  {
   "cell_type": "markdown",
   "id": "e93a402b-b7ac-4637-a6b4-d7084d64e769",
   "metadata": {},
   "source": [
    "Minimum value of $ KL$ found"
   ]
  },
  {
   "cell_type": "code",
   "execution_count": 8,
   "id": "189d7180-fd75-4bdb-b380-d2477db91528",
   "metadata": {
    "Rmd_chunk_options": "collapse=TRUE",
    "kernel": "R",
    "tags": [
     "report_cell"
    ],
    "vscode": {
     "languageId": "r"
    }
   },
   "outputs": [
    {
     "data": {
      "text/html": [
       "0.0276585841950007"
      ],
      "text/latex": [
       "0.0276585841950007"
      ],
      "text/markdown": [
       "0.0276585841950007"
      ],
      "text/plain": [
       "[1] 0.02765858"
      ]
     },
     "metadata": {},
     "output_type": "display_data"
    }
   ],
   "source": [
    "KL(q,p_tilde,1e-3,10) # compute their \"distance\""
   ]
  },
  {
   "cell_type": "code",
   "execution_count": 9,
   "id": "e734562d-0a25-4609-b863-a75f603624a2",
   "metadata": {
    "Rmd_chunk_options": "collapse=TRUE",
    "kernel": "R",
    "tags": [
     "report_cell"
    ],
    "vscode": {
     "languageId": "r"
    }
   },
   "outputs": [
    {
     "data": {
      "image/png": "[encoded data removed]",
      "text/plain": [
       "plot without title"
      ]
     },
     "metadata": {
      "image/png": {
       "height": 420,
       "width": 420
      }
     },
     "output_type": "display_data"
    }
   ],
   "source": [
    "options(repr.plot.width=7, repr.plot.height=7)\n",
    "curve(p_tilde, 0, 6, lwd=3, ylab=\"\", ylim=c(0,1.25))\n",
    "curve(q,       0, 6, lwd=3, col=\"red\",   add=TRUE)\n",
    "legend(\"topright\",legend=c(\"Target pdf\",\"Approximation\"),lwd=3,col=c(\"black\",\"red\"))"
   ]
  },
  {
   "cell_type": "markdown",
   "id": "285651fd",
   "metadata": {},
   "source": [
    "Laplace approximation (ie, gaussian approximation) of a **Beta target with a Normal,**\n",
    "(obtained via the variational method)"
   ]
  },
  {
   "cell_type": "code",
   "execution_count": 10,
   "id": "6faf639c-2f11-4b73-975e-3e4ec49b8b33",
   "metadata": {
    "Rmd_chunk_options": "collapse=TRUE",
    "kernel": "R",
    "tags": [
     "report_cell"
    ],
    "vscode": {
     "languageId": "r"
    }
   },
   "outputs": [],
   "source": [
    "variational_norm <- function(p_tilde, lower, upper) {\n",
    "  q <- dnorm  # in this eg, q is a normal\n",
    "\n",
    "  J <- function(params) {\n",
    "    KL(q, p_tilde, lower=lower, upper=upper, mean=params[1], sd=params[2])\n",
    "  }\n",
    "\n",
    "  optim(par=c(0.5, 0.2), fn=J)$par  # initial values are tricky, not very stable\n",
    "}"
   ]
  },
  {
   "cell_type": "markdown",
   "id": "5d8becdb-7459-4585-b6b7-3b60c31b02e0",
   "metadata": {},
   "source": [
    "Target pdf"
   ]
  },
  {
   "cell_type": "code",
   "execution_count": 11,
   "id": "e935c7b7-f596-4a55-acc7-6367fa8bbf74",
   "metadata": {
    "Rmd_chunk_options": "collapse=TRUE",
    "kernel": "R",
    "tags": [
     "report_cell"
    ],
    "vscode": {
     "languageId": "r"
    }
   },
   "outputs": [],
   "source": [
    "p_tilde <- function(x) dbeta(x,11,9) # some given Beta distribution"
   ]
  },
  {
   "cell_type": "code",
   "execution_count": 12,
   "id": "2b117e84-00c5-4d96-9e2a-4f29202e76aa",
   "metadata": {
    "Rmd_chunk_options": "collapse=TRUE",
    "kernel": "R",
    "tags": [
     "report_cell"
    ],
    "vscode": {
     "languageId": "r"
    }
   },
   "outputs": [
    {
     "data": {
      "text/html": [
       "0.00411223312125805"
      ],
      "text/latex": [
       "0.00411223312125805"
      ],
      "text/markdown": [
       "0.00411223312125805"
      ],
      "text/plain": [
       "[1] 0.004112233"
      ]
     },
     "metadata": {},
     "output_type": "display_data"
    }
   ],
   "source": [
    "approximation_params <- variational_norm(p_tilde, lower=1e-3, upper=1-1e-3)\n",
    "# get the resulting approximation:\n",
    "q <- function(x) dnorm(x, mean=approximation_params[1], sd=approximation_params[2])\n",
    "\n",
    "KL(q,p_tilde,0,1) # compute their distance"
   ]
  },
  {
   "cell_type": "code",
   "execution_count": 13,
   "id": "5f9f5350-2b24-4082-8cbd-dabfe7d81666",
   "metadata": {
    "Rmd_chunk_options": "collapse=TRUE",
    "kernel": "R",
    "tags": [
     "report_cell"
    ],
    "vscode": {
     "languageId": "r"
    }
   },
   "outputs": [
    {
     "data": {
      "image/png": "[encoded data removed]",
      "text/plain": [
       "plot without title"
      ]
     },
     "metadata": {
      "image/png": {
       "height": 420,
       "width": 420
      }
     },
     "output_type": "display_data"
    }
   ],
   "source": [
    "options(repr.plot.width=7, repr.plot.height=7)\n",
    "curve(p_tilde, 0, 1, lwd=3, col=\"black\",ylab=\"\", ylim=c(0,4))\n",
    "curve(q,       0, 1, lwd=3, col=\"red\",add=TRUE)\n",
    "legend(\"topright\",legend=c(\"Target pdf\",\"Approximation\"),lwd=3,col=c(\"black\",\"red\"))"
   ]
  },
  {
   "cell_type": "markdown",
   "id": "0bd45537",
   "metadata": {},
   "source": [
    "The next example approximates a beta distribution with the [**Kumaraswamy distribution,**](https://en.wikipedia.org/wiki/Kumaraswamy_distribution) which has simpler PDF function\n",
    "\n",
    "$$\n",
    "    f_\\text{kumar}(x|a,b) = abx^{a-1}(1-x^a)^{b-1}\n",
    "$$\n",
    "\n",
    "and has a closed CDF expression:\n",
    "\n",
    "$$\n",
    "    F_\\text{kumar}(x|a,b) = 1-(1-x^a)^b\n",
    "$$\n",
    "\n",
    "In this [post](https://www.johndcook.com/blog/2009/11/24/kumaraswamy-distribution/), John Cook refers that, since the CDF is easy to invert, it's simple to generate random samples from $K(a,b)$ by generating $u \\sim U(0,1)$ and return\n",
    "\n",
    "$$\n",
    "    F^{-1} = (1-(1-u)^{1/b})^{1/a}\n",
    "$$"
   ]
  },
  {
   "cell_type": "code",
   "execution_count": 14,
   "id": "1773cf1c-4b46-4536-a382-16ff2353dc2e",
   "metadata": {
    "kernel": "R",
    "tags": [
     "report_cell"
    ],
    "vscode": {
     "languageId": "r"
    }
   },
   "outputs": [],
   "source": [
    "#install.packages(\"extraDistr\", repos= \"https://cloud.r-project.org\")\n",
    "require(extraDistr,quietly=TRUE)"
   ]
  },
  {
   "cell_type": "markdown",
   "id": "f304b85a-d605-4d83-b4af-97916c501b3f",
   "metadata": {},
   "source": [
    "Simulate $ n$ samples from the $f_\\text{kumar}(x|a,b)$ pdf by the inverse cdf method"
   ]
  },
  {
   "cell_type": "code",
   "execution_count": 15,
   "id": "767f1960-1a6c-4574-bc08-883ef0c03f94",
   "metadata": {
    "kernel": "R",
    "tags": [
     "report_cell"
    ],
    "vscode": {
     "languageId": "r"
    }
   },
   "outputs": [],
   "source": [
    "n <- 1e4\n",
    "u <- runif(n)\n",
    "\n",
    "a <- 1/2\n",
    "b <- 1/2\n",
    "\n",
    "ku <- (1 - (1-u)^(1/b))^(1/a)"
   ]
  },
  {
   "cell_type": "code",
   "execution_count": 16,
   "id": "3b09c403-a244-4dc7-9387-394231357a93",
   "metadata": {
    "kernel": "R",
    "tags": [
     "report_cell"
    ],
    "vscode": {
     "languageId": "r"
    }
   },
   "outputs": [
    {
     "data": {
      "image/png": "[encoded data removed]",
      "text/plain": [
       "Plot with title \"Histogram of ku\""
      ]
     },
     "metadata": {
      "image/png": {
       "height": 420,
       "width": 420
      }
     },
     "output_type": "display_data"
    }
   ],
   "source": [
    "options(repr.plot.width=7, repr.plot.height=7)\n",
    "hist(ku, breaks=50, prob=TRUE)\n",
    "q <- function(x) dkumar(x,a,b)\n",
    "curve(q, 0, 1, lwd=3, col=\"red\", add=TRUE)"
   ]
  },
  {
   "cell_type": "markdown",
   "id": "6aaeab51-e871-43a7-a31b-4041b32c7521",
   "metadata": {},
   "source": [
    "Variational approximation of a **Beta(1/2,1/2) target pdf with a Kumaraswamy**"
   ]
  },
  {
   "cell_type": "code",
   "execution_count": 17,
   "id": "d25d8c66-fdc5-4ddf-9167-584d82c34e3e",
   "metadata": {
    "Rmd_chunk_options": "collapse=TRUE",
    "kernel": "R",
    "tags": [
     "report_cell"
    ],
    "vscode": {
     "languageId": "r"
    }
   },
   "outputs": [],
   "source": [
    "variational_kumaraswamy <- function(p_tilde, lower, upper) {\n",
    "  q <- dkumar\n",
    "\n",
    "  J <- function(params) {\n",
    "    # TODO: somehow the KL-divergence function outputs negative values (?)\n",
    "    # included abs() in order to work\n",
    "    abs(KL(q, p_tilde, lower=lower, upper=upper, a=params[1], b=params[2]))\n",
    "  }\n",
    "\n",
    "  optim(par=c(0.5, 0.5), fn=J, method=\"BFGS\")$par\n",
    "}\n",
    "\n",
    "p_tilde <- function(x) dbeta(x,1/2,1/2)\n",
    "\n",
    "approximation_params <- variational_kumaraswamy(p_tilde, lower=0.01, upper=0.99)"
   ]
  },
  {
   "cell_type": "code",
   "execution_count": 18,
   "id": "56f48e65-13c1-44bb-8b72-1d3968583657",
   "metadata": {
    "vscode": {
     "languageId": "r"
    }
   },
   "outputs": [
    {
     "name": "stdout",
     "output_type": "stream",
     "text": [
      " num [1:2] 0.479 0.483\n"
     ]
    }
   ],
   "source": [
    "str(approximation_params)"
   ]
  },
  {
   "cell_type": "code",
   "execution_count": 19,
   "id": "b59b9bc4-ee93-411d-bd7d-cc698bcce660",
   "metadata": {
    "Rmd_chunk_options": "collapse=TRUE",
    "kernel": "R",
    "tags": [
     "report_cell"
    ],
    "vscode": {
     "languageId": "r"
    }
   },
   "outputs": [],
   "source": [
    "# get the resulting approximation:\n",
    "q <- function(x) dkumar(x, approximation_params[1], approximation_params[2])"
   ]
  },
  {
   "cell_type": "code",
   "execution_count": 20,
   "id": "6e19e2a4-c87a-4a6d-b72f-cdd400ac378b",
   "metadata": {
    "Rmd_chunk_options": "collapse=TRUE",
    "kernel": "R",
    "tags": [
     "report_cell"
    ],
    "vscode": {
     "languageId": "r"
    }
   },
   "outputs": [
    {
     "data": {
      "text/html": [
       "1.24032728532342e-16"
      ],
      "text/latex": [
       "1.24032728532342e-16"
      ],
      "text/markdown": [
       "1.24032728532342e-16"
      ],
      "text/plain": [
       "[1] 1.240327e-16"
      ]
     },
     "metadata": {},
     "output_type": "display_data"
    }
   ],
   "source": [
    "KL(q,p_tilde,0.01,0.99) # compute their KL \"distance\""
   ]
  },
  {
   "cell_type": "code",
   "execution_count": 21,
   "id": "a6ffb564-d2fc-4f0a-aac7-e51a3c74caf7",
   "metadata": {
    "Rmd_chunk_options": "collapse=TRUE",
    "kernel": "R",
    "tags": [
     "report_cell"
    ],
    "vscode": {
     "languageId": "r"
    }
   },
   "outputs": [
    {
     "data": {
      "image/png": "[encoded data removed]",
      "text/plain": [
       "plot without title"
      ]
     },
     "metadata": {
      "image/png": {
       "height": 420,
       "width": 420
      }
     },
     "output_type": "display_data"
    }
   ],
   "source": [
    "options(repr.plot.width=7, repr.plot.height=7)\n",
    "curve(p_tilde, 0, 1, lwd=3, col=\"black\",ylab=\"\", ylim=c(0,4))\n",
    "curve(q,       0, 1, lwd=3, col=\"red\",   add=TRUE)\n",
    "legend(\"topright\",legend=c(\"Target pdf\",\"Approximation\"),lwd=3,col=c(\"black\",\"red\"))"
   ]
  },
  {
   "cell_type": "markdown",
   "id": "ee571ad5",
   "metadata": {},
   "source": [
    "Another example"
   ]
  },
  {
   "cell_type": "markdown",
   "id": "21b7aa4a-77c8-4c7c-bb7b-d127c3d6ee6e",
   "metadata": {},
   "source": [
    "Variational approximation of a **Beta(3,3) target pdf with a Kumaraswamy**"
   ]
  },
  {
   "cell_type": "code",
   "execution_count": 22,
   "id": "eecfc10f-3e01-4f67-8a47-90acbbd9e845",
   "metadata": {
    "kernel": "R",
    "tags": [
     "report_cell"
    ],
    "vscode": {
     "languageId": "r"
    }
   },
   "outputs": [],
   "source": [
    "p_tilde <- function(x) dbeta(x,3,3)"
   ]
  },
  {
   "cell_type": "code",
   "execution_count": 23,
   "id": "abb306ee-e218-4543-8ed4-e3b23938a580",
   "metadata": {
    "kernel": "R",
    "tags": [
     "report_cell"
    ],
    "vscode": {
     "languageId": "r"
    }
   },
   "outputs": [],
   "source": [
    "approximation_params <- variational_kumaraswamy(p_tilde, lower=0.01, upper=0.99)\n",
    "# get the resulting approximation:\n",
    "q <- function(x) dkumar(x, approximation_params[1], approximation_params[2])"
   ]
  },
  {
   "cell_type": "code",
   "execution_count": 24,
   "id": "b6f22baf-01a3-444d-828e-0e3ef53ff0e3",
   "metadata": {
    "kernel": "R",
    "tags": [
     "report_cell"
    ],
    "vscode": {
     "languageId": "r"
    }
   },
   "outputs": [
    {
     "data": {
      "text/html": [
       "0.00138622154077673"
      ],
      "text/latex": [
       "0.00138622154077673"
      ],
      "text/markdown": [
       "0.00138622154077673"
      ],
      "text/plain": [
       "[1] 0.001386222"
      ]
     },
     "metadata": {},
     "output_type": "display_data"
    }
   ],
   "source": [
    "#q <- function(x) dkumar(x, 5, 251/40)\n",
    "\n",
    "KL(q,p_tilde,0.01,0.99) # compute their distance"
   ]
  },
  {
   "cell_type": "code",
   "execution_count": 25,
   "id": "9dc42747-f5ac-46df-a49b-bd10337c1fd7",
   "metadata": {
    "kernel": "R",
    "tags": [
     "report_cell"
    ],
    "vscode": {
     "languageId": "r"
    }
   },
   "outputs": [
    {
     "data": {
      "image/png": "[encoded data removed]",
      "text/plain": [
       "plot without title"
      ]
     },
     "metadata": {
      "image/png": {
       "height": 420,
       "width": 420
      }
     },
     "output_type": "display_data"
    }
   ],
   "source": [
    "options(repr.plot.width=7, repr.plot.height=7)\n",
    "curve(p_tilde, 0, 1, lwd=3,col=\"black\",ylab=\"\", ylim=c(0,2.0))\n",
    "curve(q,       0, 1, lwd=3,col=\"red\", add=TRUE)\n",
    "legend(\"topright\",legend=c(\"Target pdf\",\"Approximation\"),lwd=3,col=c(\"black\",\"red\"))"
   ]
  },
  {
   "cell_type": "markdown",
   "id": "922015ab",
   "metadata": {},
   "source": [
    "But this method, for these two distributions, is very unstable. It diverges with many parameter values..."
   ]
  }
 ],
 "metadata": {
  "Rmd_chunk_options": {
   "date": "June, 2015",
   "output": {
    "html_document": {
     "toc": true,
     "toc_depth": 2
    }
   },
   "title": "Variational Inference"
  },
  "kernelspec": {
   "display_name": "R",
   "language": "R",
   "name": "ir"
  },
  "language_info": {
   "codemirror_mode": "r",
   "file_extension": ".r",
   "mimetype": "text/x-r-source",
   "name": "R",
   "pygments_lexer": "r",
   "version": "4.3.0"
  },
  "sos": {
   "kernels": [
    [
     "SoS",
     "sos",
     "",
     ""
    ],
    [
     "R",
     "ir",
     "",
     ""
    ]
   ]
  }
 },
 "nbformat": 4,
 "nbformat_minor": 5
}
