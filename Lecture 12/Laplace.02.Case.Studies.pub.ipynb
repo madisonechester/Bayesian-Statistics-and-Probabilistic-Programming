{
 "cells": [
  {
   "cell_type": "markdown",
   "metadata": {
    "tags": []
   },
   "source": [
    "# Laplace approximation - 02 (Case studies)"
   ]
  },
  {
   "cell_type": "markdown",
   "metadata": {},
   "source": [
    "_Adapted from Josep Fortiana (2023-05-22) by Jordi Abante (2024-05-13)_"
   ]
  },
  {
   "cell_type": "markdown",
   "metadata": {},
   "source": [
    "# Case study 1: Tennis - First serve success rate\n",
    "\n",
    "This example is taken from lectures by [Surya Tapas Tokdar](http://www2.stat.duke.edu/~st118/). "
   ]
  },
  {
   "cell_type": "markdown",
   "metadata": {},
   "source": [
    "Data: $\\mathbf{x}=(x_1,\\dots,x_n)$ on the first serve success rates $\\in(0,1)$ of a tennis player from $n$ tournament matches. \n",
    "\n",
    "Model:\n",
    "\n",
    "$$\n",
    "    X_i\\quad \\text{i.i.d} \\sim X \\quad\\text{with pdf:}\\quad\n",
    "    g(x\\,|\\,\\theta)=\\theta\\,(\\theta+1)\\,x^{\\theta-1}\\cdot(1-x),\\quad x\\in(0,1),\\; \\theta>0.\n",
    "$$\n",
    "\n",
    "This is a $\\operatorname{Beta}(\\theta,2)$ pdf. "
   ]
  },
  {
   "cell_type": "markdown",
   "metadata": {},
   "source": [
    "The $\\operatorname{Beta}$ family with one fixed parameter is an exponential family, hence a conjugate prior is known to exist. \n",
    "\n",
    "However it is not commonly used. There exists a GLM model for beta-distributed response data, but it is based on a different parameterization for the $\\operatorname{Beta}$ family (see the `betareg` package). \n",
    "\n",
    "Here we assign $\\theta$ a $\\operatorname{Gamma}(\\alpha,\\beta)$ prior.\n",
    "\n",
    "Observed data for a sample of $n=20$ observations is summarized as $\\sum_{i=1}^{n}\\log x_i=-4.59$ (see below)."
   ]
  },
  {
   "cell_type": "markdown",
   "metadata": {},
   "source": [
    "## Moments\n",
    "\n",
    "A straightforward computation gives the $k$-th moment of this distribution:\n",
    "\n",
    "$$\n",
    "    \\mu_k\\equiv\\operatorname{E}(X^k)=\\dfrac{\\theta\\,(\\theta+1)}{(\\theta+k)\\,(\\theta+k+1)}.\n",
    "$$\n",
    "\n",
    "In particular, $\\mu_0=1$, i.e., the integral of the pdf is equal to 1 as it should be. Also:\n",
    "\n",
    "$$\n",
    "    \\mu_1=\\operatorname{E}(X)=\\dfrac{\\theta}{\\theta+2},\\quad\n",
    "    \\mu_2=\\dfrac{\\theta\\,(\\theta+1)}{(\\theta+2)\\,(\\theta+3)},\\quad\n",
    "    \\operatorname{var}(X)=\\dfrac{2\\,\\theta}{(\\theta+2)^2\\,(\\theta+3)}.\n",
    "$$"
   ]
  },
  {
   "cell_type": "markdown",
   "metadata": {},
   "source": [
    "## Likelihood\n",
    "\n",
    "For the observed sample of $n$ i.i.d. observations Consider data $\\mathbf{x}=(x_1,\\dots,x_n)$, the likelihood is:\n",
    "\n",
    "$$\n",
    "    f(\\mathbf{x}\\,|\\,\\theta)=\\theta^{n}\\,(\\theta+1)^{n}\\cdot\\left(\\prod_{i=1}^{n}x_i\\right)^{\\theta-1}\\cdot\n",
    "    \\left(\\prod_{i=1}^{n}(1-x_i)\\right)\\propto \\theta^{n}\\,(\\theta+1)^{n}\\cdot G^{n\\,\\theta}\n",
    "$$\n",
    "\n",
    "where $G=\\left(\\prod_{i=1}^{n}x_i\\right)^{1/n}$ is the geometric mean of the $x_i$ and we omit a constant factor (i.e., not depending on $\\theta$)."
   ]
  },
  {
   "cell_type": "markdown",
   "metadata": {},
   "source": [
    "## Log-Likelihood\n",
    "\n",
    "$$\n",
    "   \\ell(\\mathbf{x}\\,|\\,\\theta)\\equiv\\log f(\\mathbf{x}\\,|\\,\\theta)= n\\,\\left[\\,\\log\\theta+\\log(\\theta+1)\n",
    "   +\\theta\\,\\log G\\,\\right]+\\text{const.},\n",
    "$$\n",
    "\n",
    "We can compute $\\widehat{\\theta}_{ML}$, the classical ML estimator of $\\theta$:\n",
    "\n",
    "$$\n",
    "    \\dfrac{\\partial\\ell}{\\partial\\theta}= n\\,\\left[\\,\\dfrac{1}{\\theta}+\\dfrac{1}{\\theta+1}\n",
    "   +\\log G\\,\\right]\n",
    "$$\n",
    "\n",
    "Equating to zero and setting $a=-1/\\log G$, we find that $\\widehat{\\theta}_{ML}$ is the positive root of the quadratic equation: $a\\,(2\\theta+1)=\\theta^2+\\theta$."
   ]
  },
  {
   "cell_type": "code",
   "execution_count": 1,
   "metadata": {
    "vscode": {
     "languageId": "r"
    }
   },
   "outputs": [
    {
     "data": {
      "text/html": [
       "4.357"
      ],
      "text/latex": [
       "4.357"
      ],
      "text/markdown": [
       "4.357"
      ],
      "text/plain": [
       "[1] 4.357"
      ]
     },
     "metadata": {},
     "output_type": "display_data"
    },
    {
     "data": {
      "text/html": [
       "8.243"
      ],
      "text/latex": [
       "8.243"
      ],
      "text/markdown": [
       "8.243"
      ],
      "text/plain": [
       "[1] 8.243"
      ]
     },
     "metadata": {},
     "output_type": "display_data"
    }
   ],
   "source": [
    "n<-20\n",
    "nlG<- -4.59\n",
    "lG<-nlG/n\n",
    "a<- -1/lG\n",
    "round(a,3)\n",
    "D<-sqrt(4*a^2+1)\n",
    "theta.hat.ML<-(2*a-1+D)/2\n",
    "round(theta.hat.ML,3)"
   ]
  },
  {
   "cell_type": "markdown",
   "metadata": {},
   "source": [
    "To gain some insight about this model, we plot the pdf for this $\\widehat{\\theta}_{ML}$ value."
   ]
  },
  {
   "cell_type": "code",
   "execution_count": 2,
   "metadata": {
    "vscode": {
     "languageId": "r"
    }
   },
   "outputs": [],
   "source": [
    "f<-function(x,theta){theta*(theta+1)*x^(theta-1)*(1-x)}"
   ]
  },
  {
   "cell_type": "code",
   "execution_count": 3,
   "metadata": {
    "vscode": {
     "languageId": "r"
    }
   },
   "outputs": [
    {
     "data": {
      "image/png": "[encoded data removed]",
      "text/plain": [
       "Plot with title \"Probability density\""
      ]
     },
     "metadata": {
      "image/png": {
       "height": 360,
       "width": 360
      }
     },
     "output_type": "display_data"
    }
   ],
   "source": [
    "x<-seq(0,1,length=500)\n",
    "y<-f(x,theta.hat.ML)\n",
    "options(repr.plot.width=6,repr.plot.height=6)\n",
    "plot(x,y,type=\"l\",lwd=2.5,col=\"blue\",main=\"Probability density\",ylab=\"\")"
   ]
  },
  {
   "cell_type": "markdown",
   "metadata": {},
   "source": [
    "## Prior pdf"
   ]
  },
  {
   "cell_type": "markdown",
   "metadata": {},
   "source": [
    "We propose a nonconjugate prior $\\operatorname{Gamma}(\\alpha,\\beta)$. Its pdf, up to a constant factor, is:\n",
    "\n",
    "$$\n",
    "    h(\\theta)\\propto \\theta^{\\alpha-1}\\,e^{-\\beta\\,\\theta},\n",
    "$$\n",
    "\n",
    "and its logarithm:\n",
    "\n",
    "$$\n",
    "    \\log h(\\theta)= (\\alpha-1)\\,\\log\\theta-\\beta\\,\\theta+\\text{const.}\n",
    "$$"
   ]
  },
  {
   "cell_type": "markdown",
   "metadata": {},
   "source": [
    "## Log-post"
   ]
  },
  {
   "cell_type": "markdown",
   "metadata": {},
   "source": [
    "We obtain the logarithm of the posterior pdf by _adding_ log-likelihood and $\\log h(\\theta)$. The result, **up to an additive constant,** is:\n",
    "\n",
    "$$\n",
    "    q(\\theta)=(n+\\alpha-1)\\,\\log\\theta+n\\log(\\theta+1)+\\theta\\,(n\\log G-\\beta).\n",
    "$$"
   ]
  },
  {
   "cell_type": "markdown",
   "metadata": {},
   "source": [
    "## Laplace approximation"
   ]
  },
  {
   "cell_type": "markdown",
   "metadata": {},
   "source": [
    "We approximate the posterior pdf on a neighbourhood of its mode $\\theta_{0}$ (the MAP estimate of $\\theta$) with a $\\operatorname{N}(\\mu,\\sigma^2)$, where $\\mu=\\theta_{0}$ and $\\sigma^2=\\dfrac{1}{\\left|\\,q''(\\theta_{0})\\,\\right|}$."
   ]
  },
  {
   "cell_type": "markdown",
   "metadata": {},
   "source": [
    "### Locate posterior mode"
   ]
  },
  {
   "cell_type": "markdown",
   "metadata": {},
   "source": [
    "To locate $\\theta_0$, we equate to zero the derivative:\n",
    "\n",
    "$$\n",
    "    q'(\\theta)=\\dfrac{n+\\alpha-1}{\\theta}+\\dfrac{n}{\\theta+1}+n\\,\\log G -\\beta,\n",
    "$$\n",
    "\n",
    "which gives the quadratic equation:\n",
    "\n",
    "$$\n",
    "    \\theta\\,(\\theta+1)\\,(n\\log G-\\beta)+(\\theta+1)\\,(n+\\alpha-1)+\\theta\\,n=0,\n",
    "$$\n",
    "\n",
    "or:\n",
    "\n",
    "$$\n",
    "    \\theta^2\\,(n\\,\\log G-\\beta)+\\theta\\,(n\\log G-\\beta+\\alpha+2n-1)+(n+\\alpha-1)\n",
    "$$\n",
    "\n",
    "We do it for $\\alpha=\\beta=1$."
   ]
  },
  {
   "cell_type": "code",
   "execution_count": 4,
   "metadata": {
    "vscode": {
     "languageId": "r"
    }
   },
   "outputs": [
    {
     "data": {
      "text/html": [
       "6.6904"
      ],
      "text/latex": [
       "6.6904"
      ],
      "text/markdown": [
       "6.6904"
      ],
      "text/plain": [
       "[1] 6.6904"
      ]
     },
     "metadata": {},
     "output_type": "display_data"
    }
   ],
   "source": [
    "A<-function(nlG,alpha,beta){nlG-beta}\n",
    "B<-function(n,nlG,alpha,beta){nlG-beta+alpha+2*n-1}\n",
    "C<-function(n,alpha){n+alpha-1}\n",
    "alpha<-1\n",
    "beta<-1\n",
    "A.1<-A(nlG,alpha,beta)\n",
    "B.1<-B(n,nlG,alpha,beta)\n",
    "C.1<-C(n,alpha)\n",
    "p<-function(t){A.1*t^2+B.1*t+C.1}\n",
    "R<-uniroot(p,c(0,12))\n",
    "theta.0<-R$root\n",
    "round(theta.0,4)"
   ]
  },
  {
   "cell_type": "markdown",
   "metadata": {},
   "source": [
    "### Second derivative\n",
    "\n",
    "$$\n",
    "    q''(\\theta)=-\\dfrac{n+\\alpha-1}{\\theta^2}-\\dfrac{n}{(\\theta+1)^2}\n",
    "$$"
   ]
  },
  {
   "cell_type": "code",
   "execution_count": 5,
   "metadata": {
    "vscode": {
     "languageId": "r"
    }
   },
   "outputs": [
    {
     "data": {
      "text/html": [
       "0.785"
      ],
      "text/latex": [
       "0.785"
      ],
      "text/markdown": [
       "0.785"
      ],
      "text/plain": [
       "[1] 0.785"
      ]
     },
     "metadata": {},
     "output_type": "display_data"
    },
    {
     "data": {
      "text/html": [
       "1.2739"
      ],
      "text/latex": [
       "1.2739"
      ],
      "text/markdown": [
       "1.2739"
      ],
      "text/plain": [
       "[1] 1.2739"
      ]
     },
     "metadata": {},
     "output_type": "display_data"
    },
    {
     "data": {
      "text/html": [
       "1.1287"
      ],
      "text/latex": [
       "1.1287"
      ],
      "text/markdown": [
       "1.1287"
      ],
      "text/plain": [
       "[1] 1.1287"
      ]
     },
     "metadata": {},
     "output_type": "display_data"
    }
   ],
   "source": [
    "abs.q2<-function(t){(n+alpha-1)/t^2+n/(t+1)^2}\n",
    "round(abs.q2(theta.0),4)\n",
    "sigma2<-1/abs.q2(theta.0)\n",
    "round(sigma2,4)\n",
    "sigma<-sqrt(sigma2)\n",
    "round(sigma,4)"
   ]
  },
  {
   "cell_type": "markdown",
   "metadata": {},
   "source": [
    "## Compare posterior pdf with its Laplace approximation\n",
    "\n",
    "(to do this we need to normalize the posterior pdf)"
   ]
  },
  {
   "cell_type": "code",
   "execution_count": 6,
   "metadata": {
    "vscode": {
     "languageId": "r"
    }
   },
   "outputs": [],
   "source": [
    "# Integrate the nonnormalized density, then divide by the resulting normalization constant\n",
    "logh<-function(t){(n+alpha-1)*log(t)+n*log(t+1)+(nlG-beta)*t}\n",
    "nnh<-function(t){exp(logh(t))}\n",
    "Z<-integrate(nnh,2,11)$value\n",
    "h<-function(t){nnh(t)/Z}"
   ]
  },
  {
   "cell_type": "code",
   "execution_count": 7,
   "metadata": {
    "vscode": {
     "languageId": "r"
    }
   },
   "outputs": [
    {
     "data": {
      "image/png": "[encoded data removed]",
      "text/plain": [
       "Plot with title \"Posterior pdf and Laplace approximation\""
      ]
     },
     "metadata": {
      "image/png": {
       "height": 360,
       "width": 360
      }
     },
     "output_type": "display_data"
    }
   ],
   "source": [
    "options(repr.plot.width=6,repr.plot.height=6)\n",
    "u<-seq(2,11,length=500)\n",
    "plot(u,h(u),\"l\",lwd=2.5,col=\"blue\",main=\"Posterior pdf and Laplace approximation\",ylab=\"\",xlab=expression(theta))\n",
    "lines(u,dnorm(u,mean=theta.0,sd=sigma),col=\"red\",lwd=2.5)\n",
    "legend(\"topright\",legend=c(\"Posterior pdf\",\"Laplace approx.\"),lwd=2.2,col=c(\"blue\",\"red\"))"
   ]
  },
  {
   "cell_type": "markdown",
   "metadata": {},
   "source": [
    "# Case study 2: Rates of death from stomach cancer "
   ]
  },
  {
   "cell_type": "markdown",
   "metadata": {},
   "source": [
    "# A beta-binomial model for overdispersion"
   ]
  },
  {
   "cell_type": "markdown",
   "metadata": {},
   "source": [
    "## Data\n",
    "\n",
    "From Albert, J. (2009), _Bayesian computation with R (2nd ed),_ Springer, Chapter 5.\n",
    "\n",
    "Data from males at risk in the age bracket 45–64 for the $n=20$ of the largest cities in Missouri. \n",
    "\n",
    "Each pair $(y_j,n_j)$ represents the number $y_j$ of cancer deaths out of the the number $n_j$ of individuals at risk.\n",
    "\n",
    "$$\n",
    "\\begin{array}{|c|cccccccccc|}\n",
    "\t \\hline\n",
    "    a_{j} &45  \t&46  \t&47  \t&48  \t&49  \t&50  \t&51  \t&52  \t&53  \t&54 \\\\\n",
    "\tn_{j} &1083  \t&855  \t&3461   &657  \t&1208  \t&1025   &527  \t&1668   &583   \t&582\\\\\n",
    "\ty_{j} &0  \t&0  \t&2  \t&0  \t&1  \t&1  \t&0  \t&2  \t&1  \t&3 \\\\\n",
    "\t \\hline\\hline\n",
    "\ta_{j} &55  \t&56  \t&57  \t&58  \t&59  \t&60  \t&61  \t&62  \t&63  \t&64 \\\\\n",
    "\tn_{j} &917   &857   &680   \t&917 \t&53637  &874   \t&395   \t&581   \t&588   \t&383\\\\\n",
    "\ty_{j} &0  \t&1  \t&1  \t&1 \t\t&54  \t&0  \t&0  \t&1  \t&3  \t&0\\\\\n",
    "\t\\hline\n",
    "\\end{array}%\n",
    "$$"
   ]
  },
  {
   "cell_type": "code",
   "execution_count": 8,
   "metadata": {
    "vscode": {
     "languageId": "r"
    }
   },
   "outputs": [],
   "source": [
    "#install.packages(\"LearnBayes\",dependencies=TRUE,repos= \"https://cloud.r-project.org\")\n",
    "require(LearnBayes,quietly=TRUE)"
   ]
  },
  {
   "cell_type": "code",
   "execution_count": 9,
   "metadata": {
    "vscode": {
     "languageId": "r"
    }
   },
   "outputs": [
    {
     "name": "stdout",
     "output_type": "stream",
     "text": [
      "'data.frame':\t20 obs. of  2 variables:\n",
      " $ y: int  0 0 2 0 1 1 0 2 1 3 ...\n",
      " $ n: int  1083 855 3461 657 1208 1025 527 1668 583 582 ...\n"
     ]
    }
   ],
   "source": [
    "data(cancermortality)\n",
    "str(cancermortality)"
   ]
  },
  {
   "cell_type": "code",
   "execution_count": 10,
   "metadata": {
    "vscode": {
     "languageId": "r"
    }
   },
   "outputs": [],
   "source": [
    "y<-cancermortality$y\n",
    "n<-cancermortality$n"
   ]
  },
  {
   "cell_type": "markdown",
   "metadata": {},
   "source": [
    "### Notations: \n",
    "\n",
    "$$\n",
    "    N=\\sum_{i=1}^{k}n_{i},\\mskip35mu Y=\\sum_{i=1}^{k}y_{i},\\mskip35mu f_{j}=\\dfrac{y_{j}}{n_{j}},\n",
    "    \\mskip35mu w_{j}=\\dfrac{n_{j}}{N},\\mskip35mu 1\\leq j\\leq k.\n",
    "$$\n",
    "\n",
    "ML estimation of the $p$, the common probability of death, assuming homogeneous Binomial populations.\n",
    "\n",
    "$$\n",
    "    \\widehat{p}_{ML}=\\sum_{i=1}^{k}w_{i}\\cdot f_{i} = \\dfrac{Y}{N}.\n",
    "$$"
   ]
  },
  {
   "cell_type": "code",
   "execution_count": 11,
   "metadata": {
    "vscode": {
     "languageId": "r"
    }
   },
   "outputs": [
    {
     "data": {
      "text/html": [
       "20"
      ],
      "text/latex": [
       "20"
      ],
      "text/markdown": [
       "20"
      ],
      "text/plain": [
       "[1] 20"
      ]
     },
     "metadata": {},
     "output_type": "display_data"
    },
    {
     "data": {
      "text/html": [
       "71478"
      ],
      "text/latex": [
       "71478"
      ],
      "text/markdown": [
       "71478"
      ],
      "text/plain": [
       "[1] 71478"
      ]
     },
     "metadata": {},
     "output_type": "display_data"
    },
    {
     "data": {
      "text/html": [
       "71"
      ],
      "text/latex": [
       "71"
      ],
      "text/markdown": [
       "71"
      ],
      "text/plain": [
       "[1] 71"
      ]
     },
     "metadata": {},
     "output_type": "display_data"
    },
    {
     "data": {
      "text/html": [
       "<style>\n",
       ".list-inline {list-style: none; margin:0; padding: 0}\n",
       ".list-inline>li {display: inline-block}\n",
       ".list-inline>li:not(:last-child)::after {content: \"\\00b7\"; padding: 0 .5ex}\n",
       "</style>\n",
       "<ol class=list-inline><li>0</li><li>0</li><li>6e-04</li><li>0</li><li>8e-04</li><li>0.001</li><li>0</li><li>0.0012</li><li>0.0017</li><li>0.0052</li><li>0</li><li>0.0012</li><li>0.0015</li><li>0.0011</li><li>0.001</li><li>0</li><li>0</li><li>0.0017</li><li>0.0051</li><li>0</li></ol>\n"
      ],
      "text/latex": [
       "\\begin{enumerate*}\n",
       "\\item 0\n",
       "\\item 0\n",
       "\\item 6e-04\n",
       "\\item 0\n",
       "\\item 8e-04\n",
       "\\item 0.001\n",
       "\\item 0\n",
       "\\item 0.0012\n",
       "\\item 0.0017\n",
       "\\item 0.0052\n",
       "\\item 0\n",
       "\\item 0.0012\n",
       "\\item 0.0015\n",
       "\\item 0.0011\n",
       "\\item 0.001\n",
       "\\item 0\n",
       "\\item 0\n",
       "\\item 0.0017\n",
       "\\item 0.0051\n",
       "\\item 0\n",
       "\\end{enumerate*}\n"
      ],
      "text/markdown": [
       "1. 0\n",
       "2. 0\n",
       "3. 6e-04\n",
       "4. 0\n",
       "5. 8e-04\n",
       "6. 0.001\n",
       "7. 0\n",
       "8. 0.0012\n",
       "9. 0.0017\n",
       "10. 0.0052\n",
       "11. 0\n",
       "12. 0.0012\n",
       "13. 0.0015\n",
       "14. 0.0011\n",
       "15. 0.001\n",
       "16. 0\n",
       "17. 0\n",
       "18. 0.0017\n",
       "19. 0.0051\n",
       "20. 0\n",
       "\n",
       "\n"
      ],
      "text/plain": [
       " [1] 0.0000 0.0000 0.0006 0.0000 0.0008 0.0010 0.0000 0.0012 0.0017 0.0052\n",
       "[11] 0.0000 0.0012 0.0015 0.0011 0.0010 0.0000 0.0000 0.0017 0.0051 0.0000"
      ]
     },
     "metadata": {},
     "output_type": "display_data"
    },
    {
     "data": {
      "text/html": [
       "<style>\n",
       ".list-inline {list-style: none; margin:0; padding: 0}\n",
       ".list-inline>li {display: inline-block}\n",
       ".list-inline>li:not(:last-child)::after {content: \"\\00b7\"; padding: 0 .5ex}\n",
       "</style>\n",
       "<ol class=list-inline><li>0.015</li><li>0.012</li><li>0.048</li><li>0.009</li><li>0.017</li><li>0.014</li><li>0.007</li><li>0.023</li><li>0.008</li><li>0.008</li><li>0.013</li><li>0.012</li><li>0.01</li><li>0.013</li><li>0.75</li><li>0.012</li><li>0.006</li><li>0.008</li><li>0.008</li><li>0.005</li></ol>\n"
      ],
      "text/latex": [
       "\\begin{enumerate*}\n",
       "\\item 0.015\n",
       "\\item 0.012\n",
       "\\item 0.048\n",
       "\\item 0.009\n",
       "\\item 0.017\n",
       "\\item 0.014\n",
       "\\item 0.007\n",
       "\\item 0.023\n",
       "\\item 0.008\n",
       "\\item 0.008\n",
       "\\item 0.013\n",
       "\\item 0.012\n",
       "\\item 0.01\n",
       "\\item 0.013\n",
       "\\item 0.75\n",
       "\\item 0.012\n",
       "\\item 0.006\n",
       "\\item 0.008\n",
       "\\item 0.008\n",
       "\\item 0.005\n",
       "\\end{enumerate*}\n"
      ],
      "text/markdown": [
       "1. 0.015\n",
       "2. 0.012\n",
       "3. 0.048\n",
       "4. 0.009\n",
       "5. 0.017\n",
       "6. 0.014\n",
       "7. 0.007\n",
       "8. 0.023\n",
       "9. 0.008\n",
       "10. 0.008\n",
       "11. 0.013\n",
       "12. 0.012\n",
       "13. 0.01\n",
       "14. 0.013\n",
       "15. 0.75\n",
       "16. 0.012\n",
       "17. 0.006\n",
       "18. 0.008\n",
       "19. 0.008\n",
       "20. 0.005\n",
       "\n",
       "\n"
      ],
      "text/plain": [
       " [1] 0.015 0.012 0.048 0.009 0.017 0.014 0.007 0.023 0.008 0.008 0.013 0.012\n",
       "[13] 0.010 0.013 0.750 0.012 0.006 0.008 0.008 0.005"
      ]
     },
     "metadata": {},
     "output_type": "display_data"
    },
    {
     "data": {
      "text/html": [
       "0.000993"
      ],
      "text/latex": [
       "0.000993"
      ],
      "text/markdown": [
       "0.000993"
      ],
      "text/plain": [
       "[1] 0.000993"
      ]
     },
     "metadata": {},
     "output_type": "display_data"
    }
   ],
   "source": [
    "k<-length(y)\n",
    "N<-sum(n)\n",
    "Y<-sum(y)\n",
    "f<-y/n\n",
    "w<-n/N\n",
    "p.hat.ML<-sum(f*w)\n",
    "k\n",
    "N\n",
    "Y\n",
    "round(f,4)\n",
    "round(w,3)\n",
    "# Estimation of a common p\n",
    "round(p.hat.ML,6)"
   ]
  },
  {
   "cell_type": "markdown",
   "metadata": {},
   "source": [
    "### Overdispersion\n",
    "\n",
    "We compute the variance of these data: \n",
    "\n",
    "1. By assuming only $k$ observations $y_{j}$ with weights $w_{j}$, \n",
    "2. By assuming a Bernoulli or Binomial likelihood. In this second case there are two possibilities, depending on whether we assume or not a common probability for all $k$ binomials.\n",
    "\n",
    "In any of these assumptions we find the raw empirical variance of the observed data is **much larger than what could be expected** if the model were indeed Binomial. \n",
    "\n",
    "Thus we are bound to discard the Binomial model and find another discrete distribution allowing for _overdisperse data_ such as these."
   ]
  },
  {
   "cell_type": "code",
   "execution_count": 12,
   "metadata": {
    "vscode": {
     "languageId": "r"
    }
   },
   "outputs": [
    {
     "data": {
      "text/html": [
       "<span style=white-space:pre-wrap>'Empirical expectation:  40.8'</span>"
      ],
      "text/latex": [
       "'Empirical expectation:  40.8'"
      ],
      "text/markdown": [
       "<span style=white-space:pre-wrap>'Empirical expectation:  40.8'</span>"
      ],
      "text/plain": [
       "[1] \"Empirical expectation:  40.8\""
      ]
     },
     "metadata": {},
     "output_type": "display_data"
    },
    {
     "data": {
      "text/html": [
       "<span style=white-space:pre-wrap>'Empirical variance:  524.36'</span>"
      ],
      "text/latex": [
       "'Empirical variance:  524.36'"
      ],
      "text/markdown": [
       "<span style=white-space:pre-wrap>'Empirical variance:  524.36'</span>"
      ],
      "text/plain": [
       "[1] \"Empirical variance:  524.36\""
      ]
     },
     "metadata": {},
     "output_type": "display_data"
    },
    {
     "data": {
      "text/html": [
       "70.93"
      ],
      "text/latex": [
       "70.93"
      ],
      "text/markdown": [
       "70.93"
      ],
      "text/plain": [
       "[1] 70.93"
      ]
     },
     "metadata": {},
     "output_type": "display_data"
    },
    {
     "data": {
      "text/html": [
       "40.75"
      ],
      "text/latex": [
       "40.75"
      ],
      "text/markdown": [
       "40.75"
      ],
      "text/plain": [
       "[1] 40.75"
      ]
     },
     "metadata": {},
     "output_type": "display_data"
    },
    {
     "data": {
      "text/html": [
       "40.29"
      ],
      "text/latex": [
       "40.29"
      ],
      "text/markdown": [
       "40.29"
      ],
      "text/plain": [
       "[1] 40.29"
      ]
     },
     "metadata": {},
     "output_type": "display_data"
    }
   ],
   "source": [
    "# Empirical expectation and variance (raw)\n",
    "y.bar<-sum(w*y)\n",
    "paste(\"Empirical expectation: \",round(y.bar,2))\n",
    "#[1] 40.79601\n",
    "s.y.2<-sum(w*(y-y.bar)^2)\n",
    "paste(\"Empirical variance: \",round(s.y.2,2))\n",
    "# Variance of observed mortality counts, assuming N Bernoulli r.v. with common p\n",
    "Var.Bernoulli<-N*p.hat.ML*(1-p.hat.ML)\n",
    "round(Var.Bernoulli,2)\n",
    "# Variance of observed mortality counts, assuming k Binomials B(n_j,p_j), with weights w_j\n",
    "Var.Binom.1<-sum(w*n*f*(1-f))\n",
    "round(Var.Binom.1,2)\n",
    "# Variance of observed mortality counts, assuming k Binomials B(n_j,p), with weights w_j\n",
    "Var.Binom.2<-sum(w*n*p.hat.ML*(1-p.hat.ML))\n",
    "round(Var.Binom.2,2)"
   ]
  },
  {
   "cell_type": "markdown",
   "metadata": {},
   "source": [
    "## Beta-Binomial model"
   ]
  },
  {
   "cell_type": "markdown",
   "metadata": {},
   "source": [
    "We first met the Beta-Binomial distribution as the prior predictive distribution for a Binomial model with a Beta prior. \n",
    "\n",
    "It is  _a discrete distribution with support on the set of integers from 0 to $n$._ \n",
    "\n",
    "Its variance can be larger than that of the Binomial, depending on an additional parameter. We use it here as the likelihood for each observation $y_{i}$:\n",
    "\n",
    "$$\n",
    "\tf(y\\,|\\,n,\\alpha,\\beta)=\\binom{n}{y}\\cdot\n",
    "    \\dfrac{\\operatorname{B}(\\alpha+y,\\beta+n-y)}{\\operatorname{B}(\\alpha,\\beta)}.\n",
    "$$\n",
    "\n",
    "where $\\operatorname{B}(\\,\\cdot\\,,\\,\\cdot\\,)$ is a Beta function. \n",
    "\n",
    "Expectation and variance:\n",
    "    \n",
    "\\begin{align*}\n",
    "\t\\operatorname{E}(Y)&=n\\cdot\\dfrac{\\alpha}{\\alpha+\\beta},\\\\\n",
    "\t\\operatorname{var}(Y)&=n\\cdot\\dfrac{\\alpha\\beta}{(\\alpha+\\beta)^{2}}\\cdot\n",
    "\t\\dfrac{\\alpha+\\beta+n}{\\alpha+\\beta+1}.\n",
    "\\end{align*}"
   ]
  },
  {
   "cell_type": "markdown",
   "metadata": {},
   "source": [
    "## Reparameterizations\n",
    "\n",
    "Two usual reparameterizations of the Beta-Binomial pdf. Their goal is to have the expectation as a single parameter and, at the same time, to explicitly show expectation and variance in comparison with those of the Binomial. In both of them $\\eta\\in(0,1)$ has the meaning of a probability, as in the Binomial:"
   ]
  },
  {
   "cell_type": "markdown",
   "metadata": {},
   "source": [
    "### Reparameterization (1)\n",
    "\n",
    "$$\n",
    "    \\begin{array}{cl}\n",
    "\t\\eta\t&=\\dfrac{\\alpha}{\\alpha+\\beta}, \\mskip40mu \\rho=\\dfrac{1}{(\\alpha+\\beta+1)},\n",
    "    \\mskip40mu \\eta\\in(0,1),\\quad \\rho\\in(0,1),\\\\[0.3cm]\n",
    "\t\\alpha\t&=\\eta\\cdot\\dfrac{1-\\rho}{\\rho},\\quad \\beta=(1-\\eta)\\cdot\\dfrac{1-\\rho}{\\rho},\\\\[0.3cm]\n",
    "\t\\operatorname{E}(Y)&=n\\cdot\\eta,\\\\[0.3cm]\n",
    "\t\\operatorname{var}(Y)&=n\\cdot\\eta\\cdot(1-\\eta)\\cdot[1+(n-1)\\,\\rho].\n",
    "    \\end{array}\n",
    "$$"
   ]
  },
  {
   "cell_type": "markdown",
   "metadata": {},
   "source": [
    "### Reparameterization (2)\n",
    "\n",
    "$$\n",
    "    \\begin{array}{cl}\n",
    "\tK\t\t&=\\dfrac{1-\\rho}{\\rho}=\\alpha+\\beta, \\mskip40mu \\rho=\\dfrac{1}{(K+1)},\n",
    "    \\mskip40mu \\eta\\in(0,1),\\quad K\\in(0,\\infty),\\\\[0.3cm]\n",
    "\t\\operatorname{E}(Y)&=n\\cdot\\eta,\\\\[0.3cm]\n",
    "\t\\operatorname{var}(Y)&=n\\cdot\\eta\\cdot(1-\\eta)\\cdot\\dfrac{K+n}{K+1}.\n",
    "    \\end{array}\n",
    "$$"
   ]
  },
  {
   "cell_type": "markdown",
   "metadata": {},
   "source": [
    "### Beta-Binomial likelihood with the $(\\eta,K)$ parameterization\n",
    "\n",
    "$$\n",
    "\tf(y\\,|\\,n,\\eta,K)=\\binom{n}{y}\\cdot\n",
    "    \\dfrac{\\operatorname{B}(K\\,\\eta+y,K\\,(1-\\eta)+n-y)}{\\operatorname{B}(K\\,\\eta,K\\,(1-\\eta))}.\n",
    "$$\n"
   ]
  },
  {
   "cell_type": "markdown",
   "metadata": {},
   "source": [
    "## Joint prior pdf\n",
    "\n",
    "A possible non-informative prior (NIP) is:\n",
    "\t\n",
    "$$\n",
    "\tg(\\eta,K)\\propto \\dfrac{1}{\\eta\\cdot(1-\\eta)}\\cdot \\dfrac{1}{(1+K)^{2}},\n",
    "    \\mskip40mu 0<\\eta<1, \\quad 0<K<\\infty,\n",
    "$$\n",
    "\n",
    "the product of its marginals, hence we are assuming independent parameters. It can be checked that the $K$ marginal is the result of transforming the uniform NIP $\\rho\\sim\\operatorname{Unif}(0,1)$."
   ]
  },
  {
   "cell_type": "markdown",
   "metadata": {},
   "source": [
    "## Joint posterior pdf\n",
    "\n",
    "Up to a proportionality constant (containing both the binomial coefficient and the $y$ marginal denominator, the joint posterior pdf of $(\\eta,K)$, given the observed data $\\mathbf{y}=(y_1,\\dots,y_n)$, is:\n",
    "\n",
    "$$\n",
    "\tg(\\eta,K\\,|\\,\\mathbf{y})\\propto \\dfrac{1}{\\eta\\cdot(1-\\eta)}\\cdot \\dfrac{1}{(1+K)^{2}}\\cdot\n",
    "    \\prod_{i=1}^{k}\\dfrac{\\operatorname{B}(K\\,\\eta+y_i,K\\,(1-\\eta)+n_i-y_i)}{\\operatorname{B}(K\\,\\eta,K\\,(1-\\eta))}.\n",
    "$$\n",
    "\n",
    "Now we follow closely the computations described in Chapter 5 of Jim Albert's book, implemented in the `LearnBayes` package, using such functions as `betabinexch0` (compute the posterior pdf in the $(\\eta,K)$ parameterization), `mycontour` (an adaptation of the default `contour` function provided by R) `betabinexch` (compute the posterior pdf in the $(\\theta_1,\\theta_2)$ parameterization), and `laplace` (multivariate Laplace approximation) and code chunks `LearnBayes::Chapter.5.4` and `LearnBayes::Chapter.5.6` shown in the Code demos section."
   ]
  },
  {
   "cell_type": "markdown",
   "metadata": {},
   "source": [
    "The `betabinexch0` function implements the above expression:\n",
    "\n",
    "```\n",
    "betabinexch0<-function (theta, data){\n",
    "    eta <- theta[1]\n",
    "    K <- theta[2]\n",
    "    y <- data[, 1]\n",
    "    n <- data[, 2]\n",
    "    N <- length(y)\n",
    "    logf <- function(y, n, K, eta) lbeta(K * eta + y, K * (1 - \n",
    "        eta) + n - y) - lbeta(K * eta, K * (1 - eta))\n",
    "    val <- sum(logf(y, n, K, eta))\n",
    "    val <- val - 2 * log(1 + K) - log(eta) - log(1 - eta)\n",
    "    return(val)\n",
    "    }\n",
    "```\n",
    "\n",
    "The first step is to visualize this joint posterior pdf:"
   ]
  },
  {
   "cell_type": "code",
   "execution_count": 13,
   "metadata": {
    "vscode": {
     "languageId": "r"
    }
   },
   "outputs": [
    {
     "data": {
      "image/png": "[encoded data removed]",
      "text/plain": [
       "plot without title"
      ]
     },
     "metadata": {
      "image/png": {
       "height": 420,
       "width": 420
      }
     },
     "output_type": "display_data"
    }
   ],
   "source": [
    "options(repr.plot.width=7,repr.plot.height=7)\n",
    "mycontour(betabinexch0,c(.0001,.003,1,20000),cancermortality,xlab=\"eta\",ylab=\"K\")"
   ]
  },
  {
   "cell_type": "markdown",
   "metadata": {},
   "source": [
    "## Laplace approximation\n",
    "\n",
    "The `laplace` function in the `LearnBayes` package implements it:\n",
    "\n",
    "```\n",
    "laplace<-function (logpost,mode,...){\n",
    "    options(warn = -1)\n",
    "    fit<-optim(mode, logpost, gr = NULL, ..., hessian = TRUE,control = list(fnscale = -1))\n",
    "    options(warn = 0)\n",
    "    mode<-fit$par\n",
    "    h<- -solve(fit$hessian)\n",
    "    p<-length(mode)\n",
    "    int<-p/2 * log(2 * pi) + 0.5 * log(det(h)) + logpost(mode, ...)\n",
    "    stuff = list(mode = mode, var = h, int = int, converge = fit$convergence == 0)\n",
    "    return(stuff)\n",
    "    }\n",
    "```\n",
    "\n",
    "The function optimizes the input `logpost` function, the logarithm of a joint posterior, locating its mode. Then it returns this mode together with the inverse matrix of the second derivative (Hessian) at this mode, which will become the matrix of variances and covariances of the approximating normal pdf."
   ]
  },
  {
   "cell_type": "code",
   "execution_count": 15,
   "metadata": {
    "vscode": {
     "languageId": "r"
    }
   },
   "outputs": [
    {
     "data": {
      "text/html": [
       "<dl>\n",
       "\t<dt>$mode</dt>\n",
       "\t\t<dd><style>\n",
       ".list-inline {list-style: none; margin:0; padding: 0}\n",
       ".list-inline>li {display: inline-block}\n",
       ".list-inline>li:not(:last-child)::after {content: \"\\00b7\"; padding: 0 .5ex}\n",
       "</style>\n",
       "<ol class=list-inline><li>-6.81979320470292</li><li>7.57611060539524</li></ol>\n",
       "</dd>\n",
       "\t<dt>$var</dt>\n",
       "\t\t<dd><table class=\"dataframe\">\n",
       "<caption>A matrix: 2 × 2 of type dbl</caption>\n",
       "<tbody>\n",
       "\t<tr><td> 0.07896568</td><td>-0.1485087</td></tr>\n",
       "\t<tr><td>-0.14850874</td><td> 1.3483208</td></tr>\n",
       "</tbody>\n",
       "</table>\n",
       "</dd>\n",
       "\t<dt>$int</dt>\n",
       "\t\t<dd>-570.774324409148</dd>\n",
       "\t<dt>$converge</dt>\n",
       "\t\t<dd>TRUE</dd>\n",
       "</dl>\n"
      ],
      "text/latex": [
       "\\begin{description}\n",
       "\\item[\\$mode] \\begin{enumerate*}\n",
       "\\item -6.81979320470292\n",
       "\\item 7.57611060539524\n",
       "\\end{enumerate*}\n",
       "\n",
       "\\item[\\$var] A matrix: 2 × 2 of type dbl\n",
       "\\begin{tabular}{ll}\n",
       "\t  0.07896568 & -0.1485087\\\\\n",
       "\t -0.14850874 &  1.3483208\\\\\n",
       "\\end{tabular}\n",
       "\n",
       "\\item[\\$int] -570.774324409148\n",
       "\\item[\\$converge] TRUE\n",
       "\\end{description}\n"
      ],
      "text/markdown": [
       "$mode\n",
       ":   1. -6.81979320470292\n",
       "2. 7.57611060539524\n",
       "\n",
       "\n",
       "\n",
       "$var\n",
       ":   \n",
       "A matrix: 2 × 2 of type dbl\n",
       "\n",
       "|  0.07896568 | -0.1485087 |\n",
       "| -0.14850874 |  1.3483208 |\n",
       "\n",
       "\n",
       "$int\n",
       ":   -570.774324409148\n",
       "$converge\n",
       ":   TRUE\n",
       "\n",
       "\n"
      ],
      "text/plain": [
       "$mode\n",
       "[1] -6.819793  7.576111\n",
       "\n",
       "$var\n",
       "            [,1]       [,2]\n",
       "[1,]  0.07896568 -0.1485087\n",
       "[2,] -0.14850874  1.3483208\n",
       "\n",
       "$int\n",
       "[1] -570.7743\n",
       "\n",
       "$converge\n",
       "[1] TRUE\n"
      ]
     },
     "metadata": {},
     "output_type": "display_data"
    }
   ],
   "source": [
    "# The second argument to this function is an initial guess for the mode\n",
    "fit=laplace(betabinexch,c(-7,6),cancermortality)\n",
    "fit"
   ]
  },
  {
   "cell_type": "markdown",
   "metadata": {},
   "source": [
    "Next we visualize the contour lines of the (logarithm of the) bivariate normal pdf with expectation equal to the `mode` and variance equal to the `var` obtained from the `laplace` function.\n",
    "\n",
    "There are several implementations of the multivariate normal pdf in R. The most common is in the `mvtnorm` package. Here we follow Jim Albert's text, using his implementation `lbinorm` of the logarithm of the bivariate normal pdf."
   ]
  },
  {
   "cell_type": "code",
   "execution_count": 16,
   "metadata": {
    "vscode": {
     "languageId": "r"
    }
   },
   "outputs": [
    {
     "data": {
      "image/png": "[encoded data removed]",
      "text/plain": [
       "plot without title"
      ]
     },
     "metadata": {
      "image/png": {
       "height": 420,
       "width": 420
      }
     },
     "output_type": "display_data"
    }
   ],
   "source": [
    "npar<-list(m=fit$mode,v=fit$var)\n",
    "options(repr.plot.width=7,repr.plot.height=7)\n",
    "mycontour(lbinorm,c(-8,-4.5,3,16.5),npar,xlab=\"logit eta\", ylab=\"log K\")"
   ]
  },
  {
   "cell_type": "markdown",
   "metadata": {},
   "source": [
    "## Using the Laplace approximation\n",
    "\n",
    "We take advantage of the results to obtain approximate 90% posterior credible intervals for $\\theta_1=\\operatorname{logit}(\\eta)$ and $\\theta_2=\\log K$:"
   ]
  },
  {
   "cell_type": "code",
   "execution_count": 17,
   "metadata": {
    "vscode": {
     "languageId": "r"
    }
   },
   "outputs": [
    {
     "data": {
      "text/html": [
       "<style>\n",
       ".list-inline {list-style: none; margin:0; padding: 0}\n",
       ".list-inline>li {display: inline-block}\n",
       ".list-inline>li:not(:last-child)::after {content: \"\\00b7\"; padding: 0 .5ex}\n",
       "</style>\n",
       "<ol class=list-inline><li>-7.282</li><li>5.6662</li></ol>\n"
      ],
      "text/latex": [
       "\\begin{enumerate*}\n",
       "\\item -7.282\n",
       "\\item 5.6662\n",
       "\\end{enumerate*}\n"
      ],
      "text/markdown": [
       "1. -7.282\n",
       "2. 5.6662\n",
       "\n",
       "\n"
      ],
      "text/plain": [
       "[1] -7.2820  5.6662"
      ]
     },
     "metadata": {},
     "output_type": "display_data"
    },
    {
     "data": {
      "text/html": [
       "<style>\n",
       ".list-inline {list-style: none; margin:0; padding: 0}\n",
       ".list-inline>li {display: inline-block}\n",
       ".list-inline>li:not(:last-child)::after {content: \"\\00b7\"; padding: 0 .5ex}\n",
       "</style>\n",
       "<ol class=list-inline><li>-6.3576</li><li>9.4861</li></ol>\n"
      ],
      "text/latex": [
       "\\begin{enumerate*}\n",
       "\\item -6.3576\n",
       "\\item 9.4861\n",
       "\\end{enumerate*}\n"
      ],
      "text/markdown": [
       "1. -6.3576\n",
       "2. 9.4861\n",
       "\n",
       "\n"
      ],
      "text/plain": [
       "[1] -6.3576  9.4861"
      ]
     },
     "metadata": {},
     "output_type": "display_data"
    }
   ],
   "source": [
    "# variances of the components of a bivariate normal vector are in the diagonal of the covariance matrix\n",
    "se<-sqrt(diag(fit$var))\n",
    "a<-qnorm(0.95)           # 5% probability on each tail\n",
    "left.bound<-fit$mode-a*se\n",
    "right.bound<-fit$mode+a*se\n",
    "round(left.bound,4)\n",
    "round(right.bound,4)"
   ]
  }
 ],
 "metadata": {
  "kernelspec": {
   "display_name": "R",
   "language": "R",
   "name": "ir"
  },
  "language_info": {
   "codemirror_mode": "r",
   "file_extension": ".r",
   "mimetype": "text/x-r-source",
   "name": "R",
   "pygments_lexer": "r",
   "version": "3.12.1"
  }
 },
 "nbformat": 4,
 "nbformat_minor": 4
}
