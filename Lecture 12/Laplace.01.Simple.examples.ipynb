{
 "cells": [
  {
   "cell_type": "markdown",
   "metadata": {
    "tags": []
   },
   "source": [
    "# Laplace approximation - 01 "
   ]
  },
  {
   "cell_type": "markdown",
   "metadata": {},
   "source": [
    "_Adapted from Josep Fortiana (2023-05-22) by Jordi Abante (2024-05-13)_"
   ]
  },
  {
   "cell_type": "markdown",
   "metadata": {},
   "source": [
    "From Rasmus Bååth blog: \n",
    "[Easy Laplace Approximation of Bayesian Models in R,](http://www.sumsar.net/blog/2013/11/easy-laplace-approximation/) by "
   ]
  },
  {
   "cell_type": "markdown",
   "metadata": {},
   "source": [
    "# 01 - Model: likelihood, prior, non normalized posterior"
   ]
  },
  {
   "cell_type": "markdown",
   "metadata": {},
   "source": [
    "Binomial likelihood - Uniform prior"
   ]
  },
  {
   "cell_type": "code",
   "execution_count": 1,
   "metadata": {
    "vscode": {
     "languageId": "r"
    }
   },
   "outputs": [],
   "source": [
    "n1<-10\n",
    "n0<-8\n",
    "n<-n0+n1\n",
    "Lik<-function(theta){theta^n1*(1-theta)^n0}\n",
    "# Prior is uniform (constant = 1). \n",
    "# Joint coincides with Lik\n",
    "# Non normalized posterior is equal to the Joint\n",
    "nnh<-Lik"
   ]
  },
  {
   "cell_type": "markdown",
   "metadata": {},
   "source": [
    "# 02 - Laplace approximation"
   ]
  },
  {
   "cell_type": "markdown",
   "metadata": {},
   "source": [
    "We are trying to approximate the posterior $q(\\theta)=p(\\theta\\mid x)$ with a normal distribution. We know that the posterior is a binomial distribution, since the non-normalized posterior is equal to the joint, which in turn is just the binomial. Note that the MLE and MAP estimates coincide because of uniform prior as well."
   ]
  },
  {
   "cell_type": "code",
   "execution_count": 2,
   "metadata": {
    "vscode": {
     "languageId": "r"
    }
   },
   "outputs": [
    {
     "data": {
      "text/html": [
       "0.5556"
      ],
      "text/latex": [
       "0.5556"
      ],
      "text/markdown": [
       "0.5556"
      ],
      "text/plain": [
       "[1] 0.5556"
      ]
     },
     "metadata": {},
     "output_type": "display_data"
    }
   ],
   "source": [
    "# q=log(Lik)\n",
    "# Equating q'(theta)=0\n",
    "mu<-n1/n\n",
    "round(mu,4)"
   ]
  },
  {
   "cell_type": "markdown",
   "metadata": {},
   "source": [
    "If $q(\\theta)= n_1\\log\\theta + n_0 \\log(1-\\theta) + ct$, then $q''(\\theta)= -\\frac{n_1}{\\theta^2} - \\frac{n_0}{(1-\\theta)^2}$. Evaluating this at the MLE/MAP $\\theta_0$ we get $\\sigma^2=1/|q''(\\theta_0)$:"
   ]
  },
  {
   "cell_type": "code",
   "execution_count": 3,
   "metadata": {
    "vscode": {
     "languageId": "r"
    }
   },
   "outputs": [
    {
     "data": {
      "text/html": [
       "0.0137"
      ],
      "text/latex": [
       "0.0137"
      ],
      "text/markdown": [
       "0.0137"
      ],
      "text/plain": [
       "[1] 0.0137"
      ]
     },
     "metadata": {},
     "output_type": "display_data"
    },
    {
     "data": {
      "text/html": [
       "0.1171"
      ],
      "text/latex": [
       "0.1171"
      ],
      "text/markdown": [
       "0.1171"
      ],
      "text/plain": [
       "[1] 0.1171"
      ]
     },
     "metadata": {},
     "output_type": "display_data"
    }
   ],
   "source": [
    "# sigma2= 1/|q''(n1/n)|\n",
    "sigma2<-n1*n0/n^3\n",
    "round(sigma2,4)\n",
    "sigma<-sqrt(sigma2)\n",
    "round(sigma,4)"
   ]
  },
  {
   "cell_type": "markdown",
   "metadata": {},
   "source": [
    "Thus, the Laplace approximation is $\\textrm{N}(n_1/n,n_1n_0/n^3)$. We can also compute the exact posterior to compare the two."
   ]
  },
  {
   "cell_type": "code",
   "execution_count": 4,
   "metadata": {
    "vscode": {
     "languageId": "r"
    }
   },
   "outputs": [],
   "source": [
    "# Normalize to give the posterior pdf\n",
    "Z<-integrate(nnh,0,1)$value\n",
    "h<-function(t){nnh(t)/Z}"
   ]
  },
  {
   "cell_type": "code",
   "execution_count": 5,
   "metadata": {
    "vscode": {
     "languageId": "r"
    }
   },
   "outputs": [
    {
     "data": {
      "image/png": "[encoded data removed]",
      "text/plain": [
       "plot without title"
      ]
     },
     "metadata": {
      "image/png": {
       "height": 420,
       "width": 420
      }
     },
     "output_type": "display_data"
    }
   ],
   "source": [
    "# Plot posterior pdf \n",
    "u<-seq(0,1,length=500)\n",
    "options(repr.plot.width=7,repr.plot.height=7)\n",
    "plot(u,h(u),\"l\",lwd=2,col=\"blue\")\n",
    "# Superimpose Laplace approximation\n",
    "lines(u,dnorm(u,mean=mu,sd=sigma),col=\"red\",lwd=2)\n",
    "# Alternatively, using the fact that the model is Beta-Binomial, thus the posterior is\n",
    "# Beta(n1+1,n0+1)\n",
    "# lines(u,dbeta(u,shape1=n1+1,shape2=n0+1),col=\"green\",lwd=2)\n",
    "legend(\"topleft\",lwd=2,legend=c(\"Exact posterior pdf\",\"Laplace approximation\"),col=c(\"blue\",\"red\"))"
   ]
  },
  {
   "cell_type": "markdown",
   "metadata": {},
   "source": [
    "# 03 - Same Laplace approximation, now with number of heads $n_{1}=4$ and $n_{0}=2$"
   ]
  },
  {
   "cell_type": "markdown",
   "metadata": {},
   "source": [
    "Here we only change the observed data. Note that $n$ is smaller in this case."
   ]
  },
  {
   "cell_type": "code",
   "execution_count": 6,
   "metadata": {
    "vscode": {
     "languageId": "r"
    }
   },
   "outputs": [],
   "source": [
    "n1<-4\n",
    "n0<-2\n",
    "n<-n0+n1\n",
    "Lik<-function(theta){theta^n1*(1-theta)^n0}\n",
    "# Prior is uniform (constant = 1). \n",
    "# Joint coincides with Lik\n",
    "# Non normalized posterior is equal to the Joint\n",
    "nnh<-Lik"
   ]
  },
  {
   "cell_type": "code",
   "execution_count": 7,
   "metadata": {
    "vscode": {
     "languageId": "r"
    }
   },
   "outputs": [
    {
     "data": {
      "text/html": [
       "0.6667"
      ],
      "text/latex": [
       "0.6667"
      ],
      "text/markdown": [
       "0.6667"
      ],
      "text/plain": [
       "[1] 0.6667"
      ]
     },
     "metadata": {},
     "output_type": "display_data"
    },
    {
     "data": {
      "text/html": [
       "0.037"
      ],
      "text/latex": [
       "0.037"
      ],
      "text/markdown": [
       "0.037"
      ],
      "text/plain": [
       "[1] 0.037"
      ]
     },
     "metadata": {},
     "output_type": "display_data"
    },
    {
     "data": {
      "text/html": [
       "0.1925"
      ],
      "text/latex": [
       "0.1925"
      ],
      "text/markdown": [
       "0.1925"
      ],
      "text/plain": [
       "[1] 0.1925"
      ]
     },
     "metadata": {},
     "output_type": "display_data"
    }
   ],
   "source": [
    "mu<-n1/n\n",
    "round(mu,4)\n",
    "sigma2<-n1*n0/n^3\n",
    "round(sigma2,4)\n",
    "sigma<-sqrt(sigma2)\n",
    "round(sigma,4)"
   ]
  },
  {
   "cell_type": "code",
   "execution_count": 8,
   "metadata": {
    "vscode": {
     "languageId": "r"
    }
   },
   "outputs": [
    {
     "data": {
      "image/png": "[encoded data removed]",
      "text/plain": [
       "plot without title"
      ]
     },
     "metadata": {
      "image/png": {
       "height": 420,
       "width": 420
      }
     },
     "output_type": "display_data"
    }
   ],
   "source": [
    "Z<-integrate(nnh,0,1)$value\n",
    "h<-function(t){nnh(t)/Z}\n",
    "u<-seq(0,1,length=500)\n",
    "options(repr.plot.width=7,repr.plot.height=7)\n",
    "plot(u,h(u),\"l\",lwd=2,col=\"blue\")\n",
    "lines(u,dnorm(u,mean=mu,sd=sigma),col=\"red\",lwd=2)\n",
    "legend(\"topleft\",lwd=2,legend=c(\"Exact posterior pdf\",\"Laplace approximation\"),col=c(\"blue\",\"red\"))"
   ]
  },
  {
   "cell_type": "markdown",
   "metadata": {},
   "source": [
    "A worse approximation: posterior was more asymmetric. This is due to the fact that the binomial distribution approximates a normal distribution in the limit. In this case, however, we were further from this assymptotic behavior than in the previous example."
   ]
  },
  {
   "cell_type": "markdown",
   "metadata": {},
   "source": [
    "# 04 - Normal data with a known $\\mu$ and unknown $\\sigma$ (parameter to investigate)\n",
    " \n",
    "### Flat prior for $\\sigma$"
   ]
  },
  {
   "cell_type": "markdown",
   "metadata": {},
   "source": [
    "Likelihood is normal with known $\\mu$ and unknown standard deviation $\\sigma$.\n",
    "\n",
    "Assume a flat prior for $\\sigma$.\n",
    "\n",
    "Laplace approximate posterior of the standard deviation $\\sigma$."
   ]
  },
  {
   "cell_type": "markdown",
   "metadata": {},
   "source": [
    "Generate a sample of $n$ random numbers distributed as $\\normaldist(10, 4)$. "
   ]
  },
  {
   "cell_type": "code",
   "execution_count": 9,
   "metadata": {
    "vscode": {
     "languageId": "r"
    }
   },
   "outputs": [
    {
     "name": "stderr",
     "output_type": "stream",
     "text": [
      "Loading required package: extraDistr\n",
      "\n"
     ]
    }
   ],
   "source": [
    "#install.packages(\"extraDistr\",dependencies=TRUE,repos=\"https://cloud.r-project.org\")\n",
    "require(extraDistr)"
   ]
  },
  {
   "cell_type": "code",
   "execution_count": 10,
   "metadata": {
    "vscode": {
     "languageId": "r"
    }
   },
   "outputs": [
    {
     "name": "stdout",
     "output_type": "stream",
     "text": [
      " num [1:40] 4.1 11.69 15.53 9.96 4.22 ...\n"
     ]
    }
   ],
   "source": [
    "mu<-10\n",
    "n<-40  # n was 8 in the original post\n",
    "sigma.data.gen<-4\n",
    "x<-rnorm(n = n, mean = mu, sd = sigma.data.gen)\n",
    "## [1] 10.770  4.213  8.707 16.489  7.244 18.168 13.775 18.328\n",
    "str(x) "
   ]
  },
  {
   "cell_type": "markdown",
   "metadata": {},
   "source": [
    "## Deriving Laplace approximation"
   ]
  },
  {
   "cell_type": "markdown",
   "metadata": {},
   "source": [
    "### Likelihood = Non-normalized posterior (flat prior)\n",
    "\n",
    "$$\n",
    "    \\cL (\\sigma)= (2\\pi)^{-\\,n/2}\\cdot \\sigma^{-\\,n}\\cdot\\exp\\left\\{-\\,\\dfrac{1}{2\\sigma^{2}}\\sum_{i=1}^{n}(x_{i}-\\mu)^{2}\\right\\}\n",
    "$$"
   ]
  },
  {
   "cell_type": "markdown",
   "metadata": {},
   "source": [
    "### Log-likelihood\n",
    "\n",
    "$$\n",
    "    q(\\sigma)=\\log\\cL (\\sigma)= -\\,\\dfrac{n}{2}\\,\\log(2\\pi) -\\,n\\cdot\\log(\\sigma) -\\,\\dfrac{n}{2\\sigma^{2}}\\cdot s^{2}(\\mu),\n",
    "    \\mskip40mu\\text{where}\\mskip10mu s^{2}(\\mu)=\\dfrac{1}{n}\\,\\sum_{i=1}^{n}(x_{i}-\\mu)^{2}\n",
    "$$"
   ]
  },
  {
   "cell_type": "markdown",
   "metadata": {
    "tags": []
   },
   "source": [
    "### First derivative and ML estimate of $\\sigma^{2}$ $=$ MAP (mode of the posterior pdf)\n",
    "\n",
    "$$\n",
    "    q'(\\sigma)= -\\,\\dfrac{n}{\\sigma}+\\dfrac{n}{\\sigma^{3}}\\cdot s^{2}(\\mu),\n",
    "$$\n",
    "\n",
    "Equating to zero,\n",
    "\n",
    "$$\n",
    "    \\hat{\\sigma}^{2}=\\operatorname{MAP}(\\sigma)=s^{2}(\\mu)\n",
    "$$"
   ]
  },
  {
   "cell_type": "markdown",
   "metadata": {
    "tags": []
   },
   "source": [
    "### Second derivative and variance of Laplace approximation\n",
    "\n",
    "$$\n",
    "    q''(\\sigma)= \\dfrac{n}{\\sigma^{2}}-\\dfrac{3\\,n}{\\sigma^{4}}\\cdot s^{2}(\\mu),\n",
    "$$\n",
    "\n",
    "At the mode: $\\sigma=s(\\mu)=\\sqrt{s^{2}(\\mu)}$.\n",
    "\n",
    "$$\n",
    "    q''(s(\\mu))= \\dfrac{n}{s^{2}(\\mu)}-\\,\\dfrac{3\\,n}{s^{2}(\\mu)}=-\\,\\dfrac{2\\,n}{s^{2}(\\mu)}.\n",
    "$$\n",
    "\n",
    "Variance of Laplace approximation $=|\\,q''(s(\\mu))\\,|$"
   ]
  },
  {
   "cell_type": "code",
   "execution_count": 11,
   "metadata": {
    "vscode": {
     "languageId": "r"
    }
   },
   "outputs": [
    {
     "data": {
      "text/html": [
       "<style>\n",
       ".list-inline {list-style: none; margin:0; padding: 0}\n",
       ".list-inline>li {display: inline-block}\n",
       ".list-inline>li:not(:last-child)::after {content: \"\\00b7\"; padding: 0 .5ex}\n",
       "</style>\n",
       "<ol class=list-inline><li>13.311</li><li>2.9764</li></ol>\n"
      ],
      "text/latex": [
       "\\begin{enumerate*}\n",
       "\\item 13.311\n",
       "\\item 2.9764\n",
       "\\end{enumerate*}\n"
      ],
      "text/markdown": [
       "1. 13.311\n",
       "2. 2.9764\n",
       "\n",
       "\n"
      ],
      "text/plain": [
       "[1] 13.3110  2.9764"
      ]
     },
     "metadata": {},
     "output_type": "display_data"
    }
   ],
   "source": [
    "s2mu<-sum((x-mu)^2)/n\n",
    "Laplace.Approx.mean<-s2mu\n",
    "Laplace.Approx.sd<-sqrt(2/n)*s2mu\n",
    "round(c(Laplace.Approx.mean,Laplace.Approx.sd),4)"
   ]
  },
  {
   "cell_type": "markdown",
   "metadata": {},
   "source": [
    "### Exact posterior pdf\n",
    "\n",
    "Exact posterior pdf, in terms of $v=\\sigma^{2}$ is:\n",
    "\n",
    "$$\n",
    "    h(v\\,|\\,x)\\propto v^{-n/2}\\cdot\\big\\{-\\dfrac{n\\,s^2(\\mu)}{2\\,v}\\big\\}.\n",
    "$$\n",
    "\n",
    "This is an inverse gamma distribution, $\\operatorname{IG}(\\alpha,\\beta)$, where:\n",
    "\n",
    "$$\n",
    "    \\left\\{\\begin{array}{ccl}\n",
    "    \\alpha &=&\\dfrac{n}{2}-1,\\\\\n",
    "    \\beta  &=&\\dfrac{n\\,s^{2}(\\mu)}{2}.\n",
    "    \\end{array}\\right.\n",
    "$$"
   ]
  },
  {
   "cell_type": "code",
   "execution_count": 12,
   "metadata": {
    "vscode": {
     "languageId": "r"
    }
   },
   "outputs": [],
   "source": [
    "alpha<-n/2-1\n",
    "beta<-n*s2mu/2"
   ]
  },
  {
   "cell_type": "code",
   "execution_count": 13,
   "metadata": {
    "vscode": {
     "languageId": "r"
    }
   },
   "outputs": [
    {
     "data": {
      "image/png": "[encoded data removed]",
      "text/plain": [
       "plot without title"
      ]
     },
     "metadata": {
      "image/png": {
       "height": 420,
       "width": 420
      }
     },
     "output_type": "display_data"
    }
   ],
   "source": [
    "v<-seq(0,50,length=500)\n",
    "y<-dinvgamma(v,alpha,beta)\n",
    "y.max<-ceiling(50*max(y))/50\n",
    "options(repr.plot.width=7, repr.plot.height=7)\n",
    "plot(v,y,type=\"l\",lwd=2,col=\"blue\",xlab=\"v\",ylab=\"Density\",ylim=c(0,y.max),pin=c(3,3))\n",
    "lines(v,dnorm(v,mean=Laplace.Approx.mean,sd=Laplace.Approx.sd),lwd=2,col=\"red\")\n",
    "legend(\"topright\",lwd=2,legend=c(\"Exact posterior pdf\",\"Laplace approximation\"),col=c(\"blue\",\"red\"))"
   ]
  },
  {
   "cell_type": "markdown",
   "metadata": {},
   "source": [
    "### With the normalized posterior pdf"
   ]
  },
  {
   "cell_type": "code",
   "execution_count": 14,
   "metadata": {
    "vscode": {
     "languageId": "r"
    }
   },
   "outputs": [
    {
     "data": {
      "image/png": "[encoded data removed]",
      "text/plain": [
       "plot without title"
      ]
     },
     "metadata": {
      "image/png": {
       "height": 420,
       "width": 420
      }
     },
     "output_type": "display_data"
    }
   ],
   "source": [
    "v<-seq(0.00001,50,length=500)\n",
    "nnh<-function(v){v^{-n/2}*exp(-n*s2mu/(2*v))}\n",
    "Z<-integrate(nnh,0.0001,50)$value\n",
    "h<-function(t){nnh(t)/Z}\n",
    "options(repr.plot.width=7, repr.plot.height=7)\n",
    "y<-h(v)\n",
    "#max(y)\n",
    "y.max<-ceiling(50*max(y))/50\n",
    "plot(v,y,type=\"l\",lwd=2,col=\"blue\",xlab=\"v\",ylab=\"Density\",ylim=c(0,y.max))\n",
    "lines(v,dnorm(v,Laplace.Approx.mean,Laplace.Approx.sd),lwd=2,col=\"red\")\n",
    "legend(\"topright\",lwd=2,legend=c(\"Exact posterior pdf\",\"Laplace approximation\"),col=c(\"blue\",\"red\"))"
   ]
  }
 ],
 "metadata": {
  "kernelspec": {
   "display_name": "R",
   "language": "R",
   "name": "ir"
  },
  "language_info": {
   "codemirror_mode": "r",
   "file_extension": ".r",
   "mimetype": "text/x-r-source",
   "name": "R",
   "pygments_lexer": "r",
   "version": "3.12.1"
  }
 },
 "nbformat": 4,
 "nbformat_minor": 4
}
