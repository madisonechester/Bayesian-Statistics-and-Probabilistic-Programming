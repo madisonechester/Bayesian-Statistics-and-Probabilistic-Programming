{
 "cells": [
  {
   "cell_type": "markdown",
   "metadata": {
    "tags": []
   },
   "source": [
    "# Beta-Binomial model - Bayes' billiard - Estimating a probability"
   ]
  },
  {
   "cell_type": "markdown",
   "metadata": {},
   "source": [
    "_Adapted from Josep Fortiana (2023-03-13) by Jordi Abante (2024-03-11)_"
   ]
  },
  {
   "cell_type": "markdown",
   "metadata": {},
   "source": [
    "# A. Experiment and simulation with iid randoom numbers"
   ]
  },
  {
   "cell_type": "markdown",
   "metadata": {
    "tags": []
   },
   "source": [
    "<h1 style=\"color:DodgerBlue;\"> 00 - Experiment </h1>\n",
    "<h2 style=\"color:DodgerBlue;\">A one-dimensional pool table, with a position coordinate in $(0,1)$</h2>\n",
    "<h2 style=\"color:DodgerBlue;\">Generate a position of the cue ball: A <i>prior</i> pdf for $\\theta\\in(0,1)$.</h2>\n",
    "<h2 style=\"color:DodgerBlue;\">$n$ observations: independently throw balls $\\sim\\unifdist(0,1)$.</h2>\n",
    "<h2 style=\"color:DodgerBlue;\">$\\{x=1\\}$ means $\\{\\mskip4mu$ <i>\"ball falls to the left of the cue ball\"</i> $\\mskip4mu\\}$.</h2>\n",
    "<h2 style=\"color:DodgerBlue;\">Result: $n$ observations $x=(x_{1},\\dots,x_{n})$ iid$\\sim\\berndist(\\theta)$</h2>"
   ]
  },
  {
   "cell_type": "markdown",
   "metadata": {
    "tags": []
   },
   "source": [
    "## Run the experiment"
   ]
  },
  {
   "cell_type": "markdown",
   "metadata": {},
   "source": [
    "$\\theta=$ coordinate of the cue ball in the $[0,1]$ interval.\n",
    "\n",
    "Choose, for instance, $\\theta\\sim\\operatorname{Unif}(0,1)$."
   ]
  },
  {
   "cell_type": "code",
   "execution_count": 1,
   "metadata": {
    "vscode": {
     "languageId": "r"
    }
   },
   "outputs": [],
   "source": [
    "set.seed(24025)"
   ]
  },
  {
   "cell_type": "code",
   "execution_count": 2,
   "metadata": {
    "vscode": {
     "languageId": "r"
    }
   },
   "outputs": [
    {
     "data": {
      "text/html": [
       "0.338"
      ],
      "text/latex": [
       "0.338"
      ],
      "text/markdown": [
       "0.338"
      ],
      "text/plain": [
       "[1] 0.338"
      ]
     },
     "metadata": {},
     "output_type": "display_data"
    }
   ],
   "source": [
    "theta<-runif(1)\n",
    "round(theta,3)"
   ]
  },
  {
   "cell_type": "markdown",
   "metadata": {
    "jp-MarkdownHeadingCollapsed": true,
    "tags": []
   },
   "source": [
    "We throw a number $n$ of $\\textrm{Unif}(0,1)$-distributed balls. For each of them we register whether they fall on the left or on the right of $\\theta$"
   ]
  },
  {
   "cell_type": "code",
   "execution_count": 3,
   "metadata": {
    "vscode": {
     "languageId": "r"
    }
   },
   "outputs": [
    {
     "data": {
      "text/html": [
       "<ol class=list-inline>\n",
       "\t<li>0.129</li>\n",
       "\t<li>0.705</li>\n",
       "\t<li>0.252</li>\n",
       "\t<li>0.986</li>\n",
       "\t<li>0.729</li>\n",
       "\t<li>0.213</li>\n",
       "\t<li>0.69</li>\n",
       "\t<li>0.727</li>\n",
       "\t<li>0.606</li>\n",
       "\t<li>0.429</li>\n",
       "</ol>\n"
      ],
      "text/latex": [
       "\\begin{enumerate*}\n",
       "\\item 0.129\n",
       "\\item 0.705\n",
       "\\item 0.252\n",
       "\\item 0.986\n",
       "\\item 0.729\n",
       "\\item 0.213\n",
       "\\item 0.69\n",
       "\\item 0.727\n",
       "\\item 0.606\n",
       "\\item 0.429\n",
       "\\end{enumerate*}\n"
      ],
      "text/markdown": [
       "1. 0.129\n",
       "2. 0.705\n",
       "3. 0.252\n",
       "4. 0.986\n",
       "5. 0.729\n",
       "6. 0.213\n",
       "7. 0.69\n",
       "8. 0.727\n",
       "9. 0.606\n",
       "10. 0.429\n",
       "\n",
       "\n"
      ],
      "text/plain": [
       " [1] 0.129 0.705 0.252 0.986 0.729 0.213 0.690 0.727 0.606 0.429"
      ]
     },
     "metadata": {},
     "output_type": "display_data"
    }
   ],
   "source": [
    "n<-10\n",
    "z<-runif(n)\n",
    "round(z,3)"
   ]
  },
  {
   "cell_type": "code",
   "execution_count": 4,
   "metadata": {
    "vscode": {
     "languageId": "r"
    }
   },
   "outputs": [
    {
     "data": {
      "text/html": [
       "<ol class=list-inline>\n",
       "\t<li>1</li>\n",
       "\t<li>0</li>\n",
       "\t<li>1</li>\n",
       "\t<li>0</li>\n",
       "\t<li>0</li>\n",
       "\t<li>1</li>\n",
       "\t<li>0</li>\n",
       "\t<li>0</li>\n",
       "\t<li>0</li>\n",
       "\t<li>0</li>\n",
       "</ol>\n"
      ],
      "text/latex": [
       "\\begin{enumerate*}\n",
       "\\item 1\n",
       "\\item 0\n",
       "\\item 1\n",
       "\\item 0\n",
       "\\item 0\n",
       "\\item 1\n",
       "\\item 0\n",
       "\\item 0\n",
       "\\item 0\n",
       "\\item 0\n",
       "\\end{enumerate*}\n"
      ],
      "text/markdown": [
       "1. 1\n",
       "2. 0\n",
       "3. 1\n",
       "4. 0\n",
       "5. 0\n",
       "6. 1\n",
       "7. 0\n",
       "8. 0\n",
       "9. 0\n",
       "10. 0\n",
       "\n",
       "\n"
      ],
      "text/plain": [
       " [1] 1 0 1 0 0 1 0 0 0 0"
      ]
     },
     "metadata": {},
     "output_type": "display_data"
    }
   ],
   "source": [
    "y<-(z<theta)\n",
    "#y\n",
    "y.num<-1*y # cast the Boolean y to a numeric 0/1 variable\n",
    "y.num"
   ]
  },
  {
   "cell_type": "markdown",
   "metadata": {},
   "source": [
    "From a purely theoretical standpoint we do not need to follow step by step Bayes' billiard experiment. Instead of generating $n$ coordinates $z$ in $(0,1)$ and then compare them to the given $\\theta$, a numerical vector statistically equivalent to  `y.n` could be obtained as $n$ random $0/1$ numbers $\\sim\\textrm{Bernoulli}(\\theta)\\equiv\\textrm{Binom}(1,\\theta)$."
   ]
  },
  {
   "cell_type": "code",
   "execution_count": 5,
   "metadata": {
    "vscode": {
     "languageId": "r"
    }
   },
   "outputs": [
    {
     "data": {
      "text/html": [
       "<ol class=list-inline>\n",
       "\t<li>1</li>\n",
       "\t<li>1</li>\n",
       "\t<li>0</li>\n",
       "\t<li>0</li>\n",
       "\t<li>1</li>\n",
       "\t<li>0</li>\n",
       "\t<li>1</li>\n",
       "\t<li>1</li>\n",
       "\t<li>1</li>\n",
       "\t<li>0</li>\n",
       "</ol>\n"
      ],
      "text/latex": [
       "\\begin{enumerate*}\n",
       "\\item 1\n",
       "\\item 1\n",
       "\\item 0\n",
       "\\item 0\n",
       "\\item 1\n",
       "\\item 0\n",
       "\\item 1\n",
       "\\item 1\n",
       "\\item 1\n",
       "\\item 0\n",
       "\\end{enumerate*}\n"
      ],
      "text/markdown": [
       "1. 1\n",
       "2. 1\n",
       "3. 0\n",
       "4. 0\n",
       "5. 1\n",
       "6. 0\n",
       "7. 1\n",
       "8. 1\n",
       "9. 1\n",
       "10. 0\n",
       "\n",
       "\n"
      ],
      "text/plain": [
       " [1] 1 1 0 0 1 0 1 1 1 0"
      ]
     },
     "metadata": {},
     "output_type": "display_data"
    }
   ],
   "source": [
    "y.num.1<-rbinom(n,size=1,prob=theta)\n",
    "y.num.1"
   ]
  },
  {
   "cell_type": "markdown",
   "metadata": {},
   "source": [
    "For inference we need only the single number  $n_{1}$,  the absolute frequency (number) of 1's in the above sequence (together with the length $n$)."
   ]
  },
  {
   "cell_type": "code",
   "execution_count": 6,
   "metadata": {
    "vscode": {
     "languageId": "r"
    }
   },
   "outputs": [
    {
     "data": {
      "text/html": [
       "3"
      ],
      "text/latex": [
       "3"
      ],
      "text/markdown": [
       "3"
      ],
      "text/plain": [
       "[1] 3"
      ]
     },
     "metadata": {},
     "output_type": "display_data"
    }
   ],
   "source": [
    "n1<-sum(y)\n",
    "n1"
   ]
  },
  {
   "cell_type": "markdown",
   "metadata": {},
   "source": [
    "Which, again, in principle could be generated as a single Binomial random number. Here we are trying to re-live the original experiment."
   ]
  },
  {
   "cell_type": "code",
   "execution_count": 7,
   "metadata": {
    "vscode": {
     "languageId": "r"
    }
   },
   "outputs": [
    {
     "data": {
      "text/html": [
       "3"
      ],
      "text/latex": [
       "3"
      ],
      "text/markdown": [
       "3"
      ],
      "text/plain": [
       "[1] 3"
      ]
     },
     "metadata": {},
     "output_type": "display_data"
    }
   ],
   "source": [
    "rbinom(1,size=n,prob=theta)"
   ]
  },
  {
   "cell_type": "markdown",
   "metadata": {},
   "source": [
    "# 01. Bayesian model - Simulation with i.i.d. random numbers"
   ]
  },
  {
   "cell_type": "markdown",
   "metadata": {},
   "source": [
    "## Prior $p(\\theta)$"
   ]
  },
  {
   "cell_type": "markdown",
   "metadata": {},
   "source": [
    "### $\\theta\\sim\\textrm{Beta}(a,b)$, \n",
    "\n",
    "#### Generalizing the assumption $\\textrm{Unif}(0,1)=\\textrm{Beta}(1,1)$."
   ]
  },
  {
   "cell_type": "markdown",
   "metadata": {},
   "source": [
    "### Set either    \n",
    "\n",
    "A _\"sensible\" prior (some historical info),_ or a  _\"non-informative\"_ prior _(nothing is known in advance)_\n",
    "\n",
    "#### Here we take $a=2$, $b=5$ (just as an example)."
   ]
  },
  {
   "cell_type": "code",
   "execution_count": 8,
   "metadata": {
    "vscode": {
     "languageId": "r"
    }
   },
   "outputs": [],
   "source": [
    "a<-2\n",
    "b<-5\n",
    "prior.pdf<-function(theta){dbeta(theta,a,b)}"
   ]
  },
  {
   "cell_type": "markdown",
   "metadata": {},
   "source": [
    "Let's plot this prior"
   ]
  },
  {
   "cell_type": "code",
   "execution_count": 9,
   "metadata": {
    "vscode": {
     "languageId": "r"
    }
   },
   "outputs": [
    {
     "data": {
      "image/png": "[encoded data removed]",
      "text/plain": [
       "Plot with title \"Beta(2,5) pdf\""
      ]
     },
     "metadata": {},
     "output_type": "display_data"
    }
   ],
   "source": [
    "options(repr.plot.width=10,repr.plot.height=6)\n",
    "u<-seq(0,1,length=1000)\n",
    "v<-dbeta(u,a,b)\n",
    "plot(u,v,ylim=c(0,max(v)*1.05),xlim=c(-0.15,1.15),\n",
    "     ylab=\"Density\",type=\"l\",lwd=3.5,col=\"blue\",main=sprintf(\"Beta(%d,%d) pdf\",a,b))\n",
    "lines(c(-0.15,0),c(0,0),lwd=3.5,col=\"blue\")\n",
    "lines(c(1,1.15),c(0,0),lwd=3.5,col=\"blue\")\n",
    "lines(c(0,1),c(0,0),lwd=1.0,col=\"black\")"
   ]
  },
  {
   "cell_type": "markdown",
   "metadata": {},
   "source": [
    "### Generate samples from the prior"
   ]
  },
  {
   "cell_type": "code",
   "execution_count": 10,
   "metadata": {
    "vscode": {
     "languageId": "r"
    }
   },
   "outputs": [
    {
     "name": "stdout",
     "output_type": "stream",
     "text": [
      " num [1:30000] 0.177 0.435 0.392 0.106 0.295 ...\n"
     ]
    }
   ],
   "source": [
    "N<-30000\n",
    "thetas<-rbeta(N,a,b)\n",
    "str(thetas)"
   ]
  },
  {
   "cell_type": "markdown",
   "metadata": {},
   "source": [
    "## Prior predictive _a.k.a._ $x$ marginal $p(x)$"
   ]
  },
  {
   "cell_type": "markdown",
   "metadata": {},
   "source": [
    "For a prior pdf $p(\\theta)$ and a likelihood $p(x\\mid\\theta)$ the $x$-marginal, also called the _prior predictive pmf_ is obtained as the integral of the joint pdf $p(x\\,,\\,\\theta)$ with respect to $\\theta$. \n",
    "\n",
    "Equivalently, the average of likelihood values, for all possible parameter values, weighted according to their prior probability:\n",
    "\n",
    "$$\n",
    "    p(x)=\\displaystyle\\int_{\\Theta}p(x\\,,\\,\\theta)\\,d\\theta=\n",
    "    \\displaystyle\\int_{\\Theta}p(x\\mid\\theta)\\cdot p(\\theta)\\,d\\theta\n",
    "$$\n",
    "\n",
    "At the samples level this is achieved as follows: \n",
    "\n",
    "For each $\\theta$ in the prior sample we generate a binomial random number. \n",
    "\n",
    "The result is a collection of binomial random numbers, each of which has been generated with a different value of $\\theta$. \n",
    "\n",
    "The proportion of each $\\theta$ values is given by its prior probability."
   ]
  },
  {
   "cell_type": "code",
   "execution_count": 11,
   "metadata": {
    "vscode": {
     "languageId": "r"
    }
   },
   "outputs": [
    {
     "name": "stdout",
     "output_type": "stream",
     "text": [
      " int [1:30000] 2 4 7 1 4 1 3 3 4 6 ...\n"
     ]
    }
   ],
   "source": [
    "# Beware of the vectorized syntax: each i-th random number is generated from a different binomial namely the binomial with prob=theta[i]\n",
    "x<-rbinom(N,size=n,prob=thetas)\n",
    "str(x)"
   ]
  },
  {
   "cell_type": "code",
   "execution_count": 12,
   "metadata": {
    "vscode": {
     "languageId": "r"
    }
   },
   "outputs": [
    {
     "data": {
      "text/plain": [
       "x\n",
       "   0    1    2    3    4    5    6    7    8    9   10 \n",
       "3826 5331 5540 4959 3893 2837 1846 1022  529  172   45 "
      ]
     },
     "metadata": {},
     "output_type": "display_data"
    }
   ],
   "source": [
    "# Table of absolute frequencies\n",
    "T<-table(x)\n",
    "T"
   ]
  },
  {
   "cell_type": "code",
   "execution_count": 13,
   "metadata": {
    "vscode": {
     "languageId": "r"
    }
   },
   "outputs": [
    {
     "data": {
      "text/plain": [
       "x\n",
       "    0     1     2     3     4     5     6     7     8     9    10 \n",
       "0.128 0.178 0.185 0.165 0.130 0.095 0.062 0.034 0.018 0.006 0.002 "
      ]
     },
     "metadata": {},
     "output_type": "display_data"
    }
   ],
   "source": [
    "# Table of relative frequencies (proportions)\n",
    "f<-T/N\n",
    "round(f,3)"
   ]
  },
  {
   "cell_type": "markdown",
   "metadata": {},
   "source": [
    "### Compare the sampled simulated prior predictive pmf and the theoretical one\n",
    "\n",
    "It is known that in a model with Binomial likelihood $X\\sim p(x\\mid \\theta)\\sim\\binomdist(n\\,,\\,\\theta)$ and Beta prior \n",
    "$\\theta\\sim p(\\theta)\\sim\\textrm{Beta}(a,b)$,    \n",
    "the prior predictive distribution is a Beta-Binomial,\n",
    "\n",
    "$$\n",
    "    \\mskip-400mu\\betabinomdist(n,a,b)\\mskip400mu\n",
    "$$\n",
    "(see [Wikipedia](https://en.wikipedia.org/wiki/Beta-binomial_distribution))."
   ]
  },
  {
   "cell_type": "code",
   "execution_count": 14,
   "metadata": {
    "vscode": {
     "languageId": "r"
    }
   },
   "outputs": [
    {
     "name": "stderr",
     "output_type": "stream",
     "text": [
      "Warning message:\n",
      "\"package 'extraDistr' was built under R version 3.6.3\""
     ]
    }
   ],
   "source": [
    "#install.packages(\"extraDistr\",dependencies=TRUE,repos= \"https://cloud.r-project.org\")\n",
    "require(\"extraDistr\",quietly=TRUE)"
   ]
  },
  {
   "cell_type": "code",
   "execution_count": 15,
   "metadata": {
    "tags": [],
    "vscode": {
     "languageId": "r"
    }
   },
   "outputs": [
    {
     "data": {
      "text/html": [
       "<ol class=list-inline>\n",
       "\t<li>0.125</li>\n",
       "\t<li>0.179</li>\n",
       "\t<li>0.185</li>\n",
       "\t<li>0.165</li>\n",
       "\t<li>0.131</li>\n",
       "\t<li>0.094</li>\n",
       "\t<li>0.061</li>\n",
       "\t<li>0.035</li>\n",
       "\t<li>0.017</li>\n",
       "\t<li>0.006</li>\n",
       "\t<li>0.001</li>\n",
       "</ol>\n"
      ],
      "text/latex": [
       "\\begin{enumerate*}\n",
       "\\item 0.125\n",
       "\\item 0.179\n",
       "\\item 0.185\n",
       "\\item 0.165\n",
       "\\item 0.131\n",
       "\\item 0.094\n",
       "\\item 0.061\n",
       "\\item 0.035\n",
       "\\item 0.017\n",
       "\\item 0.006\n",
       "\\item 0.001\n",
       "\\end{enumerate*}\n"
      ],
      "text/markdown": [
       "1. 0.125\n",
       "2. 0.179\n",
       "3. 0.185\n",
       "4. 0.165\n",
       "5. 0.131\n",
       "6. 0.094\n",
       "7. 0.061\n",
       "8. 0.035\n",
       "9. 0.017\n",
       "10. 0.006\n",
       "11. 0.001\n",
       "\n",
       "\n"
      ],
      "text/plain": [
       " [1] 0.125 0.179 0.185 0.165 0.131 0.094 0.061 0.035 0.017 0.006 0.001"
      ]
     },
     "metadata": {},
     "output_type": "display_data"
    }
   ],
   "source": [
    "# Beta-Binomial probabilities, to be compared to the above relative frequencies\n",
    "x.vals<-0:n\n",
    "g<-dbbinom(x.vals,size=n,alpha=a,beta=b)\n",
    "round(g,3)"
   ]
  },
  {
   "cell_type": "code",
   "execution_count": 16,
   "metadata": {
    "scrolled": true,
    "vscode": {
     "languageId": "r"
    }
   },
   "outputs": [
    {
     "data": {
      "text/html": [
       "<table>\n",
       "<thead><tr><th></th><th scope=col>0</th><th scope=col>1</th><th scope=col>2</th><th scope=col>3</th><th scope=col>4</th><th scope=col>5</th><th scope=col>6</th><th scope=col>7</th><th scope=col>8</th><th scope=col>9</th><th scope=col>10</th></tr></thead>\n",
       "<tbody>\n",
       "\t<tr><th scope=row>f</th><td>0.128</td><td>0.178</td><td>0.185</td><td>0.165</td><td>0.130</td><td>0.095</td><td>0.062</td><td>0.034</td><td>0.018</td><td>0.006</td><td>0.002</td></tr>\n",
       "\t<tr><th scope=row>g</th><td>0.125</td><td>0.179</td><td>0.185</td><td>0.165</td><td>0.131</td><td>0.094</td><td>0.061</td><td>0.035</td><td>0.017</td><td>0.006</td><td>0.001</td></tr>\n",
       "</tbody>\n",
       "</table>\n"
      ],
      "text/latex": [
       "\\begin{tabular}{r|lllllllllll}\n",
       "  & 0 & 1 & 2 & 3 & 4 & 5 & 6 & 7 & 8 & 9 & 10\\\\\n",
       "\\hline\n",
       "\tf & 0.128 & 0.178 & 0.185 & 0.165 & 0.130 & 0.095 & 0.062 & 0.034 & 0.018 & 0.006 & 0.002\\\\\n",
       "\tg & 0.125 & 0.179 & 0.185 & 0.165 & 0.131 & 0.094 & 0.061 & 0.035 & 0.017 & 0.006 & 0.001\\\\\n",
       "\\end{tabular}\n"
      ],
      "text/markdown": [
       "\n",
       "| <!--/--> | 0 | 1 | 2 | 3 | 4 | 5 | 6 | 7 | 8 | 9 | 10 |\n",
       "|---|---|---|---|---|---|---|---|---|---|---|---|\n",
       "| f | 0.128 | 0.178 | 0.185 | 0.165 | 0.130 | 0.095 | 0.062 | 0.034 | 0.018 | 0.006 | 0.002 |\n",
       "| g | 0.125 | 0.179 | 0.185 | 0.165 | 0.131 | 0.094 | 0.061 | 0.035 | 0.017 | 0.006 | 0.001 |\n",
       "\n"
      ],
      "text/plain": [
       "  0     1     2     3     4     5     6     7     8     9     10   \n",
       "f 0.128 0.178 0.185 0.165 0.130 0.095 0.062 0.034 0.018 0.006 0.002\n",
       "g 0.125 0.179 0.185 0.165 0.131 0.094 0.061 0.035 0.017 0.006 0.001"
      ]
     },
     "metadata": {},
     "output_type": "display_data"
    }
   ],
   "source": [
    "# For a uniform prior both vectors approach the probabilities of a discrete uniform distribution\n",
    "# For a Beta(a,b) prior the shape of the Beta-Binomial pdf mimicks that of the prior pdf\n",
    "yfg<-cbind(f,g)\n",
    "round(t(yfg),3)"
   ]
  },
  {
   "cell_type": "code",
   "execution_count": 17,
   "metadata": {
    "vscode": {
     "languageId": "r"
    }
   },
   "outputs": [
    {
     "data": {
      "image/png": "[encoded data removed]",
      "text/plain": [
       "Plot with title \"Simulated and theoretical prior predictive pmf\""
      ]
     },
     "metadata": {},
     "output_type": "display_data"
    }
   ],
   "source": [
    "options(repr.plot.width=8,repr.plot.height=8)\n",
    "y.max<-max(yfg)*1.15\n",
    "matplot(x=cbind(x.vals-0.1,x.vals+0.1),y=yfg,type=\"h\",lwd=8, lty=1,col=c(\"LightGreen\",\"DarkGreen\"),\n",
    "        ylim=c(0,y.max),xlab=\"x\",ylab=\"Rel. Freqs./Probs.\",\n",
    "        main=\"Simulated and theoretical prior predictive pmf\",cex.main=1.8)\n",
    "legend(\"topright\",legend=c(\"Simulated prior pred. pmf\",\"Theoretical prior pred. pmf\"),\n",
    "       lwd=8, lty=1,col=c(\"LightGreen\",\"DarkGreen\"))"
   ]
  },
  {
   "cell_type": "markdown",
   "metadata": {},
   "source": [
    "## Validating the model"
   ]
  },
  {
   "cell_type": "markdown",
   "metadata": {},
   "source": [
    "As the _prior predictive_ distribution is a weighted average of probabilities for each value of the observed quantity with weights given by the prior pdf, one can use it as a validation of the prior choice.    \n",
    "\n",
    "The likelihood is the probability of each possible value of $x$ given some value of the parameter $\\theta$, when the only knowledge on the parameter is that contained in the prior pdf,\n",
    "we can compute the resulting pdf of $x$, after averaging on all possible parameter values, each with a weight proportional to its _a priori_ probability. Comparing the actually observed value of $x$ with its probability so obtained we can validate the model: if the observed value is unlikely possibly we should revise the model (prior pdf).\n",
    "\n",
    "In the present example, the observed datum is `n1=3` which is one of the three values with highest probability according to the prior predictive derived from a $\\textrm{Beta}(2,5)$. Thus we can keep this prior as compatible with the observation. This is **not at all** a hypothesis test but just a **cautionary preview of the possible adequacy** of an intended model or otherwise. For instance, repeating the analysis with a $\\textrm{Beta}(5,2)$. we find the observed `n1=3` is a rather improbable value with this likelihood and prior."
   ]
  },
  {
   "cell_type": "markdown",
   "metadata": {},
   "source": [
    "## Posterior distribution"
   ]
  },
  {
   "cell_type": "markdown",
   "metadata": {},
   "source": [
    "To condition on the observed data we select, from the list of generated random values of $X$, those corresponding to the actually observed $x_{\\text{obs}}$."
   ]
  },
  {
   "cell_type": "code",
   "execution_count": 18,
   "metadata": {
    "vscode": {
     "languageId": "r"
    }
   },
   "outputs": [
    {
     "name": "stdout",
     "output_type": "stream",
     "text": [
      " logi [1:30000] FALSE FALSE FALSE FALSE FALSE FALSE ...\n"
     ]
    }
   ],
   "source": [
    "x.obs <- 3\n",
    "x.obs.indexes<-(x==x.obs)\n",
    "str(x.obs.indexes)"
   ]
  },
  {
   "cell_type": "code",
   "execution_count": 19,
   "metadata": {
    "vscode": {
     "languageId": "r"
    }
   },
   "outputs": [
    {
     "name": "stdout",
     "output_type": "stream",
     "text": [
      " num [1:4959] 0.151 0.465 0.202 0.346 0.27 ...\n"
     ]
    }
   ],
   "source": [
    "thetas.post<-thetas[x.obs.indexes]\n",
    "str(thetas.post)"
   ]
  },
  {
   "cell_type": "markdown",
   "metadata": {},
   "source": [
    "The set of $\\theta$ samples for these indexes will be approximately distributed following the posterior distribution. The performed selection of samples is the realization of the conditioning operation:"
   ]
  },
  {
   "cell_type": "code",
   "execution_count": 20,
   "metadata": {
    "vscode": {
     "languageId": "r"
    }
   },
   "outputs": [
    {
     "name": "stdout",
     "output_type": "stream",
     "text": [
      "From the original N = 30000 samples, 4959 have been selected, corresponding to the observed value x.obs = 3"
     ]
    }
   ],
   "source": [
    "cat(paste(sprintf(\"From the original N = %d samples,\", N),\n",
    "      sprintf(\"%d have been selected, corresponding to the observed value x.obs = %d\", length(thetas.post),x.obs)))"
   ]
  },
  {
   "cell_type": "markdown",
   "metadata": {},
   "source": [
    "Theoretically, the posterior pdf $p(\\theta\\,|\\,x)$ is obtained from Bayes' formula. We can see how this sample of $\\theta|x$ matches the theoretical density $p(\\theta|x)$:\n",
    "\n",
    "$$\n",
    "    p(\\theta\\mid x)=\\dfrac{p(x\\,,\\,\\theta)}{p(x)}=\n",
    "    \\dfrac{p(x\\mid\\theta)\\cdot p(\\theta)}{p(x)}.\n",
    "$$\n",
    "\n",
    "\n",
    "From the theory, in a model with Binomial likelihood $X\\sim\\operatorname{Binomial}(n\\mid\\theta)$    \n",
    "with a Beta prior $\\theta\\sim\\operatorname{Beta}(a,b)$,    \n",
    "when the observed datum is $X=x_{\\text{obs}}$    \n",
    "the posterior distribution is another Beta (this is a conjugate model),\n",
    "$$\n",
    "    \\textrm{Beta}(a+x_{\\text{obs}},b+n-x_{\\text{obs}}).\n",
    "$$\n",
    "\n",
    "Here we compare the histogram of the $\\theta_{\\text{post}}\\mskip10mu$ sample with the theoretical pdf:"
   ]
  },
  {
   "cell_type": "code",
   "execution_count": 21,
   "metadata": {
    "vscode": {
     "languageId": "r"
    }
   },
   "outputs": [
    {
     "data": {
      "image/png": "[encoded data removed]",
      "text/plain": [
       "Plot with title \"Simulated and theoretical posterior pdf\""
      ]
     },
     "metadata": {},
     "output_type": "display_data"
    }
   ],
   "source": [
    "options(repr.plot.width=8,repr.plot.height=8)\n",
    "u<-seq(0,1,length=1000)\n",
    "y<-dbeta(u,shape1=a+n1,b+n-n1)\n",
    "y.max<-max(y)\n",
    "hist(thetas.post,freq=FALSE,col=\"LightGreen\",xlab=expression(theta),ylim=c(0,y.max*1.2),\n",
    "     main=\"Simulated and theoretical posterior pdf\",cex.main=1.8,cex.lab=1.5)\n",
    "lines(u,y,lwd=2.5,col=\"DarkGreen\")\n",
    "legend(\"topright\",legend=c(\"Simul. post. pdf\",\"Theor. post. pdf\"),\n",
    "       lwd=2.5,col=c(\"LightGreen\",\"DarkGreen\"))\n",
    "legx<-ifelse(n1/n<0.5,n1/n+0.1,n1/n-0.1)\n",
    "abline(v=n1/n,col=\"Blue\",lwd=5)\n",
    "text(legx+0.09,0.9,expression(paste(\"ML estimate of \",theta)),col=\"blue\",cex=1.8)\n",
    "abline(v=(n1+a-1)/(n+a+b-2),col=\"DarkRed\",lwd=4)\n",
    "text(legx+0.1,0.5,expression(paste(\"MAP estimate of \",theta)),col=\"DarkRed\",cex=1.8)"
   ]
  },
  {
   "cell_type": "markdown",
   "metadata": {},
   "source": [
    "### MAP"
   ]
  },
  {
   "cell_type": "markdown",
   "metadata": {},
   "source": [
    "The maximum a priori estimate is defined as:\n",
    "\n",
    "$\\begin{aligned} \n",
    "\\hat{\\theta}_{\\textrm{MAP }}(x) \n",
    "& =\\underset{\\theta}{\\arg \\max } f(\\theta \\mid x) \\\\ \n",
    "& =\\underset{\\theta}{\\arg \\max } \\frac{f(x \\mid \\theta) g(\\theta)}{\\int_{\\Theta} f(x \\mid \\vartheta) g(\\vartheta) d \\vartheta} \\\\ \n",
    "& =\\underset{\\theta}{\\arg \\max } f(x \\mid \\theta) g(\\theta) .\n",
    "\\end{aligned}$\n",
    "\n",
    "This is contrast to the maximum likelihood estimate:\n",
    "\n",
    "$\\hat{\\theta}_{\\text {MLE }}(x)=\\underset{\\theta}{\\arg \\max } f(x \\mid \\theta)$"
   ]
  },
  {
   "cell_type": "markdown",
   "metadata": {},
   "source": [
    "## Analysis of posterior quantities"
   ]
  },
  {
   "cell_type": "markdown",
   "metadata": {},
   "source": [
    "The total posterior information IS the posterior pdf\n",
    "\n",
    "Any relevant statistical quantities we are interested in we can be extract from it:"
   ]
  },
  {
   "cell_type": "markdown",
   "metadata": {},
   "source": [
    "### 01 - MAP estimate"
   ]
  },
  {
   "cell_type": "markdown",
   "metadata": {},
   "source": [
    "By definition, the mode of the posterior distribution. \n",
    "\n",
    "For a generic $\\textrm{Beta}(\\alpha,\\beta)$, the mode is:\n",
    "\n",
    " \n",
    "$$\n",
    "\\mskip-600mu\n",
    "    \\begin{array}{ll}\n",
    "    &\\dfrac{\\alpha -1}{\\alpha+\\beta-2},\\mskip20mu&\\text{for}\\mskip8mu\\alpha, \\beta > 1,\\\\[0.25cm]\n",
    "    &\\text{Any value in }(0,1),                       &\\text{for}\\mskip8mu  \\alpha, \\beta = 1\\\\[0.25cm]\n",
    "    &\\{0, 1\\}\\mskip8mu\\text{(bimodal)},               &\\text{for}\\mskip8mu \\alpha, \\beta < 1\\\\[0.25cm]\n",
    "    &0,                                               &\\text{for}\\mskip8mu \\alpha\\leq 1, \\beta > 1\\\\[0.25cm]\n",
    "    &1,                                               &\\text{for}\\mskip8mu \\alpha > 1, \\beta ≤ 1.\n",
    "    \\end{array}\n",
    "$$\n",
    "\n",
    "In the current case $\\operatorname{Beta}(a+x_{\\text{obs}},b+n-x_{\\text{obs}})$,\n",
    "\n",
    "$$\n",
    "\\mskip-500mu\n",
    "    \\text{MAP}=\\dfrac{a+x_{\\text{obs}}-1}{a+x_{\\text{obs}}+b+n-x_{\\text{obs}}-2}\n",
    "               =\\dfrac{x_{\\text{obs}}+a-1}{n+a+b-2}\n",
    "$$"
   ]
  },
  {
   "cell_type": "markdown",
   "metadata": {},
   "source": [
    "#### Note\n",
    "\n",
    "For the uniform prior $a=1$, $b=1$, the MAP estimate of $\\theta$ coincides with the frequentist ML estimate."
   ]
  },
  {
   "cell_type": "code",
   "execution_count": 22,
   "metadata": {
    "vscode": {
     "languageId": "r"
    }
   },
   "outputs": [
    {
     "name": "stdout",
     "output_type": "stream",
     "text": [
      "Beta(5,12), Theor.MAP = 4/15 = 0.27"
     ]
    }
   ],
   "source": [
    "cat(paste(sprintf(\"Beta(%d,%d)\",a+x.obs,b+n-x.obs),\", \",\n",
    "          sprintf(\"Theor.MAP = %d/%d = %4.2f\",x.obs+a-1,n+a+b-2,(x.obs+a-1)/(n+a+b-2)),sep=\"\"))"
   ]
  },
  {
   "cell_type": "markdown",
   "metadata": {},
   "source": [
    "For the simulated $\\theta_{\\text{post}}$ sample:"
   ]
  },
  {
   "cell_type": "code",
   "execution_count": 23,
   "metadata": {
    "vscode": {
     "languageId": "r"
    }
   },
   "outputs": [
    {
     "name": "stdout",
     "output_type": "stream",
     "text": [
      "Sim.MAP = 0.28"
     ]
    }
   ],
   "source": [
    "# See the help for density()\n",
    "thetas.post.est.dens<-density(thetas.post)\n",
    "Sim.MAP<-thetas.post.est.dens$x[which.max(thetas.post.est.dens$y)]\n",
    "cat(sprintf(\"Sim.MAP = %4.2f\", round(Sim.MAP,3)))"
   ]
  },
  {
   "cell_type": "markdown",
   "metadata": {},
   "source": [
    "### 02 - Posterior expectation"
   ]
  },
  {
   "cell_type": "markdown",
   "metadata": {},
   "source": [
    "By definition, the expectation of the posterior distribution. For a generic $Z\\sim\\operatorname{Beta}(\\alpha,\\beta)$, the expectation is:\n",
    "\n",
    " \n",
    "$$\n",
    "    \\mskip-600mu\n",
    "    \\operatorname{E}(Z)=\\dfrac{\\alpha}{\\alpha+\\beta}.\n",
    "$$\n",
    "\n",
    "In the current case $\\operatorname{Beta}(a+x_{\\text{obs}},b+n-x_{\\text{obs}})$,\n",
    "\n",
    "$$\n",
    "    \\mskip-500mu\n",
    "    \\operatorname{E}(Z)=\\dfrac{a+x_{\\text{obs}}}{a+x_{\\text{obs}}+b+n-x_{\\text{obs}}}\n",
    "               =\\dfrac{x_{\\text{obs}}+a}{n+a+b}\n",
    "$$"
   ]
  },
  {
   "cell_type": "code",
   "execution_count": 24,
   "metadata": {
    "vscode": {
     "languageId": "r"
    }
   },
   "outputs": [
    {
     "name": "stdout",
     "output_type": "stream",
     "text": [
      "Beta(5,12), Theor.Post.Expectation = 5/17 = 0.29."
     ]
    }
   ],
   "source": [
    "cat(paste(sprintf(\"Beta(%d,%d),\",a+x.obs,b+n-x.obs),\" \",\n",
    "          sprintf(\"Theor.Post.Expectation = %d/%d = %4.2f.\",x.obs+a,n+a+b,(x.obs+a)/(n+a+b)),sep=\"\"))"
   ]
  },
  {
   "cell_type": "markdown",
   "metadata": {},
   "source": [
    "For the simulated $\\theta_{\\text{post}}$ sample:"
   ]
  },
  {
   "cell_type": "code",
   "execution_count": 25,
   "metadata": {
    "vscode": {
     "languageId": "r"
    }
   },
   "outputs": [],
   "source": [
    "Sim.Post.Expectation<-mean(thetas.post)"
   ]
  },
  {
   "cell_type": "code",
   "execution_count": 26,
   "metadata": {
    "vscode": {
     "languageId": "r"
    }
   },
   "outputs": [
    {
     "name": "stdout",
     "output_type": "stream",
     "text": [
      "Beta(5,12), Sim.Post.Expectation = 0.295."
     ]
    }
   ],
   "source": [
    "cat(paste(sprintf(\"Beta(%d,%d),\",a+x.obs,b+n-x.obs),\" \",\n",
    "          sprintf(\"Sim.Post.Expectation = %4.3f.\",round(Sim.Post.Expectation,3)),sep=\"\"))"
   ]
  },
  {
   "cell_type": "markdown",
   "metadata": {},
   "source": [
    "### 03 - Posterior variance"
   ]
  },
  {
   "cell_type": "markdown",
   "metadata": {},
   "source": [
    "By definition, the variance of the posterior distribution. For a generic $Z\\sim\\operatorname{Beta}(\\alpha,\\beta)$, the variance is:\n",
    "\n",
    " \n",
    "$$\n",
    "    \\mskip-600mu\n",
    "    \\operatorname{var}(Z)=\n",
    "    \\dfrac{\\alpha\\,\\beta}{(\\alpha+\\beta)^2\\,(\\alpha+\\beta+1)}.\n",
    "$$\n",
    "\n",
    "In the current case $\\operatorname{Beta}(a+x_{\\text{obs}},b+n-x_{\\text{obs}})$,\n",
    "\n",
    "$$\n",
    "    \\mskip-500mu\n",
    "    \\operatorname{var}(Z)=\\dfrac{(a+x_{\\text{obs}})\\,(b+n-x_{\\text{obs}})}\n",
    "    {(a+b+n)^{2}\\,(a+b+n+1)}.\n",
    "$$\n",
    "\n",
    "Observe that for a large sample size $n$ in the original experiment, assuming that both $x_{\\text{obs}}$ and $n-x_{\\text{obs}}$ grow following $n$, then the posterior variance diminishes as $1/n$."
   ]
  },
  {
   "cell_type": "code",
   "execution_count": 27,
   "metadata": {
    "vscode": {
     "languageId": "r"
    }
   },
   "outputs": [
    {
     "name": "stdout",
     "output_type": "stream",
     "text": [
      "Beta(5,12), Theor.Post.Variance = 60/5202 =  0.0115"
     ]
    }
   ],
   "source": [
    "cat(paste(sprintf(\"Beta(%d,%d)\",a+x.obs,b+n-x.obs),\", \",\n",
    "          sprintf(\"Theor.Post.Variance = %d/%d = %7.4f\",(x.obs+a)*(b+n-x.obs),(n+a+b)^2*(a+b+n+1),\n",
    "                round((x.obs+a)*(b+n-x.obs)/((n+a+b)^2*(a+b+n+1)),4)),sep=\"\"))"
   ]
  },
  {
   "cell_type": "code",
   "execution_count": 28,
   "metadata": {
    "vscode": {
     "languageId": "r"
    }
   },
   "outputs": [],
   "source": [
    "Sim.Post.Variance<-var(thetas.post)"
   ]
  },
  {
   "cell_type": "code",
   "execution_count": 29,
   "metadata": {
    "vscode": {
     "languageId": "r"
    }
   },
   "outputs": [
    {
     "name": "stdout",
     "output_type": "stream",
     "text": [
      "Beta(5,12), Sim.Post.Variance =  0.0120"
     ]
    }
   ],
   "source": [
    "cat(paste(sprintf(\"Beta(%d,%d)\",a+x.obs,b+n-x.obs),\", \",\n",
    "          sprintf(\"Sim.Post.Variance = %7.4f\",round(Sim.Post.Variance,4)),sep=\"\"))"
   ]
  },
  {
   "cell_type": "markdown",
   "metadata": {},
   "source": [
    "### 04 - Posterior quartiles and, in general, quantiles"
   ]
  },
  {
   "cell_type": "markdown",
   "metadata": {},
   "source": [
    "The median (second quartile) is the only quartile with a usable analytical approximation. \n",
    "\n",
    "For a generic $Z\\sim\\textrm{Beta}(\\alpha,\\beta)$, the median can be approximated by the expression:\n",
    "\n",
    "$$\n",
    "    \\text{Median}(Z)\\approx \\dfrac{\\alpha-\\tfrac{1}{3}}{\\alpha+\\beta-\\tfrac{2}{3}},\\mskip18mu\\text{for}\n",
    "    \\mskip8mu\\alpha,\\,\\beta>1.\n",
    "$$"
   ]
  },
  {
   "cell_type": "markdown",
   "metadata": {},
   "source": [
    "Empirical quartiles and, in general, quantiles can be readily obtained trom the sample:"
   ]
  },
  {
   "cell_type": "code",
   "execution_count": 30,
   "metadata": {
    "vscode": {
     "languageId": "r"
    }
   },
   "outputs": [
    {
     "data": {
      "text/html": [
       "<dl class=dl-horizontal>\n",
       "\t<dt>0%</dt>\n",
       "\t\t<dd>0.0387</dd>\n",
       "\t<dt>25%</dt>\n",
       "\t\t<dd>0.2133</dd>\n",
       "\t<dt>50%</dt>\n",
       "\t\t<dd>0.2871</dd>\n",
       "\t<dt>75%</dt>\n",
       "\t\t<dd>0.3665</dd>\n",
       "\t<dt>100%</dt>\n",
       "\t\t<dd>0.7119</dd>\n",
       "</dl>\n"
      ],
      "text/latex": [
       "\\begin{description*}\n",
       "\\item[0\\textbackslash{}\\%] 0.0387\n",
       "\\item[25\\textbackslash{}\\%] 0.2133\n",
       "\\item[50\\textbackslash{}\\%] 0.2871\n",
       "\\item[75\\textbackslash{}\\%] 0.3665\n",
       "\\item[100\\textbackslash{}\\%] 0.7119\n",
       "\\end{description*}\n"
      ],
      "text/markdown": [
       "0%\n",
       ":   0.038725%\n",
       ":   0.213350%\n",
       ":   0.287175%\n",
       ":   0.3665100%\n",
       ":   0.7119\n",
       "\n"
      ],
      "text/plain": [
       "    0%    25%    50%    75%   100% \n",
       "0.0387 0.2133 0.2871 0.3665 0.7119 "
      ]
     },
     "metadata": {},
     "output_type": "display_data"
    }
   ],
   "source": [
    "Sim.Post.Quartiles<-quantile(thetas.post,c(0,0.25,0.50,0.75,1))\n",
    "round(Sim.Post.Quartiles,4)"
   ]
  },
  {
   "cell_type": "markdown",
   "metadata": {},
   "source": [
    "### 05 - Credible intervals"
   ]
  },
  {
   "cell_type": "markdown",
   "metadata": {},
   "source": [
    "Remember, in the frequentist framework $\\theta$ is a constant, therefore an expression such as:\n",
    "\n",
    "$$\n",
    "    \\tag{$\\star$}\n",
    "    \\operatorname{Prob}\\big(a\\leq \\theta \\leq b\\big)\\geq\\gamma\n",
    "$$\n",
    "\n",
    "is MEANINGLESS: nothing random there. The frequentist interpretation is, of course, that a large number $n$ of\n",
    "independent realizations of the experiment should give intervals $(a_{j},b_{j})$, $1\\leq j\\leq n$, and we expect that a proportion $\\geq\\gamma$ of them will contain $\\theta$ (but, again, this cannot be ascertained)."
   ]
  },
  {
   "cell_type": "markdown",
   "metadata": {},
   "source": [
    "In the Bayesian framework parameters are random, thus a _credible interval_ (more generally, a _credible region)_ is a sound concept. Statement $(\\star)$ has a well-defined meaning in Bayesian statistics. For the billiard problem any interval $(a,b)\\subset[0,1]$ satisfying $(\\star)$ could be a Credible Interval. "
   ]
  },
  {
   "cell_type": "markdown",
   "metadata": {},
   "source": [
    "#### (1)  A reasonable credible interval is the one centered on the MAP estimate, an interval of the form:\n",
    "\n",
    "$$\n",
    "    (\\textrm{MAP}-t,\\textrm{MAP}+t),\n",
    "$$\n",
    "\n",
    "where the half-width $t$ is determined by the condition that the proportion of samples in the interval is $\\geq\\gamma$."
   ]
  },
  {
   "cell_type": "code",
   "execution_count": 31,
   "metadata": {
    "vscode": {
     "languageId": "r"
    }
   },
   "outputs": [
    {
     "data": {
      "text/html": [
       "0.1775"
      ],
      "text/latex": [
       "0.1775"
      ],
      "text/markdown": [
       "0.1775"
      ],
      "text/plain": [
       "[1] 0.1775"
      ]
     },
     "metadata": {},
     "output_type": "display_data"
    }
   ],
   "source": [
    "gamma<-0.90\n",
    "Sim.gamma<-function(t){sum((Sim.MAP-t<=thetas.post)&(thetas.post<=Sim.MAP+t))/length(thetas.post)-gamma}\n",
    "G.t<-uniroot(Sim.gamma,c(0,0.5)) # here we find t s.t. gamma is 0.9\n",
    "Sim.t<-G.t$root\n",
    "round(Sim.t,4)"
   ]
  },
  {
   "cell_type": "markdown",
   "metadata": {},
   "source": [
    "We should see to it that the interval does not overstep the support boundaries, which is, in principle, possible with this construction (due to the imposed simmetry)."
   ]
  },
  {
   "cell_type": "code",
   "execution_count": 32,
   "metadata": {
    "vscode": {
     "languageId": "r"
    }
   },
   "outputs": [
    {
     "name": "stdout",
     "output_type": "stream",
     "text": [
      "Credible interval 01 (90.00 %): (0.1054, 0.4603)"
     ]
    }
   ],
   "source": [
    "Credible.Interval.01<-c(max(0,Sim.MAP-Sim.t),min(1,Sim.MAP+Sim.t))\n",
    "cat(sprintf(\"Credible interval 01 (%5.2f %%): (%6.4f, %6.4f)\",gamma*100, \n",
    "            round(Credible.Interval.01[1],4),round(Credible.Interval.01[2],4)))"
   ]
  },
  {
   "cell_type": "code",
   "execution_count": 33,
   "metadata": {
    "vscode": {
     "languageId": "r"
    }
   },
   "outputs": [
    {
     "data": {
      "text/html": [
       "0.3549"
      ],
      "text/latex": [
       "0.3549"
      ],
      "text/markdown": [
       "0.3549"
      ],
      "text/plain": [
       "[1] 0.3549"
      ]
     },
     "metadata": {},
     "output_type": "display_data"
    }
   ],
   "source": [
    "width.01<-diff(Credible.Interval.01)\n",
    "round(width.01,4)"
   ]
  },
  {
   "cell_type": "markdown",
   "metadata": {},
   "source": [
    "#### (2) An easier determination is the interval symmetrically placed in probabilities, leaving out a probability $(1-\\gamma)/2$ on both sides."
   ]
  },
  {
   "cell_type": "code",
   "execution_count": 34,
   "metadata": {
    "vscode": {
     "languageId": "r"
    }
   },
   "outputs": [
    {
     "name": "stdout",
     "output_type": "stream",
     "text": [
      "Credible interval 02 (90.00 %): (0.1309, 0.4938)"
     ]
    }
   ],
   "source": [
    "gamma<-0.90\n",
    "delta<-(1-gamma)/2\n",
    "Credible.Interval.02<-as.numeric(quantile(thetas.post,c(delta,1-delta)))\n",
    "cat(sprintf(\"Credible interval 02 (%5.2f %%): (%6.4f, %6.4f)\",gamma*100, \n",
    "            round(Credible.Interval.02[1],4),round(Credible.Interval.02[2],4)))"
   ]
  },
  {
   "cell_type": "code",
   "execution_count": 35,
   "metadata": {
    "vscode": {
     "languageId": "r"
    }
   },
   "outputs": [
    {
     "data": {
      "text/html": [
       "0.3629"
      ],
      "text/latex": [
       "0.3629"
      ],
      "text/markdown": [
       "0.3629"
      ],
      "text/plain": [
       "[1] 0.3629"
      ]
     },
     "metadata": {},
     "output_type": "display_data"
    }
   ],
   "source": [
    "width.02<-diff(Credible.Interval.02)\n",
    "round(width.02,4)"
   ]
  },
  {
   "cell_type": "markdown",
   "metadata": {},
   "source": [
    "In principle solution (1) would seem better, giving a narrower interval, as it is centered around the peak of the probability density. However we see that, in fact, it is the other way around, solution (2) gives a narrower interval. The reason is that\n",
    "to find an optimal, minimizing width, interval we should take into account the asymmetry of the pdf."
   ]
  },
  {
   "cell_type": "markdown",
   "metadata": {},
   "source": [
    "#### (3) Another possibility is the interval determined by intersecting the empirical pdf with a horizontal line"
   ]
  },
  {
   "cell_type": "code",
   "execution_count": 36,
   "metadata": {
    "vscode": {
     "languageId": "r"
    }
   },
   "outputs": [
    {
     "data": {
      "image/png": "[encoded data removed]",
      "text/plain": [
       "Plot with title \"Estimated posterior pdf\""
      ]
     },
     "metadata": {},
     "output_type": "display_data"
    }
   ],
   "source": [
    "options(repr.plot.width=8,repr.plot.height=8)\n",
    "u<-seq(0,1,length=1000)\n",
    "#     col=\"LightGreen\",\n",
    "thetas.post.est.dens<-density(thetas.post)\n",
    "Sim.MAP<-thetas.post.est.dens$x[which.max(thetas.post.est.dens$y)]\n",
    "y.max<-max(thetas.post.est.dens$y)\n",
    "plot(thetas.post.est.dens,type=\"l\",lwd=3.5,col=\"DarkGreen\",\n",
    "     xlab=expression(theta),ylim=c(0,y.max*1.2),main=\"Estimated posterior pdf\",cex.main=1.8,cex.lab=1.5)\n",
    "legx<-ifelse(n1/n<0.5,n1/n+0.1,n1/n-0.1)\n",
    "abline(v=Sim.MAP,col=\"DarkRed\",lwd=3)\n",
    "text(legx,0.5,\"MAP\",col=\"DarkRed\",cex=1.8)\n",
    "d<-1.8\n",
    "abline(h=y.max-d,lwd=2.5,col=\"red\")"
   ]
  },
  {
   "cell_type": "code",
   "execution_count": 37,
   "metadata": {
    "vscode": {
     "languageId": "r"
    }
   },
   "outputs": [
    {
     "data": {
      "text/html": [
       "2.4597"
      ],
      "text/latex": [
       "2.4597"
      ],
      "text/markdown": [
       "2.4597"
      ],
      "text/plain": [
       "[1] 2.4597"
      ]
     },
     "metadata": {},
     "output_type": "display_data"
    }
   ],
   "source": [
    "y.max<-max(thetas.post.est.dens$y)\n",
    "gamma<-0.90\n",
    "Sim.gamma.3<-function(s){\n",
    "    CI.thetas<-(thetas.post.est.dens$x)[which(thetas.post.est.dens$y>=(y.max-s))]\n",
    "    return(sum((min(CI.thetas)<=thetas.post)&(thetas.post<=max(CI.thetas)))/length(thetas.post)-gamma)\n",
    "    }\n",
    "G.s<-uniroot(Sim.gamma.3,c(0,y.max))\n",
    "Sim.s<-G.s$root\n",
    "round(Sim.s,4)"
   ]
  },
  {
   "cell_type": "code",
   "execution_count": 38,
   "metadata": {
    "vscode": {
     "languageId": "r"
    }
   },
   "outputs": [
    {
     "name": "stdout",
     "output_type": "stream",
     "text": [
      "Credible interval 03 (90.00 %): (0.1697, 0.3715)"
     ]
    }
   ],
   "source": [
    "CI.thetas<-(thetas.post.est.dens$x)[which(thetas.post.est.dens$y>=Sim.s)]\n",
    "Credible.Interval.03<-c(min(CI.thetas),max(CI.thetas))\n",
    "cat(sprintf(\"Credible interval 03 (%5.2f %%): (%6.4f, %6.4f)\",gamma*100, \n",
    "            round(Credible.Interval.03[1],4),round(Credible.Interval.03[2],4)))"
   ]
  },
  {
   "cell_type": "code",
   "execution_count": 39,
   "metadata": {
    "vscode": {
     "languageId": "r"
    }
   },
   "outputs": [
    {
     "data": {
      "text/html": [
       "0.2018"
      ],
      "text/latex": [
       "0.2018"
      ],
      "text/markdown": [
       "0.2018"
      ],
      "text/plain": [
       "[1] 0.2018"
      ]
     },
     "metadata": {},
     "output_type": "display_data"
    }
   ],
   "source": [
    "width.03<-diff(Credible.Interval.03)\n",
    "round(width.03,4)"
   ]
  }
 ],
 "metadata": {
  "kernelspec": {
   "display_name": "R",
   "language": "R",
   "name": "ir"
  },
  "language_info": {
   "codemirror_mode": "r",
   "file_extension": ".r",
   "mimetype": "text/x-r-source",
   "name": "R",
   "pygments_lexer": "r",
   "version": "3.6.1"
  }
 },
 "nbformat": 4,
 "nbformat_minor": 4
}
