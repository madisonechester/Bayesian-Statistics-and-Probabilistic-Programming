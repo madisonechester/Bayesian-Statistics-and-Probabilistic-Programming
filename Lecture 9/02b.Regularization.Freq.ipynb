{
 "cells": [
  {
   "cell_type": "markdown",
   "id": "6d03f7ec-febf-4655-9eb7-9b32cfb33a28",
   "metadata": {
    "tags": []
   },
   "source": [
    "# Regularization and sparsity <h3 style=\"color:green\">Frequentist version</h3>\n",
    "\n",
    "### Seeking bias with relish"
   ]
  },
  {
   "cell_type": "markdown",
   "id": "214b8250",
   "metadata": {},
   "source": [
    "_Adapted from Josep Fortiana (2023-04-24) by Jordi Abante (2024-04-19)_"
   ]
  },
  {
   "cell_type": "markdown",
   "id": "1a7650d3-5c2b-4e9f-9c79-b2501c57b82d",
   "metadata": {
    "tags": []
   },
   "source": [
    "# `Hitters` dataset in the `ISLR2` package"
   ]
  },
  {
   "cell_type": "code",
   "execution_count": 1,
   "id": "343ebcaf-4720-4e26-b686-9cd44f03518b",
   "metadata": {
    "vscode": {
     "languageId": "r"
    }
   },
   "outputs": [
    {
     "name": "stderr",
     "output_type": "stream",
     "text": [
      "Loading required package: ISLR2\n",
      "\n"
     ]
    }
   ],
   "source": [
    "#install.packages(\"ISLR2\",dependencies=TRUE,repos=\"https://cloud.r-project.org\")\n",
    "require(ISLR2)"
   ]
  },
  {
   "cell_type": "markdown",
   "id": "9721cad9-e5a1-4d9f-93e5-1e3b7018e140",
   "metadata": {},
   "source": [
    "### Baseball _Hitters_ Data\n",
    "\n",
    "#### Description: Prediction of annual salary as a function of performance.\n",
    "\n",
    "Major League Baseball Data from the 1986 and 1987 seasons \n",
    "\n",
    "#### Format\n",
    "\n",
    "A data frame with 322 observations of major league players on the following 20 variables.\n",
    "\n",
    "01. `AtBat`:     Number of times at bat in 1986,\n",
    "02. `Hits`:      Number of hits in 1986,\n",
    "03. `HmRun`:     Number of home runs in 1986,\n",
    "04. `Runs`:      Number of runs in 1986,\n",
    "05. `RBI`:       Number of runs batted in in 1986,\n",
    "06. `Walks`:     Number of walks in 1986,\n",
    "07. `Years`:     Number of years in the major leagues,\n",
    "08. `CAtBat`:    Number of times at bat during his career,\n",
    "09. `CHits`:     Number of hits during his career,\n",
    "10. `CHmRun`:    Number of home runs during his career,\n",
    "11. `CRuns`:     Number of runs during his career,\n",
    "12. `CRBI`:      Number of runs batted in during his career,\n",
    "13. `CWalks`:    Number of walks during his career,\n",
    "14. `League`:    A factor with levels `A` and `N` indicating player's league at the end of 1986,\n",
    "15. `Division`:  A factor with levels `E` and `W` indicating player's division at the end of 1986,\n",
    "16. `PutOuts`:   Number of put outs in 1986,\n",
    "17. `Assists`:   Number of assists in 1986,\n",
    "18. `Errors`:    Number of errors in 1986,\n",
    "19. `Salary`:    1987 annual salary on opening day in thousands of dollars,\n",
    "20. `NewLeague`: A factor with levels `A` and `N` indicating player's league at the beginning of 1987.\n",
    "\n",
    "#### Source\n",
    "\n",
    "This dataset was taken from the StatLib library which is maintained at Carnegie Mellon University.   \n",
    "This is part of the data that was used in the 1988 ASA Graphics Section Poster Session.   \n",
    "The salary data were originally from Sports Illustrated, April 20, 1987.   \n",
    "The 1986 and career statistics were obtained from The 1987 Baseball Encyclopedia Update published by Collier Books, Macmillan Publishing Company, New York."
   ]
  },
  {
   "cell_type": "code",
   "execution_count": 2,
   "id": "e9119b08-174a-4062-8a14-aba7061bae23",
   "metadata": {
    "vscode": {
     "languageId": "r"
    }
   },
   "outputs": [
    {
     "name": "stdout",
     "output_type": "stream",
     "text": [
      "'data.frame':\t322 obs. of  20 variables:\n",
      " $ AtBat    : int  293 315 479 496 321 594 185 298 323 401 ...\n",
      " $ Hits     : int  66 81 130 141 87 169 37 73 81 92 ...\n",
      " $ HmRun    : int  1 7 18 20 10 4 1 0 6 17 ...\n",
      " $ Runs     : int  30 24 66 65 39 74 23 24 26 49 ...\n",
      " $ RBI      : int  29 38 72 78 42 51 8 24 32 66 ...\n",
      " $ Walks    : int  14 39 76 37 30 35 21 7 8 65 ...\n",
      " $ Years    : int  1 14 3 11 2 11 2 3 2 13 ...\n",
      " $ CAtBat   : int  293 3449 1624 5628 396 4408 214 509 341 5206 ...\n",
      " $ CHits    : int  66 835 457 1575 101 1133 42 108 86 1332 ...\n",
      " $ CHmRun   : int  1 69 63 225 12 19 1 0 6 253 ...\n",
      " $ CRuns    : int  30 321 224 828 48 501 30 41 32 784 ...\n",
      " $ CRBI     : int  29 414 266 838 46 336 9 37 34 890 ...\n",
      " $ CWalks   : int  14 375 263 354 33 194 24 12 8 866 ...\n",
      " $ League   : Factor w/ 2 levels \"A\",\"N\": 1 2 1 2 2 1 2 1 2 1 ...\n",
      " $ Division : Factor w/ 2 levels \"E\",\"W\": 1 2 2 1 1 2 1 2 2 1 ...\n",
      " $ PutOuts  : int  446 632 880 200 805 282 76 121 143 0 ...\n",
      " $ Assists  : int  33 43 82 11 40 421 127 283 290 0 ...\n",
      " $ Errors   : int  20 10 14 3 4 25 7 9 19 0 ...\n",
      " $ Salary   : num  NA 475 480 500 91.5 750 70 100 75 1100 ...\n",
      " $ NewLeague: Factor w/ 2 levels \"A\",\"N\": 1 2 1 2 2 1 1 1 2 1 ...\n"
     ]
    }
   ],
   "source": [
    "data(Hitters)\n",
    "str(Hitters)"
   ]
  },
  {
   "cell_type": "markdown",
   "id": "ea364ff1-da93-4b15-a43d-0e14cf222060",
   "metadata": {},
   "source": [
    "Detect and remove `NA` values"
   ]
  },
  {
   "cell_type": "code",
   "execution_count": 3,
   "id": "27b6669d-5669-4e6a-b8c3-5b69dee7ac75",
   "metadata": {
    "vscode": {
     "languageId": "r"
    }
   },
   "outputs": [
    {
     "data": {
      "text/html": [
       "<style>\n",
       ".list-inline {list-style: none; margin:0; padding: 0}\n",
       ".list-inline>li {display: inline-block}\n",
       ".list-inline>li:not(:last-child)::after {content: \"\\00b7\"; padding: 0 .5ex}\n",
       "</style>\n",
       "<ol class=list-inline><li>322</li><li>20</li></ol>\n"
      ],
      "text/latex": [
       "\\begin{enumerate*}\n",
       "\\item 322\n",
       "\\item 20\n",
       "\\end{enumerate*}\n"
      ],
      "text/markdown": [
       "1. 322\n",
       "2. 20\n",
       "\n",
       "\n"
      ],
      "text/plain": [
       "[1] 322  20"
      ]
     },
     "metadata": {},
     "output_type": "display_data"
    },
    {
     "data": {
      "text/html": [
       "59"
      ],
      "text/latex": [
       "59"
      ],
      "text/markdown": [
       "59"
      ],
      "text/plain": [
       "[1] 59"
      ]
     },
     "metadata": {},
     "output_type": "display_data"
    },
    {
     "data": {
      "text/html": [
       "<style>\n",
       ".list-inline {list-style: none; margin:0; padding: 0}\n",
       ".list-inline>li {display: inline-block}\n",
       ".list-inline>li:not(:last-child)::after {content: \"\\00b7\"; padding: 0 .5ex}\n",
       "</style>\n",
       "<ol class=list-inline><li>263</li><li>20</li></ol>\n"
      ],
      "text/latex": [
       "\\begin{enumerate*}\n",
       "\\item 263\n",
       "\\item 20\n",
       "\\end{enumerate*}\n"
      ],
      "text/markdown": [
       "1. 263\n",
       "2. 20\n",
       "\n",
       "\n"
      ],
      "text/plain": [
       "[1] 263  20"
      ]
     },
     "metadata": {},
     "output_type": "display_data"
    },
    {
     "data": {
      "text/html": [
       "0"
      ],
      "text/latex": [
       "0"
      ],
      "text/markdown": [
       "0"
      ],
      "text/plain": [
       "[1] 0"
      ]
     },
     "metadata": {},
     "output_type": "display_data"
    }
   ],
   "source": [
    "dim(Hitters)\n",
    "sum(is.na(Hitters$Salary))\n",
    "Hitters=na.omit(Hitters)\n",
    "dim(Hitters)\n",
    "sum(is.na(Hitters))"
   ]
  },
  {
   "cell_type": "code",
   "execution_count": 4,
   "id": "2dba384b-f5e2-4ae3-a156-4742844f8a44",
   "metadata": {
    "vscode": {
     "languageId": "r"
    }
   },
   "outputs": [],
   "source": [
    "# Prepare x, y for the glmnet syntax\n",
    "# Convert factors to one-hot indicators\n",
    "x<-model.matrix(Salary~.,Hitters)[,-1]\n",
    "y<-Hitters$Salary"
   ]
  },
  {
   "cell_type": "markdown",
   "id": "5260f1ce-c7c7-4976-85cd-7433b89a1aa2",
   "metadata": {},
   "source": [
    "Tibshirani (1996) assumes predictor columns centered and standardized to unit variance. Actually the `glmnet()` function has a Boolean parameter `standardize` which does precisely this. Here we standardize \"by hand\""
   ]
  },
  {
   "cell_type": "code",
   "execution_count": 5,
   "id": "96dcf809-d48a-475b-b178-f1e98b5d8339",
   "metadata": {
    "vscode": {
     "languageId": "r"
    }
   },
   "outputs": [
    {
     "data": {
      "text/html": [
       "0"
      ],
      "text/latex": [
       "0"
      ],
      "text/markdown": [
       "0"
      ],
      "text/plain": [
       "[1] 0"
      ]
     },
     "metadata": {},
     "output_type": "display_data"
    },
    {
     "name": "stdout",
     "output_type": "stream",
     "text": [
      " num [1:263, 1:19] -0.602 0.512 0.627 -0.561 1.292 ...\n",
      " - attr(*, \"dimnames\")=List of 2\n",
      "  ..$ : chr [1:263] \"-Alan Ashby\" \"-Alvin Davis\" \"-Andre Dawson\" \"-Andres Galarraga\" ...\n",
      "  ..$ : chr [1:19] \"AtBat\" \"Hits\" \"HmRun\" \"Runs\" ...\n"
     ]
    }
   ],
   "source": [
    "xm<-apply(x,2,mean)\n",
    "xc<-sweep(x,2,xm,\"-\")\n",
    "round(max(abs(apply(xc,2,mean))),6) \n",
    "xs<-apply(xc,2,sd)\n",
    "x0<-sweep(xc,2,xs,\"/\")\n",
    "str(x0)"
   ]
  },
  {
   "cell_type": "markdown",
   "id": "49856009-2141-489c-9bf3-b79ec863e3a6",
   "metadata": {},
   "source": [
    "### (OLS) Ordinary Least Squares regression"
   ]
  },
  {
   "cell_type": "code",
   "execution_count": 6,
   "id": "32cad20f-429a-4f2e-b604-c8b24b4b9555",
   "metadata": {
    "vscode": {
     "languageId": "r"
    }
   },
   "outputs": [
    {
     "data": {
      "text/plain": [
       "\n",
       "Call:\n",
       "lm(formula = Salary ~ ., data = Hitters)\n",
       "\n",
       "Residuals:\n",
       "    Min      1Q  Median      3Q     Max \n",
       "-907.62 -178.35  -31.11  139.09 1877.04 \n",
       "\n",
       "Coefficients:\n",
       "              Estimate Std. Error t value Pr(>|t|)    \n",
       "(Intercept)  163.10359   90.77854   1.797 0.073622 .  \n",
       "AtBat         -1.97987    0.63398  -3.123 0.002008 ** \n",
       "Hits           7.50077    2.37753   3.155 0.001808 ** \n",
       "HmRun          4.33088    6.20145   0.698 0.485616    \n",
       "Runs          -2.37621    2.98076  -0.797 0.426122    \n",
       "RBI           -1.04496    2.60088  -0.402 0.688204    \n",
       "Walks          6.23129    1.82850   3.408 0.000766 ***\n",
       "Years         -3.48905   12.41219  -0.281 0.778874    \n",
       "CAtBat        -0.17134    0.13524  -1.267 0.206380    \n",
       "CHits          0.13399    0.67455   0.199 0.842713    \n",
       "CHmRun        -0.17286    1.61724  -0.107 0.914967    \n",
       "CRuns          1.45430    0.75046   1.938 0.053795 .  \n",
       "CRBI           0.80771    0.69262   1.166 0.244691    \n",
       "CWalks        -0.81157    0.32808  -2.474 0.014057 *  \n",
       "LeagueN       62.59942   79.26140   0.790 0.430424    \n",
       "DivisionW   -116.84925   40.36695  -2.895 0.004141 ** \n",
       "PutOuts        0.28189    0.07744   3.640 0.000333 ***\n",
       "Assists        0.37107    0.22120   1.678 0.094723 .  \n",
       "Errors        -3.36076    4.39163  -0.765 0.444857    \n",
       "NewLeagueN   -24.76233   79.00263  -0.313 0.754218    \n",
       "---\n",
       "Signif. codes:  0 '***' 0.001 '**' 0.01 '*' 0.05 '.' 0.1 ' ' 1\n",
       "\n",
       "Residual standard error: 315.6 on 243 degrees of freedom\n",
       "Multiple R-squared:  0.5461,\tAdjusted R-squared:  0.5106 \n",
       "F-statistic: 15.39 on 19 and 243 DF,  p-value: < 2.2e-16\n"
      ]
     },
     "metadata": {},
     "output_type": "display_data"
    }
   ],
   "source": [
    "Hitters.ols<-lm(Salary~.,data=Hitters)\n",
    "summary(Hitters.ols)"
   ]
  },
  {
   "cell_type": "markdown",
   "id": "52db282d-3c73-4ac7-b582-7cd7b05d855b",
   "metadata": {},
   "source": [
    "The $p$-values of several predictors are large, suggesting these have a low predictive power. Possibly at least some of these predictors will be discarded after a selection procedure. In general a large  $p$-value is not enough evidence to discard a predictor (multicollinearity is a property of _a subset_ of predictors)"
   ]
  },
  {
   "cell_type": "raw",
   "id": "4aea16f3-4ca1-43d8-87dc-fe8db423ce54",
   "metadata": {},
   "source": [
    "# round(cor(x),1)"
   ]
  },
  {
   "cell_type": "code",
   "execution_count": 7,
   "id": "4a5cce1b-e72e-4926-8fb0-b07d87f4bfe4",
   "metadata": {
    "vscode": {
     "languageId": "r"
    }
   },
   "outputs": [
    {
     "name": "stderr",
     "output_type": "stream",
     "text": [
      "Loading required package: corrplot\n",
      "\n",
      "corrplot 0.92 loaded\n",
      "\n"
     ]
    }
   ],
   "source": [
    "#install.packages(\"corrplot\",dependencies=TRUE,repos=\"https://cloud.r-project.org\")\n",
    "require(corrplot)"
   ]
  },
  {
   "cell_type": "code",
   "execution_count": 8,
   "id": "2b4e9e45-19f7-4563-8b24-2d865c3421dc",
   "metadata": {
    "vscode": {
     "languageId": "r"
    }
   },
   "outputs": [
    {
     "data": {
      "image/png": "[encoded data removed]",
      "text/plain": [
       "Plot with title \"\""
      ]
     },
     "metadata": {
      "image/png": {
       "height": 360,
       "width": 360
      }
     },
     "output_type": "display_data"
    }
   ],
   "source": [
    "options(repr.plot.width=6,repr.plot.height=6)\n",
    "corrplot(cor(x), type=\"lower\", order=\"hclust\", tl.col=\"black\", tl.srt=45)"
   ]
  },
  {
   "cell_type": "code",
   "execution_count": 9,
   "id": "525da8a3-e21d-43b0-8c04-a995bdaaaf89",
   "metadata": {
    "tags": [],
    "vscode": {
     "languageId": "r"
    }
   },
   "outputs": [
    {
     "name": "stderr",
     "output_type": "stream",
     "text": [
      "Loading required package: car\n",
      "\n",
      "Loading required package: carData\n",
      "\n"
     ]
    }
   ],
   "source": [
    "#install.packages(\"car\",dependencies=TRUE,repos=\"https://cloud.r-project.org\")\n",
    "require(car)"
   ]
  },
  {
   "cell_type": "code",
   "execution_count": 10,
   "id": "1674c196-4233-4247-a819-f5151725423d",
   "metadata": {
    "vscode": {
     "languageId": "r"
    }
   },
   "outputs": [
    {
     "data": {
      "text/html": [
       "<style>\n",
       ".dl-inline {width: auto; margin:0; padding: 0}\n",
       ".dl-inline>dt, .dl-inline>dd {float: none; width: auto; display: inline-block}\n",
       ".dl-inline>dt::after {content: \":\\0020\"; padding-right: .5ex}\n",
       ".dl-inline>dt:not(:first-of-type) {padding-left: .5ex}\n",
       "</style><dl class=dl-inline><dt>AtBat</dt><dd>22.9</dd><dt>Hits</dt><dd>30.3</dd><dt>HmRun</dt><dd>7.8</dd><dt>Runs</dt><dd>15.2</dd><dt>RBI</dt><dd>11.9</dd><dt>Walks</dt><dd>4.1</dd><dt>Years</dt><dd>9.3</dd><dt>CAtBat</dt><dd>251.6</dd><dt>CHits</dt><dd>503</dd><dt>CHmRun</dt><dd>46.5</dd><dt>CRuns</dt><dd>162.5</dd><dt>CRBI</dt><dd>132</dd><dt>CWalks</dt><dd>19.7</dd><dt>League</dt><dd>4.1</dd><dt>Division</dt><dd>1.1</dd><dt>PutOuts</dt><dd>1.2</dd><dt>Assists</dt><dd>2.7</dd><dt>Errors</dt><dd>2.2</dd><dt>NewLeague</dt><dd>4.1</dd></dl>\n"
      ],
      "text/latex": [
       "\\begin{description*}\n",
       "\\item[AtBat] 22.9\n",
       "\\item[Hits] 30.3\n",
       "\\item[HmRun] 7.8\n",
       "\\item[Runs] 15.2\n",
       "\\item[RBI] 11.9\n",
       "\\item[Walks] 4.1\n",
       "\\item[Years] 9.3\n",
       "\\item[CAtBat] 251.6\n",
       "\\item[CHits] 503\n",
       "\\item[CHmRun] 46.5\n",
       "\\item[CRuns] 162.5\n",
       "\\item[CRBI] 132\n",
       "\\item[CWalks] 19.7\n",
       "\\item[League] 4.1\n",
       "\\item[Division] 1.1\n",
       "\\item[PutOuts] 1.2\n",
       "\\item[Assists] 2.7\n",
       "\\item[Errors] 2.2\n",
       "\\item[NewLeague] 4.1\n",
       "\\end{description*}\n"
      ],
      "text/markdown": [
       "AtBat\n",
       ":   22.9Hits\n",
       ":   30.3HmRun\n",
       ":   7.8Runs\n",
       ":   15.2RBI\n",
       ":   11.9Walks\n",
       ":   4.1Years\n",
       ":   9.3CAtBat\n",
       ":   251.6CHits\n",
       ":   503CHmRun\n",
       ":   46.5CRuns\n",
       ":   162.5CRBI\n",
       ":   132CWalks\n",
       ":   19.7League\n",
       ":   4.1Division\n",
       ":   1.1PutOuts\n",
       ":   1.2Assists\n",
       ":   2.7Errors\n",
       ":   2.2NewLeague\n",
       ":   4.1\n",
       "\n"
      ],
      "text/plain": [
       "    AtBat      Hits     HmRun      Runs       RBI     Walks     Years    CAtBat \n",
       "     22.9      30.3       7.8      15.2      11.9       4.1       9.3     251.6 \n",
       "    CHits    CHmRun     CRuns      CRBI    CWalks    League  Division   PutOuts \n",
       "    503.0      46.5     162.5     132.0      19.7       4.1       1.1       1.2 \n",
       "  Assists    Errors NewLeague \n",
       "      2.7       2.2       4.1 "
      ]
     },
     "metadata": {},
     "output_type": "display_data"
    }
   ],
   "source": [
    "round(vif(Hitters.ols),1)"
   ]
  },
  {
   "cell_type": "markdown",
   "id": "4af93a7e-943f-45c3-aea6-5a3bf6757bd5",
   "metadata": {},
   "source": [
    "Large VIF values indicate multicollinearity."
   ]
  },
  {
   "cell_type": "markdown",
   "id": "cf3a5489-131f-4b4f-b0e0-ae2409ab438e",
   "metadata": {},
   "source": [
    "We obtain the condition number $\\kappa$ of the mopdel matrix and the standardized model matrix."
   ]
  },
  {
   "cell_type": "code",
   "execution_count": 11,
   "id": "046a5189-8311-49f9-baa1-4923c8259d07",
   "metadata": {
    "vscode": {
     "languageId": "r"
    }
   },
   "outputs": [
    {
     "data": {
      "text/html": [
       "31956.9"
      ],
      "text/latex": [
       "31956.9"
      ],
      "text/markdown": [
       "31956.9"
      ],
      "text/plain": [
       "[1] 31956.9"
      ]
     },
     "metadata": {},
     "output_type": "display_data"
    },
    {
     "data": {
      "text/html": [
       "65.5"
      ],
      "text/latex": [
       "65.5"
      ],
      "text/markdown": [
       "65.5"
      ],
      "text/plain": [
       "[1] 65.5"
      ]
     },
     "metadata": {},
     "output_type": "display_data"
    }
   ],
   "source": [
    "round(kappa(x),1)\n",
    "round(kappa(x0),1)"
   ]
  },
  {
   "cell_type": "markdown",
   "id": "3e4e4e36-66ea-47f4-a9b4-3a6aaa229b64",
   "metadata": {},
   "source": [
    "Adding the intercept colummn of ones (it should be counted in the regression condition number)"
   ]
  },
  {
   "cell_type": "code",
   "execution_count": 12,
   "id": "3faf72c6-3774-4922-9ffa-134b019a57f4",
   "metadata": {
    "vscode": {
     "languageId": "r"
    }
   },
   "outputs": [
    {
     "data": {
      "text/html": [
       "26973.7"
      ],
      "text/latex": [
       "26973.7"
      ],
      "text/markdown": [
       "26973.7"
      ],
      "text/plain": [
       "[1] 26973.7"
      ]
     },
     "metadata": {},
     "output_type": "display_data"
    },
    {
     "data": {
      "text/html": [
       "65.2"
      ],
      "text/latex": [
       "65.2"
      ],
      "text/markdown": [
       "65.2"
      ],
      "text/plain": [
       "[1] 65.2"
      ]
     },
     "metadata": {},
     "output_type": "display_data"
    }
   ],
   "source": [
    "n<-nrow(x)\n",
    "x1<-cbind(rep(1,n),x)\n",
    "x01<-cbind(rep(1,n),x0)\n",
    "round(kappa(x1),1)\n",
    "round(kappa(x01),1)"
   ]
  },
  {
   "cell_type": "markdown",
   "id": "9ed884f9-0b5f-49b4-982e-7a8a4c05d88c",
   "metadata": {},
   "source": [
    "$\\kappa$ improves with standardization, but VIF values cannot be modified (correlation is invariant under centering and scaling)"
   ]
  },
  {
   "cell_type": "markdown",
   "id": "66df0197-d049-4fb0-8642-86de469c982f",
   "metadata": {
    "tags": []
   },
   "source": [
    "# 02 - Ridge regression"
   ]
  },
  {
   "cell_type": "markdown",
   "id": "2c5a6db4-7e09-4580-abaa-0e211d1184bc",
   "metadata": {},
   "source": [
    "#### [ISLR2 - Chap 6 - Laboratory 2](https://web.stanford.edu/~hastie/ISLR2/Labs/Jupyter_Notebooks/Ch6-varselect-lab.ipynb)"
   ]
  },
  {
   "cell_type": "code",
   "execution_count": 13,
   "id": "c4f90760-7833-41b7-a0ec-5091843792d7",
   "metadata": {
    "vscode": {
     "languageId": "r"
    }
   },
   "outputs": [
    {
     "name": "stderr",
     "output_type": "stream",
     "text": [
      "Loaded glmnet 4.1-7\n",
      "\n"
     ]
    }
   ],
   "source": [
    "#install.packages(\"glmnet\",dependencies=TRUE,repos=\"https://cloud.r-project.org\")\n",
    "require(glmnet,quietly=TRUE)"
   ]
  },
  {
   "cell_type": "markdown",
   "id": "d0ae756f-62c6-4f6d-a4dc-b1b0ab4afdf0",
   "metadata": {},
   "source": [
    "####  A grid of lambda values"
   ]
  },
  {
   "cell_type": "code",
   "execution_count": 14,
   "id": "e3292a68-06a7-4f78-8e04-f3a2b8ad16e1",
   "metadata": {
    "vscode": {
     "languageId": "r"
    }
   },
   "outputs": [],
   "source": [
    "grid<-exp(seq(8,0,length=100))"
   ]
  },
  {
   "cell_type": "code",
   "execution_count": 15,
   "id": "8ffcbc88-3965-42c8-ad8a-e20d6899f7af",
   "metadata": {
    "vscode": {
     "languageId": "r"
    }
   },
   "outputs": [],
   "source": [
    "# Syntax: \n",
    "# alpha=0 is for ridge regression\n",
    "# alpha=1 is for 'lasso'  regression (cfr. below)\n",
    "#\n",
    "Hitters.ridge.01<-glmnet(x,y,alpha=0,lambda=grid) # raw data\n",
    "Hitters.ridge.02<-glmnet(x0,y,alpha=0,lambda=grid) # standardized data"
   ]
  },
  {
   "cell_type": "code",
   "execution_count": 16,
   "id": "62e891cb-e2cc-4a87-bf3e-452ff7bbc56a",
   "metadata": {
    "tags": [],
    "vscode": {
     "languageId": "r"
    }
   },
   "outputs": [
    {
     "data": {
      "image/png": "[encoded data removed]",
      "text/plain": [
       "plot without title"
      ]
     },
     "metadata": {
      "image/png": {
       "height": 330,
       "width": 720
      }
     },
     "output_type": "display_data"
    }
   ],
   "source": [
    "options(repr.plot.width=12,repr.plot.height=5.5)\n",
    "old.par<-par(mfrow=c(1,2))\n",
    "plot(Hitters.ridge.01,xvar=\"lambda\")\n",
    "plot(Hitters.ridge.02,xvar=\"lambda\")\n",
    "par(old.par)"
   ]
  },
  {
   "cell_type": "code",
   "execution_count": 17,
   "id": "25304db7-df49-4a69-9be5-1436ab264a0f",
   "metadata": {
    "tags": [],
    "vscode": {
     "languageId": "r"
    }
   },
   "outputs": [
    {
     "data": {
      "image/png": "[encoded data removed]",
      "text/plain": [
       "plot without title"
      ]
     },
     "metadata": {
      "image/png": {
       "height": 330,
       "width": 720
      }
     },
     "output_type": "display_data"
    }
   ],
   "source": [
    "options(repr.plot.width=12,repr.plot.height=5.5)\n",
    "old.par<-par(mfrow=c(1,2))\n",
    "plot(Hitters.ridge.01,xvar=\"norm\")\n",
    "plot(Hitters.ridge.02,xvar=\"norm\")\n",
    "par(old.par)"
   ]
  },
  {
   "cell_type": "markdown",
   "id": "6bf17812",
   "metadata": {},
   "source": [
    "We can perform CV automatically with `glmnet`. This will produce two quantities that we can look at:\n",
    "\n",
    "1. lambda.min : $\\lambda$ of minimum mean cross-validated error\n",
    "2. lambda.1se : largest value of $\\lambda$ such that error is within 1 standard error of the cross-validated errors for lambda.min."
   ]
  },
  {
   "cell_type": "code",
   "execution_count": 18,
   "id": "63a85876-ba5a-4b4f-bcc8-3f77974ead07",
   "metadata": {
    "vscode": {
     "languageId": "r"
    }
   },
   "outputs": [],
   "source": [
    "set.seed(24025)\n",
    "Hitters.ridge.01.cv<-cv.glmnet(x,y,alpha=0,lambda=grid)\n",
    "Hitters.ridge.02.cv<-cv.glmnet(x0,y,alpha=0,lambda=grid)"
   ]
  },
  {
   "cell_type": "code",
   "execution_count": 19,
   "id": "51989733-9f9a-4c5c-a065-5e2889ecf18c",
   "metadata": {
    "vscode": {
     "languageId": "r"
    }
   },
   "outputs": [
    {
     "data": {
      "text/html": [
       "<style>\n",
       ".list-inline {list-style: none; margin:0; padding: 0}\n",
       ".list-inline>li {display: inline-block}\n",
       ".list-inline>li:not(:last-child)::after {content: \"\\00b7\"; padding: 0 .5ex}\n",
       "</style>\n",
       "<ol class=list-inline><li>191.05</li><li>2980.96</li></ol>\n"
      ],
      "text/latex": [
       "\\begin{enumerate*}\n",
       "\\item 191.05\n",
       "\\item 2980.96\n",
       "\\end{enumerate*}\n"
      ],
      "text/markdown": [
       "1. 191.05\n",
       "2. 2980.96\n",
       "\n",
       "\n"
      ],
      "text/plain": [
       "[1]  191.05 2980.96"
      ]
     },
     "metadata": {},
     "output_type": "display_data"
    },
    {
     "data": {
      "text/html": [
       "<style>\n",
       ".list-inline {list-style: none; margin:0; padding: 0}\n",
       ".list-inline>li {display: inline-block}\n",
       ".list-inline>li:not(:last-child)::after {content: \"\\00b7\"; padding: 0 .5ex}\n",
       "</style>\n",
       "<ol class=list-inline><li>5.25</li><li>8</li></ol>\n"
      ],
      "text/latex": [
       "\\begin{enumerate*}\n",
       "\\item 5.25\n",
       "\\item 8\n",
       "\\end{enumerate*}\n"
      ],
      "text/markdown": [
       "1. 5.25\n",
       "2. 8\n",
       "\n",
       "\n"
      ],
      "text/plain": [
       "[1] 5.25 8.00"
      ]
     },
     "metadata": {},
     "output_type": "display_data"
    },
    {
     "data": {
      "text/html": [
       "<style>\n",
       ".list-inline {list-style: none; margin:0; padding: 0}\n",
       ".list-inline>li {display: inline-block}\n",
       ".list-inline>li:not(:last-child)::after {content: \"\\00b7\"; padding: 0 .5ex}\n",
       "</style>\n",
       "<ol class=list-inline><li>4.28</li><li>2980.96</li></ol>\n"
      ],
      "text/latex": [
       "\\begin{enumerate*}\n",
       "\\item 4.28\n",
       "\\item 2980.96\n",
       "\\end{enumerate*}\n"
      ],
      "text/markdown": [
       "1. 4.28\n",
       "2. 2980.96\n",
       "\n",
       "\n"
      ],
      "text/plain": [
       "[1]    4.28 2980.96"
      ]
     },
     "metadata": {},
     "output_type": "display_data"
    },
    {
     "data": {
      "text/html": [
       "<style>\n",
       ".list-inline {list-style: none; margin:0; padding: 0}\n",
       ".list-inline>li {display: inline-block}\n",
       ".list-inline>li:not(:last-child)::after {content: \"\\00b7\"; padding: 0 .5ex}\n",
       "</style>\n",
       "<ol class=list-inline><li>1.45</li><li>8</li></ol>\n"
      ],
      "text/latex": [
       "\\begin{enumerate*}\n",
       "\\item 1.45\n",
       "\\item 8\n",
       "\\end{enumerate*}\n"
      ],
      "text/markdown": [
       "1. 1.45\n",
       "2. 8\n",
       "\n",
       "\n"
      ],
      "text/plain": [
       "[1] 1.45 8.00"
      ]
     },
     "metadata": {},
     "output_type": "display_data"
    }
   ],
   "source": [
    "Hitters.ridge.01.lambda.min<-Hitters.ridge.01.cv$lambda.min\n",
    "Hitters.ridge.02.lambda.min<-Hitters.ridge.02.cv$lambda.min\n",
    "Hitters.ridge.01.lambda.1se<-Hitters.ridge.01.cv$lambda.1se\n",
    "Hitters.ridge.02.lambda.1se<-Hitters.ridge.02.cv$lambda.1se\n",
    "round(c(Hitters.ridge.01.lambda.min,Hitters.ridge.01.lambda.1se),2)\n",
    "round(c(log(Hitters.ridge.01.lambda.min),log(Hitters.ridge.01.lambda.1se)),2)\n",
    "round(c(Hitters.ridge.02.lambda.min,Hitters.ridge.02.lambda.1se),2)\n",
    "round(c(log(Hitters.ridge.02.lambda.min),log(Hitters.ridge.02.lambda.1se)),2)"
   ]
  },
  {
   "cell_type": "code",
   "execution_count": 20,
   "id": "15523d1d-e82d-4f81-8a3a-b6caf119ac96",
   "metadata": {
    "vscode": {
     "languageId": "r"
    }
   },
   "outputs": [
    {
     "data": {
      "image/png": "[encoded data removed]",
      "text/plain": [
       "plot without title"
      ]
     },
     "metadata": {
      "image/png": {
       "height": 330,
       "width": 720
      }
     },
     "output_type": "display_data"
    }
   ],
   "source": [
    "options(repr.plot.width=12,repr.plot.height=5.5)\n",
    "old.par<-par(mfrow=c(1,2))\n",
    "plot(Hitters.ridge.01.cv)\n",
    "abline(v=log(Hitters.ridge.01.lambda.min),lwd=2,col=\"cyan\")\n",
    "plot(Hitters.ridge.02.cv)\n",
    "abline(v=log(Hitters.ridge.02.lambda.min),lwd=2,col=\"cyan\")\n",
    "par(old.par)"
   ]
  },
  {
   "cell_type": "markdown",
   "id": "4dc24e4f",
   "metadata": {},
   "source": [
    "Let's see if any of the coefficients shrank to zero, implicitely doing feature selection. "
   ]
  },
  {
   "cell_type": "code",
   "execution_count": 21,
   "id": "68dfbd42-9cfb-43af-b574-b14384b1086e",
   "metadata": {
    "vscode": {
     "languageId": "r"
    }
   },
   "outputs": [
    {
     "data": {
      "text/html": [
       "<style>\n",
       ".list-inline {list-style: none; margin:0; padding: 0}\n",
       ".list-inline>li {display: inline-block}\n",
       ".list-inline>li:not(:last-child)::after {content: \"\\00b7\"; padding: 0 .5ex}\n",
       "</style>\n",
       "<ol class=list-inline><li>9.95</li><li>0.02</li><li>1.05</li><li>0.02</li><li>1.12</li><li>0.87</li><li>1.85</li><li>-0.21</li><li>0.01</li><li>0.07</li><li>0.46</li><li>0.13</li><li>0.14</li><li>0.02</li><li>28.43</li><li>-94.36</li><li>0.2</li><li>0.05</li><li>-1.92</li><li>6.51</li></ol>\n"
      ],
      "text/latex": [
       "\\begin{enumerate*}\n",
       "\\item 9.95\n",
       "\\item 0.02\n",
       "\\item 1.05\n",
       "\\item 0.02\n",
       "\\item 1.12\n",
       "\\item 0.87\n",
       "\\item 1.85\n",
       "\\item -0.21\n",
       "\\item 0.01\n",
       "\\item 0.07\n",
       "\\item 0.46\n",
       "\\item 0.13\n",
       "\\item 0.14\n",
       "\\item 0.02\n",
       "\\item 28.43\n",
       "\\item -94.36\n",
       "\\item 0.2\n",
       "\\item 0.05\n",
       "\\item -1.92\n",
       "\\item 6.51\n",
       "\\end{enumerate*}\n"
      ],
      "text/markdown": [
       "1. 9.95\n",
       "2. 0.02\n",
       "3. 1.05\n",
       "4. 0.02\n",
       "5. 1.12\n",
       "6. 0.87\n",
       "7. 1.85\n",
       "8. -0.21\n",
       "9. 0.01\n",
       "10. 0.07\n",
       "11. 0.46\n",
       "12. 0.13\n",
       "13. 0.14\n",
       "14. 0.02\n",
       "15. 28.43\n",
       "16. -94.36\n",
       "17. 0.2\n",
       "18. 0.05\n",
       "19. -1.92\n",
       "20. 6.51\n",
       "\n",
       "\n"
      ],
      "text/plain": [
       " [1]   9.95   0.02   1.05   0.02   1.12   0.87   1.85  -0.21   0.01   0.07\n",
       "[11]   0.46   0.13   0.14   0.02  28.43 -94.36   0.20   0.05  -1.92   6.51"
      ]
     },
     "metadata": {},
     "output_type": "display_data"
    },
    {
     "data": {
      "text/html": [
       "<style>\n",
       ".list-inline {list-style: none; margin:0; padding: 0}\n",
       ".list-inline>li {display: inline-block}\n",
       ".list-inline>li:not(:last-child)::after {content: \"\\00b7\"; padding: 0 .5ex}\n",
       "</style>\n",
       "<ol class=list-inline><li>535.93</li><li>-236.55</li><li>252.96</li><li>5.49</li><li>-7.98</li><li>1.78</li><li>113.24</li><li>-50.06</li><li>-125.48</li><li>130.99</li><li>59.37</li><li>228.43</li><li>117.73</li><li>-159.45</li><li>30.68</li><li>-61.52</li><li>78.2</li><li>41.93</li><li>-24.89</li><li>-13.95</li></ol>\n"
      ],
      "text/latex": [
       "\\begin{enumerate*}\n",
       "\\item 535.93\n",
       "\\item -236.55\n",
       "\\item 252.96\n",
       "\\item 5.49\n",
       "\\item -7.98\n",
       "\\item 1.78\n",
       "\\item 113.24\n",
       "\\item -50.06\n",
       "\\item -125.48\n",
       "\\item 130.99\n",
       "\\item 59.37\n",
       "\\item 228.43\n",
       "\\item 117.73\n",
       "\\item -159.45\n",
       "\\item 30.68\n",
       "\\item -61.52\n",
       "\\item 78.2\n",
       "\\item 41.93\n",
       "\\item -24.89\n",
       "\\item -13.95\n",
       "\\end{enumerate*}\n"
      ],
      "text/markdown": [
       "1. 535.93\n",
       "2. -236.55\n",
       "3. 252.96\n",
       "4. 5.49\n",
       "5. -7.98\n",
       "6. 1.78\n",
       "7. 113.24\n",
       "8. -50.06\n",
       "9. -125.48\n",
       "10. 130.99\n",
       "11. 59.37\n",
       "12. 228.43\n",
       "13. 117.73\n",
       "14. -159.45\n",
       "15. 30.68\n",
       "16. -61.52\n",
       "17. 78.2\n",
       "18. 41.93\n",
       "19. -24.89\n",
       "20. -13.95\n",
       "\n",
       "\n"
      ],
      "text/plain": [
       " [1]  535.93 -236.55  252.96    5.49   -7.98    1.78  113.24  -50.06 -125.48\n",
       "[10]  130.99   59.37  228.43  117.73 -159.45   30.68  -61.52   78.20   41.93\n",
       "[19]  -24.89  -13.95"
      ]
     },
     "metadata": {},
     "output_type": "display_data"
    }
   ],
   "source": [
    "# We extract now the regression coefficients with the 'predict' function\n",
    "coeff.01<-as.numeric(predict(Hitters.ridge.01,s=Hitters.ridge.01.lambda.min,type=\"coefficients\"))\n",
    "coeff.02<-as.numeric(predict(Hitters.ridge.02,s=Hitters.ridge.02.lambda.min,type=\"coefficients\"))\n",
    "round(coeff.01,2)\n",
    "round(coeff.02,2)"
   ]
  },
  {
   "cell_type": "markdown",
   "id": "37fec612",
   "metadata": {},
   "source": [
    "In this case, however, all coefficients remain different than zero."
   ]
  },
  {
   "cell_type": "markdown",
   "id": "1529aedd-8ffb-41e5-a0d6-99b4631afa32",
   "metadata": {},
   "source": [
    "### In case you were wondering\n",
    "#### (from [stackoverflow](https://stackoverflow.com/questions/39750965/confidence-intervals-for-ridge-regression)): `glmnet` doesn't offer standard errors\n",
    "\n",
    "It turns out that glmnet doesn't offer standard errors (and therefore doesn't give you confidence intervals) as explained in Park and Casella (2008), _The Bayesian Lasso._   \n",
    "This question is also addressed in the following excerpt from the vignette in the `penalized` package.\n",
    "\n",
    "It is a very natural question to ask for standard errors of regression coefficients or other estimated quantities. In principle such standard errors can easily be calculated, e.g. using the bootstrap.\n",
    "\n",
    "Still, this package deliberately does not provide them. The reason for this is that standard errors are not very meaningful for strongly biased estimates such as arise from penalized estimation methods. Penalized estimation is a procedure that reduces the variance of estimators by introducing substantial bias. The bias of each estimator is therefore a major component of its mean squared error, whereas its variance may contribute only a small part.\n",
    "\n",
    "Unfortunately, in most applications of penalized regression it is impossible to obtain a sufficiently precise estimate of the bias. Any bootstrap-based calculations can only give an assessment of the variance of the estimates. Reliable estimates of the bias are only available if reliable unbiased estimates are available, which is typically not the case in situations in which penalized estimates are used.\n",
    "\n",
    "Reporting a standard error of a penalized estimate therefore tells only part of the story. It can give a mistaken impression of great precision, completely ignoring the inaccuracy caused by the bias. It is certainly a mistake to make confidence statements that are only based on an assessment of the variance of the estimates, such as bootstrap-based confidence intervals do.\n",
    "\n",
    "Reliable confidence intervals around the penalized estimates can be obtained in the case of low dimensional models using the standard generalized linear model theory as implemented in `lm`, `glm` and `coxph`.   \n",
    "\n",
    "Methods for constructing reliable confidence intervals in the high-dimensional situation are, to my knowledge, not available."
   ]
  },
  {
   "cell_type": "markdown",
   "id": "c5b45673-3953-41d2-9965-5dc0bf6a28a8",
   "metadata": {},
   "source": [
    "# 03 - Lasso"
   ]
  },
  {
   "cell_type": "markdown",
   "id": "1099e567-e3fa-4413-afec-9da21396e028",
   "metadata": {},
   "source": [
    "####  A grid of lambda values"
   ]
  },
  {
   "cell_type": "code",
   "execution_count": 22,
   "id": "bddd096c-996b-4ec8-a5b7-6149d87e164c",
   "metadata": {
    "vscode": {
     "languageId": "r"
    }
   },
   "outputs": [],
   "source": [
    "grid<-exp(seq(6,0,length=100))"
   ]
  },
  {
   "cell_type": "code",
   "execution_count": 23,
   "id": "5b6a4120-830b-4e10-8962-f7ee07323637",
   "metadata": {
    "vscode": {
     "languageId": "r"
    }
   },
   "outputs": [],
   "source": [
    "# Syntax: \n",
    "# alpha=0 is for ridge regression\n",
    "# alpha=1 is for 'lasso'  regression (cfr. below)\n",
    "#\n",
    "Hitters.lasso.01<-glmnet(x,y,alpha=1,lambda=grid) # raw data\n",
    "Hitters.lasso.02<-glmnet(x0,y,alpha=1,lambda=grid) # standardized data"
   ]
  },
  {
   "cell_type": "markdown",
   "id": "74ac234c-2405-4007-9c0a-583d04a2e908",
   "metadata": {},
   "source": [
    "####  Alternatively, specifying the lambda grid from `nlambda` and `lambda.min.ratio`"
   ]
  },
  {
   "cell_type": "code",
   "execution_count": 24,
   "id": "06d826c2-824d-45ea-961a-a91c8817ce09",
   "metadata": {
    "vscode": {
     "languageId": "r"
    }
   },
   "outputs": [],
   "source": [
    "nlambda<-200\n",
    "lambda.min.ratio<-10^(-3)"
   ]
  },
  {
   "cell_type": "markdown",
   "id": "52368a22-0b0a-459d-8ca8-ea83ece5c923",
   "metadata": {},
   "source": [
    "`lambda.min.ratio` is the smallest value for `lambda`, as a fraction of `lambda.max`, the (data derived) entry value (i.e. the smallest value for which all coefficients are zero). "
   ]
  },
  {
   "cell_type": "code",
   "execution_count": 25,
   "id": "1384f708-e1e1-4abb-8198-dad4635803ce",
   "metadata": {
    "vscode": {
     "languageId": "r"
    }
   },
   "outputs": [],
   "source": [
    "# Syntax: \n",
    "# alpha=0 is for ridge regression\n",
    "# alpha=1 is for 'lasso'  regression (cfr. below)\n",
    "#\n",
    "Hitters.lasso.01<-glmnet(x,y,alpha=1,nlambda=200,lambda.min.ratio=10^(-3)) # raw data\n",
    "Hitters.lasso.02<-glmnet(x0,y,alpha=1,nlambda=200,lambda.min.ratio=10^(-3)) # standardized data"
   ]
  },
  {
   "cell_type": "code",
   "execution_count": 26,
   "id": "436f9d64-3d82-43b9-ad4e-ac8b9ea36a80",
   "metadata": {
    "vscode": {
     "languageId": "r"
    }
   },
   "outputs": [
    {
     "data": {
      "image/png": "[encoded data removed]",
      "text/plain": [
       "plot without title"
      ]
     },
     "metadata": {
      "image/png": {
       "height": 300,
       "width": 600
      }
     },
     "output_type": "display_data"
    }
   ],
   "source": [
    "options(repr.plot.width=10,repr.plot.height=5)\n",
    "old.par<-par(mfrow=c(1,2))\n",
    "plot(Hitters.lasso.01,xvar=\"lambda\")\n",
    "plot(Hitters.lasso.02,xvar=\"lambda\")\n",
    "par(old.par)"
   ]
  },
  {
   "cell_type": "code",
   "execution_count": 27,
   "id": "62115774-ac8d-4231-abc4-67d8bb65e023",
   "metadata": {
    "vscode": {
     "languageId": "r"
    }
   },
   "outputs": [
    {
     "data": {
      "image/png": "[encoded data removed]",
      "text/plain": [
       "plot without title"
      ]
     },
     "metadata": {
      "image/png": {
       "height": 330,
       "width": 720
      }
     },
     "output_type": "display_data"
    }
   ],
   "source": [
    "options(repr.plot.width=12,repr.plot.height=5.5)\n",
    "old.par<-par(mfrow=c(1,2))\n",
    "plot(Hitters.lasso.01,xvar=\"norm\")\n",
    "plot(Hitters.lasso.02,xvar=\"norm\")\n",
    "par(old.par)"
   ]
  },
  {
   "cell_type": "code",
   "execution_count": 28,
   "id": "8dea2cc0-af96-4fe6-89c2-6d4e4737b0c4",
   "metadata": {
    "vscode": {
     "languageId": "r"
    }
   },
   "outputs": [],
   "source": [
    "set.seed(24025)\n",
    "Hitters.lasso.01.cv<-cv.glmnet(x,y,alpha=1,lambda=grid)\n",
    "Hitters.lasso.02.cv<-cv.glmnet(x0,y,alpha=1,lambda=grid)"
   ]
  },
  {
   "cell_type": "code",
   "execution_count": 29,
   "id": "ea6599d9-611f-4234-a236-94f9608b4dd2",
   "metadata": {
    "vscode": {
     "languageId": "r"
    }
   },
   "outputs": [
    {
     "data": {
      "text/html": [
       "<style>\n",
       ".list-inline {list-style: none; margin:0; padding: 0}\n",
       ".list-inline>li {display: inline-block}\n",
       ".list-inline>li:not(:last-child)::after {content: \"\\00b7\"; padding: 0 .5ex}\n",
       "</style>\n",
       "<ol class=list-inline><li>2.34</li><li>100.09</li></ol>\n"
      ],
      "text/latex": [
       "\\begin{enumerate*}\n",
       "\\item 2.34\n",
       "\\item 100.09\n",
       "\\end{enumerate*}\n"
      ],
      "text/markdown": [
       "1. 2.34\n",
       "2. 100.09\n",
       "\n",
       "\n"
      ],
      "text/plain": [
       "[1]   2.34 100.09"
      ]
     },
     "metadata": {},
     "output_type": "display_data"
    },
    {
     "data": {
      "text/html": [
       "<style>\n",
       ".list-inline {list-style: none; margin:0; padding: 0}\n",
       ".list-inline>li {display: inline-block}\n",
       ".list-inline>li:not(:last-child)::after {content: \"\\00b7\"; padding: 0 .5ex}\n",
       "</style>\n",
       "<ol class=list-inline><li>0.85</li><li>4.61</li></ol>\n"
      ],
      "text/latex": [
       "\\begin{enumerate*}\n",
       "\\item 0.85\n",
       "\\item 4.61\n",
       "\\end{enumerate*}\n"
      ],
      "text/markdown": [
       "1. 0.85\n",
       "2. 4.61\n",
       "\n",
       "\n"
      ],
      "text/plain": [
       "[1] 0.85 4.61"
      ]
     },
     "metadata": {},
     "output_type": "display_data"
    },
    {
     "data": {
      "text/html": [
       "<style>\n",
       ".list-inline {list-style: none; margin:0; padding: 0}\n",
       ".list-inline>li {display: inline-block}\n",
       ".list-inline>li:not(:last-child)::after {content: \"\\00b7\"; padding: 0 .5ex}\n",
       "</style>\n",
       "<ol class=list-inline><li>2.2</li><li>100.09</li></ol>\n"
      ],
      "text/latex": [
       "\\begin{enumerate*}\n",
       "\\item 2.2\n",
       "\\item 100.09\n",
       "\\end{enumerate*}\n"
      ],
      "text/markdown": [
       "1. 2.2\n",
       "2. 100.09\n",
       "\n",
       "\n"
      ],
      "text/plain": [
       "[1]   2.20 100.09"
      ]
     },
     "metadata": {},
     "output_type": "display_data"
    },
    {
     "data": {
      "text/html": [
       "<style>\n",
       ".list-inline {list-style: none; margin:0; padding: 0}\n",
       ".list-inline>li {display: inline-block}\n",
       ".list-inline>li:not(:last-child)::after {content: \"\\00b7\"; padding: 0 .5ex}\n",
       "</style>\n",
       "<ol class=list-inline><li>0.79</li><li>4.61</li></ol>\n"
      ],
      "text/latex": [
       "\\begin{enumerate*}\n",
       "\\item 0.79\n",
       "\\item 4.61\n",
       "\\end{enumerate*}\n"
      ],
      "text/markdown": [
       "1. 0.79\n",
       "2. 4.61\n",
       "\n",
       "\n"
      ],
      "text/plain": [
       "[1] 0.79 4.61"
      ]
     },
     "metadata": {},
     "output_type": "display_data"
    }
   ],
   "source": [
    "Hitters.lasso.01.lambda.min<-Hitters.lasso.01.cv$lambda.min\n",
    "Hitters.lasso.02.lambda.min<-Hitters.lasso.02.cv$lambda.min\n",
    "Hitters.lasso.01.lambda.1se<-Hitters.lasso.01.cv$lambda.1se\n",
    "Hitters.lasso.02.lambda.1se<-Hitters.lasso.02.cv$lambda.1se\n",
    "round(c(Hitters.lasso.01.lambda.min,Hitters.lasso.01.lambda.1se),2)\n",
    "round(c(log(Hitters.lasso.01.lambda.min),log(Hitters.lasso.01.lambda.1se)),2)\n",
    "round(c(Hitters.lasso.02.lambda.min,Hitters.lasso.02.lambda.1se),2)\n",
    "round(c(log(Hitters.lasso.02.lambda.min),log(Hitters.lasso.02.lambda.1se)),2)"
   ]
  },
  {
   "cell_type": "code",
   "execution_count": 30,
   "id": "cb6b924f-92af-4c4b-b58a-0c4359c6ce43",
   "metadata": {
    "vscode": {
     "languageId": "r"
    }
   },
   "outputs": [
    {
     "data": {
      "image/png": "[encoded data removed]",
      "text/plain": [
       "plot without title"
      ]
     },
     "metadata": {
      "image/png": {
       "height": 330,
       "width": 720
      }
     },
     "output_type": "display_data"
    }
   ],
   "source": [
    "options(repr.plot.width=12,repr.plot.height=5.5)\n",
    "old.par<-par(mfrow=c(1,2))\n",
    "plot(Hitters.lasso.01.cv)\n",
    "abline(v=log(Hitters.lasso.01.lambda.min),lwd=2,col=\"cyan\")\n",
    "plot(Hitters.lasso.02.cv)\n",
    "abline(v=log(Hitters.lasso.01.lambda.min),lwd=2,col=\"cyan\")\n",
    "par(old.par)"
   ]
  },
  {
   "cell_type": "markdown",
   "id": "13816017-0df1-424e-a4ce-406d38e44a42",
   "metadata": {},
   "source": [
    "### The variable selection feature of the _Lasso_"
   ]
  },
  {
   "cell_type": "code",
   "execution_count": 31,
   "id": "80848c8d-7357-4717-ba3c-deafaa6a6354",
   "metadata": {
    "vscode": {
     "languageId": "r"
    }
   },
   "outputs": [
    {
     "data": {
      "text/html": [
       "<table class=\"dataframe\">\n",
       "<caption>A matrix: 2 × 20 of type dbl</caption>\n",
       "<tbody>\n",
       "\t<tr><th scope=row>coeff.01</th><td>131.5</td><td>  -1.6</td><td>  5.9</td><td>0.0</td><td>0</td><td>0</td><td>  4.9</td><td>-10.1</td><td>0</td><td>0</td><td> 0.6</td><td>  0.7</td><td>  0.4</td><td>  -0.6</td><td>32.7</td><td>-119.3</td><td> 0.3</td><td> 0.2</td><td> -2.2</td><td>0</td></tr>\n",
       "\t<tr><th scope=row>coeff.02</th><td>535.9</td><td>-247.6</td><td>268.6</td><td>0.7</td><td>0</td><td>0</td><td>107.7</td><td>-49.2</td><td>0</td><td>0</td><td>46.6</td><td>233.4</td><td>123.9</td><td>-153.7</td><td>16.5</td><td> -59.8</td><td>77.3</td><td>28.9</td><td>-15.1</td><td>0</td></tr>\n",
       "</tbody>\n",
       "</table>\n"
      ],
      "text/latex": [
       "A matrix: 2 × 20 of type dbl\n",
       "\\begin{tabular}{r|llllllllllllllllllll}\n",
       "\tcoeff.01 & 131.5 &   -1.6 &   5.9 & 0.0 & 0 & 0 &   4.9 & -10.1 & 0 & 0 &  0.6 &   0.7 &   0.4 &   -0.6 & 32.7 & -119.3 &  0.3 &  0.2 &  -2.2 & 0\\\\\n",
       "\tcoeff.02 & 535.9 & -247.6 & 268.6 & 0.7 & 0 & 0 & 107.7 & -49.2 & 0 & 0 & 46.6 & 233.4 & 123.9 & -153.7 & 16.5 &  -59.8 & 77.3 & 28.9 & -15.1 & 0\\\\\n",
       "\\end{tabular}\n"
      ],
      "text/markdown": [
       "\n",
       "A matrix: 2 × 20 of type dbl\n",
       "\n",
       "| coeff.01 | 131.5 |   -1.6 |   5.9 | 0.0 | 0 | 0 |   4.9 | -10.1 | 0 | 0 |  0.6 |   0.7 |   0.4 |   -0.6 | 32.7 | -119.3 |  0.3 |  0.2 |  -2.2 | 0 |\n",
       "| coeff.02 | 535.9 | -247.6 | 268.6 | 0.7 | 0 | 0 | 107.7 | -49.2 | 0 | 0 | 46.6 | 233.4 | 123.9 | -153.7 | 16.5 |  -59.8 | 77.3 | 28.9 | -15.1 | 0 |\n",
       "\n"
      ],
      "text/plain": [
       "         [,1]  [,2]   [,3]  [,4] [,5] [,6] [,7]  [,8]  [,9] [,10] [,11] [,12]\n",
       "coeff.01 131.5   -1.6   5.9 0.0  0    0      4.9 -10.1 0    0      0.6    0.7\n",
       "coeff.02 535.9 -247.6 268.6 0.7  0    0    107.7 -49.2 0    0     46.6  233.4\n",
       "         [,13] [,14]  [,15] [,16]  [,17] [,18] [,19] [,20]\n",
       "coeff.01   0.4   -0.6 32.7  -119.3  0.3   0.2   -2.2 0    \n",
       "coeff.02 123.9 -153.7 16.5   -59.8 77.3  28.9  -15.1 0    "
      ]
     },
     "metadata": {},
     "output_type": "display_data"
    }
   ],
   "source": [
    "# We extract now the regression coefficients with the 'predict' function\n",
    "coeff.01<-as.numeric(predict(Hitters.lasso.01,s=Hitters.lasso.01.lambda.min,type=\"coefficients\"))\n",
    "coeff.02<-as.numeric(predict(Hitters.lasso.02,s=Hitters.lasso.02.lambda.min,type=\"coefficients\"))\n",
    "round(rbind(coeff.01,coeff.02),1)"
   ]
  },
  {
   "cell_type": "markdown",
   "id": "ebcbc55b-bb8d-46be-9d2c-e4319af07468",
   "metadata": {},
   "source": [
    "Predictors whose regression coefficient has been shrinked to 0 will be discarded."
   ]
  }
 ],
 "metadata": {
  "kernelspec": {
   "display_name": "R",
   "language": "R",
   "name": "ir"
  },
  "language_info": {
   "codemirror_mode": "r",
   "file_extension": ".r",
   "mimetype": "text/x-r-source",
   "name": "R",
   "pygments_lexer": "r",
   "version": "4.2.3"
  }
 },
 "nbformat": 4,
 "nbformat_minor": 5
}
