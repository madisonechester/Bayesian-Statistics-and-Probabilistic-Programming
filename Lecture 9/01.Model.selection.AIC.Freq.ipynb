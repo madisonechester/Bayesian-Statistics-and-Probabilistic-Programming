{
 "cells": [
  {
   "cell_type": "markdown",
   "id": "ff225e11-dbda-4218-9d45-628cde68bd2f",
   "metadata": {
    "tags": []
   },
   "source": [
    "# Model selection in regression. AIC <h3 style=\"color:green\">Frequentist version</h3>\n",
    "\n",
    "### Dealing with multicollinearity and redundant information"
   ]
  },
  {
   "cell_type": "markdown",
   "id": "76c9cc50",
   "metadata": {},
   "source": [
    "_Adapted from Josep Fortiana (2023-04-24) by Jordi Abante (2024-04-19)_"
   ]
  },
  {
   "cell_type": "markdown",
   "id": "94c83ec5-8dec-40a9-a7f3-c92af8e85989",
   "metadata": {},
   "source": [
    "# 01 - _Ill-conditioned regressions_"
   ]
  },
  {
   "cell_type": "markdown",
   "id": "ab1896f0-762e-4f7c-be0d-045a76f5761c",
   "metadata": {},
   "source": [
    "## GPA (Grade Point Average) dataset"
   ]
  },
  {
   "cell_type": "markdown",
   "id": "1f9b2d27-7c30-4f25-ba4b-4914fcd01d19",
   "metadata": {},
   "source": [
    "The GPA dataset has 30 observacions (for 30 students) of 5 variables:\n",
    "\n",
    "`gpa`:   \"graduate grade point average\"\n",
    "\n",
    "`greq`:  \"GRE exam quantitative score\"\n",
    "\n",
    "`grev`:  \"GRE exam verbal score\"\n",
    "\n",
    "`mat`:   \"Miller Analogies Test score\"\n",
    "\n",
    "`ar`:    \"rating by professors\"\n",
    "\n",
    "#### Read the data file into R:"
   ]
  },
  {
   "cell_type": "code",
   "execution_count": 1,
   "id": "3b3ec178-a9dc-4cd8-bd58-1d1784f3b9b5",
   "metadata": {
    "vscode": {
     "languageId": "r"
    }
   },
   "outputs": [
    {
     "name": "stdout",
     "output_type": "stream",
     "text": [
      "'data.frame':\t30 obs. of  5 variables:\n",
      " $ gpa : num  3.2 4.1 3 2.6 3.7 4 4.3 2.7 3.6 4.1 ...\n",
      " $ greq: int  625 575 520 545 520 655 630 500 605 555 ...\n",
      " $ grev: int  540 680 480 520 490 535 720 500 575 690 ...\n",
      " $ mat : int  65 75 65 55 75 65 75 75 65 75 ...\n",
      " $ ar  : num  2.7 4.5 2.5 3.1 3.6 4.3 4.6 3 4.7 3.4 ...\n"
     ]
    }
   ],
   "source": [
    "gpa<-read.table(\"Data/gpa.txt\",header=TRUE)\n",
    "str(gpa)"
   ]
  },
  {
   "cell_type": "markdown",
   "id": "b86235d2-1165-4783-a657-bf47dd2945c0",
   "metadata": {},
   "source": [
    "#### Fit a linear model to predict the response `gpa` from the remaining four variables:"
   ]
  },
  {
   "cell_type": "code",
   "execution_count": 2,
   "id": "6c3b7653-75e5-45e3-9c86-8355a6f74a02",
   "metadata": {
    "vscode": {
     "languageId": "r"
    }
   },
   "outputs": [
    {
     "data": {
      "text/plain": [
       "\n",
       "Call:\n",
       "lm(formula = gpa ~ ., data = gpa)\n",
       "\n",
       "Residuals:\n",
       "    Min      1Q  Median      3Q     Max \n",
       "-0.7876 -0.2297  0.0069  0.2673  0.5260 \n",
       "\n",
       "Coefficients:\n",
       "             Estimate Std. Error t value Pr(>|t|)  \n",
       "(Intercept) -1.738107   0.950740  -1.828   0.0795 .\n",
       "greq         0.003998   0.001831   2.184   0.0385 *\n",
       "grev         0.001524   0.001050   1.451   0.1593  \n",
       "mat          0.020896   0.009549   2.188   0.0382 *\n",
       "ar           0.144234   0.113001   1.276   0.2135  \n",
       "---\n",
       "Signif. codes:  0 '***' 0.001 '**' 0.01 '*' 0.05 '.' 0.1 ' ' 1\n",
       "\n",
       "Residual standard error: 0.3874 on 25 degrees of freedom\n",
       "Multiple R-squared:  0.6405,\tAdjusted R-squared:  0.5829 \n",
       "F-statistic: 11.13 on 4 and 25 DF,  p-value: 2.519e-05\n"
      ]
     },
     "metadata": {},
     "output_type": "display_data"
    }
   ],
   "source": [
    "gpa.lm.1<-lm(gpa~.,data=gpa)\n",
    "summary(gpa.lm.1)"
   ]
  },
  {
   "cell_type": "markdown",
   "id": "9eb249b4-b7b5-447c-871f-c50041f289a4",
   "metadata": {
    "tags": []
   },
   "source": [
    "### Compute the Variance Inflation Factor (VIF) and condition number"
   ]
  },
  {
   "cell_type": "code",
   "execution_count": 3,
   "id": "950ef6c2-4c35-4d5c-8ac0-9acf54e17f72",
   "metadata": {
    "vscode": {
     "languageId": "r"
    }
   },
   "outputs": [
    {
     "data": {
      "text/html": [
       "<table class=\"dataframe\">\n",
       "<caption>A matrix: 5 × 5 of type dbl</caption>\n",
       "<thead>\n",
       "\t<tr><th></th><th scope=col>(Intercept)</th><th scope=col>greq</th><th scope=col>grev</th><th scope=col>mat</th><th scope=col>ar</th></tr>\n",
       "</thead>\n",
       "<tbody>\n",
       "\t<tr><th scope=row>(Intercept)</th><td> 0.903906</td><td>-0.001336</td><td>-3.6e-05</td><td>-0.003773</td><td> 0.036357</td></tr>\n",
       "\t<tr><th scope=row>greq</th><td>-0.001336</td><td> 0.000003</td><td>-1.0e-06</td><td> 0.000002</td><td>-0.000082</td></tr>\n",
       "\t<tr><th scope=row>grev</th><td>-0.000036</td><td>-0.000001</td><td> 1.0e-06</td><td>-0.000003</td><td>-0.000008</td></tr>\n",
       "\t<tr><th scope=row>mat</th><td>-0.003773</td><td> 0.000002</td><td>-3.0e-06</td><td> 0.000091</td><td>-0.000462</td></tr>\n",
       "\t<tr><th scope=row>ar</th><td> 0.036357</td><td>-0.000082</td><td>-8.0e-06</td><td>-0.000462</td><td> 0.012769</td></tr>\n",
       "</tbody>\n",
       "</table>\n"
      ],
      "text/latex": [
       "A matrix: 5 × 5 of type dbl\n",
       "\\begin{tabular}{r|lllll}\n",
       "  & (Intercept) & greq & grev & mat & ar\\\\\n",
       "\\hline\n",
       "\t(Intercept) &  0.903906 & -0.001336 & -3.6e-05 & -0.003773 &  0.036357\\\\\n",
       "\tgreq & -0.001336 &  0.000003 & -1.0e-06 &  0.000002 & -0.000082\\\\\n",
       "\tgrev & -0.000036 & -0.000001 &  1.0e-06 & -0.000003 & -0.000008\\\\\n",
       "\tmat & -0.003773 &  0.000002 & -3.0e-06 &  0.000091 & -0.000462\\\\\n",
       "\tar &  0.036357 & -0.000082 & -8.0e-06 & -0.000462 &  0.012769\\\\\n",
       "\\end{tabular}\n"
      ],
      "text/markdown": [
       "\n",
       "A matrix: 5 × 5 of type dbl\n",
       "\n",
       "| <!--/--> | (Intercept) | greq | grev | mat | ar |\n",
       "|---|---|---|---|---|---|\n",
       "| (Intercept) |  0.903906 | -0.001336 | -3.6e-05 | -0.003773 |  0.036357 |\n",
       "| greq | -0.001336 |  0.000003 | -1.0e-06 |  0.000002 | -0.000082 |\n",
       "| grev | -0.000036 | -0.000001 |  1.0e-06 | -0.000003 | -0.000008 |\n",
       "| mat | -0.003773 |  0.000002 | -3.0e-06 |  0.000091 | -0.000462 |\n",
       "| ar |  0.036357 | -0.000082 | -8.0e-06 | -0.000462 |  0.012769 |\n",
       "\n"
      ],
      "text/plain": [
       "            (Intercept) greq      grev     mat       ar       \n",
       "(Intercept)  0.903906   -0.001336 -3.6e-05 -0.003773  0.036357\n",
       "greq        -0.001336    0.000003 -1.0e-06  0.000002 -0.000082\n",
       "grev        -0.000036   -0.000001  1.0e-06 -0.000003 -0.000008\n",
       "mat         -0.003773    0.000002 -3.0e-06  0.000091 -0.000462\n",
       "ar           0.036357   -0.000082 -8.0e-06 -0.000462  0.012769"
      ]
     },
     "metadata": {},
     "output_type": "display_data"
    }
   ],
   "source": [
    "V<-vcov(gpa.lm.1)\n",
    "round(V,6)"
   ]
  },
  {
   "cell_type": "markdown",
   "id": "28d1c83f-471d-4708-a645-3ebe29b2a51a",
   "metadata": {},
   "source": [
    "Diagonal entries in $V$ are the variances of the coefficient estimators. \n",
    "\n",
    "They are acceptable. When they are large, the model (and its predictions) are unstable. This behaviour can be more precisely detected by using the _Variance Inflation Factors (VIF),_ which we compute with the `vif()` function from the `car` package. \n",
    "\n",
    "$$\n",
    "\\widehat{\\operatorname{var}}\\left(\\hat{\\beta}_j\\right)=\\frac{s^2}{(n-1) \\widehat{\\operatorname{var}}\\left(X_j\\right)} \\cdot \\frac{1}{1-R_j^2}\n",
    "$$\n",
    "\n",
    "Intuitively, VIF's quantify _multicollinearity_ in the data, that is, linear dependences in the set of predictors. The VIF of a predictor is the proportion of its actual variance relative to the one it would have if it were linearly independent from the others. The commonly accepted rule of thumb is that a VIF larger than 10 is too large, indicating multicollinearity. "
   ]
  },
  {
   "cell_type": "code",
   "execution_count": 4,
   "id": "aa1cef79-7463-480b-b50f-287e87b37e29",
   "metadata": {
    "vscode": {
     "languageId": "r"
    }
   },
   "outputs": [
    {
     "name": "stderr",
     "output_type": "stream",
     "text": [
      "Loading required package: car\n",
      "\n",
      "Loading required package: carData\n",
      "\n"
     ]
    }
   ],
   "source": [
    "# install.packages(\"car\",dependencies=TRUE,repos=\"https://cloud.r-project.org\")\n",
    "require(car)\n",
    "#?vif"
   ]
  },
  {
   "cell_type": "code",
   "execution_count": 5,
   "id": "65a2a337-1574-4cf4-bce4-1aea95649a83",
   "metadata": {
    "vscode": {
     "languageId": "r"
    }
   },
   "outputs": [
    {
     "data": {
      "text/html": [
       "<style>\n",
       ".dl-inline {width: auto; margin:0; padding: 0}\n",
       ".dl-inline>dt, .dl-inline>dd {float: none; width: auto; display: inline-block}\n",
       ".dl-inline>dt::after {content: \":\\0020\"; padding-right: .5ex}\n",
       ".dl-inline>dt:not(:first-of-type) {padding-left: .5ex}\n",
       "</style><dl class=dl-inline><dt>greq</dt><dd>1.53084143379994</dd><dt>grev</dt><dd>1.46946795114914</dd><dt>mat</dt><dd>1.50689959401257</dd><dt>ar</dt><dd>1.73477859486683</dd></dl>\n"
      ],
      "text/latex": [
       "\\begin{description*}\n",
       "\\item[greq] 1.53084143379994\n",
       "\\item[grev] 1.46946795114914\n",
       "\\item[mat] 1.50689959401257\n",
       "\\item[ar] 1.73477859486683\n",
       "\\end{description*}\n"
      ],
      "text/markdown": [
       "greq\n",
       ":   1.53084143379994grev\n",
       ":   1.46946795114914mat\n",
       ":   1.50689959401257ar\n",
       ":   1.73477859486683\n",
       "\n"
      ],
      "text/plain": [
       "    greq     grev      mat       ar \n",
       "1.530841 1.469468 1.506900 1.734779 "
      ]
     },
     "metadata": {},
     "output_type": "display_data"
    }
   ],
   "source": [
    "vif(gpa.lm.1)"
   ]
  },
  {
   "cell_type": "markdown",
   "id": "08ea968f-c8b2-40a6-ae47-174be3c88657",
   "metadata": {},
   "source": [
    "Another quantity used in multicollinearity detection is the _condition number_ of the model matrix $X$. The condition number of a matrix $A$, $\\kappa(A)$, measures the numerical inaccuracy introduced by solving the equation $A\\cdot x = b$ for a given column vector $b$. It is the ratio between the maximum and minimum singular values of $A$. When $\\kappa\\approx1$ there is no significant precision loss. When $\\kappa=10^k$ the precision loss of $k$ significant decimal digits:\n",
    "\n",
    "The `kappa()` function in R gives the condition number of a matrix. We check the condition number of the model matrix $X$ of this regression:"
   ]
  },
  {
   "cell_type": "code",
   "execution_count": 6,
   "id": "074b5224-1333-460c-8bd8-3776d7ce8e41",
   "metadata": {
    "vscode": {
     "languageId": "r"
    }
   },
   "outputs": [
    {
     "data": {
      "text/html": [
       "5506.1074021793"
      ],
      "text/latex": [
       "5506.1074021793"
      ],
      "text/markdown": [
       "5506.1074021793"
      ],
      "text/plain": [
       "[1] 5506.107"
      ]
     },
     "metadata": {},
     "output_type": "display_data"
    }
   ],
   "source": [
    "X.gpa<-model.matrix(gpa.lm.1)\n",
    "kappa(X.gpa)"
   ]
  },
  {
   "cell_type": "markdown",
   "id": "e9c503ab-243c-4802-a820-861b315a875d",
   "metadata": {},
   "source": [
    "The condition number $\\kappa$ is not small, but the VIF's are acceptable."
   ]
  },
  {
   "cell_type": "markdown",
   "id": "9fd8f0ae-aa80-4b13-ba8a-f7d06646e665",
   "metadata": {},
   "source": [
    "#### Exploring the effect of adding a new, redundant, variable\n",
    "\n",
    "A _\"new\"_ artificial predictor variable adding no new information. A linear combination plus a random noise:"
   ]
  },
  {
   "cell_type": "code",
   "execution_count": 7,
   "id": "1c3ca63e-740e-436d-9054-5ee137c85443",
   "metadata": {
    "vscode": {
     "languageId": "r"
    }
   },
   "outputs": [],
   "source": [
    "new<-gpa$greq+gpa$grev+gpa$mat+rnorm(30,0,0.5)\n",
    "gpanew<-data.frame(gpa,new)"
   ]
  },
  {
   "cell_type": "markdown",
   "id": "3cbc14f4-10f5-461b-b02a-8fd3ddf31851",
   "metadata": {},
   "source": [
    "#### New linear model using the new, enlarged, predictor set"
   ]
  },
  {
   "cell_type": "code",
   "execution_count": 8,
   "id": "399d0956-8ae4-4b78-bf00-989380632db0",
   "metadata": {
    "vscode": {
     "languageId": "r"
    }
   },
   "outputs": [
    {
     "data": {
      "text/plain": [
       "\n",
       "Call:\n",
       "lm(formula = gpa ~ ., data = gpanew)\n",
       "\n",
       "Residuals:\n",
       "     Min       1Q   Median       3Q      Max \n",
       "-0.77432 -0.21068 -0.01688  0.27216  0.64756 \n",
       "\n",
       "Coefficients:\n",
       "            Estimate Std. Error t value Pr(>|t|)  \n",
       "(Intercept)  -1.6369     0.9336  -1.753   0.0923 .\n",
       "greq          0.2075     0.1412   1.469   0.1548  \n",
       "grev          0.2054     0.1415   1.451   0.1596  \n",
       "mat           0.2238     0.1412   1.586   0.1259  \n",
       "ar            0.1745     0.1126   1.549   0.1344  \n",
       "new          -0.2038     0.1414  -1.441   0.1626  \n",
       "---\n",
       "Signif. codes:  0 '***' 0.001 '**' 0.01 '*' 0.05 '.' 0.1 ' ' 1\n",
       "\n",
       "Residual standard error: 0.3793 on 24 degrees of freedom\n",
       "Multiple R-squared:  0.6691,\tAdjusted R-squared:  0.6002 \n",
       "F-statistic: 9.706 on 5 and 24 DF,  p-value: 3.62e-05\n"
      ]
     },
     "metadata": {},
     "output_type": "display_data"
    }
   ],
   "source": [
    "gpa.lm.2<-lm(gpa~.,data=gpanew)\n",
    "summary(gpa.lm.2)"
   ]
  },
  {
   "cell_type": "markdown",
   "id": "a0a8298c-5a6b-404e-b1f2-6dbc3eabb810",
   "metadata": {},
   "source": [
    "#### VIF's and condition number of the new model"
   ]
  },
  {
   "cell_type": "markdown",
   "id": "15ef9b06",
   "metadata": {},
   "source": [
    "Note VIF is large for linearly related covariates only:"
   ]
  },
  {
   "cell_type": "code",
   "execution_count": 9,
   "id": "0c1cb5db-156a-4cd3-835a-98e643c6ecbf",
   "metadata": {
    "vscode": {
     "languageId": "r"
    }
   },
   "outputs": [
    {
     "data": {
      "text/html": [
       "<style>\n",
       ".dl-inline {width: auto; margin:0; padding: 0}\n",
       ".dl-inline>dt, .dl-inline>dd {float: none; width: auto; display: inline-block}\n",
       ".dl-inline>dt::after {content: \":\\0020\"; padding-right: .5ex}\n",
       ".dl-inline>dt:not(:first-of-type) {padding-left: .5ex}\n",
       "</style><dl class=dl-inline><dt>greq</dt><dd>9503.309</dd><dt>grev</dt><dd>27819.738</dd><dt>mat</dt><dd>343.528</dd><dt>ar</dt><dd>1.797</dd><dt>new</dt><dd>56534.715</dd></dl>\n"
      ],
      "text/latex": [
       "\\begin{description*}\n",
       "\\item[greq] 9503.309\n",
       "\\item[grev] 27819.738\n",
       "\\item[mat] 343.528\n",
       "\\item[ar] 1.797\n",
       "\\item[new] 56534.715\n",
       "\\end{description*}\n"
      ],
      "text/markdown": [
       "greq\n",
       ":   9503.309grev\n",
       ":   27819.738mat\n",
       ":   343.528ar\n",
       ":   1.797new\n",
       ":   56534.715\n",
       "\n"
      ],
      "text/plain": [
       "     greq      grev       mat        ar       new \n",
       " 9503.309 27819.738   343.528     1.797 56534.715 "
      ]
     },
     "metadata": {},
     "output_type": "display_data"
    }
   ],
   "source": [
    "round(vif(gpa.lm.2),3)"
   ]
  },
  {
   "cell_type": "code",
   "execution_count": 10,
   "id": "19822d66-6eca-4940-944a-4d7131137f89",
   "metadata": {
    "vscode": {
     "languageId": "r"
    }
   },
   "outputs": [
    {
     "data": {
      "text/html": [
       "11327.44"
      ],
      "text/latex": [
       "11327.44"
      ],
      "text/markdown": [
       "11327.44"
      ],
      "text/plain": [
       "[1] 11327.44"
      ]
     },
     "metadata": {},
     "output_type": "display_data"
    }
   ],
   "source": [
    "X.gpa.2<-model.matrix(gpa.lm.2)\n",
    "round(kappa(X.gpa.2),2)"
   ]
  },
  {
   "cell_type": "markdown",
   "id": "537e0a66-b36a-457d-a688-d8af24d48b9b",
   "metadata": {
    "tags": []
   },
   "source": [
    "###  `US.Census`  dataset"
   ]
  },
  {
   "cell_type": "markdown",
   "id": "fe8d2d23-0930-4c47-bec2-34d0f2fe2195",
   "metadata": {},
   "source": [
    "Polynomial regression tends to be ill-conditioned. This behaviour is exemplified with this classic dataset, appearing in the MATLAB distribution many years ago. Data of US population taken from the US census from 1900 to 1990. The purpose is to predict the population on 2050. Variables are:\n",
    "\n",
    "- $t$:&emsp;&emsp;&emsp; year,\n",
    "\n",
    "- $p$:&emsp;&emsp;&emsp; population (in millions).\n",
    "\n",
    "We perform polynomial regressions of $p$ on $t$ with degrees $k$ from 1 to 6. We observe that from degree 4 on the model becomes computationally unstable and impossible in practice."
   ]
  },
  {
   "cell_type": "code",
   "execution_count": 11,
   "id": "e289680f-773d-4601-9e39-936916960c5a",
   "metadata": {
    "vscode": {
     "languageId": "r"
    }
   },
   "outputs": [],
   "source": [
    "t <-seq(1900,1990,by=10)\n",
    "p <-c(75.995,91.972,105.711,123.203,131.669,150.697,179.323,203.212,226.505,249.633)"
   ]
  },
  {
   "cell_type": "markdown",
   "id": "52b98d48-87ab-4019-9034-fe0d109372b4",
   "metadata": {},
   "source": [
    "#### Simple linear regression"
   ]
  },
  {
   "cell_type": "code",
   "execution_count": 12,
   "id": "a368f16e-9cbe-4d7d-8b0a-98d275eeefb2",
   "metadata": {
    "vscode": {
     "languageId": "r"
    }
   },
   "outputs": [
    {
     "data": {
      "text/plain": [
       "\n",
       "Call:\n",
       "lm(formula = p ~ t)\n",
       "\n",
       "Residuals:\n",
       "     Min       1Q   Median       3Q      Max \n",
       "-12.7294  -2.9507   0.6695   5.5338   9.1310 \n",
       "\n",
       "Coefficients:\n",
       "              Estimate Std. Error t value Pr(>|t|)    \n",
       "(Intercept) -3.594e+03  1.785e+02  -20.13 3.87e-08 ***\n",
       "t            1.927e+00  9.178e-02   20.99 2.78e-08 ***\n",
       "---\n",
       "Signif. codes:  0 '***' 0.001 '**' 0.01 '*' 0.05 '.' 0.1 ' ' 1\n",
       "\n",
       "Residual standard error: 8.337 on 8 degrees of freedom\n",
       "Multiple R-squared:  0.9822,\tAdjusted R-squared:  0.9799 \n",
       "F-statistic: 440.7 on 1 and 8 DF,  p-value: 2.782e-08\n"
      ]
     },
     "metadata": {},
     "output_type": "display_data"
    }
   ],
   "source": [
    "US.pop.lm.1<-lm(p~t)\n",
    "summary(US.pop.lm.1)"
   ]
  },
  {
   "cell_type": "markdown",
   "id": "59a1dcf6",
   "metadata": {},
   "source": [
    "We can plot the data, regression and a prediction (green)."
   ]
  },
  {
   "cell_type": "code",
   "execution_count": 13,
   "id": "c6dd674d-512f-498b-8c8c-3d2ec6768a4b",
   "metadata": {
    "vscode": {
     "languageId": "r"
    }
   },
   "outputs": [
    {
     "data": {
      "image/png": "[encoded data removed]",
      "text/plain": [
       "Plot with title \"US pop. vs. Year - Linear regression\""
      ]
     },
     "metadata": {
      "image/png": {
       "height": 360,
       "width": 360
      }
     },
     "output_type": "display_data"
    }
   ],
   "source": [
    "options(repr.plot.width=6, repr.plot.height=6)\n",
    "plot(p~t,pch=19,col=\"red\",cex=1.1,xlim=c(1900,2050),ylim=c(0,500),xlab=\"Year\",\n",
    "         main=\"US pop. vs. Year - Linear regression\",cex.lab=1.3,cex.main=1.6)\n",
    "abline(US.pop.lm.1,lwd=3.1,col=\"blue\")\n",
    "pred.2050.1<-predict(US.pop.lm.1,newdata=data.frame(t=2050))\n",
    "points(2050,pred.2050.1,pch=19,cex=1.8,col=\"green\")"
   ]
  },
  {
   "cell_type": "code",
   "execution_count": 14,
   "id": "fc2b4cd3-24e5-4cfd-8796-67eeeb638cf5",
   "metadata": {
    "vscode": {
     "languageId": "r"
    }
   },
   "outputs": [
    {
     "data": {
      "text/html": [
       "131805.43"
      ],
      "text/latex": [
       "131805.43"
      ],
      "text/markdown": [
       "131805.43"
      ],
      "text/plain": [
       "[1] 131805.4"
      ]
     },
     "metadata": {},
     "output_type": "display_data"
    }
   ],
   "source": [
    "round(kappa(model.matrix(US.pop.lm.1)),2)"
   ]
  },
  {
   "cell_type": "markdown",
   "id": "b456b47f-34b6-448c-be7e-39250c6891c5",
   "metadata": {},
   "source": [
    "#### Linear regression with a quadratic term"
   ]
  },
  {
   "cell_type": "code",
   "execution_count": 15,
   "id": "2461fedf-385c-4ccd-8e55-c4143a62283c",
   "metadata": {
    "vscode": {
     "languageId": "r"
    }
   },
   "outputs": [
    {
     "data": {
      "text/plain": [
       "\n",
       "Call:\n",
       "lm(formula = p ~ t + I(t^2))\n",
       "\n",
       "Residuals:\n",
       "   Min     1Q Median     3Q    Max \n",
       "-5.313 -2.158  1.738  2.129  3.877 \n",
       "\n",
       "Coefficients:\n",
       "              Estimate Std. Error t value Pr(>|t|)    \n",
       "(Intercept)  3.147e+04  6.288e+03   5.005 0.001557 ** \n",
       "t           -3.414e+01  6.467e+00  -5.279 0.001150 ** \n",
       "I(t^2)       9.271e-03  1.663e-03   5.577 0.000836 ***\n",
       "---\n",
       "Signif. codes:  0 '***' 0.001 '**' 0.01 '*' 0.05 '.' 0.1 ' ' 1\n",
       "\n",
       "Residual standard error: 3.82 on 7 degrees of freedom\n",
       "Multiple R-squared:  0.9967,\tAdjusted R-squared:  0.9958 \n",
       "F-statistic:  1065 on 2 and 7 DF,  p-value: 2.011e-09\n"
      ]
     },
     "metadata": {},
     "output_type": "display_data"
    }
   ],
   "source": [
    "US.pop.lm.2<-lm(p~t+I(t^2))\n",
    "summary(US.pop.lm.2)"
   ]
  },
  {
   "cell_type": "code",
   "execution_count": 16,
   "id": "f0f27c4a-2980-4399-9c6a-4545acad94af",
   "metadata": {
    "vscode": {
     "languageId": "r"
    }
   },
   "outputs": [
    {
     "data": {
      "image/png": "[encoded data removed]",
      "text/plain": [
       "Plot with title \"US pop. vs. Year - Quadratic reg.\""
      ]
     },
     "metadata": {
      "image/png": {
       "height": 360,
       "width": 360
      }
     },
     "output_type": "display_data"
    }
   ],
   "source": [
    "options(repr.plot.width=6, repr.plot.height=6)\n",
    "plot(p~t,pch=19,col=\"red\",cex=0.8,xlim=c(1900,2050),ylim=c(0,500),xlab=\"Year\",\n",
    "     main=\"US pop. vs. Year - Quadratic reg.\",cex.lab=1.3,cex.main=1.6)\n",
    "t1<-seq(1900,2050,length=400)\n",
    "p1<-predict(US.pop.lm.2,newdata=data.frame(t=t1))\n",
    "lines(t1,p1,lwd=3.1,col=\"blue\")\n",
    "pred.2050.2<-predict(US.pop.lm.2,newdata=data.frame(t=2050))\n",
    "points(2050,pred.2050.2,pch=19,cex=1.5,col=\"green\")"
   ]
  },
  {
   "cell_type": "code",
   "execution_count": 17,
   "id": "c9ebdd7b-ca06-4ee5-be80-c6af3d773dcd",
   "metadata": {
    "vscode": {
     "languageId": "r"
    }
   },
   "outputs": [
    {
     "data": {
      "text/html": [
       "<style>\n",
       ".dl-inline {width: auto; margin:0; padding: 0}\n",
       ".dl-inline>dt, .dl-inline>dd {float: none; width: auto; display: inline-block}\n",
       ".dl-inline>dt::after {content: \":\\0020\"; padding-right: .5ex}\n",
       ".dl-inline>dt:not(:first-of-type) {padding-left: .5ex}\n",
       "</style><dl class=dl-inline><dt>t</dt><dd>23644.906</dd><dt>I(t^2)</dt><dd>23644.906</dd></dl>\n"
      ],
      "text/latex": [
       "\\begin{description*}\n",
       "\\item[t] 23644.906\n",
       "\\item[I(t\\textbackslash{}textasciicircum\\{\\}2)] 23644.906\n",
       "\\end{description*}\n"
      ],
      "text/markdown": [
       "t\n",
       ":   23644.906I(t^2)\n",
       ":   23644.906\n",
       "\n"
      ],
      "text/plain": [
       "       t   I(t^2) \n",
       "23644.91 23644.91 "
      ]
     },
     "metadata": {},
     "output_type": "display_data"
    },
    {
     "data": {
      "text/html": [
       "20040468331.17"
      ],
      "text/latex": [
       "20040468331.17"
      ],
      "text/markdown": [
       "20040468331.17"
      ],
      "text/plain": [
       "[1] 20040468331"
      ]
     },
     "metadata": {},
     "output_type": "display_data"
    }
   ],
   "source": [
    "round(vif(US.pop.lm.2),3)\n",
    "round(kappa(model.matrix(US.pop.lm.2)),2)"
   ]
  },
  {
   "cell_type": "markdown",
   "id": "8f8e883d-6bcd-4d08-bdc6-e7bff311799c",
   "metadata": {},
   "source": [
    "#### Cubic polynomial regression"
   ]
  },
  {
   "cell_type": "code",
   "execution_count": 18,
   "id": "a86094ef-8fd2-4d8d-9d46-c263bbbf26f1",
   "metadata": {
    "vscode": {
     "languageId": "r"
    }
   },
   "outputs": [
    {
     "data": {
      "text/plain": [
       "\n",
       "Call:\n",
       "lm(formula = p ~ t + I(t^2) + I(t^3))\n",
       "\n",
       "Residuals:\n",
       "   Min     1Q Median     3Q    Max \n",
       "-5.272 -2.119  1.719  2.187  3.773 \n",
       "\n",
       "Coefficients:\n",
       "              Estimate Std. Error t value Pr(>|t|)\n",
       "(Intercept) -9.595e+03  5.459e+05  -0.018    0.987\n",
       "t            2.922e+01  8.421e+02   0.035    0.973\n",
       "I(t^2)      -2.331e-02  4.330e-01  -0.054    0.959\n",
       "I(t^3)       5.583e-06  7.421e-05   0.075    0.942\n",
       "\n",
       "Residual standard error: 4.124 on 6 degrees of freedom\n",
       "Multiple R-squared:  0.9967,\tAdjusted R-squared:  0.9951 \n",
       "F-statistic: 609.2 on 3 and 6 DF,  p-value: 7.657e-08\n"
      ]
     },
     "metadata": {},
     "output_type": "display_data"
    }
   ],
   "source": [
    "US.pop.lm.3<-lm(p~t+I(t^2)+I(t^3))\n",
    "summary(US.pop.lm.3)"
   ]
  },
  {
   "cell_type": "code",
   "execution_count": 19,
   "id": "7e435df3-a31a-4088-ac46-5d74fa7c3ba8",
   "metadata": {
    "vscode": {
     "languageId": "r"
    }
   },
   "outputs": [
    {
     "data": {
      "image/png": "[encoded data removed]",
      "text/plain": [
       "Plot with title \"US pop. vs. Year - Cubic polynomial reg.\""
      ]
     },
     "metadata": {
      "image/png": {
       "height": 360,
       "width": 360
      }
     },
     "output_type": "display_data"
    }
   ],
   "source": [
    "options(repr.plot.width=6, repr.plot.height=6)\n",
    "plot(p~t,pch=19,col=\"red\",cex=0.8,xlim=c(1900,2050),ylim=c(0,500),xlab=\"Year\",\n",
    "         main=\"US pop. vs. Year - Cubic polynomial reg.\",cex.lab=1.3,cex.main=1.6)\n",
    "t1<-seq(1900,2050,length=400)\n",
    "p1<-predict(US.pop.lm.3,newdata=data.frame(t=t1))\n",
    "lines(t1,p1,lwd=3.1,col=\"blue\")\n",
    "pred.2050.3<-predict(US.pop.lm.3,newdata=data.frame(t=2050))\n",
    "points(2050,pred.2050.3,pch=19,cex=1.5,col=\"green\")"
   ]
  },
  {
   "cell_type": "code",
   "execution_count": 20,
   "id": "7b7dce99-e2d9-4afa-bd16-59fce07057ff",
   "metadata": {
    "vscode": {
     "languageId": "r"
    }
   },
   "outputs": [
    {
     "data": {
      "text/html": [
       "<style>\n",
       ".dl-inline {width: auto; margin:0; padding: 0}\n",
       ".dl-inline>dt, .dl-inline>dd {float: none; width: auto; display: inline-block}\n",
       ".dl-inline>dt::after {content: \":\\0020\"; padding-right: .5ex}\n",
       ".dl-inline>dt:not(:first-of-type) {padding-left: .5ex}\n",
       "</style><dl class=dl-inline><dt>t</dt><dd>343955929.005919</dd><dt>I(t^2)</dt><dd>1376166223.55424</dd><dt>I(t^3)</dt><dd>344168117.884354</dd></dl>\n"
      ],
      "text/latex": [
       "\\begin{description*}\n",
       "\\item[t] 343955929.005919\n",
       "\\item[I(t\\textbackslash{}textasciicircum\\{\\}2)] 1376166223.55424\n",
       "\\item[I(t\\textbackslash{}textasciicircum\\{\\}3)] 344168117.884354\n",
       "\\end{description*}\n"
      ],
      "text/markdown": [
       "t\n",
       ":   343955929.005919I(t^2)\n",
       ":   1376166223.55424I(t^3)\n",
       ":   344168117.884354\n",
       "\n"
      ],
      "text/plain": [
       "         t     I(t^2)     I(t^3) \n",
       " 343955929 1376166224  344168118 "
      ]
     },
     "metadata": {},
     "output_type": "display_data"
    },
    {
     "data": {
      "text/html": [
       "3184907353457541"
      ],
      "text/latex": [
       "3184907353457541"
      ],
      "text/markdown": [
       "3184907353457541"
      ],
      "text/plain": [
       "[1] 3.184907e+15"
      ]
     },
     "metadata": {},
     "output_type": "display_data"
    }
   ],
   "source": [
    "vif(US.pop.lm.3)\n",
    "kappa(model.matrix(US.pop.lm.3))"
   ]
  },
  {
   "cell_type": "markdown",
   "id": "5e0ba78f-bfd3-4529-a0d6-19857488eeaf",
   "metadata": {},
   "source": [
    "#### Polynomial regression of degree 4"
   ]
  },
  {
   "cell_type": "code",
   "execution_count": 21,
   "id": "1465a817-1b34-4694-983f-792348fb806e",
   "metadata": {
    "vscode": {
     "languageId": "r"
    }
   },
   "outputs": [
    {
     "data": {
      "text/plain": [
       "\n",
       "Call:\n",
       "lm(formula = p ~ t + I(t^2) + I(t^3) + I(t^4))\n",
       "\n",
       "Residuals:\n",
       "   Min     1Q Median     3Q    Max \n",
       "-5.272 -2.119  1.719  2.187  3.773 \n",
       "\n",
       "Coefficients: (1 not defined because of singularities)\n",
       "              Estimate Std. Error t value Pr(>|t|)\n",
       "(Intercept) -9.595e+03  5.459e+05  -0.018    0.987\n",
       "t            2.922e+01  8.421e+02   0.035    0.973\n",
       "I(t^2)      -2.331e-02  4.330e-01  -0.054    0.959\n",
       "I(t^3)       5.583e-06  7.421e-05   0.075    0.942\n",
       "I(t^4)              NA         NA      NA       NA\n",
       "\n",
       "Residual standard error: 4.124 on 6 degrees of freedom\n",
       "Multiple R-squared:  0.9967,\tAdjusted R-squared:  0.9951 \n",
       "F-statistic: 609.2 on 3 and 6 DF,  p-value: 7.657e-08\n"
      ]
     },
     "metadata": {},
     "output_type": "display_data"
    }
   ],
   "source": [
    "US.pop.lm.4<-lm(p~t+I(t^2)+I(t^3)+I(t^4))\n",
    "summary(US.pop.lm.4)"
   ]
  },
  {
   "cell_type": "markdown",
   "id": "e6d4fed2-757f-4c64-9d1c-5a6c8ecda992",
   "metadata": {},
   "source": [
    "The coefficient of the 4-th degree term does not appear, due to numerical problems"
   ]
  },
  {
   "cell_type": "code",
   "execution_count": 22,
   "id": "086f79b5-7c7b-4881-8e1d-f7f85dda68cc",
   "metadata": {
    "tags": [],
    "vscode": {
     "languageId": "r"
    }
   },
   "outputs": [
    {
     "name": "stderr",
     "output_type": "stream",
     "text": [
      "Warning message in predict.lm(US.pop.lm.4, newdata = data.frame(t = t1)):\n",
      "\"prediction from a rank-deficient fit may be misleading\"\n",
      "Warning message in predict.lm(US.pop.lm.4, newdata = data.frame(t = 2050)):\n",
      "\"prediction from a rank-deficient fit may be misleading\"\n"
     ]
    },
    {
     "data": {
      "image/png": "[encoded data removed]",
      "text/plain": [
       "Plot with title \"US pop. vs. Year - 4th degree polynomial reg.\""
      ]
     },
     "metadata": {
      "image/png": {
       "height": 360,
       "width": 360
      }
     },
     "output_type": "display_data"
    }
   ],
   "source": [
    "options(repr.plot.width=6, repr.plot.height=6)\n",
    "plot(p~t,pch=19,col=\"red\",cex=0.8,xlim=c(1900,2050),ylim=c(0,500),xlab=\"Year\",\n",
    "     main=\"US pop. vs. Year - 4th degree polynomial reg.\",cex.lab=1.3,cex.main=1.6)\n",
    "t1<-seq(1900,2050,length=400)\n",
    "p1<-predict(US.pop.lm.4,newdata=data.frame(t=t1))\n",
    "lines(t1,p1,lwd=3.1,col=\"blue\")\n",
    "pred.2050.4<-predict(US.pop.lm.4,newdata=data.frame(t=2050))\n",
    "points(2050,pred.2050.4,pch=19,cex=1.5,col=\"green\")"
   ]
  },
  {
   "cell_type": "code",
   "execution_count": 24,
   "id": "3eef4711-a414-42e9-9bb0-6432eae5c528",
   "metadata": {
    "vscode": {
     "languageId": "r"
    }
   },
   "outputs": [
    {
     "data": {
      "text/html": [
       "5.30199145048627e+20"
      ],
      "text/latex": [
       "5.30199145048627e+20"
      ],
      "text/markdown": [
       "5.30199145048627e+20"
      ],
      "text/plain": [
       "[1] 5.301991e+20"
      ]
     },
     "metadata": {},
     "output_type": "display_data"
    }
   ],
   "source": [
    "# vif(US.pop.lm.4)\n",
    "## Error in vif.default(US.pop.lm.4): there are aliased coefficients in the model\n",
    "kappa(model.matrix(US.pop.lm.4))"
   ]
  },
  {
   "cell_type": "markdown",
   "id": "7a5536b2-7956-4b10-bf36-6c5458cfb292",
   "metadata": {},
   "source": [
    "#### Polynomial regression of higher degrees\n",
    "\n",
    "R has a better control of numerical disasters than what used to be the standard in vintage MATLAB, thus it warns about the problem. \n",
    "\n",
    "Degree 6 regression resulted in the following notorious graph:\n",
    "\n",
    "<div>\n",
    "<img src=\"./Img/MATLAB.Deg6.reg.jpg\" width=\"350\">\n",
    "</div>"
   ]
  },
  {
   "cell_type": "markdown",
   "id": "0c47a2af-53ed-4ac6-8ff4-4541031c2816",
   "metadata": {
    "tags": []
   },
   "source": [
    "# 02 - Comparing regression models"
   ]
  },
  {
   "cell_type": "markdown",
   "id": "fb1adac2-e33e-4a2a-9a50-7561e420171d",
   "metadata": {},
   "source": [
    "### Comparing regressions: relevant quantities\n",
    "\n",
    "To this end we have the following available quantities:  \n",
    "\n",
    "1. $\\operatorname{ResSS}$, the Residual Sum of Squares\n",
    "2. The coefficient of determination $R^2$\n",
    "3. The $F$ statistic.\n",
    "4. **The $\\operatorname{AIC}$ statistic (Akaike Information Criterion).** "
   ]
  },
  {
   "cell_type": "markdown",
   "id": "b41b918a",
   "metadata": {},
   "source": [
    "## Residual SS"
   ]
  },
  {
   "cell_type": "markdown",
   "id": "f8ed1364",
   "metadata": {},
   "source": [
    "$\\operatorname{ResSS}$ is a goodness-of-fit measure: smaller values indicate a better fit. However, when a model $L_1$ is obtained by adding predictors to an initial one $L_0$, inevitably $\\operatorname{ResSS}$ decreases ($\\operatorname{ResSS}_1\\leq \\operatorname{ResSS}_0$) by geometry, since in the $L_1$ we are projecting on a subspace larger than in $L_0$. Similarly $R_1^2\\geq R_0^2$. From a statistical perspective we need to decide whether an observed decrease in $\\operatorname{ResSS}$, or increase in $R^2$ is significant. This is the purpose of $F$ and $\\operatorname{AIC}$."
   ]
  },
  {
   "cell_type": "markdown",
   "id": "bbe0c7ad",
   "metadata": {},
   "source": [
    "## F statistic"
   ]
  },
  {
   "cell_type": "markdown",
   "id": "4cf4c566-bc59-44de-ad83-af4bc831e58c",
   "metadata": {},
   "source": [
    "When we get a new model $L_1$ by adding a single predictor to a model $L_0$, the comparison $F$ statistic is defined as the relative decrease in $\\operatorname{ResSS}$, that is, the ratio:"
   ]
  },
  {
   "cell_type": "raw",
   "id": "e33a5d31-e763-45d0-bc60-67759498cfeb",
   "metadata": {},
   "source": [
    "# F01<-(ResSS0-ResSS1)/(ResSS1/df1)"
   ]
  },
  {
   "cell_type": "markdown",
   "id": "b53bbbf2-cb55-4e06-bd5c-f149fa9d4af8",
   "metadata": {},
   "source": [
    "`ResSS0` and `ResSS` are, respectively, the residual sum of squares of $L_0$  and $L_1$, and `df1` is the number of degrees of freedom of $L_1$. `F01` is a test statistic to decide between the null hypothesis:\n",
    "\n",
    "$$\n",
    "    H_{0} = \\textrm{The new predictor does not improve the model}. \n",
    "$$\n",
    "\n",
    "versus the alternative that it does. When the models are Gauss-Markov normal, `F01` follows a Fisher-Snedecor $F$ distribution with 1 and `df1` degrees of freedom."
   ]
  },
  {
   "cell_type": "markdown",
   "id": "d0cb1c1a-8764-4e81-8a44-5e520a458993",
   "metadata": {},
   "source": [
    "## AIC\n",
    "\n",
    "$\\operatorname{AIC}$ (Akaike Information Criterion) is an answer to a different problem: adding a predictor to a prediction model means we are adding a parameter to the prediction function (a linear function in this case) and, in general, increasing the number of parameters in a prediction function learned from a given training dataset tends to fit better this particular dataset at the cost of deteriorating the quality of predictions for other samples _from the same statistical population_ from which the training sample was extracted. This is another instance of the bias/variance tradeoff. \n",
    "\n",
    "$\\operatorname{AIC}$ is a _penalized (minus)log-likelihood,_ the difference:\n",
    "\n",
    "$$\n",
    "    -\\log\\cal{L}+\\lambda\\,\\cal{P}, \\mskip30mu \\lambda>0,\n",
    "$$\n",
    "\n",
    "where an increase in log-likelihood gained by adding a new parameter can be cancelled by an increase in the penalization term $\\cal{P}$. In this way we can tell the better from two _nested_ models (a pair of models where the set of predictors in one of them is a subset of that in the other). The better model is the one with a smaller $\\operatorname{AIC}$ (tending to a larger likelihood). In R the $\\operatorname{AIC}$ of a model $L$ can be obtained with:"
   ]
  },
  {
   "cell_type": "raw",
   "id": "fa6bfecd-6093-4819-b352-c8cdab73c12f",
   "metadata": {},
   "source": [
    "# extractAIC(L)"
   ]
  },
  {
   "cell_type": "markdown",
   "id": "dd0da75e-5f8d-40bb-a790-cdf1ba4fa053",
   "metadata": {},
   "source": [
    "Which uses the definition:"
   ]
  },
  {
   "cell_type": "raw",
   "id": "fc369485-44cc-48a9-a94d-0b0b41a9be5b",
   "metadata": {},
   "source": [
    "# AIC = - 2*log L + k * edf,"
   ]
  },
  {
   "cell_type": "markdown",
   "id": "d2c5ff89-7cae-425c-91ec-b75b4cfc838c",
   "metadata": {},
   "source": [
    "In particular, for a linear model, see, e.g.,\n",
    "John Maindonald & W. John Braun, _Data Analysis and Graphics Using R. 3rd Ed. (DAAG),_ pag. 187:"
   ]
  },
  {
   "cell_type": "raw",
   "id": "3b9cd1ca-0097-4eec-a1bb-cbe2c9efe7a5",
   "metadata": {},
   "source": [
    "# AIC= n*log(ResSS/n)+2*Regdf"
   ]
  },
  {
   "cell_type": "markdown",
   "id": "4f2b5fd9-4935-4ac7-bd5f-3036cd5308bc",
   "metadata": {},
   "source": [
    "## `Steam` dataset\n",
    "#### Monthly register of a steam generating equipment in an industrial glycerin production plant"
   ]
  },
  {
   "cell_type": "markdown",
   "id": "eac77bff-2379-4052-b376-daedd9e87fcc",
   "metadata": {},
   "source": [
    "### Variables:\n",
    "\n",
    "01. `y`:    Monthly pounds of steam used (response variable).\n",
    "02. `x01`:  Pounds of Real Fatty Acid in storage per month.\n",
    "03. `x02`:  Pounds of crude glycerin made.\n",
    "04. `x03`:  Average wind velocity (miles per hour).\n",
    "05. `x04`:  Number of (calendar) days in that month (28-31).\n",
    "06. `x05`:  Number of operating days for the given month.\n",
    "07. `x06`:  Number of days below 32 degrees Farenheit (0 degrees Celsius).\n",
    "08. `x07`:  Average outside temperature in Farenheit.\n",
    "09. `x08`:  Squared average wind velocity.\n",
    "10. `x09`: Number of production startups in that month.\n",
    "\n",
    "Data from Draper and Smith (1981) _\"Applied Regression Analysis, 2nd ed.\"_ P. 615ff."
   ]
  },
  {
   "cell_type": "markdown",
   "id": "c94dec16-df85-4689-acd5-5cfb48120916",
   "metadata": {},
   "source": [
    "Read from: `Steam1.txt` (Data with names on first row).\n",
    "This dataset should also appear in the `aprean3` package (companion to the 3rd edition of Draper & Smith's book)."
   ]
  },
  {
   "cell_type": "code",
   "execution_count": 25,
   "id": "65fbb8cd-2855-4156-bf3d-258722e387ce",
   "metadata": {
    "tags": [],
    "vscode": {
     "languageId": "r"
    }
   },
   "outputs": [
    {
     "name": "stdout",
     "output_type": "stream",
     "text": [
      "'data.frame':\t25 obs. of  10 variables:\n",
      " $ y  : num  10.98 11.13 12.51 8.4 9.27 ...\n",
      " $ x01: num  5.2 5.12 6.19 3.89 6.28 5.76 3.45 6.57 5.69 6.14 ...\n",
      " $ x02: num  0.61 0.64 0.78 0.49 0.84 0.74 0.42 0.87 0.75 0.76 ...\n",
      " $ x03: num  7.4 8 7.4 7.5 5.5 8.9 4.1 4.1 4.1 4.5 ...\n",
      " $ x04: num  31 29 31 30 31 30 31 31 30 31 ...\n",
      " $ x05: num  20 20 23 20 21 22 11 23 21 20 ...\n",
      " $ x06: num  22 25 17 22 0 0 0 0 0 0 ...\n",
      " $ x07: num  35.3 29.7 30.8 58.8 61.4 71.3 74.4 76.7 70.7 57.5 ...\n",
      " $ x08: num  54.8 64 54.8 56.3 30.3 79.2 16.8 16.8 16.8 20.3 ...\n",
      " $ x09: num  4 5 4 4 5 4 2 5 4 5 ...\n"
     ]
    }
   ],
   "source": [
    "Steam<-read.table(\"Data/Steam1.txt\",header=TRUE)\n",
    "str(Steam)"
   ]
  },
  {
   "cell_type": "markdown",
   "id": "f01aa091-b9e2-406a-b7f2-607aa654e02a",
   "metadata": {},
   "source": [
    "## Exercise:\n",
    "\n",
    "With the `Steam` dataset, find the best subset of predictors of `y` from `(x01,x02,x03,x04,x05,x06,x07,x08,x09)`:"
   ]
  },
  {
   "cell_type": "markdown",
   "id": "5a450baa-a945-415b-af89-9509ed37b4f8",
   "metadata": {},
   "source": [
    "With such data as `Steam`, with $p$ predictors, there is a large number of possible regressions –precisely $2^p$, the number of subsets of the set of all predictors- which, in principle, they can be tested by repeatedly applying the above functions, either starting with the base model with no predictors other than \n",
    "intercept:"
   ]
  },
  {
   "cell_type": "code",
   "execution_count": 26,
   "id": "6f4b2d78-f618-4e6c-87bd-900312b98747",
   "metadata": {
    "vscode": {
     "languageId": "r"
    }
   },
   "outputs": [
    {
     "data": {
      "text/plain": [
       "\n",
       "Call:\n",
       "lm(formula = y ~ 1, data = Steam)\n",
       "\n",
       "Residuals:\n",
       "   Min     1Q Median     3Q    Max \n",
       "-3.064 -1.024 -0.284  1.516  3.086 \n",
       "\n",
       "Coefficients:\n",
       "            Estimate Std. Error t value Pr(>|t|)    \n",
       "(Intercept)   9.4240     0.3261    28.9   <2e-16 ***\n",
       "---\n",
       "Signif. codes:  0 '***' 0.001 '**' 0.01 '*' 0.05 '.' 0.1 ' ' 1\n",
       "\n",
       "Residual standard error: 1.631 on 24 degrees of freedom\n"
      ]
     },
     "metadata": {},
     "output_type": "display_data"
    }
   ],
   "source": [
    "ls0<-lm(y~1, data=Steam)\n",
    "summary(ls0)"
   ]
  },
  {
   "cell_type": "markdown",
   "id": "418102bf-c66a-4488-b179-e7b7ab9c5354",
   "metadata": {},
   "source": [
    "and successively add predictors or, on the contrary, starting with the full model:"
   ]
  },
  {
   "cell_type": "code",
   "execution_count": 27,
   "id": "77bf296c-a498-4664-941e-0491638e05b3",
   "metadata": {
    "vscode": {
     "languageId": "r"
    }
   },
   "outputs": [
    {
     "data": {
      "text/plain": [
       "\n",
       "Call:\n",
       "lm(formula = y ~ x01 + x02 + x03 + x04 + x05 + x06 + x07 + x08 + \n",
       "    x09, data = Steam)\n",
       "\n",
       "Residuals:\n",
       "    Min      1Q  Median      3Q     Max \n",
       "-1.0726 -0.3670  0.0758  0.2942  1.0436 \n",
       "\n",
       "Coefficients:\n",
       "             Estimate Std. Error t value Pr(>|t|)   \n",
       "(Intercept) -0.227769   7.833663  -0.029  0.97719   \n",
       "x01          0.197252   0.635859   0.310  0.76067   \n",
       "x02          5.763660   4.466510   1.290  0.21644   \n",
       "x03          1.985020   0.861398   2.304  0.03592 * \n",
       "x04          0.132288   0.231817   0.571  0.57668   \n",
       "x05         -0.046401   0.060859  -0.762  0.45762   \n",
       "x06         -0.005743   0.027373  -0.210  0.83664   \n",
       "x07         -0.069204   0.018456  -3.750  0.00193 **\n",
       "x08         -0.139526   0.060742  -2.297  0.03643 * \n",
       "x09         -0.318685   0.239128  -1.333  0.20252   \n",
       "---\n",
       "Signif. codes:  0 '***' 0.001 '**' 0.01 '*' 0.05 '.' 0.1 ' ' 1\n",
       "\n",
       "Residual standard error: 0.644 on 15 degrees of freedom\n",
       "Multiple R-squared:  0.9025,\tAdjusted R-squared:  0.844 \n",
       "F-statistic: 15.43 on 9 and 15 DF,  p-value: 4.667e-06\n"
      ]
     },
     "metadata": {},
     "output_type": "display_data"
    }
   ],
   "source": [
    "ls1<-lm(y~x01+x02+x03+x04+x05+x06+x07+x08+x09, data=Steam)\n",
    "summary(ls1)"
   ]
  },
  {
   "cell_type": "markdown",
   "id": "365184a6-7252-4d7f-8a50-a1cd488e7d99",
   "metadata": {},
   "source": [
    "And then successively remove them. For instance, we start with `ls0`, find the best single predictor and, keeping it we add a second one following the same procedure, and successively, until we find a satisfactory subset. This is the _forward_ variables selection method. Symmetrically, the _backward_ method starts with the full model `ls1` and sequentially removes variables.\n",
    "\n",
    "It is worth noting that if, for instance, at a certain stage of a _forward_  procedure the current subset of variables is $A$, we have not tested all subsets of $A$ but only those in the path through which we arrived at $A$. To test them we should apply _backward_  selection from $A$ and so on. "
   ]
  },
  {
   "cell_type": "markdown",
   "id": "2e9e4c94-95cd-4839-acf3-a61a9d445c9a",
   "metadata": {},
   "source": [
    "The `stats` package has a `step()` function to automate this process:"
   ]
  },
  {
   "cell_type": "code",
   "execution_count": 29,
   "id": "ed32083e-6e79-42ed-9ea0-3aac74b2148a",
   "metadata": {
    "vscode": {
     "languageId": "r"
    }
   },
   "outputs": [
    {
     "name": "stdout",
     "output_type": "stream",
     "text": [
      "Start:  AIC=25.43\n",
      "y ~ 1\n",
      "\n",
      "       Df Sum of Sq    RSS     AIC\n",
      "+ x07   1    45.592 18.223 -3.9042\n",
      "+ x06   1    26.192 37.624 14.2192\n",
      "+ x03   1    14.357 49.459 21.0568\n",
      "+ x05   1    10.739 53.077 22.8216\n",
      "+ x08   1     9.934 53.882 23.1981\n",
      "+ x01   1     9.370 54.446 23.4584\n",
      "+ x09   1     9.318 54.497 23.4820\n",
      "+ x02   1     5.958 57.858 24.9779\n",
      "<none>              63.816 25.4281\n",
      "+ x04   1     1.193 62.623 26.9563\n",
      "\n",
      "Step:  AIC=-3.9\n",
      "y ~ x07\n",
      "\n",
      "       Df Sum of Sq    RSS      AIC\n",
      "+ x01   1     9.292  8.931 -19.7327\n",
      "+ x02   1     8.438  9.785 -17.4508\n",
      "+ x05   1     3.140 15.084  -6.6317\n",
      "+ x04   1     2.623 15.600  -5.7902\n",
      "+ x09   1     2.236 15.988  -5.1763\n",
      "+ x06   1     1.712 16.511  -4.3711\n",
      "<none>              18.223  -3.9042\n",
      "+ x08   1     0.359 17.864  -2.4022\n",
      "+ x03   1     0.224 17.999  -2.2134\n",
      "- x07   1    45.592 63.816  25.4281\n",
      "\n",
      "Step:  AIC=-19.73\n",
      "y ~ x07 + x01\n",
      "\n",
      "       Df Sum of Sq    RSS      AIC\n",
      "<none>               8.931 -19.7327\n",
      "+ x09   1     0.319  8.612 -18.6433\n",
      "+ x04   1     0.238  8.693 -18.4090\n",
      "+ x06   1     0.032  8.899 -17.8228\n",
      "+ x08   1     0.015  8.917 -17.7738\n",
      "+ x02   1     0.004  8.927 -17.7449\n",
      "+ x05   1     0.003  8.929 -17.7404\n",
      "+ x03   1     0.000  8.931 -17.7338\n",
      "- x01   1     9.292 18.223  -3.9042\n",
      "- x07   1    45.515 54.446  23.4584\n"
     ]
    },
    {
     "data": {
      "text/plain": [
       "\n",
       "Call:\n",
       "lm(formula = y ~ x07 + x01, data = Steam)\n",
       "\n",
       "Coefficients:\n",
       "(Intercept)          x07          x01  \n",
       "    9.47422     -0.07976      0.76165  \n"
      ]
     },
     "metadata": {},
     "output_type": "display_data"
    }
   ],
   "source": [
    "step(ls0,\"~x01+x02+x03+x04+x05+x06+x07+x08+x09\")"
   ]
  },
  {
   "cell_type": "markdown",
   "id": "56d5145c-f3af-4883-8335-71dea66dcaf5",
   "metadata": {},
   "source": [
    "Also from the full model:"
   ]
  },
  {
   "cell_type": "code",
   "execution_count": 30,
   "id": "b04cd78a-da1b-419d-b40f-326a9dbb324f",
   "metadata": {
    "vscode": {
     "languageId": "r"
    }
   },
   "outputs": [
    {
     "name": "stdout",
     "output_type": "stream",
     "text": [
      "Start:  AIC=-14.77\n",
      "y ~ x01 + x02 + x03 + x04 + x05 + x06 + x07 + x08 + x09\n",
      "\n",
      "       Df Sum of Sq     RSS      AIC\n",
      "- x06   1    0.0183  6.2397 -16.6986\n",
      "- x01   1    0.0399  6.2614 -16.6120\n",
      "- x04   1    0.1351  6.3565 -16.2349\n",
      "- x05   1    0.2411  6.4625 -15.8213\n",
      "<none>               6.2214 -14.7719\n",
      "- x02   1    0.6907  6.9121 -14.1401\n",
      "- x09   1    0.7366  6.9581 -13.9743\n",
      "- x08   1    2.1884  8.4098  -9.2369\n",
      "- x03   1    2.2025  8.4240  -9.1949\n",
      "- x07   1    5.8314 12.0529  -0.2394\n",
      "\n",
      "Step:  AIC=-16.7\n",
      "y ~ x01 + x02 + x03 + x04 + x05 + x07 + x08 + x09\n",
      "\n",
      "       Df Sum of Sq     RSS      AIC\n",
      "- x01   1    0.0462  6.2859 -18.5142\n",
      "- x04   1    0.1455  6.3852 -18.1223\n",
      "- x05   1    0.2587  6.4984 -17.6829\n",
      "<none>               6.2397 -16.6986\n",
      "- x02   1    0.6959  6.9356 -16.0551\n",
      "- x09   1    0.7437  6.9834 -15.8837\n",
      "- x08   1    2.1822  8.4219 -11.2011\n",
      "- x03   1    2.1981  8.4378 -11.1539\n",
      "- x07   1   11.7123 17.9520   7.7207\n",
      "\n",
      "Step:  AIC=-18.51\n",
      "y ~ x02 + x03 + x04 + x05 + x07 + x08 + x09\n",
      "\n",
      "       Df Sum of Sq     RSS      AIC\n",
      "- x04   1    0.3000  6.5859 -19.3485\n",
      "- x05   1    0.3598  6.6457 -19.1228\n",
      "<none>               6.2859 -18.5142\n",
      "- x09   1    0.7015  6.9874 -17.8692\n",
      "- x08   1    2.5254  8.8113 -12.0710\n",
      "- x03   1    2.5653  8.8512 -11.9581\n",
      "- x02   1    4.7390 11.0249  -6.4679\n",
      "- x07   1   11.6798 17.9657   5.7397\n",
      "\n",
      "Step:  AIC=-19.35\n",
      "y ~ x02 + x03 + x05 + x07 + x08 + x09\n",
      "\n",
      "       Df Sum of Sq     RSS      AIC\n",
      "<none>               6.5859 -19.3485\n",
      "- x05   1    0.6317  7.2176 -19.0587\n",
      "- x09   1    1.1531  7.7391 -17.3149\n",
      "- x03   1    2.8405  9.4265 -12.3839\n",
      "- x08   1    2.9010  9.4869 -12.2240\n",
      "- x02   1    7.2384 13.8243  -2.8112\n",
      "- x07   1   12.5365 19.1225   5.2997\n"
     ]
    },
    {
     "data": {
      "text/plain": [
       "\n",
       "Call:\n",
       "lm(formula = y ~ x02 + x03 + x05 + x07 + x08 + x09, data = Steam)\n",
       "\n",
       "Coefficients:\n",
       "(Intercept)          x02          x03          x05          x07          x08  \n",
       "    3.47721      7.88356      2.15116     -0.06817     -0.06783     -0.15287  \n",
       "        x09  \n",
       "   -0.37100  \n"
      ]
     },
     "metadata": {},
     "output_type": "display_data"
    }
   ],
   "source": [
    "step(ls1)"
   ]
  },
  {
   "cell_type": "markdown",
   "id": "7b1f73db-017f-4f2b-8697-0ca7b52218fc",
   "metadata": {},
   "source": [
    "Reasonably enough, this combined _forward_ and _backward_ procedure is called _stepwise._"
   ]
  },
  {
   "cell_type": "markdown",
   "id": "fb2e7695-8a1b-41c0-8b40-a0504ade2a7f",
   "metadata": {},
   "source": [
    "Finally, there is the strategy of computing all the possible $2^p$ regressions, with all the subsets in the set of predictors, from $\\emptyset$ to the total number $p$ of predictors, and then comparing all the resulting $\\operatorname{AIC}$ values, keeping the best one. \n",
    "\n",
    "This is the _All Subsets Regression_ method. Obviously, this computation is unfeasible by a brute force approach, except for models with a very small number of predictors. There are combinatorial _branch and bound_ algorithms allowing us to limit the number of actual regressions we need to evaluate in full. The method depends on imposing a partial ordering on the set of all possible regressions, giving it a tree-like structure, in which we will need to evaluate only a small number of nodes. The `leaps` package implements this procedure (the name originates from the idiom  _leaps and bounds)._"
   ]
  }
 ],
 "metadata": {
  "kernelspec": {
   "display_name": "R",
   "language": "R",
   "name": "ir"
  },
  "language_info": {
   "codemirror_mode": "r",
   "file_extension": ".r",
   "mimetype": "text/x-r-source",
   "name": "R",
   "pygments_lexer": "r",
   "version": "4.2.3"
  }
 },
 "nbformat": 4,
 "nbformat_minor": 5
}
