{
 "cells": [
  {
   "cell_type": "markdown",
   "id": "ec578a08",
   "metadata": {},
   "source": [
    "#  Sparse (shrinkage) priors"
   ]
  },
  {
   "cell_type": "markdown",
   "id": "321ac9c9",
   "metadata": {},
   "source": [
    "_Adapted from Josep Fortiana (2023-04-24) by Jordi Abante (2024-04-19)_"
   ]
  },
  {
   "cell_type": "markdown",
   "id": "9a52c2d2",
   "metadata": {},
   "source": [
    "# Bell-shaped pdf's:\n",
    "\n",
    "# Normal, Cauchy, Student's $ t$, Logistic, Laplace, _horseshoe_"
   ]
  },
  {
   "cell_type": "markdown",
   "id": "ee120d51",
   "metadata": {},
   "source": [
    "## Cauchy distribution"
   ]
  },
  {
   "cell_type": "markdown",
   "id": "203771ac",
   "metadata": {},
   "source": [
    "A r.v. $ X$, with support on $\\mathbb{R}$ follows the  Cauchy distribution, $\\cauchydist(\\mu,\\sigma)$, with  _location parameter_ $\\mu\\in\\mathbb{R}$ and scale parameter $\\sigma>0$, $t(\\nu,\\mu,\\sigma)$, if it is absolutely continuous, with pdf:"
   ]
  },
  {
   "cell_type": "markdown",
   "id": "28d09a90",
   "metadata": {},
   "source": [
    "_Cauchy distribution_ is another name for $ t(1)$, Student's $t$ with 1 degree of freedom."
   ]
  },
  {
   "cell_type": "markdown",
   "id": "adc669b6",
   "metadata": {},
   "source": [
    "The pdf is:\n",
    "\n",
    "$$\n",
    "    f(x \\CondTo \\mu,\\sigma)=\\dfrac{1}{\\pi\\,\\sigma\\big[1+\\big(\\frac{x-\\mu}{\\sigma}\\big)^{2}\\big]}\n",
    "$$"
   ]
  },
  {
   "cell_type": "markdown",
   "id": "830911e3",
   "metadata": {},
   "source": [
    "## The Half-Cauchy distribution"
   ]
  },
  {
   "cell_type": "markdown",
   "id": "20eb510c",
   "metadata": {},
   "source": [
    "The _Half-Cauchy_ distribution $\\halfcauchydist (\\mu,\\sigma)$ has not a bell-shaped pdf, but it is included here both because it is used below to describe the horseshoe distribution and, of course it is derived from the Cauchy distribution: it is a Cauchy distribution truncated to only have nonzero probability density for values greater than or equal to the location of the peak.\n",
    "\n",
    "The Half-Cauchy distribution with $\\mu=0$ is a useful prior for nonnegative parameters that may be very large, as allowed by the very heavy tails of the Half-Cauchy distribution.\n",
    "\n",
    "In Stan, a Half-Cauchy is defined by putting a lower bound of $\\mu$ on the variable and then using a Cauchy distribution with location parameter $\\mu$."
   ]
  },
  {
   "cell_type": "markdown",
   "id": "82d6c6fc",
   "metadata": {},
   "source": [
    "The pdf is:\n",
    "\n",
    "$$\n",
    "    f(x \\CondTo \\mu,\\sigma)=\\left\\{\n",
    "    \\begin{array}{ll}\n",
    "    \\dfrac{2}{\\pi\\,\\sigma\\,\\big[1+\\big(\\frac{x−\\mu}{\\sigma}\\big)^{2}\\big]}, &\\text{if}\\mskip10mu x\\geq\\mu\\\\[0.4cm]\n",
    "    0,                                                                      &\\text{otherwise.}\n",
    "    \\end{array}\\right.\n",
    "$$"
   ]
  },
  {
   "cell_type": "markdown",
   "id": "c118a39c",
   "metadata": {},
   "source": [
    "## Student's $ t$ distribution"
   ]
  },
  {
   "cell_type": "markdown",
   "id": "25b159bc",
   "metadata": {},
   "source": [
    "A r.v. $ X$, with support on $\\mathbb{R}$ follows the  _Student's_ $t$ distribution with _location parameter_ $\\mu\\in\\mathbb{R}$, scale parameter $\\sigma>0$, \n",
    "and $\\nu>0$ _degrees of freedom,_ $\\tdist (\\mu,\\sigma,\\nu)$, if it is absolutely continuous, with pdf:\n",
    "\n",
    "$$\n",
    "    f(x)=\\dfrac{\\Gamma\\left(\\dfrac{\\nu+1}{2}\\right)}\n",
    "    {\\Gamma\\left(\\dfrac{\\nu}{2}\\right)\\,\\sqrt{\\pi\\,\\nu}\\,\\sigma}\\,\n",
    "    \\left(1+\\dfrac{1}{\\nu}\\left(\\dfrac{x-\\mu}{\\sigma}\\right)^{2}\\right)^{-\\frac{\\nu+1}{2}}\n",
    "    ,\\mskip30mu x\\in\\mathbb{R}.\n",
    "$$\n",
    "\n",
    "This $X$ is the result of applying a translation by $\\mu$ and scaling by $\\sigma$ to a _standard Student's_ $t$ r.v. with $\\nu>0$ _degrees of freedom,_  $t(\\nu)$, whose pdf is that from above with $\\mu=0$ and $\\sigma=1$. \n",
    "\n",
    "$$\n",
    "    f(x)=\\dfrac{\\Gamma\\left(\\dfrac{\\nu+1}{2}\\right)}\n",
    "    {\\Gamma\\left(\\dfrac{\\nu}{2}\\right)\\,\\sqrt{\\pi\\,\\nu}}\\,\n",
    "    \\left(1+\\dfrac{x^{2}}{\\nu}\\right)^{-\\frac{\\nu+1}{2}}\n",
    "    ,\\mskip30mu x\\in\\mathbb{R}.\n",
    "$$\n",
    "\n",
    "\n",
    "As its name and origin suggests, usually $\\nu\\in\\mathbb{N}$."
   ]
  },
  {
   "cell_type": "markdown",
   "id": "526e2d85",
   "metadata": {},
   "source": [
    "#### Caution\n",
    "\n",
    "Moments of order $ k$, $\\operatorname{E}(X^{k})$ of $X\\sim t(\\nu)$ exist only for $k<\\nu$. In particular, a Cauchy r.v. has neither expectation (nor variance, etc). For $X\\sim t(\\nu)$ variance exists only when $\\nu>2$ and then:\n",
    "\n",
    "$$\n",
    "    \\operatorname{E}(X)=0,\\mskip40mu\n",
    "    \\operatorname{var}(X)=\\dfrac{\\nu}{\\nu-2}.\n",
    "$$\n",
    "\n",
    "This property is associated with the fact that, for small $\\nu$, this family of distributions has _heavy tails,_ meaning that there is a significant probability of registering values very far from its geometric center. As $\\nu$ increases$t(\\nu)\\rightarrow\\operatorname{N}(0,1)$, Students's $t$ distribution approaches the normal."
   ]
  },
  {
   "cell_type": "code",
   "execution_count": 1,
   "id": "716b4442-edf2-4d04-a684-92c4d4b9af82",
   "metadata": {
    "vscode": {
     "languageId": "r"
    }
   },
   "outputs": [
    {
     "data": {
      "image/png": "[encoded data removed]",
      "text/plain": [
       "Plot with title \"Comparing standard normal and Student's t pdf's\""
      ]
     },
     "metadata": {
      "image/png": {
       "height": 420,
       "width": 420
      }
     },
     "output_type": "display_data"
    }
   ],
   "source": [
    "# options(repr.plot.width=9,repr.plot.height=9)\n",
    "u<-seq(-6,6,length=1000)\n",
    "plot(u,dnorm(u),type=\"l\",lwd=3.0,col=\"red\",xlab=\"x\",ylab=\"Density\",ylim=c(0,0.45),\n",
    "    main=\"Comparing standard normal and Student's t pdf's\")\n",
    "lines(u,dt(u,df=1),lwd=3.0,col=\"blue\")\n",
    "lines(u,dt(u,df=2),lwd=3.0,col=\"cyan\")\n",
    "legend(\"topright\",c(\"N(0,1)\",\"t(0,1,1) = Cauchy(0,1)\",\"t(0,1,2)\"),lwd=3.5,col=c(\"red\",\"blue\",\"cyan\"))"
   ]
  },
  {
   "cell_type": "markdown",
   "id": "89cfcbd2",
   "metadata": {},
   "source": [
    "## Logistic distribution"
   ]
  },
  {
   "cell_type": "markdown",
   "id": "3e143c7c",
   "metadata": {},
   "source": [
    "A r.v. $ X$, with support on $\\mathbb{R}$ follows the _Logistic_ distribution with location parameter $\\mu\\in\\mathbb{R}$ and scale parameter $\\sigma>0$ if it is absolutely continuous, with pdf:\n",
    "\n",
    "$$\n",
    "    f(x)=\\dfrac{1}{\\sigma}\\,\n",
    "    \\dfrac{\\exp\\left(-\\dfrac{x-\\mu}{\\sigma}\\right)}\n",
    "    {1+\\exp\\left(-\\dfrac{x-\\mu}{\\sigma}\\right)}\n",
    "    =\\dfrac{1}{4\\,\\sigma}\\,\n",
    "    \\operatorname{sech}^{2}\\left(\\dfrac{x-\\mu}{2\\,\\sigma}\\right),\\mskip30mu x\\in\\mathbb{R}.\n",
    "$$\n",
    "\n",
    "Its cdf is the _Logistic function,_ (translated by $\\mu$ and scaled by $\\sigma$)."
   ]
  },
  {
   "cell_type": "markdown",
   "id": "d93c7b27",
   "metadata": {},
   "source": [
    "If $ X\\sim\\operatorname{Logistic}(\\mu,\\sigma)$,\n",
    "\n",
    "$$\n",
    "\\operatorname{E}(X)=\\mu,\\mskip40mu \\operatorname{var}(X)=\\dfrac{\\sigma^{2}\\,\\pi^{2}}{3}.\n",
    "$$"
   ]
  },
  {
   "cell_type": "code",
   "execution_count": 2,
   "id": "910701c7",
   "metadata": {
    "vscode": {
     "languageId": "r"
    }
   },
   "outputs": [
    {
     "data": {
      "image/png": "[encoded data removed]",
      "text/plain": [
       "Plot with title \"Comparing standard normal and Logistic pdf's\""
      ]
     },
     "metadata": {
      "image/png": {
       "height": 540,
       "width": 540
      }
     },
     "output_type": "display_data"
    }
   ],
   "source": [
    "options(repr.plot.width=9,repr.plot.height=9)\n",
    "u<-seq(-6,6,length=1000)\n",
    "plot(u,dnorm(u),type=\"l\",lwd=3.0,col=\"red\",xlab=\"x\",ylab=\"Density\",ylim=c(0,0.45),\n",
    "    main=\"Comparing standard normal and Logistic pdf's\")\n",
    "lines(u,dlogis(u),lwd=2.5,col=\"blue\")\n",
    "lines(u,dlogis(u,scale=sqrt(3)/pi),lwd=2.5,col=\"cyan\")\n",
    "legend(\"topright\",c(\"N(0,1)\",\"Logistic(s=1)\",expression(paste(\"Logistic(s=\",sqrt(3)/pi,\")\"))),\n",
    "       lwd=2.5,col=c(\"red\",\"blue\",\"cyan\"))"
   ]
  },
  {
   "cell_type": "markdown",
   "id": "0647216e",
   "metadata": {},
   "source": [
    "## Laplace distribution"
   ]
  },
  {
   "cell_type": "markdown",
   "id": "d204e38d",
   "metadata": {},
   "source": [
    "A r.v. $ X$, with support on $\\mathbb{R}$ follows the _Laplace_ or _double exponential_ distribution, $\\dexpdist(\\mu,\\sigma)$ or $\\laplacedist(\\mu,s)$, with _location parameter_ $\\mu\\in\\mathbb{R}$ and  _scale parameter_ $s>0$ if it is absolutely continuous, with pdf:\n",
    "\n",
    "$$\n",
    "    f(x)=\\dfrac{1}{2\\,s}\\,\\exp\\left(-\\dfrac{|x-\\mu|}{s}\\right),\\mskip30mu x\\in\\mathbb{R}.\n",
    "$$"
   ]
  },
  {
   "cell_type": "markdown",
   "id": "91c059c7",
   "metadata": {},
   "source": [
    "If $ X\\sim\\laplacedist(\\mu,s)$,\n",
    "\n",
    "$$\n",
    "\\operatorname{E}(X)=\\mu,\\mskip40mu \\operatorname{var}(X)=2\\,s^{2}.\n",
    "$$"
   ]
  },
  {
   "cell_type": "code",
   "execution_count": 3,
   "id": "2081c8b3",
   "metadata": {
    "vscode": {
     "languageId": "r"
    }
   },
   "outputs": [],
   "source": [
    "#install.packages(\"extraDistr\",dependencies=TRUE,repos=\"https://cloud.r-project.org\")\n",
    "require(extraDistr,quietly=TRUE)"
   ]
  },
  {
   "cell_type": "code",
   "execution_count": 4,
   "id": "6604d9db",
   "metadata": {
    "vscode": {
     "languageId": "r"
    }
   },
   "outputs": [
    {
     "data": {
      "image/png": "[encoded data removed]",
      "text/plain": [
       "Plot with title \"Comparing standard normal and Laplace pdf's\""
      ]
     },
     "metadata": {
      "image/png": {
       "height": 420,
       "width": 480
      }
     },
     "output_type": "display_data"
    }
   ],
   "source": [
    "options(repr.plot.width=8,repr.plot.height=7)\n",
    "u<-seq(-6,6,length=1000)\n",
    "plot(u,dnorm(u),type=\"l\",lwd=3.0,col=\"red\",xlab=\"x\",ylab=\"Density\",xlim=c(-6.5,6.5),ylim=c(0,0.9),\n",
    "    main=\"Comparing standard normal and Laplace pdf's\")\n",
    "lines(u,dlaplace(u),lwd=2.5,col=\"blue\")\n",
    "lines(u,dlaplace(u,sigma=1/sqrt(2)),lwd=2.5,col=\"cyan\")\n",
    "lines(u,dnorm(u),lwd=3.0,col=\"red\")\n",
    "legend(\"topright\",c(\"N(0,1)\",expression(paste(\"Laplace(\",s,\"=1)\")),\n",
    "                    expression(paste(\"Laplace(\",s,\"=\",1/sqrt(2) ,\" [ var = 1 ])\"))),lwd=2.5,col=c(\"red\",\"blue\",\"cyan\"))"
   ]
  },
  {
   "cell_type": "markdown",
   "id": "a9bb57e7",
   "metadata": {},
   "source": [
    "## Horseshoe distribution"
   ]
  },
  {
   "cell_type": "markdown",
   "id": "9c6a93ef",
   "metadata": {},
   "source": [
    "The latent variable formulation of the Horsehoe is\n",
    "\n",
    "$$\n",
    "    \\begin{aligned} \n",
    "    (\\beta_i|\\lambda_i, \\tau) \\sim N(0, \\lambda_i^2\\tau^2)\\\\[0.2cm]\n",
    "     \\lambda_i \\sim \\halfcauchydist(0, 1)\\\\[0.2cm]\n",
    "     \\tau \\sim \\halfcauchydist(0, 1)\\\\[0.2cm]\n",
    "    \\end{aligned}\n",
    "$$\n",
    "\n",
    "where $ \\halfcauchydist(0, 1)$ is the half-Cauchy distribution. "
   ]
  },
  {
   "cell_type": "markdown",
   "id": "9d057020",
   "metadata": {},
   "source": [
    "The horseshoe pdf has no closed form analytic expression. Here we see its shape, comapared to the Laplace."
   ]
  },
  {
   "cell_type": "code",
   "execution_count": 5,
   "id": "7f3aec32",
   "metadata": {
    "vscode": {
     "languageId": "r"
    }
   },
   "outputs": [
    {
     "name": "stderr",
     "output_type": "stream",
     "text": [
      "\n",
      "Attaching package: 'LaplacesDemon'\n",
      "\n",
      "\n",
      "The following objects are masked from 'package:extraDistr':\n",
      "\n",
      "    dbern, dcat, ddirichlet, dgpd, dgpois, dinvchisq, dinvgamma,\n",
      "    dlaplace, dpareto, pbern, plaplace, ppareto, qbern, qcat, qlaplace,\n",
      "    qpareto, rbern, rcat, rdirichlet, rgpd, rinvchisq, rinvgamma,\n",
      "    rlaplace, rpareto\n",
      "\n",
      "\n"
     ]
    }
   ],
   "source": [
    "#install.packages(\"LaplacesDemon\",dependencies=TRUE,repos=\"https://cloud.r-project.org\")\n",
    "require(LaplacesDemon,quietly=TRUE)"
   ]
  },
  {
   "cell_type": "code",
   "execution_count": 6,
   "id": "385840cf",
   "metadata": {
    "vscode": {
     "languageId": "r"
    }
   },
   "outputs": [
    {
     "data": {
      "image/png": "[encoded data removed]",
      "text/plain": [
       "Plot with title \"Comparing the Horseshoe and Laplace pdf's\""
      ]
     },
     "metadata": {
      "image/png": {
       "height": 420,
       "width": 480
      }
     },
     "output_type": "display_data"
    }
   ],
   "source": [
    "x<-seq(-3,3,length=3000)\n",
    "y<-dhs(x,lambda=0.7,tau=0.3)\n",
    "y.max<-max(y)\n",
    "options(repr.plot.width=8,repr.plot.height=7)\n",
    "plot(x,y,type=\"l\",lwd=2.5,col=\"blue\",xlab=\"x\",ylab=\"Density\",ylim=c(0,y.max),\n",
    "    main=\"Comparing the Horseshoe and Laplace pdf's\")\n",
    "lines(x,dlaplace(x,scale=1/sqrt(2)),lwd=2.5,col=\"cyan\")     # LaplacesDemon has another dlaplace()\n",
    "legend(\"topright\",c(expression(paste(\"Horsehoe(\",lambda,\"=0.7,\",tau,\"=0.3)\")),\n",
    "                    expression(paste(\"Laplace(\",scale,\"=\",1/sqrt(2),\")\"))),\n",
    "       lwd=2.5,col=c(\"blue\",\"cyan\"))"
   ]
  }
 ],
 "metadata": {
  "kernelspec": {
   "display_name": "R",
   "language": "R",
   "name": "ir"
  },
  "language_info": {
   "codemirror_mode": "r",
   "file_extension": ".r",
   "mimetype": "text/x-r-source",
   "name": "R",
   "pygments_lexer": "r",
   "version": "4.2.3"
  }
 },
 "nbformat": 4,
 "nbformat_minor": 5
}
