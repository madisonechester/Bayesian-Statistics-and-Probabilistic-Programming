{
 "cells": [
  {
   "cell_type": "markdown",
   "metadata": {},
   "source": [
    "# Binomial model - Case studies"
   ]
  },
  {
   "cell_type": "markdown",
   "metadata": {},
   "source": [
    "_Adapted from Josep Fortiana (2023-03-13) by Jordi Abante (2024-03-01)_"
   ]
  },
  {
   "cell_type": "markdown",
   "metadata": {},
   "source": [
    "# Case study 1: Perchlorate and Thyroid Tumors"
   ]
  },
  {
   "cell_type": "markdown",
   "metadata": {},
   "source": [
    "Data for this example come from an online presentation by David Dunson at the US National Institute for Environmental Health Sciences. \n",
    "\n",
    "Perchlorate is a ground water contaminant that has been associated with thyroid tumors. \n",
    "\n",
    "In a study, 2 of 30 lab rats exposed to perchlorate developed thyroid tumors, compared to 0 of 30 control rats.\n",
    "\n",
    "What conclusions can be drawn?\n",
    "\n",
    "Given the small numbers, there are difficulties in the classical framework, for instance, because of the zero value a confidence interval collapses to infinity. What can we learn from a Bayesian approach? \n",
    "\n",
    "Clearly for each group, **Exposed to Perchlorate** and **Control** rats, the likelihood (for the observed variable, the number of rats developing a tumor) is Binomial and we want to learn about possible different properties (i.e. probability distribution) of the probability parameter in both groups."
   ]
  },
  {
   "cell_type": "code",
   "execution_count": 1,
   "metadata": {
    "vscode": {
     "languageId": "r"
    }
   },
   "outputs": [],
   "source": [
    "# data\n",
    "y.perchlorate <- 2; n.perchlorate <- 30\n",
    "y.control <- 0; n.control<- 30"
   ]
  },
  {
   "cell_type": "markdown",
   "metadata": {},
   "source": [
    "In a first run we take a $\\textrm{Unif}(0,1)=\\textrm{Beta}(1,1)$ prior as a NIP. Thus, we have that: $p(\\theta|x)=\\textrm{Beta}(\\alpha+y,\\beta+n-y)=\\textrm{Beta}(1+y,1+n-y)$ in each case."
   ]
  },
  {
   "cell_type": "code",
   "execution_count": 2,
   "metadata": {
    "vscode": {
     "languageId": "r"
    }
   },
   "outputs": [],
   "source": [
    "# update Beta(1,1) prior for exposed and unexposed\n",
    "N<-20000  # sample size for simulations\n",
    "theta.perchlorate <- rbeta(N,y.perchlorate+1,n.perchlorate-y.perchlorate+1)\n",
    "theta.control <- rbeta(N,y.control+1,n.control-y.control+1)"
   ]
  },
  {
   "cell_type": "markdown",
   "metadata": {},
   "source": [
    "We can plot the density of $\\theta$, which corresponds to the probability developing a tumor"
   ]
  },
  {
   "cell_type": "code",
   "execution_count": 3,
   "metadata": {
    "vscode": {
     "languageId": "r"
    }
   },
   "outputs": [
    {
     "data": {
      "image/png": "[encoded data removed]",
      "text/plain": [
       "Plot with title \"Probability of tumor in control rats\""
      ]
     },
     "metadata": {},
     "output_type": "display_data"
    }
   ],
   "source": [
    "# graphically compare exposed and unexposed\n",
    "options(repr.plot.width=14,repr.plot.height=7)\n",
    "old.par<-par(mfrow=c(1,2))\n",
    "plot(density(theta.perchlorate), xlim=c(0,0.4),lwd=2.5,col=\"blue\",main=\"Probability of tumor in exposed rats\")\n",
    "plot(density(theta.control),lwd=2.5,col=\"red\",xlim=c(0,0.4),main=\"Probability of tumor in control rats\")\n",
    "par(old.par)"
   ]
  },
  {
   "cell_type": "code",
   "execution_count": 4,
   "metadata": {
    "tags": [],
    "vscode": {
     "languageId": "r"
    }
   },
   "outputs": [
    {
     "data": {
      "text/html": [
       "0.88295"
      ],
      "text/latex": [
       "0.88295"
      ],
      "text/markdown": [
       "0.88295"
      ],
      "text/plain": [
       "[1] 0.88295"
      ]
     },
     "metadata": {},
     "output_type": "display_data"
    }
   ],
   "source": [
    "# probability that exposed have higher probability of developing tumors\n",
    "sum(theta.perchlorate >= theta.control)/N"
   ]
  },
  {
   "cell_type": "markdown",
   "metadata": {},
   "source": [
    "A 90% credible interval for the difference of probabilities and an estimation of the pdf of this difference. The interval includes zero, so it is consistent with the non-significance of the difference (from Fisher’s exact test, see reference). But the majority of the probability lies above zero. "
   ]
  },
  {
   "cell_type": "code",
   "execution_count": 5,
   "metadata": {
    "vscode": {
     "languageId": "r"
    }
   },
   "outputs": [
    {
     "name": "stdout",
     "output_type": "stream",
     "text": [
      " num [1:20000] 0.0977 0.0152 0.0371 0.0537 0.0058 ...\n"
     ]
    }
   ],
   "source": [
    "theta.diff<-theta.perchlorate-theta.control\n",
    "str(theta.diff)"
   ]
  },
  {
   "cell_type": "code",
   "execution_count": 6,
   "metadata": {
    "vscode": {
     "languageId": "r"
    }
   },
   "outputs": [
    {
     "data": {
      "image/png": "[encoded data removed]",
      "text/plain": [
       "Plot with title \"Difference between groups\""
      ]
     },
     "metadata": {},
     "output_type": "display_data"
    }
   ],
   "source": [
    "# graphically compare exposed and unexposed\n",
    "options(repr.plot.width=7,repr.plot.height=7)\n",
    "theta.diff.density<-density(theta.diff)\n",
    "max.theta.diff<-theta.diff.density$x[which.max(theta.diff.density$y)]\n",
    "plot(theta.diff.density,xlim=c(-0.3,0.4),lwd=2.5,col=\"DarkCyan\", main=\"Difference between groups\")\n",
    "abline(v=max.theta.diff,lwd=2.5,col=\"black\")"
   ]
  },
  {
   "cell_type": "code",
   "execution_count": 7,
   "metadata": {
    "vscode": {
     "languageId": "r"
    }
   },
   "outputs": [
    {
     "data": {
      "text/html": [
       "0.043"
      ],
      "text/latex": [
       "0.043"
      ],
      "text/markdown": [
       "0.043"
      ],
      "text/plain": [
       "[1] 0.043"
      ]
     },
     "metadata": {},
     "output_type": "display_data"
    }
   ],
   "source": [
    "round(max.theta.diff,3)"
   ]
  },
  {
   "cell_type": "code",
   "execution_count": 8,
   "metadata": {
    "vscode": {
     "languageId": "r"
    }
   },
   "outputs": [
    {
     "data": {
      "text/html": [
       "<dl class=dl-horizontal>\n",
       "\t<dt>5%</dt>\n",
       "\t\t<dd>-0.027</dd>\n",
       "\t<dt>95%</dt>\n",
       "\t\t<dd>0.167</dd>\n",
       "</dl>\n"
      ],
      "text/latex": [
       "\\begin{description*}\n",
       "\\item[5\\textbackslash{}\\%] -0.027\n",
       "\\item[95\\textbackslash{}\\%] 0.167\n",
       "\\end{description*}\n"
      ],
      "text/markdown": [
       "5%\n",
       ":   -0.02795%\n",
       ":   0.167\n",
       "\n"
      ],
      "text/plain": [
       "    5%    95% \n",
       "-0.027  0.167 "
      ]
     },
     "metadata": {},
     "output_type": "display_data"
    }
   ],
   "source": [
    "# 90% credible interval\n",
    "round(quantile(theta.diff, probs=c(0.05,0.95)),3)"
   ]
  },
  {
   "cell_type": "markdown",
   "metadata": {},
   "source": [
    "What if we have some real prior evidence or belief about the putative association of perchlorate and thyroid tumors. It would be reasonable to assume that we do. Why else would we be doing this experiment in the first place? \n",
    "\n",
    "Dr. Dunson, in his presentation, suggests a $\\textrm{Beta}(0.11, 2.6)$ as representing previous experimental evidence. Let’s use that prior, and combine it with our data to update the posterior."
   ]
  },
  {
   "cell_type": "code",
   "execution_count": 9,
   "metadata": {
    "vscode": {
     "languageId": "r"
    }
   },
   "outputs": [
    {
     "data": {
      "text/html": [
       "<dl class=dl-horizontal>\n",
       "\t<dt>5%</dt>\n",
       "\t\t<dd>0.008</dd>\n",
       "\t<dt>95%</dt>\n",
       "\t\t<dd>0.144</dd>\n",
       "</dl>\n"
      ],
      "text/latex": [
       "\\begin{description*}\n",
       "\\item[5\\textbackslash{}\\%] 0.008\n",
       "\\item[95\\textbackslash{}\\%] 0.144\n",
       "\\end{description*}\n"
      ],
      "text/markdown": [
       "5%\n",
       ":   0.00895%\n",
       ":   0.144\n",
       "\n"
      ],
      "text/plain": [
       "   5%   95% \n",
       "0.008 0.144 "
      ]
     },
     "metadata": {},
     "output_type": "display_data"
    }
   ],
   "source": [
    "theta.perchlorate <- rbeta(N,y.perchlorate+0.11,n.perchlorate-y.perchlorate+2.6)\n",
    "theta.control <- rbeta(N,y.control+.11,n.control-y.control+2.6)\n",
    "theta.diff<-theta.perchlorate-theta.control\n",
    "round(quantile(theta.diff, probs=c(0.05,0.95)),3)"
   ]
  },
  {
   "cell_type": "markdown",
   "metadata": {},
   "source": [
    "We see that when using this prior, zero is no longer included in the 95% confidence interval."
   ]
  }
 ],
 "metadata": {
  "kernelspec": {
   "display_name": "R",
   "language": "R",
   "name": "ir"
  },
  "language_info": {
   "codemirror_mode": "r",
   "file_extension": ".r",
   "mimetype": "text/x-r-source",
   "name": "R",
   "pygments_lexer": "r",
   "version": "3.6.1"
  }
 },
 "nbformat": 4,
 "nbformat_minor": 4
}
