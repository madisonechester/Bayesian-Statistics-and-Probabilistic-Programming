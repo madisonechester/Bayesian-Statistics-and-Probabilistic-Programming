{
  "cells": [
    {
      "cell_type": "markdown",
      "id": "indoor-catalyst",
      "metadata": {
        "id": "indoor-catalyst",
        "tags": []
      },
      "source": [
        "<h1 style=\"color:blue\"> Bayesian Statistics and Probabilistic Programming</h1>\n",
        "\n",
        "<h1 style=\"color:blue\"> Spring 2024 - Homework 01</h1>\n",
        "\n",
        "<h3 style=\"color:blue\">2024-03-25</h3>"
      ]
    },
    {
      "cell_type": "markdown",
      "id": "floppy-carbon",
      "metadata": {
        "id": "floppy-carbon"
      },
      "source": [
        "<h1 style=\"color:blue\">Contributors</h1>"
      ]
    },
    {
      "cell_type": "markdown",
      "id": "f55622e7",
      "metadata": {
        "id": "f55622e7"
      },
      "source": [
        "### Adriana Alvaro Email: aalvarma106@alumnes.ub.edu\n",
        "### Madison Chester Email: mchestch7@alumnes.ub.edu\n",
        "### Dafni Tziakouri Email: dtziaktz7@alumnes.ub.edu\n",
        "### Arturo Fredes Email: afredeca7@alumnes.ub.edu"
      ]
    },
    {
      "cell_type": "markdown",
      "id": "b51a75a2",
      "metadata": {
        "id": "b51a75a2"
      },
      "source": [
        "<h1 style=\"color:blue\">Exercises</h1>"
      ]
    },
    {
      "cell_type": "markdown",
      "id": "41a31419",
      "metadata": {
        "id": "41a31419"
      },
      "source": [
        "# Exercise 1: Placenta previa"
      ]
    },
    {
      "cell_type": "markdown",
      "id": "5dc76861",
      "metadata": {
        "id": "5dc76861"
      },
      "source": [
        "This exercise pertains to what we studied in `Binomial.3.Placenta.previa.pub.ipynb`."
      ]
    },
    {
      "cell_type": "markdown",
      "id": "b178625c",
      "metadata": {
        "id": "b178625c"
      },
      "source": [
        "## Exercise 1.1\n",
        "\n",
        "Compute the posterior pdf, and both prior and posterior predictor pmf for the placenta previa problem, using a conjugate $\\textrm{Beta}(\\alpha,\\beta)$ prior, for several values of the parameters, obtaining for each of them a 95% (centered) credible interval and the MAP and posterior expectation estimators of $\\theta$. In particular, reproduce Figure 2.3 and Table 2.1 in BDA3 [1]. Do the same for those $\\alpha_0$ and $\\beta_0$ such that $\\textrm{Beta}(\\alpha_0,\\beta_0)$ has the same expectation and variance than the piecewise linear nonconjugate prior. Compare the posterior quantities with both priors.\n",
        "\n",
        "[1] _Bayesian Data Analysis - Third edition_ **(BDA3),** pag. 37."
      ]
    },
    {
      "cell_type": "markdown",
      "id": "12521138",
      "metadata": {
        "id": "12521138"
      },
      "source": [
        "Since we're dealing with a Bernoulli trial (success or failure), the likelihood function is given by the binomial probability mass function:\n",
        "\\begin{equation}\n",
        "    f(x|\\theta)=\\theta^{x}\\cdot(1-\\theta)^{(n-x)}\n",
        "\\end{equation}\n",
        "\n",
        "Where,\n",
        "- x is the number of successes (placenta previa cases),\n",
        "\n",
        "- n is the total number of trials (total pregnancies),\n",
        "\n",
        "- θ is the probability of success (the parameter we want to estimate).\n",
        "\n",
        "\n",
        "\n",
        "We'll use a Beta distribution as the prior, which is conjugate to the binomial likelihood function. The Beta distribution has two shape parameters, α and β:\n",
        "\\begin{equation}\n",
        "    \\text{Beta}(\\theta \\mid \\alpha, \\beta) = \\frac{\\theta^{\\alpha - 1} \\cdot (1 - \\theta)^{\\beta - 1}}{B(\\alpha, \\beta)}\n",
        "\\end{equation}\n",
        "\n",
        "Where,\n",
        "- B(α,β) is the Beta function, serving as the normalizing constant.\n",
        "\n",
        "\n",
        "Using Bayes' theorem, we can compute the prior predictive pmf of x, which is called the Beta-Binomial distribution.\n",
        "\\begin{equation}\n",
        "    p(x) = \\int_{\\Theta} f(x \\mid \\theta) Beta(\\theta \\mid \\alpha, \\beta) d\\theta = \\frac{1}{B(\\alpha, \\beta)} B(\\alpha + x, \\beta + n - x)\n",
        "\\end{equation}"
      ]
    },
    {
      "cell_type": "markdown",
      "id": "e6d3333f",
      "metadata": {
        "id": "e6d3333f",
        "vscode": {
          "languageId": "r"
        }
      },
      "source": [
        "Since the Bernoulli likelihood and the Beta prior are conjugate pairs, the posterior pdf will also be a Beta distribution with updated parameters, and the posterior predictive pmf will be a Beta-Binomial with parameters updated according to the evidence. In particular:\n",
        "\n",
        "\\begin{equation}\n",
        "    Posterior\\ pdf: Beta(\\alpha + x, \\beta + n - x)\n",
        "\\end{equation}\n",
        "\n",
        "\\begin{equation}\n",
        "    Posterior\\ predictive\\ pmf: Beta-Binomial(n,\\alpha + x, \\beta + n - x)\n",
        "\\end{equation}\n"
      ]
    },
    {
      "cell_type": "code",
      "execution_count": 55,
      "id": "2fa02445",
      "metadata": {
        "id": "2fa02445",
        "vscode": {
          "languageId": "r"
        }
      },
      "outputs": [],
      "source": [
        "# Given data\n",
        "n <- 980\n",
        "x <- 437"
      ]
    },
    {
      "cell_type": "markdown",
      "id": "66939a03",
      "metadata": {
        "id": "66939a03"
      },
      "source": [
        "We will take advantage of the knowledge of the posterior distributions given by the use of conjugate pairs to easily obtain a 95% (centered) credible interval and the MAP and posterior expectation estimators of $\\theta$.\n",
        "\\begin{equation}\n",
        "    p_{\\text{MAP}} = \\frac{x + \\alpha - 1}{n + \\alpha + \\beta - 2}\n",
        "\\end{equation}\n",
        "\n",
        "\\begin{equation}\n",
        "    E[\\theta] = \\frac{x + \\alpha}{n + \\alpha + \\beta}\n",
        "\\end{equation}\n",
        "\n",
        "We now define a function that will compute all of this values."
      ]
    },
    {
      "cell_type": "code",
      "execution_count": 56,
      "id": "15080629",
      "metadata": {
        "id": "15080629",
        "vscode": {
          "languageId": "r"
        }
      },
      "outputs": [],
      "source": [
        "# Function to compute the Beta posterior parameters and quantities\n",
        "compute_beta_posterior <- function(alpha, beta, x, n) {\n",
        "  # Compute posterior parameters\n",
        "  alpha_post <- alpha + x\n",
        "  beta_post <- beta + n - x\n",
        "\n",
        "  # Compute 95% centered credible interval\n",
        "  credible_interval <- qbeta(c(0.025, 0.975), alpha_post, beta_post)\n",
        "\n",
        "  # Compute the median of the Beta posterior\n",
        "  median_posterior <- qbeta(0.5, alpha_post, beta_post)\n",
        "\n",
        "  # Compute MAP estimator\n",
        "  map_estimator <- (x + alpha - 1) / (n + alpha + beta - 2)\n",
        "\n",
        "  # Compute posterior expectation estimator\n",
        "  posterior_expectation <- alpha_post / (alpha_post + beta_post)\n",
        "\n",
        "  return(list(alpha_post = alpha_post, beta_post = beta_post, credible_interval = credible_interval, median_posterior = median_posterior,\n",
        "              map_estimator = map_estimator, posterior_expectation = posterior_expectation))\n",
        "}"
      ]
    },
    {
      "cell_type": "code",
      "execution_count": 57,
      "id": "533ff69b",
      "metadata": {
        "id": "533ff69b",
        "vscode": {
          "languageId": "r"
        }
      },
      "outputs": [],
      "source": [
        "# Function to compute the Beta_binomial expectation and variance\n",
        "compute_beta_binomial_statistics <- function(alpha, beta,n) {\n",
        "\n",
        "  # Compute variance\n",
        "  variance <- (alpha*beta*(alpha + beta + n)) / ((alpha + beta)^2 * (alpha + beta + 1))\n",
        "\n",
        "  # Compute expectation estimator\n",
        "  expectation <- n * alpha / (alpha + beta)\n",
        "\n",
        "  return(list(expectation = expectation, variance=variance))}"
      ]
    },
    {
      "cell_type": "markdown",
      "id": "82737d8b",
      "metadata": {
        "id": "82737d8b"
      },
      "source": [
        "We will try it for different parameters of $\\alpha$ and $\\beta$"
      ]
    },
    {
      "cell_type": "code",
      "execution_count": 58,
      "id": "5ad4039a",
      "metadata": {
        "colab": {
          "base_uri": "https://localhost:8080/"
        },
        "id": "5ad4039a",
        "outputId": "3aa37d98-d063-4b6e-bcc6-d17e76cd52a8",
        "vscode": {
          "languageId": "r"
        }
      },
      "outputs": [
        {
          "name": "stdout",
          "output_type": "stream",
          "text": [
            "Alpha: 0.5 - Beta: 0.5 \n",
            "Posterior parameters (alpha_post, beta_post): 437.5 , 543.5 \n",
            "95% Credible Interval: 0.4149953 0.4771604 \n",
            "MAP Estimator: 0.4458631 \n",
            "Posterior Expectation Estimator: 0.4459735 \n",
            "\n",
            "Alpha: 0.5 - Beta: 1 \n",
            "Posterior parameters (alpha_post, beta_post): 437.5 , 544 \n",
            "95% Credible Interval: 0.4147779 0.4769241 \n",
            "MAP Estimator: 0.4456355 \n",
            "Posterior Expectation Estimator: 0.4457463 \n",
            "\n",
            "Alpha: 0.5 - Beta: 2 \n",
            "Posterior parameters (alpha_post, beta_post): 437.5 , 545 \n",
            "95% Credible Interval: 0.4143439 0.4764523 \n",
            "MAP Estimator: 0.445181 \n",
            "Posterior Expectation Estimator: 0.4452926 \n",
            "\n",
            "Alpha: 0.5 - Beta: 5 \n",
            "Posterior parameters (alpha_post, beta_post): 437.5 , 548 \n",
            "95% Credible Interval: 0.4130473 0.4750424 \n",
            "MAP Estimator: 0.4438231 \n",
            "Posterior Expectation Estimator: 0.4439371 \n",
            "\n",
            "Alpha: 0.5 - Beta: 10 \n",
            "Posterior parameters (alpha_post, beta_post): 437.5 , 553 \n",
            "95% Credible Interval: 0.4109044 0.4727109 \n",
            "MAP Estimator: 0.4415781 \n",
            "Posterior Expectation Estimator: 0.4416961 \n",
            "\n",
            "Alpha: 1 - Beta: 0.5 \n",
            "Posterior parameters (alpha_post, beta_post): 438 , 543.5 \n",
            "95% Credible Interval: 0.4152829 0.477436 \n",
            "MAP Estimator: 0.446146 \n",
            "Posterior Expectation Estimator: 0.4462557 \n",
            "\n",
            "Alpha: 1 - Beta: 1 \n",
            "Posterior parameters (alpha_post, beta_post): 438 , 544 \n",
            "95% Credible Interval: 0.4150655 0.4771998 \n",
            "MAP Estimator: 0.4459184 \n",
            "Posterior Expectation Estimator: 0.4460285 \n",
            "\n",
            "Alpha: 1 - Beta: 2 \n",
            "Posterior parameters (alpha_post, beta_post): 438 , 545 \n",
            "95% Credible Interval: 0.4146314 0.4767279 \n",
            "MAP Estimator: 0.4454638 \n",
            "Posterior Expectation Estimator: 0.4455748 \n",
            "\n",
            "Alpha: 1 - Beta: 5 \n",
            "Posterior parameters (alpha_post, beta_post): 438 , 548 \n",
            "95% Credible Interval: 0.4133346 0.4753179 \n",
            "MAP Estimator: 0.4441057 \n",
            "Posterior Expectation Estimator: 0.4442191 \n",
            "\n",
            "Alpha: 1 - Beta: 10 \n",
            "Posterior parameters (alpha_post, beta_post): 438 , 553 \n",
            "95% Credible Interval: 0.4111912 0.4729862 \n",
            "MAP Estimator: 0.4418605 \n",
            "Posterior Expectation Estimator: 0.4419778 \n",
            "\n",
            "Alpha: 2 - Beta: 0.5 \n",
            "Posterior parameters (alpha_post, beta_post): 439 , 543.5 \n",
            "95% Credible Interval: 0.4158573 0.4779865 \n",
            "MAP Estimator: 0.4467109 \n",
            "Posterior Expectation Estimator: 0.4468193 \n",
            "\n",
            "Alpha: 2 - Beta: 1 \n",
            "Posterior parameters (alpha_post, beta_post): 439 , 544 \n",
            "95% Credible Interval: 0.4156398 0.4777502 \n",
            "MAP Estimator: 0.4464832 \n",
            "Posterior Expectation Estimator: 0.4465921 \n",
            "\n",
            "Alpha: 2 - Beta: 2 \n",
            "Posterior parameters (alpha_post, beta_post): 439 , 545 \n",
            "95% Credible Interval: 0.4152056 0.4772782 \n",
            "MAP Estimator: 0.4460285 \n",
            "Posterior Expectation Estimator: 0.4461382 \n",
            "\n",
            "Alpha: 2 - Beta: 5 \n",
            "Posterior parameters (alpha_post, beta_post): 439 , 548 \n",
            "95% Credible Interval: 0.4139082 0.4758681 \n",
            "MAP Estimator: 0.4446701 \n",
            "Posterior Expectation Estimator: 0.4447822 \n",
            "\n",
            "Alpha: 2 - Beta: 10 \n",
            "Posterior parameters (alpha_post, beta_post): 439 , 553 \n",
            "95% Credible Interval: 0.411764 0.4735361 \n",
            "MAP Estimator: 0.4424242 \n",
            "Posterior Expectation Estimator: 0.4425403 \n",
            "\n",
            "Alpha: 5 - Beta: 0.5 \n",
            "Posterior parameters (alpha_post, beta_post): 442 , 543.5 \n",
            "95% Credible Interval: 0.4175739 0.4796307 \n",
            "MAP Estimator: 0.4483986 \n",
            "Posterior Expectation Estimator: 0.4485033 \n",
            "\n",
            "Alpha: 5 - Beta: 1 \n",
            "Posterior parameters (alpha_post, beta_post): 442 , 544 \n",
            "95% Credible Interval: 0.4173562 0.4793943 \n",
            "MAP Estimator: 0.4481707 \n",
            "Posterior Expectation Estimator: 0.4482759 \n",
            "\n",
            "Alpha: 5 - Beta: 2 \n",
            "Posterior parameters (alpha_post, beta_post): 442 , 545 \n",
            "95% Credible Interval: 0.4169214 0.4789222 \n",
            "MAP Estimator: 0.4477157 \n",
            "Posterior Expectation Estimator: 0.4478217 \n",
            "\n",
            "Alpha: 5 - Beta: 5 \n",
            "Posterior parameters (alpha_post, beta_post): 442 , 548 \n",
            "95% Credible Interval: 0.4156226 0.4775116 \n",
            "MAP Estimator: 0.4463563 \n",
            "Posterior Expectation Estimator: 0.4464646 \n",
            "\n",
            "Alpha: 5 - Beta: 10 \n",
            "Posterior parameters (alpha_post, beta_post): 442 , 553 \n",
            "95% Credible Interval: 0.4134759 0.4751787 \n",
            "MAP Estimator: 0.4441088 \n",
            "Posterior Expectation Estimator: 0.4442211 \n",
            "\n",
            "Alpha: 10 - Beta: 0.5 \n",
            "Posterior parameters (alpha_post, beta_post): 447 , 543.5 \n",
            "95% Credible Interval: 0.4204128 0.4823479 \n",
            "MAP Estimator: 0.4511887 \n",
            "Posterior Expectation Estimator: 0.4512872 \n",
            "\n",
            "Alpha: 10 - Beta: 1 \n",
            "Posterior parameters (alpha_post, beta_post): 447 , 544 \n",
            "95% Credible Interval: 0.4201947 0.4821114 \n",
            "MAP Estimator: 0.4509606 \n",
            "Posterior Expectation Estimator: 0.4510595 \n",
            "\n",
            "Alpha: 10 - Beta: 2 \n",
            "Posterior parameters (alpha_post, beta_post): 447 , 545 \n",
            "95% Credible Interval: 0.4197592 0.4816391 \n",
            "MAP Estimator: 0.4505051 \n",
            "Posterior Expectation Estimator: 0.4506048 \n",
            "\n",
            "Alpha: 10 - Beta: 5 \n",
            "Posterior parameters (alpha_post, beta_post): 447 , 548 \n",
            "95% Credible Interval: 0.418458 0.4802277 \n",
            "MAP Estimator: 0.449144 \n",
            "Posterior Expectation Estimator: 0.4492462 \n",
            "\n",
            "Alpha: 10 - Beta: 10 \n",
            "Posterior parameters (alpha_post, beta_post): 447 , 553 \n",
            "95% Credible Interval: 0.4163073 0.4778936 \n",
            "MAP Estimator: 0.4468938 \n",
            "Posterior Expectation Estimator: 0.447 \n",
            "\n"
          ]
        }
      ],
      "source": [
        "# Define several values of alpha and beta for the Beta prior\n",
        "alpha_values <- c(0.5, 1, 2, 5, 10)\n",
        "beta_values <- c(0.5, 1, 2, 5, 10)\n",
        "\n",
        "# Initialize lists to store results\n",
        "results <- list()\n",
        "\n",
        "# Compute posterior for each combination of alpha and beta\n",
        "for (alpha in alpha_values) {\n",
        "  for (beta in beta_values) {\n",
        "    # Compute posterior parameters and quantities\n",
        "    result <- compute_beta_posterior(alpha, beta, x, n)\n",
        "    # Store results\n",
        "    results[[paste(\"alpha\", alpha, \"beta\", beta)]] <- result\n",
        "  }\n",
        "}\n",
        "\n",
        "# Print results\n",
        "for (key in names(results)) {\n",
        "  alpha_beta <- unlist(strsplit(key, \" \"))\n",
        "\n",
        "  alpha <- alpha_beta[2]\n",
        "  beta <- alpha_beta[4]\n",
        "  cat(\"Alpha:\", alpha, \"- Beta:\", beta, \"\\n\")\n",
        "  cat(\"Posterior parameters (alpha_post, beta_post):\", results[[key]]$alpha_post, \",\", results[[key]]$beta_post, \"\\n\")\n",
        "  cat(\"95% Credible Interval:\", results[[key]]$credible_interval, \"\\n\")\n",
        "  cat(\"MAP Estimator:\", results[[key]]$map_estimator, \"\\n\")\n",
        "  cat(\"Posterior Expectation Estimator:\", results[[key]]$posterior_expectation, \"\\n\")\n",
        "  cat(\"\\n\")\n",
        "}\n",
        "\n"
      ]
    },
    {
      "cell_type": "markdown",
      "id": "273f70f9",
      "metadata": {
        "id": "273f70f9"
      },
      "source": [
        "Now we will try to reproduce the image 2.3 of [1]. In there they calculated that when using a uniform prior distribution for the probability of a girl birth, the posterior distribution is Beta(438, 544). The images represent:\n",
        "\n",
        "1. The distribution of taking 1000 draws of this posterior distribution.\n",
        "\n",
        "2. logit transform $log(\\frac{\\theta}{1 − \\theta})$, which transforms the parameter space from the unit interval to the real line. This is done to apply a normal approximation to $\\theta$ which only takes values in [0,1], while the normal distribution is defined on the reals.\n",
        "\n",
        "3. Male-to-female sex ratio $\\phi = \\frac{1 − \\theta}{\\theta}$"
      ]
    },
    {
      "cell_type": "code",
      "execution_count": 59,
      "id": "4b95c452",
      "metadata": {
        "colab": {
          "base_uri": "https://localhost:8080/",
          "height": 437
        },
        "id": "4b95c452",
        "outputId": "c9ead64e-2128-4946-be6f-602abdb78387",
        "vscode": {
          "languageId": "r"
        }
      },
      "outputs": [
        {
          "name": "stderr",
          "output_type": "stream",
          "text": [
            "Your code contains a unicode char which cannot be displayed in your\n",
            "current locale and R will silently convert it to an escaped form when the\n",
            "R kernel executes this code. This can lead to subtle errors if you use\n",
            "such chars to do comparisons. For more information, please see\n",
            "https://github.com/IRkernel/repr/wiki/Problems-with-unicode-on-windows"
          ]
        },
        {
          "data": {
            "image/png": "[encoded data removed]",
            "text/plain": [
              "Plot with title \"Male-to-female sex ratio\""
            ]
          },
          "metadata": {},
          "output_type": "display_data"
        }
      ],
      "source": [
        "# Plot histograms of the posterior distributions\n",
        "par(mfrow = c(1, 3), mar = c(5, 4, 2, 1))\n",
        "\n",
        "# (a) Posterior distribution of θ\n",
        "theta_samples <- rbeta(10000, 438, 544)\n",
        "hist(theta_samples, main = \"Posterior distribution of theta\", xlab = \"theta\", col = \"lightblue\", border = \"white\")\n",
        "\n",
        "# (b) Logit transform of θ\n",
        "logit_theta_samples <- log(theta_samples / (1 - theta_samples))\n",
        "hist(logit_theta_samples, main = \"Logit transform of theta\", xlab = \"logit(theta)\", col = \"lightblue\", border = \"white\")\n",
        "\n",
        "# (c) Male-to-female sex ratio φ = (1 − θ)/θ (f)\n",
        "sex_ratio_samples <- (1 - theta_samples) / theta_samples\n",
        "hist(sex_ratio_samples, main = \"Male-to-female sex ratio\", xlab = \"f\", col = \"lightblue\", border = \"white\")"
      ]
    },
    {
      "cell_type": "markdown",
      "id": "93e81d8b",
      "metadata": {
        "id": "93e81d8b"
      },
      "source": [
        "We also want to reproduce Table 2.2 that we can see here:\n",
        "\n",
        "| α / (α + β) | α + β | Posterior median of θ | 95% posterior interval for θ |\n",
        "|-------------|-------|------------------------|------------------------------|\n",
        "| 0.500       | 2     | 0.446                  | [0.415, 0.477]               |\n",
        "| 0.485       | 2     | 0.446                  | [0.415, 0.477]               |\n",
        "| 0.485       | 5     | 0.446                  | [0.415, 0.477]               |\n",
        "| 0.485       | 10    | 0.446                  | [0.415, 0.477]               |\n",
        "| 0.485       | 20    | 0.447                  | [0.416, 0.478]               |\n",
        "| 0.485       | 100   | 0.450                  | [0.420, 0.479]               |\n",
        "| 0.485       | 200   | 0.453                  | [0.424, 0.481]               |\n",
        "\n",
        "\n",
        "To do so we obtained the values of $\\alpha$ and $\\beta$, and call the function that we previously defined."
      ]
    },
    {
      "cell_type": "code",
      "execution_count": 60,
      "id": "cab5ccde",
      "metadata": {
        "colab": {
          "base_uri": "https://localhost:8080/"
        },
        "id": "cab5ccde",
        "outputId": "a7013b0c-10ff-419c-df5c-275a69eb9572",
        "vscode": {
          "languageId": "r"
        }
      },
      "outputs": [
        {
          "name": "stdout",
          "output_type": "stream",
          "text": [
            "  a/a+ß a+ß Posterior_Median Posterior_95CI_Lower Posterior_95CI_Upper\n",
            "1 0.485   2            0.446                0.415                0.477\n",
            "2 0.485   5            0.446                0.415                0.477\n",
            "3 0.485  10            0.446                0.415                0.477\n",
            "4 0.485  20            0.447                0.416                0.478\n",
            "5 0.485 100            0.450                0.420                0.479\n",
            "6 0.485 200            0.453                0.424                0.481\n"
          ]
        }
      ],
      "source": [
        "# Initialize a dataframe to store the results\n",
        "table_data <- data.frame(\n",
        "  Prior_Probability = numeric(),\n",
        "  Prior_Sum = numeric(),\n",
        "  Posterior_Median = numeric(),\n",
        "  Posterior_95CI_Lower = numeric(),\n",
        "  Posterior_95CI_Upper = numeric(),\n",
        "  stringsAsFactors = FALSE\n",
        ")\n",
        "\n",
        "# Define the prior alpha and beta values\n",
        "prior_expt <- 0.485 # alpha/(alpha + beta)\n",
        "prior_sum_values <- c(2, 5, 10, 20, 100, 200) # alpha + beta\n",
        "\n",
        "\n",
        "\n",
        "# Compute the posterior for each combination of prior alpha and beta\n",
        "for (prior_sum in prior_sum_values) {\n",
        "\n",
        "  prior_alpha <- prior_expt * prior_sum\n",
        "  prior_beta <- prior_sum - prior_alpha\n",
        "\n",
        "\n",
        "  # Compute posterior parameters and quantities\n",
        "  posterior_result <- compute_beta_posterior(prior_alpha, prior_beta, x, n)\n",
        "\n",
        "  # Round posterior summaries to three significant figures\n",
        "  posterior_median <- signif(posterior_result$median_posterior, digits = 3)\n",
        "  posterior_lower <- signif(posterior_result$credible_interval[1], digits = 3)\n",
        "  posterior_upper <- signif(posterior_result$credible_interval[2], digits = 3)\n",
        "\n",
        "  # Store the results in the dataframe\n",
        "  table_data <- rbind(table_data, c(prior_expt, prior_sum,\n",
        "                                    posterior_median,\n",
        "                                    posterior_lower, posterior_upper))\n",
        "}\n",
        "\n",
        "# Rename the columns\n",
        "colnames(table_data) <- c(\"α/α+β\", \"α+β\",\n",
        "                          \"Posterior_Median\", \"Posterior_95CI_Lower\", \"Posterior_95CI_Upper\")\n",
        "\n",
        "# Print the table\n",
        "print(table_data)\n"
      ]
    },
    {
      "cell_type": "markdown",
      "id": "bb404bbb",
      "metadata": {
        "id": "bb404bbb"
      },
      "source": [
        "As we can see we could reproduce the results pretty well."
      ]
    },
    {
      "cell_type": "markdown",
      "id": "b7a01c8c",
      "metadata": {
        "id": "b7a01c8c"
      },
      "source": [
        "Now we wil use a nonconjugate piecewise linear prior. We will start by defining the prior function `h()`:\n",
        "$$\n",
        "    h(t)=\\left\\{\n",
        "    \\begin{array}{lcl}\n",
        "         a,        &\\text{ for }  &0<t<m-c \\quad\\text{and } m+c<t<1,\\\\\n",
        "         A+b\\cdot t/c,  &\\text{ for }  &t\\in [m-c,m],\\\\\n",
        "         B-b\\cdot t/c   &\\text{ for }  &t\\in [m,m+c],\\\\\n",
        "    \\end{array}\n",
        "    \\right.\\mskip80mu t \\in[0,1]\n",
        "$$\n",
        "\n",
        "where $a=0.50$, $b=5.00$ is the height of the central triangle ($a+b$ is the peak ordinate), $A=a+b-(b\\cdot m)/c$,\n",
        "$B<-a+b+(b\\cdot m)/c$.\n",
        "\n",
        "In the following code we define the parameters and the function, plot the distribution, and obtain the expectation, variance and integral."
      ]
    },
    {
      "cell_type": "code",
      "execution_count": 61,
      "id": "54b730bc",
      "metadata": {
        "colab": {
          "base_uri": "https://localhost:8080/",
          "height": 492
        },
        "id": "54b730bc",
        "outputId": "7292ea55-ec42-4e3d-94ef-c4717b646f14",
        "vscode": {
          "languageId": "r"
        }
      },
      "outputs": [
        {
          "name": "stdout",
          "output_type": "stream",
          "text": [
            "[1] \"Integral: 1.0000006675957\"\n",
            "[1] \"Expectation: 0.492499873385333\"\n",
            "[1] \"Variance: 0.0425577079797754\"\n"
          ]
        },
        {
          "data": {
            "image/png": "[encoded data removed]",
            "text/plain": [
              "Plot with title \"Piecewise linear prior\""
            ]
          },
          "metadata": {},
          "output_type": "display_data"
        }
      ],
      "source": [
        "#define parameters and function\n",
        "m<-0.485\n",
        "c<-0.100\n",
        "p.tails<-0.4\n",
        "a<-0.5\n",
        "b<-5.0\n",
        "A<-a+b-(b*m)/c\n",
        "B<-a+b+(b*m)/c\n",
        "h<-function(t){return(a*(t>=0)*(t<m-c)+a*(t>m+c)*(t<=1)+(A+b*t/c)*(t>m-c)*(t<m)+(B-b*t/c)*(t>m)*(t<m+c))}\n",
        "\n",
        "# Create a sequence of t values\n",
        "t_values <- seq(0, 1, length.out = 1000)\n",
        "# Compute h(t) for each t value\n",
        "h_values <- sapply(t_values, h)\n",
        "\n",
        "# Plot the function\n",
        "plot(t_values, h_values, type = 'l', col = 'blue', xlab = 't', ylab = 'h(t)', main = 'Piecewise linear prior')\n",
        "\n",
        "\n",
        "integral <- integrate(h, lower = 0, upper = 1)$value\n",
        "print(paste(\"Integral:\",integral))  # Should be approximately 1\n",
        "\n",
        "# Compute expectation and variance\n",
        "expectation <- integrate(function(t) t* h(t), lower = 0, upper = 1)$value\n",
        "variance <- integrate(function(t) (t - expectation)^2 * h(t), lower = 0, upper = 1)$value\n",
        "\n",
        "print(paste(\"Expectation:\", expectation))\n",
        "print(paste(\"Variance:\", variance))"
      ]
    },
    {
      "cell_type": "markdown",
      "id": "9196f571",
      "metadata": {
        "id": "9196f571"
      },
      "source": [
        "The expectation of piecewise linear nonconjugate prior is 0.492499873385333 and the variance 0.0425577079797754. So, we will now solve the equation problem to find the values $\\alpha_0$ and $\\beta_0$ such that $\\textrm{Beta}(\\alpha_0,\\beta_0)$ has the same expectation and variance than the piecewise linear nonconjugate prior. We will use the formulas for the beta prior that we introduced at the begining of the exercise."
      ]
    },
    {
      "cell_type": "code",
      "execution_count": 62,
      "id": "9b673a6f",
      "metadata": {
        "colab": {
          "base_uri": "https://localhost:8080/"
        },
        "id": "9b673a6f",
        "outputId": "e507cc9c-678f-4a3c-9263-d680598180cb",
        "vscode": {
          "languageId": "r"
        }
      },
      "outputs": [
        {
          "name": "stdout",
          "output_type": "stream",
          "text": [
            "Solution:\n",
            "a: 2.399999 \n",
            "b: 2.473097 \n"
          ]
        }
      ],
      "source": [
        "# Define the equations for expected value and variance\n",
        "equations <- function(ab, exp, var) {\n",
        "  a <- ab[1]\n",
        "  b <- ab[2]\n",
        "  e <- a / (a + b) - exp\n",
        "  v <- a * b / ((a + b)^2 * (a + b + 1)) - var\n",
        "  return(e^2 + v^2)  # We optimize the sum of squares to find the root\n",
        "}\n",
        "\n",
        "# Given values\n",
        "exp_value <- expectation\n",
        "var_value <- variance\n",
        "\n",
        "# Perform optimization\n",
        "result <- optim(c(0.1, 100), equations, exp = exp_value, var = var_value, method = \"L-BFGS-B\", lower = c(0.01, 0.01), upper = c(100, 100))\n",
        "\n",
        "# Extract the solution\n",
        "a_solution <- result$par[1]\n",
        "b_solution <- result$par[2]\n",
        "\n",
        "# Print the solution\n",
        "cat(\"Solution:\\n\")\n",
        "cat(\"a:\", a_solution, \"\\n\")\n",
        "cat(\"b:\", b_solution, \"\\n\")\n"
      ]
    },
    {
      "cell_type": "markdown",
      "id": "ffea5c1e",
      "metadata": {
        "id": "ffea5c1e"
      },
      "source": [
        "So, we have that $\\alpha_0 = 2.399999$ and $\\beta_0 = 2.473097$ and $\\textrm{Beta}(2.399999,2.473097)$"
      ]
    },
    {
      "cell_type": "code",
      "execution_count": 63,
      "id": "2a3b1a00",
      "metadata": {
        "colab": {
          "base_uri": "https://localhost:8080/",
          "height": 437
        },
        "id": "2a3b1a00",
        "outputId": "e8fcb737-b40d-4e86-de99-5d5a48bc5ed7",
        "vscode": {
          "languageId": "r"
        }
      },
      "outputs": [
        {
          "name": "stderr",
          "output_type": "stream",
          "text": [
            "Your code contains a unicode char which cannot be displayed in your\n",
            "current locale and R will silently convert it to an escaped form when the\n",
            "R kernel executes this code. This can lead to subtle errors if you use\n",
            "such chars to do comparisons. For more information, please see\n",
            "https://github.com/IRkernel/repr/wiki/Problems-with-unicode-on-windows"
          ]
        },
        {
          "data": {
            "image/png": "[encoded data removed]",
            "text/plain": [
              "Plot with title \"Male-to-female sex ratio\""
            ]
          },
          "metadata": {},
          "output_type": "display_data"
        }
      ],
      "source": [
        "# Plot histograms of the posterior distributions\n",
        "par(mfrow = c(1, 3), mar = c(5, 4, 2, 1))\n",
        "\n",
        "# Compute posterior parameters\n",
        "alpha_solution_post <- a_solution + x\n",
        "beta_solution_post <- b_solution + n - x\n",
        "\n",
        "# (a) Posterior distribution of θ\n",
        "theta_samples <- rbeta(10000, alpha_solution_post, beta_solution_post)\n",
        "hist(theta_samples, main = \"Prior distribution of theta\", xlab = \"theta\", col = \"lightgreen\", border = \"white\")\n",
        "\n",
        "# (b) Logit transform of θ\n",
        "logit_theta_samples <- log(theta_samples / (1 - theta_samples))\n",
        "hist(logit_theta_samples, main = \"Logit transform of theta\", xlab = \"logit(theta)\", col = \"lightgreen\", border = \"white\")\n",
        "\n",
        "# (c) Male-to-female sex ratio φ = (1 − θ)/θ (f)\n",
        "sex_ratio_samples <- (1 - theta_samples) / theta_samples\n",
        "hist(sex_ratio_samples, main = \"Male-to-female sex ratio\", xlab = \"f\", col = \"lightgreen\", border = \"white\")"
      ]
    },
    {
      "cell_type": "markdown",
      "id": "09ee3695",
      "metadata": {
        "id": "09ee3695"
      },
      "source": [
        "We will now show the histograms (Figure 2.3) and the table (Table 2.1) as before."
      ]
    },
    {
      "cell_type": "code",
      "execution_count": 64,
      "id": "9d9832ea",
      "metadata": {
        "colab": {
          "base_uri": "https://localhost:8080/"
        },
        "id": "9d9832ea",
        "outputId": "185b4e78-e7a6-4e24-ded0-03427fcd5d78",
        "vscode": {
          "languageId": "r"
        }
      },
      "outputs": [
        {
          "name": "stdout",
          "output_type": "stream",
          "text": [
            "      a/a+ß      a+ß Posterior_Median Posterior_95CI_Lower Posterior_95CI_Upper\n",
            "1 0.4924999 4.873096          0.44611              0.41523              0.47728\n",
            "Expectation: 0.4461488 \n"
          ]
        }
      ],
      "source": [
        "# Initialize a dataframe to store the results\n",
        "table_data <- data.frame(\n",
        "  Prior_Probability = numeric(),\n",
        "  Prior_Sum = numeric(),\n",
        "  Posterior_Median = numeric(),\n",
        "  Posterior_95CI_Lower = numeric(),\n",
        "  Posterior_95CI_Upper = numeric(),\n",
        "  stringsAsFactors = FALSE\n",
        ")\n",
        "\n",
        "# Compute posterior parameters and quantities\n",
        "posterior_result <- compute_beta_posterior(a_solution, b_solution, x, n)\n",
        "prior_expt <- a_solution/(a_solution + b_solution)\n",
        "prior_sum <- a_solution + b_solution\n",
        "\n",
        "\n",
        "# Round posterior summaries to three significant figures\n",
        "posterior_median <- signif(posterior_result$median_posterior, digits = 5)\n",
        "posterior_lower <- signif(posterior_result$credible_interval[1], digits = 5)\n",
        "posterior_upper <- signif(posterior_result$credible_interval[2], digits = 5)\n",
        "posterior_expectation <- posterior_result$posterior_expectation\n",
        "# Store the results in the vector\n",
        "vector_data <- rbind(table_data, c(prior_expt, prior_sum,\n",
        "                                    posterior_median,\n",
        "                                    posterior_lower, posterior_upper))\n",
        "\n",
        "\n",
        "# Rename the columns\n",
        "colnames(vector_data) <- c(\"α/α+β\", \"α+β\",\n",
        "                          \"Posterior_Median\", \"Posterior_95CI_Lower\", \"Posterior_95CI_Upper\")\n",
        "\n",
        "# Print the table\n",
        "print(vector_data)\n",
        "\n",
        "cat(\"Expectation:\", posterior_expectation, \"\\n\")"
      ]
    },
    {
      "cell_type": "markdown",
      "id": "5cLd3Dr6-s55",
      "metadata": {
        "id": "5cLd3Dr6-s55"
      },
      "source": [
        "We notice that all posterior quantities using both priors have similar values. For instance, the posterior median of θ for the Beta(α0,β0) distribution is  0.44611 and for the first difeerent values of α and β is 0.446. As well as the 95% credible interval is around [0.41523, 0.47728] for both posteriors."
      ]
    },
    {
      "cell_type": "markdown",
      "id": "C_GAZmmjCz3B",
      "metadata": {
        "id": "C_GAZmmjCz3B"
      },
      "source": [
        "Creating a function to calculate all the necessary statistics:"
      ]
    },
    {
      "cell_type": "code",
      "execution_count": 65,
      "id": "IzW_CW9MCy44",
      "metadata": {
        "id": "IzW_CW9MCy44",
        "vscode": {
          "languageId": "r"
        }
      },
      "outputs": [],
      "source": [
        "calculate_statistics <- function(y) {\n",
        "  # Function to calculate mode\n",
        "  mode_of_y <- function(x) {\n",
        "    ux <- unique(x)\n",
        "    ux[which.max(tabulate(match(x, ux)))]\n",
        "  }\n",
        "\n",
        "  # Calculate statistics\n",
        "  median_y <- median(y)\n",
        "  mean_y <- mean(y)\n",
        "  variance_y <- var(y)\n",
        "  mode_y <- mode_of_y(y)\n",
        "\n",
        "  # Display results\n",
        "  cat(\"Median:\", median_y, \"\\n\")\n",
        "  cat(\"Mean:\", mean_y, \"\\n\")\n",
        "  cat(\"Variance:\", variance_y, \"\\n\")\n",
        "  cat(\"Mode:\", mode_y, \"\\n\")\n",
        "}"
      ]
    },
    {
      "cell_type": "markdown",
      "id": "db294d42",
      "metadata": {
        "id": "db294d42"
      },
      "source": [
        "Prior predictor pmf"
      ]
    },
    {
      "cell_type": "code",
      "execution_count": 66,
      "id": "e46d25ee",
      "metadata": {
        "colab": {
          "base_uri": "https://localhost:8080/",
          "height": 590
        },
        "id": "e46d25ee",
        "outputId": "76849733-b3ac-4a11-eefd-447fc4faabe3",
        "vscode": {
          "languageId": "r"
        }
      },
      "outputs": [
        {
          "data": {
            "text/html": [
              "<table>\n",
              "<tbody>\n",
              "\t<tr><th scope=row>F</th><td>0  </td><td>0  </td><td>0  </td><td>0  </td><td>0  </td><td>0  </td><td>0  </td><td>0  </td><td>0  </td><td>0  </td><td>...</td><td>0  </td><td>0  </td><td>0  </td><td>0  </td><td>0  </td><td>0  </td><td>0  </td><td>0  </td><td>0  </td><td>0  </td></tr>\n",
              "\t<tr><th scope=row></th><td>0  </td><td>0  </td><td>0  </td><td>0  </td><td>0  </td><td>0  </td><td>0  </td><td>0  </td><td>0  </td><td>0  </td><td>...</td><td>0  </td><td>0  </td><td>0  </td><td>0  </td><td>0  </td><td>0  </td><td>0  </td><td>0  </td><td>0  </td><td>0  </td></tr>\n",
              "</tbody>\n",
              "</table>\n"
            ],
            "text/latex": [
              "\\begin{tabular}{r|lllllllllllllllllllllllllllllllllllllllllllllllllllllllllllllllllllllllllllllllllllllllllllllllllllllllllllllllllllllllllllllllllllllllllllllllllllllllllllllllllllllllllllllllllllllllllllllllllllllllllllllllllllllllllllllllllllllllllllllllllllllllllllllllllllllllllllllllllllllllllllllllllllllllllllllllllllllllllllllllllllllllllllllllllllllllllllllllllllllllllllllllllllllllllllllllllllllllllllllllllllllllllllllllllllllllllllllllllllllllllllllllllllllllllllllllllllllllllllllllllllllllllllllllllllllllllllllllllllllllllllllllllllllllllllllllllllllllllllllllllllllllllllllllllllllllllllllllllllllllllllllllllllllllllllllllllllllllllllllllllllllllllllllllllllllllllllllllllllllllllllllllllllllllllllllllllllllllllllllllllllllllllllllllllllllllllllllllllllllllllllllllllllllllllllllllllllllllllllllllllllllllllllllllllllllllllllllllllllllllllllllllllllllllllllllllllllllllllllllllllllllllllllllllllllllllllllllllllllllllllllllllllllllllllllllllllllllllllllllllllllllllllllllllllllllllllllllllllllllllllllllllllllllllllllllllllllllllllllllllllllllllllllllllllllllllllllllllllllllllllllllllllllllllllllllllllllllllllllllllllllllllllllllllllllllllllllllllllllllllllllllllllllllllllllllllllllllllllllllllllllllllllllllllllllllllllllllllllllllllllllllllllllllllllllllllllllllllllllllllllllllllllllllllllllllllllllllllllllllllllllllllllllllllllllllllllllllllllllllllllllllllllllllllllllllllllllllllllllllllllllllllllllllllllllllllllllllllllllllllllllllllllllllllllllllllllllllllllllllllllllllllllllllllllllll}\n",
              "\tF & 0   & 0   & 0   & 0   & 0   & 0   & 0   & 0   & 0   & 0   & ... & 0   & 0   & 0   & 0   & 0   & 0   & 0   & 0   & 0   & 0  \\\\\n",
              "\t & 0   & 0   & 0   & 0   & 0   & 0   & 0   & 0   & 0   & 0   & ... & 0   & 0   & 0   & 0   & 0   & 0   & 0   & 0   & 0   & 0  \\\\\n",
              "\\end{tabular}\n"
            ],
            "text/markdown": [
              "\n",
              "| F | 0   | 0   | 0   | 0   | 0   | 0   | 0   | 0   | 0   | 0   | ... | 0   | 0   | 0   | 0   | 0   | 0   | 0   | 0   | 0   | 0   |\n",
              "|  | 0   | 0   | 0   | 0   | 0   | 0   | 0   | 0   | 0   | 0   | ... | 0   | 0   | 0   | 0   | 0   | 0   | 0   | 0   | 0   | 0   |\n",
              "\n"
            ],
            "text/plain": [
              "  [,1] [,2] [,3] [,4] [,5] [,6] [,7] [,8] [,9] [,10] [,11] [,12] [,13] [,14]\n",
              "F 0    0    0    0    0    0    0    0    0    0     ...   0     0     0    \n",
              "  0    0    0    0    0    0    0    0    0    0     ...   0     0     0    \n",
              "  [,15] [,16] [,17] [,18] [,19] [,20] [,21]\n",
              "F 0     0     0     0     0     0     0    \n",
              "  0     0     0     0     0     0     0    "
            ]
          },
          "metadata": {},
          "output_type": "display_data"
        },
        {
          "name": "stdout",
          "output_type": "stream",
          "text": [
            "Median: 494 \n",
            "Mean: 491.947 \n",
            "Variance: 40978.47 \n",
            "Mode: 430 \n"
          ]
        },
        {
          "data": {
            "image/png": "[encoded data removed]",
            "text/plain": [
              "Plot with title \"Simulated prior predictive pmf\""
            ]
          },
          "metadata": {},
          "output_type": "display_data"
        }
      ],
      "source": [
        "#define parameters\n",
        "a0 <- 2.399999\n",
        "b0 <- 2.473097\n",
        "\n",
        "\n",
        "# obtain the empirical pmf\n",
        "set.seed(24025)\n",
        "N<-5000\n",
        "X<-0:1500\n",
        "theta<-rbeta(n,a0,b0)\n",
        "y<-rbinom(N,n, theta)\n",
        "\n",
        "# Empirical pmf\n",
        "F<-rep(0,length(X))\n",
        "for (i in X){\n",
        "    F[i]<-sum(y==X[i])\n",
        "    }\n",
        "f<-F/N\n",
        "rbind(F,round(f,2))\n",
        "options(repr.plot.width=7,repr.plot.height=7)\n",
        "plot(X,f,type=\"p\",pch=19,cex=0.8,col=\"orange\",main=\"Simulated prior predictive pmf\",ylab=\"Rel. frequency\")\n",
        "\n",
        "#print the statistics\n",
        "calculate_statistics(y)\n"
      ]
    },
    {
      "cell_type": "markdown",
      "id": "74f3447a",
      "metadata": {
        "id": "74f3447a"
      },
      "source": [
        "Posterior predictive pmf"
      ]
    },
    {
      "cell_type": "code",
      "execution_count": 67,
      "id": "d3a0140d",
      "metadata": {
        "colab": {
          "base_uri": "https://localhost:8080/",
          "height": 590
        },
        "id": "d3a0140d",
        "outputId": "d64b1b76-dfb7-4828-be5d-6a31e5f92074",
        "vscode": {
          "languageId": "r"
        }
      },
      "outputs": [
        {
          "data": {
            "text/html": [
              "<table>\n",
              "<tbody>\n",
              "\t<tr><th scope=row>F</th><td>0  </td><td>0  </td><td>0  </td><td>0  </td><td>0  </td><td>0  </td><td>0  </td><td>0  </td><td>0  </td><td>0  </td><td>...</td><td>0  </td><td>0  </td><td>0  </td><td>0  </td><td>0  </td><td>0  </td><td>0  </td><td>0  </td><td>0  </td><td>0  </td></tr>\n",
              "\t<tr><th scope=row></th><td>0  </td><td>0  </td><td>0  </td><td>0  </td><td>0  </td><td>0  </td><td>0  </td><td>0  </td><td>0  </td><td>0  </td><td>...</td><td>0  </td><td>0  </td><td>0  </td><td>0  </td><td>0  </td><td>0  </td><td>0  </td><td>0  </td><td>0  </td><td>0  </td></tr>\n",
              "</tbody>\n",
              "</table>\n"
            ],
            "text/latex": [
              "\\begin{tabular}{r|lllllllllllllllllllllllllllllllllllllllllllllllllllllllllllllllllllllllllllllllllllllllllllllllllllllllllllllllllllllllllllllllllllllllllllllllllllllllllllllllllllllllllllllllllllllllllllllllllllllllllllllllllllllllllllllllllllllllllllllllllllllllllllllllllllllllllllllllllllllllllllllllllllllllllllllllllllllllllllllllllllllllllllllllllllllllllllllllllllllllllllllllllllllllllllllllllllllllllllllllllllllllllllllllllllllllllllllllllllllllllllllllllllllllllllllllllllllllllllllllllllllllllllllllllllllllllllllllllllllllllllllllllllllllllllllllllllllllllllllllllllllllllllllllllllllllllllllllllllllllllllllllllllllllllllllllllllllllllllllllllllllllllllllllllllllllllllllllllllllllllllllllllllllllllllllllllllllllllllllllllllllllllllllllllllllllllllllllllllllllllllllllllllllllllllllllllllllllllllllllllllllllllllllllllllllllllllllllllllllllllllllllllllllllllllllllllllllllllllllllllllllllllllllllllllllllllllllllllllllllllllllllllllllllllllllllllllllllllllllllllllllllllllllllllllllllllllllllllllllllll}\n",
              "\tF & 0   & 0   & 0   & 0   & 0   & 0   & 0   & 0   & 0   & 0   & ... & 0   & 0   & 0   & 0   & 0   & 0   & 0   & 0   & 0   & 0  \\\\\n",
              "\t & 0   & 0   & 0   & 0   & 0   & 0   & 0   & 0   & 0   & 0   & ... & 0   & 0   & 0   & 0   & 0   & 0   & 0   & 0   & 0   & 0  \\\\\n",
              "\\end{tabular}\n"
            ],
            "text/markdown": [
              "\n",
              "| F | 0   | 0   | 0   | 0   | 0   | 0   | 0   | 0   | 0   | 0   | ... | 0   | 0   | 0   | 0   | 0   | 0   | 0   | 0   | 0   | 0   |\n",
              "|  | 0   | 0   | 0   | 0   | 0   | 0   | 0   | 0   | 0   | 0   | ... | 0   | 0   | 0   | 0   | 0   | 0   | 0   | 0   | 0   | 0   |\n",
              "\n"
            ],
            "text/plain": [
              "  [,1] [,2] [,3] [,4] [,5] [,6] [,7] [,8] [,9] [,10] [,11] [,12] [,13] [,14]\n",
              "F 0    0    0    0    0    0    0    0    0    0     ...   0     0     0    \n",
              "  0    0    0    0    0    0    0    0    0    0     ...   0     0     0    \n",
              "  [,15] [,16] [,17] [,18] [,19] [,20] [,21]\n",
              "F 0     0     0     0     0     0     0    \n",
              "  0     0     0     0     0     0     0    "
            ]
          },
          "metadata": {},
          "output_type": "display_data"
        },
        {
          "name": "stdout",
          "output_type": "stream",
          "text": [
            "Median: 438 \n",
            "Mean: 438.3126 \n",
            "Variance: 483.9877 \n",
            "Mode: 433 \n"
          ]
        },
        {
          "data": {
            "image/png": "[encoded data removed]",
            "text/plain": [
              "Plot with title \"Simulated posterior predictive pmf\""
            ]
          },
          "metadata": {},
          "output_type": "display_data"
        }
      ],
      "source": [
        "#posterior parameters\n",
        "alpha_post <- a0 + x\n",
        "beta_post <- b0 + n - x\n",
        "\n",
        "# obtain the empirical pmf\n",
        "set.seed(24025)\n",
        "N<-5000\n",
        "X<-0:1000\n",
        "theta<-rbeta(n,alpha_post,beta_post)\n",
        "y<-rbinom(N,n, theta)\n",
        "\n",
        "# Empirical pmf\n",
        "F<-rep(0,length(X))\n",
        "for (i in X){\n",
        "    F[i]<-sum(y==X[i])\n",
        "    }\n",
        "f<-F/N\n",
        "rbind(F,round(f,2))\n",
        "options(repr.plot.width=7,repr.plot.height=7)\n",
        "plot(X,f,type=\"p\",pch=19,cex=0.8,col=\"orange\",main=\"Simulated posterior predictive pmf\",ylab=\"Rel. frequency\")\n",
        "\n",
        "\n",
        "#print the statistics\n",
        "calculate_statistics(y)"
      ]
    },
    {
      "cell_type": "markdown",
      "id": "VuYk0C-gKBob",
      "metadata": {
        "id": "VuYk0C-gKBob"
      },
      "source": [
        "In the following table, we show the statistics for both simlated prior/posterior predictive pmf for Beta(α0,β0) distribution :"
      ]
    },
    {
      "cell_type": "markdown",
      "id": "GMyOFVtHDWZ_",
      "metadata": {
        "id": "GMyOFVtHDWZ_"
      },
      "source": [
        "| | Simulated prior predictive pmf |Simulated posterior predictive pmf  |\n",
        "|-|------------------------|------------------------------|\n",
        "| Median       |   494    |       438            |\n",
        "| Mean       |   491.947    |        438.3126       |\n",
        "| Variance      |40978.47  |483.9877\n",
        "|Mode      |430   |433\n"
      ]
    },
    {
      "cell_type": "markdown",
      "id": "000f4752",
      "metadata": {
        "id": "000f4752"
      },
      "source": [
        "## Exercise 1.2\n",
        "Simulate the prior predictive pmf with the nonconjugate piecewise linear pdf. Do it in both possible ways: (1) Sample from $h$ by the inverse transformation method and (2) Sample from its discretization. Summarize the resulting simulated sample: plot the empirical pmf, compute median, mode, expectation, standard deviation. Compare the results with those obtained from the conjugate prior $\\textrm{Beta}(\\alpha_0,\\beta_0)$."
      ]
    },
    {
      "cell_type": "markdown",
      "id": "5496dccc",
      "metadata": {
        "id": "5496dccc"
      },
      "source": [
        "We will also compute the prior and posterior predictor pmf for x using $\\alpha_0$ and $\\beta_0$"
      ]
    },
    {
      "cell_type": "markdown",
      "id": "799850fb",
      "metadata": {
        "id": "799850fb"
      },
      "source": [
        "Arturos Trial"
      ]
    },
    {
      "cell_type": "markdown",
      "id": "DM-FGh4yTZIO",
      "metadata": {
        "id": "DM-FGh4yTZIO"
      },
      "source": [
        "The inverse transformation method is a technique for generating random samples from any probability distribution given its cumulative distribution function (CDF). Then you generate uniform random samples u in the interval [0,1] and find the value t such that H(t)=u.\n",
        "\n",
        "We will start by calculating the cumulative distribution function of h(t). After doing the calculations, the following was obtained:\n",
        "\n",
        "\n",
        "\\begin{equation}\n",
        "H(t) = \\int_{-\\infty}^t h(s) \\, ds =\n",
        "\\begin{cases}\n",
        "0, & t \\leq 0 \\\\\n",
        "a·t, & t \\in (0, m-c) \\\\\n",
        "a(m-c) + A(t-m+c) + \\frac{b}{2c}(t^2 - (m-c)^2), & t \\in [m-c, m] \\\\\n",
        "a(m-c) + Ac + B(t-m) + \\frac{b}{2c}(m^2 - c^2 + 2mc - t^2), & t \\in [m, m+c] \\\\\n",
        "a(t - 2c) + (A+B)c - b·c, & t \\in (m+c, 1) \\\\\n",
        "1, & t \\geq 1\n",
        "\\end{cases}\n",
        "\\end{equation}\n",
        "\n",
        "\n",
        "\n",
        "In the following code we define this function and plot it."
      ]
    },
    {
      "cell_type": "code",
      "execution_count": 68,
      "id": "0bd820ba",
      "metadata": {
        "colab": {
          "base_uri": "https://localhost:8080/",
          "height": 437
        },
        "id": "0bd820ba",
        "outputId": "f3caa3ef-cf3b-421a-a3cc-abaea8281a7a",
        "vscode": {
          "languageId": "r"
        }
      },
      "outputs": [
        {
          "data": {
            "image/png": "[encoded data removed]",
            "text/plain": [
              "Plot with title \"CMF of the piecewise linear prior\""
            ]
          },
          "metadata": {},
          "output_type": "display_data"
        }
      ],
      "source": [
        "  a <- 0.5\n",
        "  b <- 5.0\n",
        "  m <- 0.485\n",
        "  c <- 0.1\n",
        "  A <- a + b - (b * m) / c\n",
        "  B <- a + b + (b * m) / c\n",
        "\n",
        "H <- function(t) {\n",
        "  if (t <= 0) {\n",
        "    return(0)\n",
        "  } else if (t > 0 & t < m - c) {\n",
        "    return(a * t)\n",
        "  } else if (t >= m - c & t <= m) {\n",
        "    return(a * (m - c) + A * (t - m + c) + (b / (2 * c)) * (t^2 - (m - c)^2))\n",
        "  } else if (t > m & t <= m + c) {\n",
        "    return(a * (m - c) + A * c + B * (t - m) + (b / (2 * c)) * (m^2 - c^2 + 2 * m * c - t^2))\n",
        "  } else if (t > m + c & t < 1) {\n",
        "    return(a * (t - 2 * c) + (A + B) * c - (b * c) )\n",
        "  } else { # t >= 1\n",
        "    return(1)\n",
        "  }\n",
        "}\n",
        "\n",
        "\n",
        "# Create a sequence of t values\n",
        "t_values <- seq(0, 1, length.out = 1000)\n",
        "# Compute h(t) for each t value\n",
        "h_values <- sapply(t_values, H)\n",
        "\n",
        "# Plot the function\n",
        "plot(t_values, h_values, type = 'l', col = 'blue', xlab = 't', ylab = 'h(t)', main = 'CMF of the piecewise linear prior')"
      ]
    },
    {
      "cell_type": "markdown",
      "id": "df85bbe1",
      "metadata": {
        "id": "df85bbe1"
      },
      "source": [
        "Now we will define the function to sample from a uniform distribution between [0,1] and find t such that H(t)=u"
      ]
    },
    {
      "cell_type": "code",
      "execution_count": 69,
      "id": "7e8493ab",
      "metadata": {
        "id": "7e8493ab",
        "vscode": {
          "languageId": "r"
        }
      },
      "outputs": [],
      "source": [
        "# sample from h using inverse transformation method\n",
        "inverse_transform_sampling <- function(n_samples) {\n",
        "  u <- runif(n_samples) # generate uniform random numbers\n",
        "  t_samples <- numeric(length(u))\n",
        "  for (i in 1:length(u)) {\n",
        "    interval <- c(0, 1)\n",
        "    # use optimize to find the root within the interval\n",
        "    t_samples[i] <- optimize(function(t) abs(H(t) - u[i]), interval = interval)$minimum\n",
        "  }\n",
        "  return(t_samples)\n",
        "}\n",
        "\n",
        "# Generate samples\n",
        "n_samples <- 10000\n",
        "prior_samples_inverse <- inverse_transform_sampling(n_samples)"
      ]
    },
    {
      "cell_type": "markdown",
      "id": "d3934327",
      "metadata": {
        "id": "d3934327"
      },
      "source": [
        "The second approach is to discretize the space and sample from the discretized distribution"
      ]
    },
    {
      "cell_type": "code",
      "execution_count": 70,
      "id": "49f853ee",
      "metadata": {
        "id": "49f853ee",
        "vscode": {
          "languageId": "r"
        }
      },
      "outputs": [],
      "source": [
        "# Discretize h(t)\n",
        "t_values <- seq(0, 1, length.out = 1000)\n",
        "h_values <- h(t_values)\n",
        "pmf <- h_values / sum(h_values)\n",
        "\n",
        "# Sample from the discretized pmf\n",
        "prior_samples_discretized <- sample(t_values, size = n_samples, replace = TRUE, prob = pmf)"
      ]
    },
    {
      "cell_type": "markdown",
      "id": "1941d0df",
      "metadata": {
        "id": "1941d0df"
      },
      "source": [
        "If we get some statistics from the samples taken from both methods, we can see that they differ very slightly. But this could be due to the randomness of the process.If we look at the plots, both are practically the same."
      ]
    },
    {
      "cell_type": "code",
      "execution_count": 71,
      "id": "19f7c6fa",
      "metadata": {
        "colab": {
          "base_uri": "https://localhost:8080/"
        },
        "id": "19f7c6fa",
        "outputId": "a731c848-b145-4fd9-e918-f9f3f1b4786f",
        "vscode": {
          "languageId": "r"
        }
      },
      "outputs": [
        {
          "name": "stdout",
          "output_type": "stream",
          "text": [
            "Summary Statistics for Inverse Transform Sampling:\n",
            "Median: 0.4852568 \n",
            "Mode: 0.2472472 \n",
            "Expectation: 0.4928596 \n",
            "Standard Deviation: 0.2070028 \n",
            "95% credible interval: 0.05035329 0.9532916 \n",
            "\n",
            "Summary Statistics for Discretized Sampling:\n",
            "Median: 0.4864865 \n",
            "Mode: 0.2492492 \n"
          ]
        },
        {
          "name": "stdout",
          "output_type": "stream",
          "text": [
            "Expectation: 0.4934961 \n",
            "Standard Deviation: 0.2097517 \n",
            "95% credible interval: 0.04704705 0.953954 \n"
          ]
        }
      ],
      "source": [
        "# Compute summary statistics\n",
        "median_inverse <- median(prior_samples_inverse)\n",
        "mode_inverse <- t_values[which.max(density(prior_samples_inverse)$y)]\n",
        "expectation_inverse <- mean(prior_samples_inverse)\n",
        "sd_inverse <- sd(prior_samples_inverse)\n",
        "sorted_samples_inverse <- sort(prior_samples_inverse)\n",
        "credible_interval_inverse <- quantile(sorted_samples_inverse, probs = c(0.025, 0.975))\n",
        "\n",
        "\n",
        "\n",
        "\n",
        "median_discretized <- median(prior_samples_discretized)\n",
        "mode_discretized <- t_values[which.max(density(prior_samples_discretized)$y)]\n",
        "expectation_discretized <- mean(prior_samples_discretized)\n",
        "sd_discretized <- sd(prior_samples_discretized)\n",
        "sorted_samples_discretized <- sort(prior_samples_discretized)\n",
        "credible_interval_discretized <- quantile(sorted_samples_discretized, probs = c(0.025, 0.975))\n",
        "\n",
        "\n",
        "# Print summary statistics\n",
        "cat(\"Summary Statistics for Inverse Transform Sampling:\\n\")\n",
        "cat(\"Median:\", median_inverse, \"\\n\")\n",
        "cat(\"Mode:\", mode_inverse, \"\\n\")\n",
        "cat(\"Expectation:\", expectation_inverse, \"\\n\")\n",
        "cat(\"Standard Deviation:\", sd_inverse, \"\\n\")\n",
        "cat(\"95% credible interval:\", credible_interval_inverse, \"\\n\")\n",
        "\n",
        "cat(\"\\nSummary Statistics for Discretized Sampling:\\n\")\n",
        "cat(\"Median:\", median_discretized, \"\\n\")\n",
        "cat(\"Mode:\", mode_discretized, \"\\n\")\n",
        "cat(\"Expectation:\", expectation_discretized, \"\\n\")\n",
        "cat(\"Standard Deviation:\", sd_discretized, \"\\n\")\n",
        "cat(\"95% credible interval:\", credible_interval_discretized, \"\\n\")"
      ]
    },
    {
      "cell_type": "code",
      "execution_count": 72,
      "id": "4ccab535",
      "metadata": {
        "colab": {
          "base_uri": "https://localhost:8080/",
          "height": 857
        },
        "id": "4ccab535",
        "outputId": "15592df0-d7dc-4ab1-b78d-8f3395b4700e",
        "vscode": {
          "languageId": "r"
        }
      },
      "outputs": [
        {
          "data": {
            "image/png": "[encoded data removed]",
            "text/plain": [
              "Plot with title \"Empirical PMF (Inverse Transform Sampling)\""
            ]
          },
          "metadata": {},
          "output_type": "display_data"
        },
        {
          "data": {
            "image/png": "[encoded data removed]",
            "text/plain": [
              "Plot with title \"Empirical PMF (Discretized Sampling)\""
            ]
          },
          "metadata": {},
          "output_type": "display_data"
        }
      ],
      "source": [
        "# Plot empirical pmf\n",
        "hist(prior_samples_inverse, breaks = 30, freq = FALSE, main = \"Empirical PMF (Inverse Transform Sampling)\", xlab = \"t\")\n",
        "lines(density(prior_samples_inverse), col = \"red\")\n",
        "\n",
        "hist(prior_samples_discretized, breaks = 30, freq = FALSE, main = \"Empirical PMF (Discretized Sampling)\", xlab = \"t\")\n",
        "lines(density(prior_samples_discretized), col = \"blue\")"
      ]
    },
    {
      "cell_type": "markdown",
      "id": "2fceca90",
      "metadata": {
        "id": "2fceca90"
      },
      "source": [
        "Finally, we will compare this results to the one of using $Beta(\\alpha_0,\\beta_0)$ prior\n",
        "\n",
        "\n",
        "| | Piecewise linear Prior (inverse) |Piecewise linear Prior (discretized)  | Beta(α0, β0) Prior |\n",
        "|-------------|-------|------------------------|------------------------------|\n",
        "| Expectation       | 0.4915431     | 0.4914646                  | 0.4461488              |\n",
        "| Median       | 0.485794      | 0.4864865                  | 0.446               |\n",
        "| 95% credible interval       | [0.04695804, 0.9481713 ]    | [0.04804805, 0.954955]                 | [0.415, 0.477]               |\n"
      ]
    },
    {
      "cell_type": "markdown",
      "id": "upOiswlWxjAB",
      "metadata": {
        "id": "upOiswlWxjAB"
      },
      "source": [
        "Both expectation and mean of peicewise linear prior (inverse & discretized) have similar values but compared to the Beta(α0,β0) distribution are larger. Also, the 95% credible interval of Beta(α0,β0) distribution is way smaller than the peicewise linear prior in both cases."
      ]
    },
    {
      "cell_type": "markdown",
      "id": "f1ffd5d7",
      "metadata": {
        "id": "f1ffd5d7"
      },
      "source": [
        "## Exercise 1.3\n",
        "Simulate the posterior predictive pmf (given the observed data of 437 female births from 980 placenta previa births) with the nonconjugate piecewise linear pdf. Sample from the the discretization of the posterior pdf as in Exercise 1. Summarize the resulting simulated sample: plot the empirical pmf, compute median, mode, expectation, standard deviation. Compare the results with those obtained from the conjugate prior $\\textrm{Beta}(\\alpha_0,\\beta_0)$.\n"
      ]
    },
    {
      "cell_type": "markdown",
      "id": "GiXfbO2yB9cN",
      "metadata": {
        "id": "GiXfbO2yB9cN"
      },
      "source": [
        "Computing the necessary statistics:"
      ]
    },
    {
      "cell_type": "code",
      "execution_count": 73,
      "id": "uZtSX-jeB9Ex",
      "metadata": {
        "id": "uZtSX-jeB9Ex",
        "vscode": {
          "languageId": "r"
        }
      },
      "outputs": [],
      "source": [
        "calculate_statistics <- function(y) {\n",
        "  # Function to calculate mode\n",
        "  mode_of_y <- function(x) {\n",
        "    ux <- unique(x)\n",
        "    ux[which.max(tabulate(match(x, ux)))]\n",
        "  }\n",
        "\n",
        "  # Calculate statistics\n",
        "  median_y <- median(y)\n",
        "  mean_y <- mean(y)\n",
        "  variance_y <- var(y)\n",
        "  mode_y <- mode_of_y(y)\n",
        "\n",
        "  # Display results\n",
        "  cat(\"Median:\", median_y, \"\\n\")\n",
        "  cat(\"Mean:\", mean_y, \"\\n\")\n",
        "  cat(\"Variance:\", variance_y, \"\\n\")\n",
        "  cat(\"Mode:\", mode_y, \"\\n\")\n",
        "}"
      ]
    },
    {
      "cell_type": "markdown",
      "id": "9ced2c90",
      "metadata": {
        "id": "9ced2c90"
      },
      "source": [
        "We know that the posterior predictive pmf will be $Beta-Binomial(n,\\alpha_0 + x, \\beta_0 + n - x)$"
      ]
    },
    {
      "cell_type": "code",
      "execution_count": 74,
      "id": "7106d737",
      "metadata": {
        "colab": {
          "base_uri": "https://localhost:8080/",
          "height": 590
        },
        "id": "7106d737",
        "outputId": "14d73745-1280-41b4-cf25-61f1eaf7761f",
        "vscode": {
          "languageId": "r"
        }
      },
      "outputs": [
        {
          "data": {
            "text/html": [
              "<table>\n",
              "<tbody>\n",
              "\t<tr><th scope=row>F</th><td>7  </td><td>3  </td><td>3  </td><td>2  </td><td>2  </td><td>2  </td><td>0  </td><td>2  </td><td>4  </td><td>0  </td><td>...</td><td>0  </td><td>0  </td><td>0  </td><td>0  </td><td>0  </td><td>0  </td><td>0  </td><td>0  </td><td>0  </td><td>0  </td></tr>\n",
              "\t<tr><th scope=row></th><td>0  </td><td>0  </td><td>0  </td><td>0  </td><td>0  </td><td>0  </td><td>0  </td><td>0  </td><td>0  </td><td>0  </td><td>...</td><td>0  </td><td>0  </td><td>0  </td><td>0  </td><td>0  </td><td>0  </td><td>0  </td><td>0  </td><td>0  </td><td>0  </td></tr>\n",
              "</tbody>\n",
              "</table>\n"
            ],
            "text/latex": [
              "\\begin{tabular}{r|lllllllllllllllllllllllllllllllllllllllllllllllllllllllllllllllllllllllllllllllllllllllllllllllllllllllllllllllllllllllllllllllllllllllllllllllllllllllllllllllllllllllllllllllllllllllllllllllllllllllllllllllllllllllllllllllllllllllllllllllllllllllllllllllllllllllllllllllllllllllllllllllllllllllllllllllllllllllllllllllllllllllllllllllllllllllllllllllllllllllllllllllllllllllllllllllllllllllllllllllllllllllllllllllllllllllllllllllllllllllllllllllllllllllllllllllllllllllllllllllllllllllllllllllllllllllllllllllllllllllllllllllllllllllllllllllllllllllllllllllllllllllllllllllllllllllllllllllllllllllllllllllllllllllllllllllllllllllllllllllllllllllllllllllllllllllllllllllllllllllllllllllllllllllllllllllllllllllllllllllllllllllllllllllllllllllllllllllllllllllllllllllllllllllllllllllllllllllllllllllllllllllllllllllllllllllllllllllllllllllllllllllllllllllllllllllllllllllllllllllllllllllllllllllllllllllllllllllllllllllllllllllllllllllllllllllllllllllllllllllllllllllllllllllllllllllllllllllllllllllll}\n",
              "\tF & 7   & 3   & 3   & 2   & 2   & 2   & 0   & 2   & 4   & 0   & ... & 0   & 0   & 0   & 0   & 0   & 0   & 0   & 0   & 0   & 0  \\\\\n",
              "\t & 0   & 0   & 0   & 0   & 0   & 0   & 0   & 0   & 0   & 0   & ... & 0   & 0   & 0   & 0   & 0   & 0   & 0   & 0   & 0   & 0  \\\\\n",
              "\\end{tabular}\n"
            ],
            "text/markdown": [
              "\n",
              "| F | 7   | 3   | 3   | 2   | 2   | 2   | 0   | 2   | 4   | 0   | ... | 0   | 0   | 0   | 0   | 0   | 0   | 0   | 0   | 0   | 0   |\n",
              "|  | 0   | 0   | 0   | 0   | 0   | 0   | 0   | 0   | 0   | 0   | ... | 0   | 0   | 0   | 0   | 0   | 0   | 0   | 0   | 0   | 0   |\n",
              "\n"
            ],
            "text/plain": [
              "  [,1] [,2] [,3] [,4] [,5] [,6] [,7] [,8] [,9] [,10] [,11] [,12] [,13] [,14]\n",
              "F 7    3    3    2    2    2    0    2    4    0     ...   0     0     0    \n",
              "  0    0    0    0    0    0    0    0    0    0     ...   0     0     0    \n",
              "  [,15] [,16] [,17] [,18] [,19] [,20] [,21]\n",
              "F 0     0     0     0     0     0     0    \n",
              "  0     0     0     0     0     0     0    "
            ]
          },
          "metadata": {},
          "output_type": "display_data"
        },
        {
          "name": "stdout",
          "output_type": "stream",
          "text": [
            "Median: 475 \n",
            "Mean: 480.1256 \n",
            "Variance: 41031.55 \n",
            "Mode: 488 \n"
          ]
        },
        {
          "data": {
            "image/png": "[encoded data removed]",
            "text/plain": [
              "Plot with title \"Simulated prior predictive pmf\""
            ]
          },
          "metadata": {},
          "output_type": "display_data"
        }
      ],
      "source": [
        "set.seed(24025)\n",
        "# define the observed data\n",
        "n <- 980\n",
        "x <- 437\n",
        "N<-5000\n",
        "n_samples <- 10000\n",
        "# Discretize h(t)\n",
        "t_values <- seq(0, 1, length.out = 1000)\n",
        "h_values <- h(t_values)\n",
        "pmf <- h_values / sum(h_values)\n",
        "\n",
        "# Sample from the discretized pmf\n",
        "theta <- sample(t_values, size = n_samples, replace = TRUE, prob = pmf)\n",
        "\n",
        "#sample x\n",
        "y<-rbinom(N,n, theta)\n",
        "X<-0:1000\n",
        "# Empirical pmf\n",
        "F<-rep(0,length(X))\n",
        "for (i in X){\n",
        "    F[i]<-sum(y==X[i])\n",
        "    }\n",
        "f<-F/N\n",
        "rbind(F,round(f,2))\n",
        "options(repr.plot.width=7,repr.plot.height=7)\n",
        "\n",
        "plot(X,f,type=\"p\",pch=19,cex=0.8,col=\"purple\",main=\"Simulated prior predictive pmf\",ylab=\"Rel. frequency\")\n",
        "\n",
        "calculate_statistics(y)"
      ]
    },
    {
      "cell_type": "code",
      "execution_count": 75,
      "id": "ecb90ed5",
      "metadata": {
        "colab": {
          "base_uri": "https://localhost:8080/",
          "height": 510
        },
        "id": "ecb90ed5",
        "outputId": "fa4d7af2-6a89-4f34-a23b-a3cbafbde2a5",
        "vscode": {
          "languageId": "r"
        }
      },
      "outputs": [
        {
          "name": "stdout",
          "output_type": "stream",
          "text": [
            "Median: 0.4524525 \n",
            "Mean: 0.4527331 \n",
            "Variance: 0.0002177686 \n",
            "Mode: 0.4514515 \n"
          ]
        },
        {
          "data": {
            "image/png": "[encoded data removed]",
            "text/plain": [
              "Plot with title \"Posterior Density of Theta\""
            ]
          },
          "metadata": {},
          "output_type": "display_data"
        }
      ],
      "source": [
        "# Likelihood for each sampled theta\n",
        "likelihood <- theta^x * (1 - theta)^(n - x)\n",
        "\n",
        "# Compute new weights as the product of prior and likelihood\n",
        "# Normalize to form a probability distribution\n",
        "posterior_weights <- likelihood * pmf[match(theta, t_values)]\n",
        "posterior_weights <- posterior_weights / sum(posterior_weights)\n",
        "# Sample theta from the posterior distribution\n",
        "posterior_samples <- sample(theta, size = N, replace = TRUE, prob = posterior_weights)\n",
        "\n",
        "#plot(t_values, posterior_weights, type = 'l', col = 'blue', xlab = 't', ylab = 'h(t)', main = 'CMF of the piecewise linear prior')\n",
        "\n",
        "\n",
        "# Compute a weighted kernel density estimate\n",
        "#d <- density(posterior_samples, weights = posterior_weights, n = 512)  # Adjust 'n' for smoother curves\n",
        "\n",
        "# Plot the histogram\n",
        "hist(posterior_samples, probability = TRUE, breaks = 50, col = rgb(0.7, 0.7, 1, 0.5), main = \"Posterior Density of Theta\", xlab = \"Theta\", ylab = \"Density\")\n",
        "\n",
        "# Overlay the density curve\n",
        "#lines(d, col = \"blue\", lwd = 2)\n",
        "\n",
        "calculate_statistics(posterior_samples)"
      ]
    },
    {
      "cell_type": "markdown",
      "id": "1cbc60a7",
      "metadata": {
        "id": "1cbc60a7"
      },
      "source": [
        "Compute the posterior predictive pmf"
      ]
    },
    {
      "cell_type": "code",
      "execution_count": 76,
      "id": "ae6de424",
      "metadata": {
        "colab": {
          "base_uri": "https://localhost:8080/",
          "height": 510
        },
        "id": "ae6de424",
        "outputId": "263c5181-bd17-4d1c-cd5e-84157019f56b",
        "vscode": {
          "languageId": "r"
        }
      },
      "outputs": [
        {
          "name": "stdout",
          "output_type": "stream",
          "text": [
            "Median: 443 \n",
            "Mean: 443.6386 \n",
            "Variance: 452.933 \n",
            "Mode: 441 \n"
          ]
        },
        {
          "data": {
            "image/png": "[encoded data removed]",
            "text/plain": [
              "Plot with title \"Simulated prior predictive pmf\""
            ]
          },
          "metadata": {},
          "output_type": "display_data"
        }
      ],
      "source": [
        "# Sample new data from the binomial distribution using sampled theta\n",
        "new_y <- rbinom(N, n, posterior_samples)\n",
        "\n",
        "\n",
        "# Compute the empirical PMF of the new data\n",
        "new_F <- rep(0, length(X))\n",
        "for (i in X) {\n",
        "    new_F[i] <- sum(new_y == X[i])\n",
        "}\n",
        "new_f <- new_F / N\n",
        "\n",
        "options(repr.plot.width=7,repr.plot.height=7)\n",
        "\n",
        "plot(X,new_f,type=\"p\",pch=19,cex=0.8,col=\"purple\",main=\"Simulated prior predictive pmf\",ylab=\"Rel. frequency\")\n",
        "\n",
        "calculate_statistics(new_y)"
      ]
    },
    {
      "cell_type": "markdown",
      "id": "uXr9-L6TKleU",
      "metadata": {
        "id": "uXr9-L6TKleU"
      },
      "source": [
        "In the following table, we show the statistics for both simlated prior/posterior predictive pmf:"
      ]
    },
    {
      "cell_type": "markdown",
      "id": "JT3ds56WIPiV",
      "metadata": {
        "id": "JT3ds56WIPiV"
      },
      "source": [
        "| | Simulated prior predictive pmf |Simulated posterior predictive pmf  |\n",
        "|-|------------------------|------------------------------|\n",
        "| Median       |   475     |       443             |\n",
        "| Mean       |   480.1256     |        443.6386  |\n",
        "| Variance      |41031.55  |452.933\n",
        "|Mode      |488   |441"
      ]
    },
    {
      "cell_type": "markdown",
      "id": "xvKNovVFJiYy",
      "metadata": {
        "id": "xvKNovVFJiYy"
      },
      "source": [
        "After including the evidence, the predictive distribution shifts towards the observed data. In the Beta(α0,β0) we notice that the expectation shifts more ( the median from 494 to 438 ). Also, the variance in the prior looks to be bigger in the posterior predictive pmf with the nonconjugate piecewise linear pdf than the variance in the prior of Beta(α0,β0) (variance form 41031.55 to 40978.47). However, in case of the Simulated posterior predictive pmf is the opposite (variance form 452.933 to 483.9877)."
      ]
    },
    {
      "cell_type": "markdown",
      "id": "9c34f71a",
      "metadata": {
        "id": "9c34f71a"
      },
      "source": [
        "# Exercise 2: Asthma mortality\n",
        "\n",
        "This exercise pertains to `Poisson.01.pub.ipynb` (lecture 7). Review this notebook as well as the notes concerning the Poisson model and do the following:\n",
        "\n",
        " 1. Generate a sample from the prior predictive distribution.\n",
        "\n",
        " 2. Generate a sample from the posterior predictive distribution after the first experiment (with $y=3$ after one year in a population of 200,000).\n",
        "\n",
        "In both cases plot the simulated pmf and compare it with the theoretical one and estimate the probability of having more than 25 fatalities in the next 10 years (assuming all other conditions remain constant)."
      ]
    },
    {
      "cell_type": "code",
      "execution_count": 77,
      "id": "dd4211d2",
      "metadata": {
        "colab": {
          "base_uri": "https://localhost:8080/",
          "height": 473
        },
        "id": "dd4211d2",
        "outputId": "e68e57fc-5fc0-43d8-b37a-2e882e00590c",
        "vscode": {
          "languageId": "r"
        }
      },
      "outputs": [
        {
          "name": "stdout",
          "output_type": "stream",
          "text": [
            "Theoretical mean of prior predictive distribution: 0.6 \n",
            "Theoretical variance of prior predictive distribution: 0.12 \n"
          ]
        },
        {
          "data": {
            "image/png": "[encoded data removed]",
            "text/plain": [
              "Plot with title \"Prior Predictive Distribution\""
            ]
          },
          "metadata": {},
          "output_type": "display_data"
        }
      ],
      "source": [
        "# set the parameters for the prior distribution\n",
        "alpha <- 3\n",
        "beta <- 5\n",
        "N<-10000\n",
        "\n",
        "# Generate a sample from the prior predictive distribution\n",
        "prior_predictive_sample <- rgamma(N, alpha, beta)\n",
        "\n",
        "# Plot the histogram of the prior predictive sample\n",
        "hist(prior_predictive_sample, col=\"lightblue\", freq=FALSE,\n",
        "     main=\"Prior Predictive Distribution\",\n",
        "     xlab=expression(theta), ylab=\"Density\")\n",
        "\n",
        "# Plot the theoretical prior predictive distribution\n",
        "curve(dgamma(x, shape = alpha, rate = beta),\n",
        "      add = TRUE, col = \"red\", lwd = 2, lty = 2)\n",
        "\n",
        "# Add legend\n",
        "legend(\"topright\", legend=c(\"Sampled Prior\", \"Theoretical Prior\"),\n",
        "       col=c(\"lightblue\", \"red\"), lwd=2, lty=c(1,2))\n",
        "\n",
        "# Calculate theoretical mean and variance\n",
        "theoretical_mean <- alpha / beta\n",
        "theoretical_variance <- alpha / beta^2\n",
        "\n",
        "# Display theoretical mean and variance\n",
        "cat(\"Theoretical mean of prior predictive distribution:\", theoretical_mean, \"\\n\")\n",
        "cat(\"Theoretical variance of prior predictive distribution:\", theoretical_variance, \"\\n\")"
      ]
    },
    {
      "cell_type": "code",
      "execution_count": 78,
      "id": "587e01eb",
      "metadata": {
        "colab": {
          "base_uri": "https://localhost:8080/"
        },
        "id": "587e01eb",
        "outputId": "8278715c-67cb-49e4-c122-418eb9067cea",
        "vscode": {
          "languageId": "r"
        }
      },
      "outputs": [
        {
          "name": "stdout",
          "output_type": "stream",
          "text": [
            "Probability of more than 25 fatalities in the next 10 years (prior): 0 \n"
          ]
        }
      ],
      "source": [
        "# calculate the probability of more than 25 fatalities in the next 10 years for prior predictive distribution\n",
        "probability_more_than_25_prior <- sum(1 - pgamma(25, shape = alpha, rate = beta)^seq(10))\n",
        "cat(\"Probability of more than 25 fatalities in the next 10 years (prior):\", probability_more_than_25_prior, \"\\n\")"
      ]
    },
    {
      "cell_type": "markdown",
      "id": "4c892af0",
      "metadata": {},
      "source": [
        "This exercise revolves around the Poisson model for asthma mortality, where we employ the gamma distribution as a prior for the mean rate of occurrence. In Bayesian statistics, we represent our prior beliefs about the parameter of interest using a probability distribution. Here, the gamma distribution serves as a suitable choice due to its flexibility in capturing a wide range of shapes. By setting the parameters of the gamma distribution, alpha and beta, we express our prior beliefs about the mortality rate.\n",
        "\n",
        "The rgamma function then generates a sample from the prior predictive distribution, which incorporates both our prior beliefs and the inherent uncertainty about the mortality rate. We visualize this sample alongside the theoretical prior predictive distribution, obtained by calculating the probability density function of the gamma distribution. This comparison helps us understand how our sample aligns with the underlying theoretical distribution.\n",
        "\n",
        "Additionally, we compute the theoretical mean and variance of the prior distribution, providing insights into its central tendency and spread. Finally, we estimate the probability of observing more than 25 fatalities in the next 10 years using the prior predictive distribution. This probabilistic prediction leverages the sampled data to make inferences about future events, demonstrating the predictive power of Bayesian inference in assessing future outcomes based on prior knowledge and observed data."
      ]
    },
    {
      "cell_type": "code",
      "execution_count": 79,
      "id": "381588fb",
      "metadata": {
        "colab": {
          "base_uri": "https://localhost:8080/",
          "height": 473
        },
        "id": "381588fb",
        "outputId": "9e8695f7-d0f5-4362-93cc-d0044b1d2dd4",
        "vscode": {
          "languageId": "r"
        }
      },
      "outputs": [
        {
          "name": "stdout",
          "output_type": "stream",
          "text": [
            "Theoretical mean of posterior predictive distribution: 2.999925e-05 \n",
            "Theoretical variance of posterior predictive distribution: 1.499925e-10 \n"
          ]
        },
        {
          "data": {
            "image/png": "[encoded data removed]",
            "text/plain": [
              "Plot with title \"Posterior Predictive Distribution\""
            ]
          },
          "metadata": {},
          "output_type": "display_data"
        }
      ],
      "source": [
        "# define the observed data\n",
        "y_observed <- 3\n",
        "population_size <- 200000\n",
        "\n",
        "# update alpha and beta based on the observed data\n",
        "alpha_posterior <- alpha + y_observed\n",
        "beta_posterior <- beta + population_size\n",
        "\n",
        "# generate a sample from the posterior distribution\n",
        "posterior_sample <- rgamma(N, alpha_posterior, beta_posterior)\n",
        "\n",
        "# plot the histogram of the posterior predictive sample\n",
        "hist(posterior_sample, col=\"lightgreen\", freq=FALSE,\n",
        "     main=\"Posterior Predictive Distribution\",\n",
        "     xlab=expression(theta), ylab=\"Density\")\n",
        "\n",
        "# plot the theoretical posterior predictive distribution\n",
        "curve(dgamma(x, shape = alpha_posterior, rate = beta_posterior),\n",
        "      add = TRUE, col = \"red\", lwd = 2, lty = 2)\n",
        "\n",
        "# add legend\n",
        "legend(\"topright\", legend=c(\"Sampled Posterior\", \"Theoretical Posterior\"),\n",
        "       col=c(\"lightgreen\", \"red\"), lwd=2, lty=c(1,2))\n",
        "\n",
        "# calculate theoretical mean and variance of posterior predictive distribution\n",
        "theoretical_mean_posterior <- alpha_posterior / beta_posterior\n",
        "theoretical_variance_posterior <- alpha_posterior / beta_posterior^2\n",
        "\n",
        "# display theoretical mean and variance\n",
        "cat(\"Theoretical mean of posterior predictive distribution:\", theoretical_mean_posterior, \"\\n\")\n",
        "cat(\"Theoretical variance of posterior predictive distribution:\", theoretical_variance_posterior, \"\\n\")\n"
      ]
    },
    {
      "cell_type": "code",
      "execution_count": 80,
      "id": "b571c9d2",
      "metadata": {
        "colab": {
          "base_uri": "https://localhost:8080/"
        },
        "id": "b571c9d2",
        "outputId": "8f75b14f-cb6c-4e15-b0c1-afddf392684d",
        "vscode": {
          "languageId": "r"
        }
      },
      "outputs": [
        {
          "name": "stdout",
          "output_type": "stream",
          "text": [
            "Probability of more than 25 fatalities in the next 10 years (posterior): 0 \n"
          ]
        }
      ],
      "source": [
        "# calculate the probability of more than 25 fatalities in the next 10 years for posterior predictive distribution\n",
        "probability_more_than_25_posterior <- sum(1 - pgamma(25, shape = alpha_posterior, rate = beta_posterior)^seq(10))\n",
        "cat(\"Probability of more than 25 fatalities in the next 10 years (posterior):\", probability_more_than_25_posterior, \"\\n\")"
      ]
    },
    {
      "cell_type": "markdown",
      "id": "aef12f69",
      "metadata": {},
      "source": [
        "This implementation builds upon the Poisson model introduced earlier by incorporating observed data and updating our prior beliefs to form posterior distributions. Initially, we define the observed data, specifically the number of asthma fatalities observed in a population over a certain period. Using this information, we update our prior parameters, alpha and beta, with the observed data to obtain posterior parameters, reflecting our updated beliefs about the mortality rate.\n",
        "\n",
        "Next, we generate a sample from the posterior distribution using the rgamma function, incorporating both our prior beliefs and the observed data. We then visualize this sample alongside the theoretical posterior predictive distribution, obtained by calculating the pdf of the gamma distribution with the updated parameters. This comparison provides insights into how our sampled posterior distribution aligns with the theoretical distribution derived from Bayesian inference."
      ]
    }
  ],
  "metadata": {
    "colab": {
      "provenance": []
    },
    "kernelspec": {
      "display_name": "R",
      "language": "R",
      "name": "ir"
    },
    "language_info": {
      "codemirror_mode": "r",
      "file_extension": ".r",
      "mimetype": "text/x-r-source",
      "name": "R",
      "pygments_lexer": "r",
      "version": "3.6.1"
    }
  },
  "nbformat": 4,
  "nbformat_minor": 5
}
