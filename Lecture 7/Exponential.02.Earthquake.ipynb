{
 "cells": [
  {
   "cell_type": "markdown",
   "metadata": {
    "tags": []
   },
   "source": [
    "# Exponential data 02"
   ]
  },
  {
   "cell_type": "markdown",
   "metadata": {},
   "source": [
    "_Adapted from Josep Fortiana (2023-03-13) by Jordi Abante (2024-03-25)_"
   ]
  },
  {
   "cell_type": "markdown",
   "metadata": {
    "tags": []
   },
   "source": [
    "## Modelling Earthquake Waiting Times"
   ]
  },
  {
   "cell_type": "markdown",
   "metadata": {},
   "source": [
    "#### Data and explanations, from [Tutorial on Bayesian Data Analysis by Ankit Tewari](https://rstudio-pubs-static.s3.amazonaws.com/370794_abaf71444ad04cd0b05c0a8d41b4de98.html)."
   ]
  },
  {
   "cell_type": "markdown",
   "metadata": {},
   "source": [
    "We're going to practise how to model the waiting times between serious earthquakes using a bayesian approach.   \n",
    "The United States Geological Survey maintains a list of significant earthquakes worldwide.   \n",
    "We will model the rate of earthquakes of magnitude 4.0+ in the state of California during 2015.   \n",
    "An iid exponential model on the waiting time between significant earthquakes is appropriate if we assume:\n",
    "\n",
    "1. Earthquake events are independent,\n",
    "2. The rate at which earthquakes occur does not change during the year, and \n",
    "3. The earthquake hazard rate does not change (i.e., the probability of an earthquake happening tomorrow is constant regardless of whether the previous earthquake was yesterday or 100 days ago)."
   ]
  },
  {
   "cell_type": "markdown",
   "metadata": {},
   "source": [
    "### Earthquake data:\n",
    "\n",
    "The significant earthquakes of magnitude 4.0+ in the state of California during 2015 occurred on the following dates :\n",
    "\n",
    "January 4, January 20, January 28, May 22, July 21, July 25, August 17, September 16, December 30. \n",
    "\n",
    "Let $ Y_{i}$ denote the waiting time in days between the $i$-th earthquake and the following earthquake. Our model is \n",
    "\n",
    "$$\n",
    "    Y_{i}\\mskip8mu\\text{i.i.d.}\\sim\\mskip8mu\\operatorname{Exponential}(\\lambda),\n",
    "$$\n",
    "\n",
    "where the expected waiting time between earthquakes is $\\operatorname{E}(Y)=1/\\lambda$ days."
   ]
  },
  {
   "cell_type": "markdown",
   "metadata": {},
   "source": [
    "Assume the conjugate prior $ \\lambda\\sim\\operatorname{Gamma}(\\alpha,\\beta)$. Suppose our prior expectation for $\\lambda$ is $1/30$, and we wish to use a prior effective sample size of one interval between earthquakes.\n",
    "\n",
    "A good question then is that what is the value of $\\alpha$ and $\\beta$ so that we can use them in our prior distribution? Well, as you might have guessed, we can use $\\alpha=1$ and $\\beta=30$. It is so because in the exponential-gamma model, $\\alpha$ is the prior effective sample size and the prior mean is $\\alpha/\\beta=1/30$, and since we know the effective sample size $\\alpha=1$, we have $\\beta=30$."
   ]
  },
  {
   "cell_type": "markdown",
   "metadata": {},
   "source": [
    "The reason why $ \\alpha$ is called _prior effective sample size_ is the updating formula. If  the prior pdf for $\\lambda$ is a $\\operatorname{Gamma}$ with parameters $\\alpha$ and $\\beta$, and an experiment is performed, taking $n$ independent exponential observations $y=(y_{1},\\dots,y_{n})$ with average $\\overline{y}$, the posterior pdf for $\\lambda$ is a $\\operatorname{Gamma}$ with parameters $\\alpha'$ and $\\beta'$:\n",
    "\n",
    "$$\n",
    "    \\left\\{\n",
    "    \\begin{array}{lcl}\n",
    "    \\alpha'&=&\\alpha+n,\\\\\n",
    "    \\beta'&=&\\beta+n\\,\\overline{y}.\n",
    "    \\end{array}\\right.\n",
    "$$\n",
    "\n",
    "thus we might think of the prior pdf as information from $n_{0}=\\alpha$ virtual observations with average $\\beta$."
   ]
  },
  {
   "cell_type": "markdown",
   "metadata": {},
   "source": [
    "Which of the following is our data vector? The first of the following:\n",
    "\n",
    "$$\n",
    "    \\begin{array}{lcl}\n",
    "    y &= &(16, 8, 114, 60, 4, 23, 30, 105),\\\\\n",
    "    y &= &(3, 16, 8, 114, 60, 4, 23, 30, 105, 1),\\\\\n",
    "    y &= &(3, 16, 8, 114, 60, 4, 23, 30, 105).\n",
    "    \\end{array}\n",
    "$$\n",
    "\n",
    "Recall that we are modeling the waiting times between earthquakes in days. There are eight intervals between the first and last event. We are excluding four days of the year in which no events were observed. A more comprehensive model (e.g., censoring methods) would account for the fact that there were no major earthquakes Jan. 1 to Jan. 4 and Dec. 30 to Dec. 31. This is beyond the scope of this tutorial."
   ]
  },
  {
   "cell_type": "code",
   "execution_count": 1,
   "metadata": {
    "vscode": {
     "languageId": "r"
    }
   },
   "outputs": [],
   "source": [
    "prior.a<-1\n",
    "prior.b<-30"
   ]
  },
  {
   "cell_type": "markdown",
   "metadata": {},
   "source": [
    "# A.1. Simulate from the prior pdf"
   ]
  },
  {
   "cell_type": "code",
   "execution_count": 2,
   "metadata": {
    "vscode": {
     "languageId": "r"
    }
   },
   "outputs": [],
   "source": [
    "N<-10000\n",
    "Sim.lambda.prior<-rgamma(N,prior.a,prior.b)"
   ]
  },
  {
   "cell_type": "code",
   "execution_count": 3,
   "metadata": {
    "vscode": {
     "languageId": "r"
    }
   },
   "outputs": [
    {
     "data": {
      "text/html": [
       "0.0333"
      ],
      "text/latex": [
       "0.0333"
      ],
      "text/markdown": [
       "0.0333"
      ],
      "text/plain": [
       "[1] 0.0333"
      ]
     },
     "metadata": {},
     "output_type": "display_data"
    },
    {
     "data": {
      "text/html": [
       "0.0011"
      ],
      "text/latex": [
       "0.0011"
      ],
      "text/markdown": [
       "0.0011"
      ],
      "text/plain": [
       "[1] 0.0011"
      ]
     },
     "metadata": {},
     "output_type": "display_data"
    },
    {
     "data": {
      "text/html": [
       "0.0333"
      ],
      "text/latex": [
       "0.0333"
      ],
      "text/markdown": [
       "0.0333"
      ],
      "text/plain": [
       "[1] 0.0333"
      ]
     },
     "metadata": {},
     "output_type": "display_data"
    }
   ],
   "source": [
    "Theor.lambda.mean<-prior.a/prior.b\n",
    "# Theor.lambda.mode<-(prior.a-1)/prior.b  # For alpha>1, 0 for alpha=1.\n",
    "Theor.lambda.var<-prior.a/prior.b^2\n",
    "Theor.lambda.sd<-sqrt(Theor.lambda.var)\n",
    "round(Theor.lambda.mean,4)\n",
    "round(Theor.lambda.var,4)\n",
    "round(Theor.lambda.sd,4)"
   ]
  },
  {
   "cell_type": "code",
   "execution_count": 4,
   "metadata": {
    "vscode": {
     "languageId": "r"
    }
   },
   "outputs": [
    {
     "data": {
      "image/png": "[encoded data removed]",
      "text/plain": [
       "Plot with title \"Histogram of Sim.lambda.prior\""
      ]
     },
     "metadata": {},
     "output_type": "display_data"
    }
   ],
   "source": [
    "# Plot histogram, compare with the theoretical Gamma pdf \n",
    "options(repr.plot.width=7,repr.plot.height=7)\n",
    "hist(Sim.lambda.prior,freq=FALSE,col=\"LightGreen\",xlab=expression(lambda),ylim=c(0,30),breaks=25)\n",
    "v<-seq(0,max(Sim.lambda.prior),length=1000)\n",
    "lines(v,dgamma(v,shape=prior.a,rate=prior.b),lwd=2.5,col=\"blue\")"
   ]
  },
  {
   "cell_type": "markdown",
   "metadata": {},
   "source": [
    "# A.2. Simulate from the prior predictive pdf"
   ]
  },
  {
   "cell_type": "markdown",
   "metadata": {},
   "source": [
    "The prior predictive joint pdf, for an $ n$-sample, is:\n",
    "\n",
    "$$\n",
    "f(y_{1},\\dots,y_{n})=\\dfrac{\\Gamma(\\alpha+n)}{\\Gamma(\\alpha)}\n",
    "    \\cdot\\dfrac{\\beta^{\\alpha}}{(n\\,\\overline{y}+\\beta)^{\\alpha+n}},\\mskip20mu\n",
    "        y_{1}>0,\\dots,y_{n}>0.\n",
    "$$"
   ]
  },
  {
   "cell_type": "markdown",
   "metadata": {},
   "source": [
    "We can use it for $ n=1$, to check a single observation from this distribution,\n",
    "\n",
    "$$\n",
    "f(y)=\\dfrac{\\Gamma(\\alpha+1)}{\\Gamma(\\alpha)}\n",
    "    \\cdot\\dfrac{\\beta^{\\alpha}}{(y+\\beta)^{\\alpha+1}}\n",
    "    =\\alpha\\cdot\\dfrac{\\beta^{\\alpha}}{(y+\\beta)^{\\alpha+1}},\\mskip20mu y>0.\n",
    "$$"
   ]
  },
  {
   "cell_type": "markdown",
   "metadata": {},
   "source": [
    "In this case the predictive distribution is a [Pareto II (Lomax)](https://en.wikipedia.org/wiki/Lomax_distribution). The expectation is:\n",
    "\n",
    "$$\n",
    "    \\operatorname{E}(Y)=\\dfrac{\\beta}{\\alpha-1},\\mskip20mu\\alpha>1,\\mskip30mu\n",
    "    \\operatorname{var}(Y)=\\dfrac{\\beta^{2}\\,\\alpha}{(\\alpha-1)^{2}\\,(\\alpha-2)},\\mskip20mu \\alpha>2,\n",
    "$$\n",
    "\n",
    "The Lomax distribution is a special case of the [generalized Pareto distribution](https://en.wikipedia.org/wiki/Generalized_Pareto_distribution). \n",
    "\n",
    "$$\n",
    "    f_{(\\mu,\\sigma,\\xi)}(y)=\\dfrac{1}{\\sigma}\n",
    "    \\left(1+\\dfrac{\\xi\\,(y-\\mu)}{\\sigma }\\right)^{\\left(-{\\frac {1}{\\xi}}-1\\right)},\n",
    "$$\n",
    "\n",
    "where the support is  $ y\\geq\\mu$ when $\\xi\\geq0$, and $\\mu\\leq y\\leq\\mu-\\sigma/\\xi$ when  $\\xi<0$. Specifically:\n",
    "\n",
    "$$\n",
    "    \\mu =0,\\mskip20mu \\xi =\\dfrac{1}{\\alpha},\\mskip20mu \\sigma=\\dfrac{\\beta}{\\alpha}.\n",
    "$$"
   ]
  },
  {
   "cell_type": "code",
   "execution_count": 5,
   "metadata": {
    "vscode": {
     "languageId": "r"
    }
   },
   "outputs": [],
   "source": [
    "Theor.pred.pdf<-function(y,a,b){return(ifelse(y>0,a*b^{a}/(y+b)^(a+1),0))}"
   ]
  },
  {
   "cell_type": "code",
   "execution_count": 6,
   "metadata": {
    "vscode": {
     "languageId": "r"
    }
   },
   "outputs": [],
   "source": [
    "# Simulate from the prior predictive. Likelihood is exponential with parameter lambda\n",
    "Sim.y<-rexp(N,rate=Sim.lambda.prior)"
   ]
  },
  {
   "cell_type": "code",
   "execution_count": 7,
   "metadata": {
    "vscode": {
     "languageId": "r"
    }
   },
   "outputs": [
    {
     "name": "stdout",
     "output_type": "stream",
     "text": [
      " num [1:10000] 4.16 89.71 43.16 26.13 54.1 ...\n"
     ]
    },
    {
     "data": {
      "text/plain": [
       "     Min.   1st Qu.    Median      Mean   3rd Qu.      Max. \n",
       "      0.0      10.0      31.4     525.0      94.4 1407562.4 "
      ]
     },
     "metadata": {},
     "output_type": "display_data"
    },
    {
     "data": {
      "text/html": [
       "<dl class=dl-horizontal>\n",
       "\t<dt>5%</dt>\n",
       "\t\t<dd>1.53</dd>\n",
       "\t<dt>10%</dt>\n",
       "\t\t<dd>3.25</dd>\n",
       "\t<dt>20%</dt>\n",
       "\t\t<dd>7.43</dd>\n",
       "\t<dt>30%</dt>\n",
       "\t\t<dd>12.96</dd>\n",
       "\t<dt>40%</dt>\n",
       "\t\t<dd>20.38</dd>\n",
       "\t<dt>50%</dt>\n",
       "\t\t<dd>31.45</dd>\n",
       "\t<dt>60%</dt>\n",
       "\t\t<dd>46.39</dd>\n",
       "\t<dt>70%</dt>\n",
       "\t\t<dd>73.17</dd>\n",
       "\t<dt>80%</dt>\n",
       "\t\t<dd>125.99</dd>\n",
       "\t<dt>90%</dt>\n",
       "\t\t<dd>283.1</dd>\n",
       "</dl>\n"
      ],
      "text/latex": [
       "\\begin{description*}\n",
       "\\item[5\\textbackslash{}\\%] 1.53\n",
       "\\item[10\\textbackslash{}\\%] 3.25\n",
       "\\item[20\\textbackslash{}\\%] 7.43\n",
       "\\item[30\\textbackslash{}\\%] 12.96\n",
       "\\item[40\\textbackslash{}\\%] 20.38\n",
       "\\item[50\\textbackslash{}\\%] 31.45\n",
       "\\item[60\\textbackslash{}\\%] 46.39\n",
       "\\item[70\\textbackslash{}\\%] 73.17\n",
       "\\item[80\\textbackslash{}\\%] 125.99\n",
       "\\item[90\\textbackslash{}\\%] 283.1\n",
       "\\end{description*}\n"
      ],
      "text/markdown": [
       "5%\n",
       ":   1.5310%\n",
       ":   3.2520%\n",
       ":   7.4330%\n",
       ":   12.9640%\n",
       ":   20.3850%\n",
       ":   31.4560%\n",
       ":   46.3970%\n",
       ":   73.1780%\n",
       ":   125.9990%\n",
       ":   283.1\n",
       "\n"
      ],
      "text/plain": [
       "    5%    10%    20%    30%    40%    50%    60%    70%    80%    90% \n",
       "  1.53   3.25   7.43  12.96  20.38  31.45  46.39  73.17 125.99 283.10 "
      ]
     },
     "metadata": {},
     "output_type": "display_data"
    },
    {
     "data": {
      "text/html": [
       "283.1"
      ],
      "text/latex": [
       "283.1"
      ],
      "text/markdown": [
       "283.1"
      ],
      "text/plain": [
       "[1] 283.1"
      ]
     },
     "metadata": {},
     "output_type": "display_data"
    },
    {
     "name": "stdout",
     "output_type": "stream",
     "text": [
      " num [1:9000] 4.16 89.71 43.16 26.13 54.1 ...\n"
     ]
    }
   ],
   "source": [
    "str(Sim.y)\n",
    "summary(Sim.y)\n",
    "q.Sim.y<-quantile(Sim.y,c(0.05,0.1,0.2,0.3,0.4,0.5,0.6,0.7,0.8,0.9))\n",
    "round(q.Sim.y,2)\n",
    "ymax<-max(q.Sim.y)\n",
    "round(ymax,2)\n",
    "Sim.y.trunc<-Sim.y[Sim.y<ymax]  # truncate in order to be able to plot the histogram\n",
    "str(Sim.y.trunc)"
   ]
  },
  {
   "cell_type": "markdown",
   "metadata": {},
   "source": [
    "#### There is no theoretical expectation nor variance, as `prior.a=1`"
   ]
  },
  {
   "cell_type": "code",
   "execution_count": 8,
   "metadata": {
    "tags": [],
    "vscode": {
     "languageId": "r"
    }
   },
   "outputs": [
    {
     "data": {
      "image/png": "[encoded data removed]",
      "text/plain": [
       "Plot with title \"Histogram of Sim.y.trunc\""
      ]
     },
     "metadata": {},
     "output_type": "display_data"
    }
   ],
   "source": [
    "# Plot histogram, \n",
    "options(repr.plot.width=7,repr.plot.height=7)\n",
    "ymax<-max(q.Sim.y)\n",
    "u<-seq(0,ymax,length=1000)\n",
    "yu<-Theor.pred.pdf(u,a=prior.a,b=prior.b)\n",
    "hist(Sim.y.trunc,freq=FALSE,col=\"LightGreen\",breaks=c(min(Sim.y.trunc),q.Sim.y,max(Sim.y.trunc)),\n",
    "     ylim=c(0,0.040),xlab=\"Posterior y\",cex.lab=1.5,cex.main=1.6)\n",
    "lines(u,yu,lwd=2.5,col=\"DarkGreen\")"
   ]
  },
  {
   "cell_type": "markdown",
   "metadata": {},
   "source": [
    "# A.3. Simulate from the posterior pdf"
   ]
  },
  {
   "cell_type": "code",
   "execution_count": 9,
   "metadata": {
    "vscode": {
     "languageId": "r"
    }
   },
   "outputs": [
    {
     "data": {
      "text/html": [
       "45"
      ],
      "text/latex": [
       "45"
      ],
      "text/markdown": [
       "45"
      ],
      "text/plain": [
       "[1] 45"
      ]
     },
     "metadata": {},
     "output_type": "display_data"
    }
   ],
   "source": [
    "y<-c(16, 8, 114, 60, 4, 23, 30, 105)\n",
    "n<-length(y)\n",
    "ybar<-mean(y)\n",
    "round(ybar,2)\n",
    "nybar<-sum(y)"
   ]
  },
  {
   "cell_type": "markdown",
   "metadata": {},
   "source": [
    "Posterior pdf is $ \\lambda\\sim\\operatorname{Gamma}(\\alpha',\\beta')$,\n",
    "\n",
    "$$\n",
    "    \\left\\{\n",
    "    \\begin{array}{lcl}\n",
    "    \\alpha'&=&\\alpha+n,\\\\[0.2cm]\n",
    "    \\beta'&=&\\beta+n\\,\\overline{y}.\n",
    "    \\end{array}\\right.\n",
    "$$"
   ]
  },
  {
   "cell_type": "code",
   "execution_count": 10,
   "metadata": {
    "vscode": {
     "languageId": "r"
    }
   },
   "outputs": [
    {
     "data": {
      "text/html": [
       "9"
      ],
      "text/latex": [
       "9"
      ],
      "text/markdown": [
       "9"
      ],
      "text/plain": [
       "[1] 9"
      ]
     },
     "metadata": {},
     "output_type": "display_data"
    },
    {
     "data": {
      "text/html": [
       "390"
      ],
      "text/latex": [
       "390"
      ],
      "text/markdown": [
       "390"
      ],
      "text/plain": [
       "[1] 390"
      ]
     },
     "metadata": {},
     "output_type": "display_data"
    }
   ],
   "source": [
    "post.a<-prior.a+n\n",
    "post.b<-prior.b+nybar\n",
    "post.a\n",
    "post.b"
   ]
  },
  {
   "cell_type": "code",
   "execution_count": 11,
   "metadata": {
    "vscode": {
     "languageId": "r"
    }
   },
   "outputs": [
    {
     "data": {
      "text/html": [
       "0.0231"
      ],
      "text/latex": [
       "0.0231"
      ],
      "text/markdown": [
       "0.0231"
      ],
      "text/plain": [
       "[1] 0.0231"
      ]
     },
     "metadata": {},
     "output_type": "display_data"
    },
    {
     "data": {
      "text/html": [
       "0.0205"
      ],
      "text/latex": [
       "0.0205"
      ],
      "text/markdown": [
       "0.0205"
      ],
      "text/plain": [
       "[1] 0.0205"
      ]
     },
     "metadata": {},
     "output_type": "display_data"
    },
    {
     "data": {
      "text/html": [
       "5.9e-05"
      ],
      "text/latex": [
       "5.9e-05"
      ],
      "text/markdown": [
       "5.9e-05"
      ],
      "text/plain": [
       "[1] 5.9e-05"
      ]
     },
     "metadata": {},
     "output_type": "display_data"
    },
    {
     "data": {
      "text/html": [
       "0.0077"
      ],
      "text/latex": [
       "0.0077"
      ],
      "text/markdown": [
       "0.0077"
      ],
      "text/plain": [
       "[1] 0.0077"
      ]
     },
     "metadata": {},
     "output_type": "display_data"
    }
   ],
   "source": [
    "Theor.lambda.post.mean<-post.a/post.b\n",
    "Theor.lambda.post.mode<-(post.a-1)/post.b  # For alpha>1, 0 for alpha=1.\n",
    "Theor.lambda.post.var<-post.a/post.b^2\n",
    "Theor.lambda.post.sd<-sqrt(Theor.lambda.post.var)\n",
    "round(Theor.lambda.post.mean,4)\n",
    "round(Theor.lambda.post.mode,4)\n",
    "round(Theor.lambda.post.var,6)\n",
    "round(Theor.lambda.post.sd,4)"
   ]
  },
  {
   "cell_type": "code",
   "execution_count": 12,
   "metadata": {
    "vscode": {
     "languageId": "r"
    }
   },
   "outputs": [],
   "source": [
    "N1<-10000 \n",
    "Sim.lambda.post<-rgamma(N1,post.a,post.b)"
   ]
  },
  {
   "cell_type": "markdown",
   "metadata": {},
   "source": [
    "Well understood, this is _not_ an actual posterior sample, it is a sample from the distribution we _know_ will be the posterior, from the theory of conjugate pairs."
   ]
  },
  {
   "cell_type": "code",
   "execution_count": 13,
   "metadata": {
    "vscode": {
     "languageId": "r"
    }
   },
   "outputs": [
    {
     "data": {
      "image/png": "[encoded data removed]",
      "text/plain": [
       "Plot with title \"Histogram of Sim.lambda.post\""
      ]
     },
     "metadata": {},
     "output_type": "display_data"
    }
   ],
   "source": [
    "# Plot histogram, superimpose the Gamma pdf \n",
    "options(repr.plot.width=7,repr.plot.height=7)\n",
    "v<-seq(0,max(Sim.lambda.post),length=1000)\n",
    "yv<-dgamma(v,shape=post.a,rate=post.b)\n",
    "max.yv<-max(yv)\n",
    "hist(Sim.lambda.post,freq=FALSE,col=\"LightGreen\",xlab=expression(lambda),ylim=c(0,max.yv*1.1),breaks=25)\n",
    "lines(v,yv,lwd=2.5,col=\"blue\")"
   ]
  },
  {
   "cell_type": "markdown",
   "metadata": {},
   "source": [
    "# A.4. Simulate from the posterior predictive pdf"
   ]
  },
  {
   "cell_type": "code",
   "execution_count": 14,
   "metadata": {
    "vscode": {
     "languageId": "r"
    }
   },
   "outputs": [],
   "source": [
    "# Simulate from the prior predictive. Likelihood is exponential with parameter lambda\n",
    "N2<-N1\n",
    "Sim.y.pred<-rexp(N2,rate=Sim.lambda.post)"
   ]
  },
  {
   "cell_type": "code",
   "execution_count": 15,
   "metadata": {
    "vscode": {
     "languageId": "r"
    }
   },
   "outputs": [
    {
     "name": "stdout",
     "output_type": "stream",
     "text": [
      " num [1:10000] 4.16 89.71 43.16 26.13 54.1 ...\n"
     ]
    },
    {
     "data": {
      "text/plain": [
       "    Min.  1st Qu.   Median     Mean  3rd Qu.     Max. \n",
       "  0.0197  12.9516  31.4799  49.4079  65.9994 812.9828 "
      ]
     },
     "metadata": {},
     "output_type": "display_data"
    },
    {
     "data": {
      "text/html": [
       "<dl class=dl-horizontal>\n",
       "\t<dt>5%</dt>\n",
       "\t\t<dd>2.35</dd>\n",
       "\t<dt>10%</dt>\n",
       "\t\t<dd>4.79</dd>\n",
       "\t<dt>20%</dt>\n",
       "\t\t<dd>10.11</dd>\n",
       "\t<dt>30%</dt>\n",
       "\t\t<dd>16.16</dd>\n",
       "\t<dt>40%</dt>\n",
       "\t\t<dd>23.09</dd>\n",
       "\t<dt>50%</dt>\n",
       "\t\t<dd>31.48</dd>\n",
       "\t<dt>60%</dt>\n",
       "\t\t<dd>42.19</dd>\n",
       "\t<dt>70%</dt>\n",
       "\t\t<dd>55.97</dd>\n",
       "\t<dt>80%</dt>\n",
       "\t\t<dd>76.73</dd>\n",
       "\t<dt>90%</dt>\n",
       "\t\t<dd>113.63</dd>\n",
       "</dl>\n"
      ],
      "text/latex": [
       "\\begin{description*}\n",
       "\\item[5\\textbackslash{}\\%] 2.35\n",
       "\\item[10\\textbackslash{}\\%] 4.79\n",
       "\\item[20\\textbackslash{}\\%] 10.11\n",
       "\\item[30\\textbackslash{}\\%] 16.16\n",
       "\\item[40\\textbackslash{}\\%] 23.09\n",
       "\\item[50\\textbackslash{}\\%] 31.48\n",
       "\\item[60\\textbackslash{}\\%] 42.19\n",
       "\\item[70\\textbackslash{}\\%] 55.97\n",
       "\\item[80\\textbackslash{}\\%] 76.73\n",
       "\\item[90\\textbackslash{}\\%] 113.63\n",
       "\\end{description*}\n"
      ],
      "text/markdown": [
       "5%\n",
       ":   2.3510%\n",
       ":   4.7920%\n",
       ":   10.1130%\n",
       ":   16.1640%\n",
       ":   23.0950%\n",
       ":   31.4860%\n",
       ":   42.1970%\n",
       ":   55.9780%\n",
       ":   76.7390%\n",
       ":   113.63\n",
       "\n"
      ],
      "text/plain": [
       "    5%    10%    20%    30%    40%    50%    60%    70%    80%    90% \n",
       "  2.35   4.79  10.11  16.16  23.09  31.48  42.19  55.97  76.73 113.63 "
      ]
     },
     "metadata": {},
     "output_type": "display_data"
    },
    {
     "data": {
      "text/html": [
       "113.63"
      ],
      "text/latex": [
       "113.63"
      ],
      "text/markdown": [
       "113.63"
      ],
      "text/plain": [
       "[1] 113.63"
      ]
     },
     "metadata": {},
     "output_type": "display_data"
    },
    {
     "name": "stdout",
     "output_type": "stream",
     "text": [
      " num [1:9000] 22.67 87.26 24.1 4.19 13.28 ...\n"
     ]
    }
   ],
   "source": [
    "str(Sim.y)\n",
    "summary(Sim.y.pred)\n",
    "q.Sim.y.pred<-quantile(Sim.y.pred,c(0.05,0.1,0.2,0.3,0.4,0.5,0.6,0.7,0.8,0.9))\n",
    "round(q.Sim.y.pred,2)\n",
    "ymax<-max(q.Sim.y.pred)\n",
    "round(ymax,2)\n",
    "Sim.y.pred.trunc<-Sim.y.pred[Sim.y.pred<ymax]  # truncate in order to be able to plot the histogram\n",
    "str(Sim.y.pred.trunc)"
   ]
  },
  {
   "cell_type": "code",
   "execution_count": 16,
   "metadata": {
    "vscode": {
     "languageId": "r"
    }
   },
   "outputs": [
    {
     "data": {
      "text/html": [
       "48.75"
      ],
      "text/latex": [
       "48.75"
      ],
      "text/markdown": [
       "48.75"
      ],
      "text/plain": [
       "[1] 48.75"
      ]
     },
     "metadata": {},
     "output_type": "display_data"
    },
    {
     "data": {
      "text/html": [
       "3055.58"
      ],
      "text/latex": [
       "3055.58"
      ],
      "text/markdown": [
       "3055.58"
      ],
      "text/plain": [
       "[1] 3055.58"
      ]
     },
     "metadata": {},
     "output_type": "display_data"
    },
    {
     "data": {
      "text/html": [
       "55.277"
      ],
      "text/latex": [
       "55.277"
      ],
      "text/markdown": [
       "55.277"
      ],
      "text/plain": [
       "[1] 55.277"
      ]
     },
     "metadata": {},
     "output_type": "display_data"
    }
   ],
   "source": [
    "Theor.post.E.y<-post.b/(post.a-1)\n",
    "Theor.post.var.y<-post.b^2*post.a/((post.a-1)^2*(post.a-2))\n",
    "Theor.post.sd.y<-sqrt(Theor.post.var.y)\n",
    "round(Theor.post.E.y,3)\n",
    "round(Theor.post.var.y,3)\n",
    "round(Theor.post.sd.y,3)"
   ]
  },
  {
   "cell_type": "code",
   "execution_count": 17,
   "metadata": {
    "tags": [],
    "vscode": {
     "languageId": "r"
    }
   },
   "outputs": [
    {
     "data": {
      "image/png": "[encoded data removed]",
      "text/plain": [
       "Plot with title \"Histogram of Sim.y.pred.trunc\""
      ]
     },
     "metadata": {},
     "output_type": "display_data"
    }
   ],
   "source": [
    "# Plot histogram, \n",
    "options(repr.plot.width=7,repr.plot.height=7)\n",
    "u<-seq(0,ymax,length=1000)\n",
    "yu<-Theor.pred.pdf(u,a=post.a,b=post.b)\n",
    "ymax<-max(yu)\n",
    "hist(Sim.y.pred.trunc,freq=FALSE,col=\"LightGreen\",\n",
    "     breaks=c(min(Sim.y.pred.trunc),q.Sim.y.pred,max(Sim.y.pred.trunc)),ylim=c(0,ymax*1.1))\n",
    "lines(u,yu,lwd=2.5,col=\"DarkGreen\")"
   ]
  }
 ],
 "metadata": {
  "kernelspec": {
   "display_name": "R",
   "language": "R",
   "name": "ir"
  },
  "language_info": {
   "codemirror_mode": "r",
   "file_extension": ".r",
   "mimetype": "text/x-r-source",
   "name": "R",
   "pygments_lexer": "r",
   "version": "3.6.1"
  }
 },
 "nbformat": 4,
 "nbformat_minor": 4
}
