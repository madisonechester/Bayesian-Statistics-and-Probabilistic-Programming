{
 "cells": [
  {
   "cell_type": "markdown",
   "metadata": {},
   "source": [
    "# Exponential data 01"
   ]
  },
  {
   "cell_type": "markdown",
   "metadata": {},
   "source": [
    "_Adapted from Josep Fortiana (2023-03-13) by Jordi Abante (2024-03-25)_"
   ]
  },
  {
   "cell_type": "markdown",
   "metadata": {},
   "source": [
    "## _Insurance claims_ - Stan version"
   ]
  },
  {
   "cell_type": "markdown",
   "metadata": {},
   "source": [
    "Adapted from a blog entry [by Markus Gesmann (19 May 2015)](https://magesblog.com/post/2015-05-19-posterior-predictive-output-with-stan/), an example from section 16.17 in  Klugman, S. A., Panjer, H. H. & Willmot, G. E. (2004), _Loss Models: From Data to Decisions,_ Wiley Series in Probability and Statistics."
   ]
  },
  {
   "cell_type": "markdown",
   "metadata": {},
   "source": [
    "# 00 - An insurance Problem"
   ]
  },
  {
   "cell_type": "markdown",
   "metadata": {},
   "source": [
    "Set or adjust the premium for a customer of three years according to a prediction of the expected claims cost for the next year."
   ]
  },
  {
   "cell_type": "markdown",
   "metadata": {},
   "source": [
    "# 01 - Model"
   ]
  },
  {
   "cell_type": "markdown",
   "metadata": {},
   "source": [
    "## Likelihood\n",
    "\n",
    "The claims distribution is believed to follow an exponential distribution with parameter $\\theta$. \n",
    "\n",
    "$$\n",
    "    \\begin{array}{lcl}\n",
    "     x_{i} &\\sim &\\textrm{Exp} (\\theta),\\mskip40mu 1\\leq i\\leq n.\n",
    "    \\end{array}\n",
    "$$\n",
    "\n",
    "## Prior\n",
    "\n",
    "The prior parameter distribution on $\\theta$ is assumed to be a Gamma distribution with parameters $\\alpha=4$, $\\beta=1000$:\n",
    " \n",
    "$$\n",
    "\\mskip-80mu\n",
    "    \\begin{array}{lcl}\n",
    "        \\theta &\\sim &\\operatorname{Gamma}(\\alpha,\\beta),\n",
    "    \\end{array}\n",
    "$$"
   ]
  },
  {
   "cell_type": "code",
   "execution_count": 1,
   "metadata": {
    "vscode": {
     "languageId": "r"
    }
   },
   "outputs": [],
   "source": [
    "## Prior parameters \n",
    "prior.a <- 4\n",
    "prior.b <- 1000"
   ]
  },
  {
   "cell_type": "code",
   "execution_count": 2,
   "metadata": {
    "vscode": {
     "languageId": "r"
    }
   },
   "outputs": [
    {
     "data": {
      "text/html": [
       "0.004"
      ],
      "text/latex": [
       "0.004"
      ],
      "text/markdown": [
       "0.004"
      ],
      "text/plain": [
       "[1] 0.004"
      ]
     },
     "metadata": {},
     "output_type": "display_data"
    },
    {
     "data": {
      "text/html": [
       "4e-06"
      ],
      "text/latex": [
       "4e-06"
      ],
      "text/markdown": [
       "4e-06"
      ],
      "text/plain": [
       "[1] 4e-06"
      ]
     },
     "metadata": {},
     "output_type": "display_data"
    },
    {
     "data": {
      "text/html": [
       "0.002"
      ],
      "text/latex": [
       "0.002"
      ],
      "text/markdown": [
       "0.002"
      ],
      "text/plain": [
       "[1] 0.002"
      ]
     },
     "metadata": {},
     "output_type": "display_data"
    }
   ],
   "source": [
    "Theor.prior.mean<-prior.a/prior.b\n",
    "Theor.prior.var<-prior.a/prior.b^2\n",
    "Theor.prior.sd<-sqrt(Theor.prior.var)\n",
    "round(Theor.prior.mean,4)\n",
    "round(Theor.prior.var,6)\n",
    "round(Theor.prior.sd,3)"
   ]
  },
  {
   "cell_type": "markdown",
   "metadata": {},
   "source": [
    "I have three independent observations, namely losses 100, 950 and 450. "
   ]
  },
  {
   "cell_type": "code",
   "execution_count": 3,
   "metadata": {
    "vscode": {
     "languageId": "r"
    }
   },
   "outputs": [],
   "source": [
    "## Observed data\n",
    "claims.obs <- c(100, 950, 450)\n",
    "n <- length(claims.obs)"
   ]
  },
  {
   "cell_type": "code",
   "execution_count": 4,
   "metadata": {
    "vscode": {
     "languageId": "r"
    }
   },
   "outputs": [
    {
     "data": {
      "text/html": [
       "500"
      ],
      "text/latex": [
       "500"
      ],
      "text/markdown": [
       "500"
      ],
      "text/plain": [
       "[1] 500"
      ]
     },
     "metadata": {},
     "output_type": "display_data"
    }
   ],
   "source": [
    "# Average loss\n",
    "round(sum(claims.obs)/n,3)"
   ]
  },
  {
   "cell_type": "markdown",
   "metadata": {},
   "source": [
    "# Analytical solution: a conjugate model"
   ]
  },
  {
   "cell_type": "code",
   "execution_count": 5,
   "metadata": {
    "vscode": {
     "languageId": "r"
    }
   },
   "outputs": [],
   "source": [
    "posterior.a <- prior.a + n\n",
    "posterior.b <- prior.b + sum(claims.obs)"
   ]
  },
  {
   "cell_type": "markdown",
   "metadata": {},
   "source": [
    "In this case the predictive distribution (both prior and posterior) is a [Pareto II (Lomax)](https://en.wikipedia.org/wiki/Lomax_distribution) distribution with density:\n",
    "\n",
    "$$\n",
    "    f(x|\\alpha,\\beta)=\\dfrac{\\alpha\\cdot\\beta^{\\alpha}}{(x+\\beta)^{\\alpha+1}},\\mskip20mu x\\geq 0,\n",
    "$$\n",
    " \n",
    "and a mean of $\\dfrac{\\beta}{\\alpha-1}$. This is equivalent to what we saw in our slides taking $n=1$."
   ]
  },
  {
   "cell_type": "code",
   "execution_count": 6,
   "metadata": {
    "vscode": {
     "languageId": "r"
    }
   },
   "outputs": [
    {
     "data": {
      "text/html": [
       "333.333"
      ],
      "text/latex": [
       "333.333"
      ],
      "text/markdown": [
       "333.333"
      ],
      "text/plain": [
       "[1] 333.333"
      ]
     },
     "metadata": {},
     "output_type": "display_data"
    }
   ],
   "source": [
    "# Prior predictive expectation\n",
    "round(prior.b/(prior.a-1),3)"
   ]
  },
  {
   "cell_type": "markdown",
   "metadata": {},
   "source": [
    "The posterior predictive expected loss:"
   ]
  },
  {
   "cell_type": "code",
   "execution_count": 7,
   "metadata": {
    "vscode": {
     "languageId": "r"
    }
   },
   "outputs": [
    {
     "data": {
      "text/html": [
       "416.667"
      ],
      "text/latex": [
       "416.667"
      ],
      "text/markdown": [
       "416.667"
      ],
      "text/plain": [
       "[1] 416.667"
      ]
     },
     "metadata": {},
     "output_type": "display_data"
    }
   ],
   "source": [
    "# Posterior predictive expectation\n",
    "round(posterior.b/(posterior.a-1),3)"
   ]
  },
  {
   "cell_type": "code",
   "execution_count": 8,
   "metadata": {
    "vscode": {
     "languageId": "r"
    }
   },
   "outputs": [
    {
     "name": "stderr",
     "output_type": "stream",
     "text": [
      "Loading required package: actuar\n",
      "\n",
      "\n",
      "Attaching package: 'actuar'\n",
      "\n",
      "\n",
      "The following objects are masked from 'package:stats':\n",
      "\n",
      "    sd, var\n",
      "\n",
      "\n",
      "The following object is masked from 'package:grDevices':\n",
      "\n",
      "    cm\n",
      "\n",
      "\n"
     ]
    }
   ],
   "source": [
    "#install.packages(\"actuar\", dependencies=TRUE,repos= \"https://cloud.r-project.org\")\n",
    "require(actuar) # Required for pareto distribution"
   ]
  },
  {
   "cell_type": "markdown",
   "metadata": {},
   "source": [
    "# Stan simulation"
   ]
  },
  {
   "cell_type": "code",
   "execution_count": 5,
   "metadata": {
    "vscode": {
     "languageId": "r"
    }
   },
   "outputs": [
    {
     "name": "stderr",
     "output_type": "stream",
     "text": [
      "Loading required package: rstan\n",
      "\n",
      "Loading required package: StanHeaders\n",
      "\n",
      "\n",
      "rstan version 2.32.3 (Stan version 2.26.1)\n",
      "\n",
      "\n",
      "For execution on a local, multicore CPU with excess RAM we recommend calling\n",
      "options(mc.cores = parallel::detectCores()).\n",
      "To avoid recompilation of unchanged Stan programs, we recommend calling\n",
      "rstan_options(auto_write = TRUE)\n",
      "For within-chain threading using `reduce_sum()` or `map_rect()` Stan functions,\n",
      "change `threads_per_chain` option:\n",
      "rstan_options(threads_per_chain = 1)\n",
      "\n",
      "\n"
     ]
    }
   ],
   "source": [
    "#install.packages(\"rstan\", dependencies=TRUE,repos= \"https://cloud.r-project.org\")\n",
    "require(rstan)\n",
    "# Following directions:\n",
    "# For execution on a local, multicore CPU with excess RAM we recommend calling\n",
    "# options(mc.cores = parallel::detectCores()).\n",
    "# To avoid recompilation of unchanged Stan programs, we recommend calling\n",
    "# rstan_options(auto_write = TRUE)\n",
    "options(mc.cores = parallel::detectCores())\n",
    "rstan_options(auto_write = TRUE)"
   ]
  },
  {
   "cell_type": "code",
   "execution_count": 6,
   "metadata": {
    "vscode": {
     "languageId": "r"
    }
   },
   "outputs": [],
   "source": [
    "stanmodelcode <- \"\n",
    "data {\n",
    "    int<lower=0> n;\n",
    "    real<lower=0> prior_a;\n",
    "    real<lower=0> prior_b;\n",
    "    real<lower=0> y[n];\n",
    "    }\n",
    "parameters {\n",
    "    real<lower=0.00001> theta;\n",
    "    }\n",
    "model {\n",
    "    theta ~ gamma(prior_a,prior_b);\n",
    "    y~exponential(theta);\n",
    "    }\n",
    "generated quantities{                // Sampling from the theta posterior\n",
    "    real y_pred;\n",
    "    y_pred = exponential_rng(theta);\n",
    "    }\n",
    "    \""
   ]
  },
  {
   "cell_type": "code",
   "execution_count": 7,
   "metadata": {
    "vscode": {
     "languageId": "r"
    }
   },
   "outputs": [],
   "source": [
    "stanDso <- stan_model(model_code = stanmodelcode) "
   ]
  },
  {
   "cell_type": "code",
   "execution_count": 8,
   "metadata": {
    "vscode": {
     "languageId": "r"
    }
   },
   "outputs": [],
   "source": [
    "dat <- list(n = n, y = claims.obs, prior_a=prior.a, prior_b=prior.b); "
   ]
  },
  {
   "cell_type": "code",
   "execution_count": 9,
   "metadata": {
    "vscode": {
     "languageId": "r"
    }
   },
   "outputs": [
    {
     "data": {
      "text/plain": [
       "Inference for Stan model: anon_model.\n",
       "4 chains, each with iter=25000; warmup=1000; thin=1; \n",
       "post-warmup draws per chain=24000, total post-warmup draws=96000.\n",
       "\n",
       "         mean se_mean     sd   2.5%    25%    50%    75%   97.5% n_eff Rhat\n",
       "theta    0.00    0.00   0.00   0.00   0.00   0.00   0.00    0.01 31296    1\n",
       "y_pred 415.53    1.88 494.45   9.07 103.69 258.92 544.58 1729.44 69010    1\n",
       "lp__   -48.66    0.00   0.73 -50.71 -48.82 -48.38 -48.20  -48.15 32570    1\n",
       "\n",
       "Samples were drawn using NUTS(diag_e) at Fri Mar 22 13:54:51 2024.\n",
       "For each parameter, n_eff is a crude measure of effective sample size,\n",
       "and Rhat is the potential scale reduction factor on split chains (at \n",
       "convergence, Rhat=1)."
      ]
     },
     "metadata": {},
     "output_type": "display_data"
    }
   ],
   "source": [
    "fit <- sampling(stanDso, data = dat, iter = 25000, warmup=1000) \n",
    "fit\n",
    "\n",
    "## Inference for Stan model: stanmodelcode.\n",
    "## 4 chains, each with iter=10000; warmup=200; thin=1; \n",
    "## post-warmup draws per chain=9800, total post-warmup draws=39200.\n",
    "## \n",
    "##          mean se_mean     sd   2.5%    25%    50%    75%   97.5% n_eff Rhat\n",
    "## Theta    0.00    0.00   0.00   0.00   0.00   0.00   0.00    0.01 13756    1\n",
    "## y_pred 416.86    2.85 492.28   8.83 106.34 262.70 542.47 1730.55 29773    1\n",
    "## lp__   -48.65    0.01   0.70 -50.68 -48.83 -48.38 -48.20  -48.15 14203    1\n",
    "## \n",
    "## Samples were drawn using NUTS(diag_e) at Tue May 19 06:06:08 2015.\n",
    "## For each parameter, n_eff is a crude measure of effective sample size,\n",
    "## and Rhat is the potential scale reduction factor on split chains (at \n",
    "## convergence, Rhat=1)."
   ]
  },
  {
   "cell_type": "code",
   "execution_count": 14,
   "metadata": {
    "vscode": {
     "languageId": "r"
    }
   },
   "outputs": [],
   "source": [
    "theta <- extract(fit, 'theta')\n",
    "theta <- unlist(theta, use.names=FALSE)\n",
    "y_pred <- extract(fit, 'y_pred')\n",
    "y_pred <- unlist(y_pred, use.names=FALSE)"
   ]
  },
  {
   "cell_type": "code",
   "execution_count": 15,
   "metadata": {
    "vscode": {
     "languageId": "r"
    }
   },
   "outputs": [
    {
     "data": {
      "image/png": "[encoded data removed]",
      "text/plain": [
       "Plot with title \"Predictive loss distribution\""
      ]
     },
     "metadata": {
      "image/png": {
       "height": 420,
       "width": 840
      }
     },
     "output_type": "display_data"
    }
   ],
   "source": [
    "options(repr.plot.width=14,repr.plot.height=7)\n",
    "old.par<- par(mfrow=c(1,2))\n",
    "# Simulated posterior parameter\n",
    "plot(density(theta),\n",
    "     xlab=expression(theta), col=grey(0, 0.8),lwd=3,\n",
    "     main=\"Parameter distribution\")\n",
    "# Analytical posterior parameter\n",
    "curve(dgamma(x, posterior.a, posterior.b), \n",
    "      add=TRUE, col=4, lty=2, lwd=2.5)\n",
    "# Analytical prior parameter\n",
    "curve(dgamma(x, prior.a, prior.b), \n",
    "      add=TRUE, col=2)\n",
    "legend(x=0.005,y=410,legend=c(\"Prior\", \"Analytical posterior\", \"Sampling posterior\"), \n",
    "           col=c(2, 4, grey(0, 0.8)), lty=c(1,2,1), bty=\"n\",lwd=3)\n",
    "# Simulated posterior predictive\n",
    "plot(density(y_pred), xlim=c(1,2000),\n",
    "     xlab=\"Loss\", col=grey(0, 0.8),\n",
    "     main=\"Predictive loss distribution\",lwd=3)\n",
    "# Analytical posterior predictive\n",
    "curve(dpareto(x, posterior.a, posterior.b), \n",
    "      add=TRUE, col=4, lwd=1.5, lty=2,5)\n",
    "# Analytical prior predictive\n",
    "curve(dpareto(x, prior.a, prior.b), \n",
    "      add=TRUE, col=2,lwd=3)\n",
    "legend(x=920,y=0.0023, legend=c(\"Prior\",\"Analytical posterior\", \"Sampling posterior\"),\n",
    "           col=c(2, 4, grey(0, 0.8)),lwd=3, lty=c(1,2,1), bty=\"n\")\n",
    "par(old.par)"
   ]
  },
  {
   "cell_type": "markdown",
   "metadata": {},
   "source": [
    "### Quantiles and probabilities"
   ]
  },
  {
   "cell_type": "code",
   "execution_count": 16,
   "metadata": {
    "vscode": {
     "languageId": "r"
    }
   },
   "outputs": [
    {
     "data": {
      "text/html": [
       "414.214"
      ],
      "text/latex": [
       "414.214"
      ],
      "text/markdown": [
       "414.214"
      ],
      "text/plain": [
       "[1] 414.214"
      ]
     },
     "metadata": {},
     "output_type": "display_data"
    }
   ],
   "source": [
    "round(qpareto(0.75, prior.a, prior.b),3)"
   ]
  },
  {
   "cell_type": "code",
   "execution_count": 17,
   "metadata": {
    "vscode": {
     "languageId": "r"
    }
   },
   "outputs": [
    {
     "data": {
      "text/html": [
       "547.534"
      ],
      "text/latex": [
       "547.534"
      ],
      "text/markdown": [
       "547.534"
      ],
      "text/plain": [
       "[1] 547.534"
      ]
     },
     "metadata": {},
     "output_type": "display_data"
    },
    {
     "data": {
      "text/html": [
       "<strong>75%:</strong> 544.821"
      ],
      "text/latex": [
       "\\textbf{75\\textbackslash{}\\%:} 544.821"
      ],
      "text/markdown": [
       "**75%:** 544.821"
      ],
      "text/plain": [
       "    75% \n",
       "544.821 "
      ]
     },
     "metadata": {},
     "output_type": "display_data"
    }
   ],
   "source": [
    "round(qpareto(0.75, posterior.a, posterior.b),3)\n",
    "round(quantile(y_pred, 0.75),3)"
   ]
  },
  {
   "cell_type": "code",
   "execution_count": 18,
   "metadata": {
    "vscode": {
     "languageId": "r"
    }
   },
   "outputs": [
    {
     "data": {
      "text/html": [
       "0.895"
      ],
      "text/latex": [
       "0.895"
      ],
      "text/markdown": [
       "0.895"
      ],
      "text/plain": [
       "[1] 0.895"
      ]
     },
     "metadata": {},
     "output_type": "display_data"
    },
    {
     "data": {
      "text/html": [
       "0.896"
      ],
      "text/latex": [
       "0.896"
      ],
      "text/markdown": [
       "0.896"
      ],
      "text/plain": [
       "[1] 0.896"
      ]
     },
     "metadata": {},
     "output_type": "display_data"
    }
   ],
   "source": [
    "round(ppareto(950, posterior.a, posterior.b),3)\n",
    "round(ecdf(y_pred)(950),3)"
   ]
  },
  {
   "cell_type": "markdown",
   "metadata": {},
   "source": [
    "The Stan output shows a simulated posterior predictive expected loss $\\approx 417$, close to the analytical answer $416.667$."
   ]
  },
  {
   "cell_type": "markdown",
   "metadata": {},
   "source": [
    "Also the $75\\%$ percentile of the posterior predictive distribution is a loss of $\\approx 547$ vs. $\\approx 414$ from the prior predictive."
   ]
  },
  {
   "cell_type": "markdown",
   "metadata": {},
   "source": [
    "That means every four years I shouldn't be surprised to observe a loss in excess of 500."
   ]
  },
  {
   "cell_type": "markdown",
   "metadata": {},
   "source": [
    "Further I note that 90% of losses are expected to be less than 950, or in other words the observation in my data may reflect the outcome of an event with a 1 in 10 return period."
   ]
  },
  {
   "cell_type": "markdown",
   "metadata": {},
   "source": [
    "Comparing the sampling output from Stan with the analytical output gives me some confidence that I am doing the ‘right thing'."
   ]
  }
 ],
 "metadata": {
  "kernelspec": {
   "display_name": "R",
   "language": "R",
   "name": "ir"
  },
  "language_info": {
   "codemirror_mode": "r",
   "file_extension": ".r",
   "mimetype": "text/x-r-source",
   "name": "R",
   "pygments_lexer": "r",
   "version": "4.3.1"
  }
 },
 "nbformat": 4,
 "nbformat_minor": 4
}
