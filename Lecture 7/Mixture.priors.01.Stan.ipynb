{
 "cells": [
  {
   "cell_type": "markdown",
   "id": "21fe7868-14a4-4c74-aae9-9c1803b75c29",
   "metadata": {
    "tags": []
   },
   "source": [
    "# Mixtures of conjugate priors 01 - Stan"
   ]
  },
  {
   "cell_type": "markdown",
   "id": "c9c1278d",
   "metadata": {},
   "source": [
    "_Adapted from Josep Fortiana (2023-03-13) by Jordi Abante (2024-03-25)_"
   ]
  },
  {
   "cell_type": "markdown",
   "id": "66aa6a40-ba31-4cd8-9f37-bbb69cbd4730",
   "metadata": {
    "tags": []
   },
   "source": [
    "## The spinning coin"
   ]
  },
  {
   "cell_type": "code",
   "execution_count": 1,
   "id": "certified-explosion",
   "metadata": {
    "vscode": {
     "languageId": "r"
    }
   },
   "outputs": [
    {
     "name": "stderr",
     "output_type": "stream",
     "text": [
      "\n",
      "rstan version 2.26.13 (Stan version 2.26.1)\n",
      "\n",
      "\n",
      "For execution on a local, multicore CPU with excess RAM we recommend calling\n",
      "options(mc.cores = parallel::detectCores()).\n",
      "To avoid recompilation of unchanged Stan programs, we recommend calling\n",
      "rstan_options(auto_write = TRUE)\n",
      "For within-chain threading using `reduce_sum()` or `map_rect()` Stan functions,\n",
      "change `threads_per_chain` option:\n",
      "rstan_options(threads_per_chain = 1)\n",
      "\n",
      "\n",
      "Do not specify '-march=native' in 'LOCAL_CPPFLAGS' or a Makevars file\n",
      "\n"
     ]
    }
   ],
   "source": [
    "#install.packages(\"rstan\", dependencies=TRUE,repos= \"https://cloud.r-project.org\")\n",
    "require(rstan,quietly=TRUE)"
   ]
  },
  {
   "cell_type": "code",
   "execution_count": 2,
   "id": "north-porter",
   "metadata": {
    "vscode": {
     "languageId": "r"
    }
   },
   "outputs": [],
   "source": [
    "# Following directions:\n",
    "# For execution on a local, multicore CPU with excess RAM we recommend calling\n",
    "# options(mc.cores = parallel::detectCores()).\n",
    "# To avoid recompilation of unchanged Stan programs, we recommend calling\n",
    "# rstan_options(auto_write = TRUE)\n",
    "options(mc.cores = parallel::detectCores())\n",
    "rstan_options(auto_write = TRUE)"
   ]
  },
  {
   "cell_type": "markdown",
   "id": "eligible-graph",
   "metadata": {},
   "source": [
    "## Specify model"
   ]
  },
  {
   "cell_type": "markdown",
   "id": "d2925bbf-ecf4-4a45-a6c2-e5844892f5ae",
   "metadata": {},
   "source": [
    "Stan is unable to simulate discrete parameters.\n",
    "\n",
    "One possible workaround is to generate on the spot the unnamed index selecting which of both components\n",
    "in the mixture is chosen:\n",
    "\n",
    "If $u\\sim\\unifdist(0,1)$ and $\\gamma\\in(0,1)$ then $\\prob(u<\\gamma)=\\gamma$.\n",
    "\n",
    "We implement this with the ternary infix conditional operator."
   ]
  },
  {
   "cell_type": "code",
   "execution_count": 3,
   "id": "informal-indonesia",
   "metadata": {
    "vscode": {
     "languageId": "r"
    }
   },
   "outputs": [],
   "source": [
    "modelString = \"\n",
    "    data{\n",
    "        int<lower=0> n ;\n",
    "        int<lower=0> x ; \n",
    "        real<lower=0> a1 ;\n",
    "        real<lower=0> b1 ;\n",
    "        real<lower=0> a2 ;\n",
    "        real<lower=0> b2 ;\n",
    "        real<lower=0,upper=1>  gamma ;\n",
    "        }\n",
    "    parameters{\n",
    "        real<lower=0,upper=1>  u ;\n",
    "        vector<lower=0,upper=1>[2] theta ;\n",
    "        }\n",
    "    transformed parameters{                         \n",
    "        real<lower=0,upper=1> p ;                   \n",
    "                                                    // Here the trick:\n",
    "                                                    // Generate on the spot the unnamed index selecting \n",
    "                                                    // which of both components in the mixture is chosen\n",
    "        p=theta[u<gamma?1:2] ;\n",
    "        }\n",
    "    model{\n",
    "        x ~ binomial(n,p) ;\n",
    "        theta[1]~beta(a1,b1) ;\n",
    "        theta[2]~beta(a2,b2) ;\n",
    "        u ~ uniform(0,1) ; \n",
    "        }\""
   ]
  },
  {
   "cell_type": "markdown",
   "id": "announced-imagination",
   "metadata": {},
   "source": [
    "## Compile model and sample from the posterior pdf"
   ]
  },
  {
   "cell_type": "code",
   "execution_count": 4,
   "id": "velvet-wrist",
   "metadata": {
    "vscode": {
     "languageId": "r"
    }
   },
   "outputs": [],
   "source": [
    "# Translate model to C++ and compile to DSO:\n",
    "stanDso <- stan_model( model_code=modelString ) "
   ]
  },
  {
   "cell_type": "markdown",
   "id": "retired-fellow",
   "metadata": {},
   "source": [
    "## Data "
   ]
  },
  {
   "cell_type": "code",
   "execution_count": 5,
   "id": "floppy-charm",
   "metadata": {
    "vscode": {
     "languageId": "r"
    }
   },
   "outputs": [],
   "source": [
    "prior.alpha1<-10\n",
    "prior.beta1<-20\n",
    "prior.alpha2<-20\n",
    "prior.beta2<-10\n",
    "prior.gamma<-0.5"
   ]
  },
  {
   "cell_type": "code",
   "execution_count": 6,
   "id": "crucial-extra",
   "metadata": {
    "vscode": {
     "languageId": "r"
    }
   },
   "outputs": [],
   "source": [
    "# Number of trials\n",
    "n<-10\n",
    "# Observed x\n",
    "x.obs<-3"
   ]
  },
  {
   "cell_type": "code",
   "execution_count": 7,
   "id": "promotional-google",
   "metadata": {
    "vscode": {
     "languageId": "r"
    }
   },
   "outputs": [],
   "source": [
    "Mix.01.Standat<-list(a1=prior.alpha1,b1=prior.beta1,a2=prior.alpha2,b2=prior.beta2,gamma=prior.gamma,n=n,x=x.obs)"
   ]
  },
  {
   "cell_type": "code",
   "execution_count": 8,
   "id": "supposed-california",
   "metadata": {
    "vscode": {
     "languageId": "r"
    }
   },
   "outputs": [
    {
     "name": "stderr",
     "output_type": "stream",
     "text": [
      "Warning message:\n",
      "\"There were 8346 transitions after warmup that exceeded the maximum treedepth. Increase max_treedepth above 10. See\n",
      "https://mc-stan.org/misc/warnings.html#maximum-treedepth-exceeded\"\n",
      "Warning message:\n",
      "\"Examine the pairs() plot to diagnose sampling problems\n",
      "\"\n"
     ]
    }
   ],
   "source": [
    "# Generate posterior sample:\n",
    "stanFit <- sampling( object=stanDso, \n",
    "                     data = Mix.01.Standat, \n",
    "                     chains = 3,\n",
    "                     iter = 6000, \n",
    "                     warmup = 1000, \n",
    "                     thin = 1)"
   ]
  },
  {
   "cell_type": "code",
   "execution_count": 9,
   "id": "2fcaa486-ba73-4c7f-9d66-8ed4eb0d7114",
   "metadata": {
    "vscode": {
     "languageId": "r"
    }
   },
   "outputs": [],
   "source": [
    "# Generate posterior sample:\n",
    "stanFit <- sampling( object=stanDso, \n",
    "                     data = Mix.01.Standat, \n",
    "                     chains = 3,\n",
    "                     iter = 8000, \n",
    "                     warmup = 1000, \n",
    "                     thin = 1,\n",
    "                     control=list(max_treedepth=12) )"
   ]
  },
  {
   "cell_type": "code",
   "execution_count": 10,
   "id": "academic-latino",
   "metadata": {
    "vscode": {
     "languageId": "r"
    }
   },
   "outputs": [
    {
     "data": {
      "text/html": [
       "<table class=\"dataframe\">\n",
       "<caption>A matrix: 5 × 10 of type dbl</caption>\n",
       "<thead>\n",
       "\t<tr><th></th><th scope=col>mean</th><th scope=col>se_mean</th><th scope=col>sd</th><th scope=col>2.5%</th><th scope=col>25%</th><th scope=col>50%</th><th scope=col>75%</th><th scope=col>97.5%</th><th scope=col>n_eff</th><th scope=col>Rhat</th></tr>\n",
       "</thead>\n",
       "<tbody>\n",
       "\t<tr><th scope=row>u</th><td>  0.29719</td><td>0.00264</td><td>0.20954</td><td>  0.01166</td><td>  0.13150</td><td>  0.27384</td><td>  0.41665</td><td>  0.86482</td><td>6307.987</td><td>0.99995</td></tr>\n",
       "\t<tr><th scope=row>theta[1]</th><td>  0.32408</td><td>0.00077</td><td>0.07330</td><td>  0.18648</td><td>  0.27248</td><td>  0.32208</td><td>  0.37400</td><td>  0.47207</td><td>9002.051</td><td>1.00017</td></tr>\n",
       "\t<tr><th scope=row>theta[2]</th><td>  0.65808</td><td>0.00102</td><td>0.08808</td><td>  0.47562</td><td>  0.59930</td><td>  0.66152</td><td>  0.72086</td><td>  0.81861</td><td>7466.834</td><td>1.00001</td></tr>\n",
       "\t<tr><th scope=row>p</th><td>  0.34963</td><td>0.00120</td><td>0.10571</td><td>  0.19095</td><td>  0.27944</td><td>  0.33229</td><td>  0.39508</td><td>  0.63332</td><td>7702.498</td><td>0.99995</td></tr>\n",
       "\t<tr><th scope=row>lp__</th><td>-47.55739</td><td>0.01891</td><td>1.44758</td><td>-51.22220</td><td>-48.33381</td><td>-47.19145</td><td>-46.44654</td><td>-45.83849</td><td>5857.652</td><td>1.00050</td></tr>\n",
       "</tbody>\n",
       "</table>\n"
      ],
      "text/latex": [
       "A matrix: 5 × 10 of type dbl\n",
       "\\begin{tabular}{r|llllllllll}\n",
       "  & mean & se\\_mean & sd & 2.5\\% & 25\\% & 50\\% & 75\\% & 97.5\\% & n\\_eff & Rhat\\\\\n",
       "\\hline\n",
       "\tu &   0.29719 & 0.00264 & 0.20954 &   0.01166 &   0.13150 &   0.27384 &   0.41665 &   0.86482 & 6307.987 & 0.99995\\\\\n",
       "\ttheta{[}1{]} &   0.32408 & 0.00077 & 0.07330 &   0.18648 &   0.27248 &   0.32208 &   0.37400 &   0.47207 & 9002.051 & 1.00017\\\\\n",
       "\ttheta{[}2{]} &   0.65808 & 0.00102 & 0.08808 &   0.47562 &   0.59930 &   0.66152 &   0.72086 &   0.81861 & 7466.834 & 1.00001\\\\\n",
       "\tp &   0.34963 & 0.00120 & 0.10571 &   0.19095 &   0.27944 &   0.33229 &   0.39508 &   0.63332 & 7702.498 & 0.99995\\\\\n",
       "\tlp\\_\\_ & -47.55739 & 0.01891 & 1.44758 & -51.22220 & -48.33381 & -47.19145 & -46.44654 & -45.83849 & 5857.652 & 1.00050\\\\\n",
       "\\end{tabular}\n"
      ],
      "text/markdown": [
       "\n",
       "A matrix: 5 × 10 of type dbl\n",
       "\n",
       "| <!--/--> | mean | se_mean | sd | 2.5% | 25% | 50% | 75% | 97.5% | n_eff | Rhat |\n",
       "|---|---|---|---|---|---|---|---|---|---|---|\n",
       "| u |   0.29719 | 0.00264 | 0.20954 |   0.01166 |   0.13150 |   0.27384 |   0.41665 |   0.86482 | 6307.987 | 0.99995 |\n",
       "| theta[1] |   0.32408 | 0.00077 | 0.07330 |   0.18648 |   0.27248 |   0.32208 |   0.37400 |   0.47207 | 9002.051 | 1.00017 |\n",
       "| theta[2] |   0.65808 | 0.00102 | 0.08808 |   0.47562 |   0.59930 |   0.66152 |   0.72086 |   0.81861 | 7466.834 | 1.00001 |\n",
       "| p |   0.34963 | 0.00120 | 0.10571 |   0.19095 |   0.27944 |   0.33229 |   0.39508 |   0.63332 | 7702.498 | 0.99995 |\n",
       "| lp__ | -47.55739 | 0.01891 | 1.44758 | -51.22220 | -48.33381 | -47.19145 | -46.44654 | -45.83849 | 5857.652 | 1.00050 |\n",
       "\n"
      ],
      "text/plain": [
       "         mean      se_mean sd      2.5%      25%       50%       75%      \n",
       "u          0.29719 0.00264 0.20954   0.01166   0.13150   0.27384   0.41665\n",
       "theta[1]   0.32408 0.00077 0.07330   0.18648   0.27248   0.32208   0.37400\n",
       "theta[2]   0.65808 0.00102 0.08808   0.47562   0.59930   0.66152   0.72086\n",
       "p          0.34963 0.00120 0.10571   0.19095   0.27944   0.33229   0.39508\n",
       "lp__     -47.55739 0.01891 1.44758 -51.22220 -48.33381 -47.19145 -46.44654\n",
       "         97.5%     n_eff    Rhat   \n",
       "u          0.86482 6307.987 0.99995\n",
       "theta[1]   0.47207 9002.051 1.00017\n",
       "theta[2]   0.81861 7466.834 1.00001\n",
       "p          0.63332 7702.498 0.99995\n",
       "lp__     -45.83849 5857.652 1.00050"
      ]
     },
     "metadata": {},
     "output_type": "display_data"
    }
   ],
   "source": [
    "S<-summary(stanFit)\n",
    "round(S$summary,5)"
   ]
  },
  {
   "cell_type": "markdown",
   "id": "applied-monitoring",
   "metadata": {},
   "source": [
    "# Diagnostic diagrams with the `bayesplot` package"
   ]
  },
  {
   "cell_type": "code",
   "execution_count": 11,
   "id": "casual-milwaukee",
   "metadata": {
    "vscode": {
     "languageId": "r"
    }
   },
   "outputs": [
    {
     "name": "stderr",
     "output_type": "stream",
     "text": [
      "This is bayesplot version 1.10.0\n",
      "\n",
      "- Online documentation and vignettes at mc-stan.org/bayesplot\n",
      "\n",
      "- bayesplot theme set to bayesplot::theme_default()\n",
      "\n",
      "   * Does _not_ affect other ggplot2 plots\n",
      "\n",
      "   * See ?bayesplot_theme_set for details on theme setting\n",
      "\n"
     ]
    }
   ],
   "source": [
    "#install.packages(\"bayesplot\", dependencies=TRUE,repos= \"https://cloud.r-project.org\")\n",
    "require(bayesplot,quietly=TRUE)"
   ]
  },
  {
   "cell_type": "code",
   "execution_count": 12,
   "id": "native-error",
   "metadata": {
    "vscode": {
     "languageId": "r"
    }
   },
   "outputs": [
    {
     "data": {
      "image/png": "[encoded data removed]",
      "text/plain": [
       "plot without title"
      ]
     },
     "metadata": {
      "image/png": {
       "height": 360,
       "width": 600
      }
     },
     "output_type": "display_data"
    }
   ],
   "source": [
    "color_scheme_set(\"green\")\n",
    "options(repr.plot.width=10,repr.plot.height=6)\n",
    "mcmc_trace(stanFit, pars = c(\"p\"))"
   ]
  },
  {
   "cell_type": "markdown",
   "id": "9405648c-b5cc-45bb-9624-56b2efc15be2",
   "metadata": {},
   "source": [
    "# Analysis of posterior pdf properties"
   ]
  },
  {
   "cell_type": "markdown",
   "id": "45bb1bfc-9916-4ad3-97dd-c469b8973114",
   "metadata": {},
   "source": [
    "### Posterior credible interval "
   ]
  },
  {
   "cell_type": "code",
   "execution_count": 13,
   "id": "faaaf6d7-35e6-4acb-b2da-1f3e4864db03",
   "metadata": {
    "vscode": {
     "languageId": "r"
    }
   },
   "outputs": [
    {
     "data": {
      "image/png": "[encoded data removed]",
      "text/plain": [
       "plot without title"
      ]
     },
     "metadata": {
      "image/png": {
       "height": 180,
       "width": 420
      }
     },
     "output_type": "display_data"
    }
   ],
   "source": [
    "color_scheme_set(\"green\")\n",
    "options(repr.plot.width=7,repr.plot.height=3)\n",
    "mcmc_intervals(stanFit, pars = c(\"p\",\"theta[1]\",\"theta[2]\"),prob=0.80,prob_outer=0.95)\n",
    "# Defaults are\n",
    "# prob = 0.5,\n",
    "# prob_outer = 0.9,"
   ]
  },
  {
   "cell_type": "markdown",
   "id": "d0a453ac-19c5-4e8f-a50c-cc765878c1db",
   "metadata": {},
   "source": [
    "### Areas diagram"
   ]
  },
  {
   "cell_type": "code",
   "execution_count": 14,
   "id": "5f208c1d-40af-4ada-a393-14d5a1462885",
   "metadata": {
    "vscode": {
     "languageId": "r"
    }
   },
   "outputs": [
    {
     "data": {
      "image/png": "[encoded data removed]",
      "text/plain": [
       "plot without title"
      ]
     },
     "metadata": {
      "image/png": {
       "height": 420,
       "width": 420
      }
     },
     "output_type": "display_data"
    }
   ],
   "source": [
    "color_scheme_set(\"green\")\n",
    "options(repr.plot.width=7,repr.plot.height=7)\n",
    "mcmc_areas(stanFit, pars = c(\"p\",\"theta[1]\",\"theta[2]\"),prob=0.80,prob_outer=0.95)"
   ]
  },
  {
   "cell_type": "markdown",
   "id": "2d11b9e8-0bc9-4979-9878-c3de98737d91",
   "metadata": {},
   "source": [
    "### Histogram"
   ]
  },
  {
   "cell_type": "code",
   "execution_count": 15,
   "id": "464617c5-0ebc-4b93-8bd4-fada02e17398",
   "metadata": {
    "vscode": {
     "languageId": "r"
    }
   },
   "outputs": [
    {
     "data": {
      "image/png": "[encoded data removed]",
      "text/plain": [
       "plot without title"
      ]
     },
     "metadata": {
      "image/png": {
       "height": 300,
       "width": 900
      }
     },
     "output_type": "display_data"
    }
   ],
   "source": [
    "color_scheme_set(\"green\")\n",
    "options(repr.plot.width=15,repr.plot.height=5)\n",
    "mcmc_hist(stanFit, pars = c(\"p\",\"theta[1]\",\"theta[2]\"),binwidth=0.05)"
   ]
  },
  {
   "cell_type": "markdown",
   "id": "2de41774-4163-4eaf-a0ad-7668d59dad51",
   "metadata": {},
   "source": [
    "### Density plot"
   ]
  },
  {
   "cell_type": "code",
   "execution_count": 16,
   "id": "dfa15eb2-098f-4952-8964-fc3c4cb624b9",
   "metadata": {
    "vscode": {
     "languageId": "r"
    }
   },
   "outputs": [
    {
     "data": {
      "image/png": "[encoded data removed]",
      "text/plain": [
       "plot without title"
      ]
     },
     "metadata": {
      "image/png": {
       "height": 300,
       "width": 900
      }
     },
     "output_type": "display_data"
    }
   ],
   "source": [
    "options(repr.plot.width=15,repr.plot.height=5)\n",
    "mcmc_dens(stanFit, pars = c(\"p\",\"theta[1]\",\"theta[2]\"))"
   ]
  },
  {
   "cell_type": "code",
   "execution_count": 17,
   "id": "72b56a21-04c7-40f2-80f0-bb2baabf2cbd",
   "metadata": {
    "vscode": {
     "languageId": "r"
    }
   },
   "outputs": [
    {
     "data": {
      "image/png": "[encoded data removed]",
      "text/plain": [
       "plot without title"
      ]
     },
     "metadata": {
      "image/png": {
       "height": 300,
       "width": 300
      }
     },
     "output_type": "display_data"
    }
   ],
   "source": [
    "color_scheme_set(\"green\")\n",
    "options(repr.plot.width=5,repr.plot.height=5)\n",
    "mcmc_dens_chains(stanFit, pars = c(\"p\",\"theta[1]\",\"theta[2]\"))"
   ]
  },
  {
   "cell_type": "markdown",
   "id": "5aeddefe-0759-43aa-ba08-608ac2d3e7c0",
   "metadata": {},
   "source": [
    "### Violin plot"
   ]
  },
  {
   "cell_type": "code",
   "execution_count": 18,
   "id": "46fe75d8-6975-442e-8cf6-fbae8b3bca42",
   "metadata": {
    "vscode": {
     "languageId": "r"
    }
   },
   "outputs": [
    {
     "data": {
      "image/png": "[encoded data removed]",
      "text/plain": [
       "plot without title"
      ]
     },
     "metadata": {
      "image/png": {
       "height": 300,
       "width": 900
      }
     },
     "output_type": "display_data"
    }
   ],
   "source": [
    "color_scheme_set(\"green\")\n",
    "options(repr.plot.width=15,repr.plot.height=5)\n",
    "mcmc_violin(stanFit, pars = c(\"p\",\"theta[1]\",\"theta[2]\"))"
   ]
  }
 ],
 "metadata": {
  "kernelspec": {
   "display_name": "R",
   "language": "R",
   "name": "ir"
  },
  "language_info": {
   "codemirror_mode": "r",
   "file_extension": ".r",
   "mimetype": "text/x-r-source",
   "name": "R",
   "pygments_lexer": "r",
   "version": "4.2.2"
  }
 },
 "nbformat": 4,
 "nbformat_minor": 5
}
